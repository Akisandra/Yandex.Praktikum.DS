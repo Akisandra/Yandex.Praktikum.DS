{
 "cells": [
  {
   "cell_type": "markdown",
   "metadata": {},
   "source": [
    "# Телеком"
   ]
  },
  {
   "cell_type": "markdown",
   "metadata": {},
   "source": [
    "Оператор связи «Ниединогоразрыва.ком» хочет научиться прогнозировать отток клиентов. Если выяснится, что пользователь планирует уйти, ему будут предложены промокоды и специальные условия. Команда оператора собрала персональные данные о некоторых клиентах, информацию об их тарифах и договорах."
   ]
  },
  {
   "cell_type": "markdown",
   "metadata": {},
   "source": [
    "**Описание услуг**\n",
    "\n",
    "<br>Оператор предоставляет два основных типа услуг: \n",
    "1. Стационарную телефонную связь. Возможно подключение телефонного аппарата к нескольким линиям одновременно.\n",
    "2. Интернет. Подключение может быть двух типов: через телефонную линию (DSL, от англ. digital subscriber line, «цифровая абонентская линия») или оптоволоконный кабель (Fiber optic).\n",
    "<br>Также доступны такие услуги: \n",
    "- Интернет-безопасность: антивирус (DeviceProtection) и блокировка небезопасных сайтов (OnlineSecurity);\n",
    "- Выделенная линия технической поддержки (TechSupport);\n",
    "- Облачное хранилище файлов для резервного копирования данных (OnlineBackup);\n",
    "- Стриминговое телевидение (StreamingTV) и каталог фильмов (StreamingMovies).\n",
    "\n",
    "<br>За услуги клиенты могут платить каждый месяц или заключить договор на 1–2 года. Доступны различные способы расчёта и возможность получения электронного чека.\n",
    "\n",
    "**Описание данных**\n",
    "\n",
    "<br>Данные состоят из файлов, полученных из разных источников:\n",
    "\n",
    "`contract_new.csv` — информация о договоре;\n",
    "\n",
    "`personal_new.csv` — персональные данные клиента;\n",
    "\n",
    "`internet_new.csv` — информация об интернет-услугах;\n",
    "\n",
    "`phone_new.csv` — информация об услугах телефонии.\n",
    "\n",
    "\n",
    "Во всех файлах столбец `customerID` содержит код клиента.\n",
    "Информация о договорах актуальна на 1 февраля 2020.\n",
    "\n",
    "\n",
    "- `BeginDate ` – дата начала пользования услугами\n",
    "- `EndDate` – дата окончания пользования услугами\n",
    "- `Type` – тип оплаты: ежемесячный, годовой и тд\n",
    "- `PaperlessBilling` – электронный платёжный документ\n",
    "- `PaymentMethod` – способ оплаты\n",
    "- `MonthlyCharges` – ежемесячные траты на услуги по договору\n",
    "- `TotalCharges` – всего потрачено денег на услуги\n",
    "- `Dependents` – наличие иждивенцев\n",
    "- `Senior Citizen` – наличие пенсионного статуса по возрасту\n",
    "- `Partner` – наличие супруга(и)\n",
    "- `MultipleLines` – наличие возможности ведения параллельных линий во время звонка\n",
    "\n",
    "**Цель проекта**\n",
    "\n",
    "<br> Построить модель для предсказания оттока клиентов, что бы заказчик имел возможность удержать клиента с помощью промокодов и других предложений."
   ]
  },
  {
   "cell_type": "markdown",
   "metadata": {},
   "source": [
    "**План проекта**\n",
    "\n",
    "1. Загрузка данных\n",
    "- Загрузка и ознакомление с данными \n",
    "2. Подготовка данных\n",
    "- Преобразование данных\n",
    "- Объединение данных\n",
    "- Выделение целевого признака\n",
    "3. Исследовательский анализ данных (EDA)\n",
    "- Подготовка модели к обучению\n",
    "4. Обучение  моделей\n",
    "- Подбор гиперпараметров\n",
    "- Выбор лучшей модели\n",
    "5. Тестирование модели\n",
    "- Тестирование лучшей модели на тестовой выборке\n",
    "6. Анализ и интерпретация важности признаков\n",
    "7. Анализ и интерпретация матрицы ошибок\n",
    "6. Вывод"
   ]
  },
  {
   "cell_type": "markdown",
   "metadata": {},
   "source": [
    "**Вопросов на данном этапе нет**"
   ]
  },
  {
   "cell_type": "markdown",
   "metadata": {},
   "source": [
    "### Загрузка данных"
   ]
  },
  {
   "cell_type": "code",
   "execution_count": 1,
   "metadata": {},
   "outputs": [
    {
     "name": "stdout",
     "output_type": "stream",
     "text": [
      "Requirement already satisfied: phik in /opt/conda/lib/python3.9/site-packages (0.12.3)\n",
      "Requirement already satisfied: numpy>=1.18.0 in /opt/conda/lib/python3.9/site-packages (from phik) (1.21.1)\n",
      "Requirement already satisfied: pandas>=0.25.1 in /opt/conda/lib/python3.9/site-packages (from phik) (1.2.4)\n",
      "Requirement already satisfied: scipy>=1.5.2 in /opt/conda/lib/python3.9/site-packages (from phik) (1.9.1)\n",
      "Requirement already satisfied: joblib>=0.14.1 in /opt/conda/lib/python3.9/site-packages (from phik) (1.1.0)\n",
      "Requirement already satisfied: matplotlib>=2.2.3 in /opt/conda/lib/python3.9/site-packages (from phik) (3.3.4)\n",
      "Requirement already satisfied: kiwisolver>=1.0.1 in /opt/conda/lib/python3.9/site-packages (from matplotlib>=2.2.3->phik) (1.4.4)\n",
      "Requirement already satisfied: pillow>=6.2.0 in /opt/conda/lib/python3.9/site-packages (from matplotlib>=2.2.3->phik) (8.4.0)\n",
      "Requirement already satisfied: cycler>=0.10 in /opt/conda/lib/python3.9/site-packages (from matplotlib>=2.2.3->phik) (0.11.0)\n",
      "Requirement already satisfied: pyparsing!=2.0.4,!=2.1.2,!=2.1.6,>=2.0.3 in /opt/conda/lib/python3.9/site-packages (from matplotlib>=2.2.3->phik) (2.4.7)\n",
      "Requirement already satisfied: python-dateutil>=2.1 in /opt/conda/lib/python3.9/site-packages (from matplotlib>=2.2.3->phik) (2.8.1)\n",
      "Requirement already satisfied: pytz>=2017.3 in /opt/conda/lib/python3.9/site-packages (from pandas>=0.25.1->phik) (2021.1)\n",
      "Requirement already satisfied: six>=1.5 in /opt/conda/lib/python3.9/site-packages (from python-dateutil>=2.1->matplotlib>=2.2.3->phik) (1.16.0)\n",
      "Note: you may need to restart the kernel to use updated packages.\n"
     ]
    }
   ],
   "source": [
    "pip install phik"
   ]
  },
  {
   "cell_type": "code",
   "execution_count": 2,
   "metadata": {},
   "outputs": [
    {
     "name": "stdout",
     "output_type": "stream",
     "text": [
      "Requirement already satisfied: shap in /opt/conda/lib/python3.9/site-packages (0.42.1)\n",
      "Requirement already satisfied: scipy in /opt/conda/lib/python3.9/site-packages (from shap) (1.9.1)\n",
      "Requirement already satisfied: numba in /opt/conda/lib/python3.9/site-packages (from shap) (0.56.0)\n",
      "Requirement already satisfied: scikit-learn in /opt/conda/lib/python3.9/site-packages (from shap) (0.24.1)\n",
      "Requirement already satisfied: numpy in /opt/conda/lib/python3.9/site-packages (from shap) (1.21.1)\n",
      "Requirement already satisfied: cloudpickle in /opt/conda/lib/python3.9/site-packages (from shap) (2.2.1)\n",
      "Requirement already satisfied: slicer==0.0.7 in /opt/conda/lib/python3.9/site-packages (from shap) (0.0.7)\n",
      "Requirement already satisfied: tqdm>=4.27.0 in /opt/conda/lib/python3.9/site-packages (from shap) (4.61.2)\n",
      "Requirement already satisfied: packaging>20.9 in /opt/conda/lib/python3.9/site-packages (from shap) (21.3)\n",
      "Requirement already satisfied: pandas in /opt/conda/lib/python3.9/site-packages (from shap) (1.2.4)\n",
      "Requirement already satisfied: pyparsing!=3.0.5,>=2.0.2 in /opt/conda/lib/python3.9/site-packages (from packaging>20.9->shap) (2.4.7)\n",
      "Requirement already satisfied: llvmlite<0.40,>=0.39.0dev0 in /opt/conda/lib/python3.9/site-packages (from numba->shap) (0.39.0)\n",
      "Requirement already satisfied: setuptools in /opt/conda/lib/python3.9/site-packages (from numba->shap) (49.6.0.post20210108)\n",
      "Requirement already satisfied: python-dateutil>=2.7.3 in /opt/conda/lib/python3.9/site-packages (from pandas->shap) (2.8.1)\n",
      "Requirement already satisfied: pytz>=2017.3 in /opt/conda/lib/python3.9/site-packages (from pandas->shap) (2021.1)\n",
      "Requirement already satisfied: six>=1.5 in /opt/conda/lib/python3.9/site-packages (from python-dateutil>=2.7.3->pandas->shap) (1.16.0)\n",
      "Requirement already satisfied: threadpoolctl>=2.0.0 in /opt/conda/lib/python3.9/site-packages (from scikit-learn->shap) (3.1.0)\n",
      "Requirement already satisfied: joblib>=0.11 in /opt/conda/lib/python3.9/site-packages (from scikit-learn->shap) (1.1.0)\n",
      "Note: you may need to restart the kernel to use updated packages.\n"
     ]
    }
   ],
   "source": [
    "pip install shap"
   ]
  },
  {
   "cell_type": "code",
   "execution_count": 3,
   "metadata": {},
   "outputs": [],
   "source": [
    "import pandas as pd\n",
    "import numpy as np\n",
    "import seaborn as sns\n",
    "import matplotlib.pyplot as plt\n",
    "import re\n",
    "import phik\n",
    "import shap\n",
    "from sklearn.model_selection import train_test_split, cross_val_score\n",
    "from sklearn.tree import DecisionTreeClassifier\n",
    "from sklearn.metrics import roc_auc_score\n",
    "\n",
    "from sklearn.preprocessing import StandardScaler, OrdinalEncoder, LabelEncoder, OneHotEncoder\n",
    "from sklearn.compose import ColumnTransformer\n",
    "from sklearn.pipeline import Pipeline\n",
    "from sklearn.ensemble import RandomForestClassifier\n",
    "from catboost import CatBoostClassifier\n",
    "from sklearn.model_selection import GridSearchCV\n",
    "from sklearn.metrics import accuracy_score\n",
    "from sklearn.metrics import confusion_matrix\n",
    "from sklearn.metrics import roc_curve, roc_auc_score"
   ]
  },
  {
   "cell_type": "code",
   "execution_count": 4,
   "metadata": {},
   "outputs": [],
   "source": [
    "df_contract = pd.read_csv('/datasets/contract_new.csv')\n",
    "df_personal = pd.read_csv('/datasets/personal_new.csv')\n",
    "df_internet = pd.read_csv('/datasets/internet_new.csv')\n",
    "df_phone = pd.read_csv('/datasets/phone_new.csv')"
   ]
  },
  {
   "cell_type": "code",
   "execution_count": 5,
   "metadata": {},
   "outputs": [
    {
     "data": {
      "text/html": [
       "<div>\n",
       "<style scoped>\n",
       "    .dataframe tbody tr th:only-of-type {\n",
       "        vertical-align: middle;\n",
       "    }\n",
       "\n",
       "    .dataframe tbody tr th {\n",
       "        vertical-align: top;\n",
       "    }\n",
       "\n",
       "    .dataframe thead th {\n",
       "        text-align: right;\n",
       "    }\n",
       "</style>\n",
       "<table border=\"1\" class=\"dataframe\">\n",
       "  <thead>\n",
       "    <tr style=\"text-align: right;\">\n",
       "      <th></th>\n",
       "      <th>customerID</th>\n",
       "      <th>BeginDate</th>\n",
       "      <th>EndDate</th>\n",
       "      <th>Type</th>\n",
       "      <th>PaperlessBilling</th>\n",
       "      <th>PaymentMethod</th>\n",
       "      <th>MonthlyCharges</th>\n",
       "      <th>TotalCharges</th>\n",
       "    </tr>\n",
       "  </thead>\n",
       "  <tbody>\n",
       "    <tr>\n",
       "      <th>0</th>\n",
       "      <td>7590-VHVEG</td>\n",
       "      <td>2020-01-01</td>\n",
       "      <td>No</td>\n",
       "      <td>Month-to-month</td>\n",
       "      <td>Yes</td>\n",
       "      <td>Electronic check</td>\n",
       "      <td>29.85</td>\n",
       "      <td>31.04</td>\n",
       "    </tr>\n",
       "    <tr>\n",
       "      <th>1</th>\n",
       "      <td>5575-GNVDE</td>\n",
       "      <td>2017-04-01</td>\n",
       "      <td>No</td>\n",
       "      <td>One year</td>\n",
       "      <td>No</td>\n",
       "      <td>Mailed check</td>\n",
       "      <td>56.95</td>\n",
       "      <td>2071.84</td>\n",
       "    </tr>\n",
       "    <tr>\n",
       "      <th>2</th>\n",
       "      <td>3668-QPYBK</td>\n",
       "      <td>2019-10-01</td>\n",
       "      <td>No</td>\n",
       "      <td>Month-to-month</td>\n",
       "      <td>Yes</td>\n",
       "      <td>Mailed check</td>\n",
       "      <td>53.85</td>\n",
       "      <td>226.17</td>\n",
       "    </tr>\n",
       "    <tr>\n",
       "      <th>3</th>\n",
       "      <td>7795-CFOCW</td>\n",
       "      <td>2016-05-01</td>\n",
       "      <td>No</td>\n",
       "      <td>One year</td>\n",
       "      <td>No</td>\n",
       "      <td>Bank transfer (automatic)</td>\n",
       "      <td>42.30</td>\n",
       "      <td>1960.6</td>\n",
       "    </tr>\n",
       "    <tr>\n",
       "      <th>4</th>\n",
       "      <td>9237-HQITU</td>\n",
       "      <td>2019-09-01</td>\n",
       "      <td>No</td>\n",
       "      <td>Month-to-month</td>\n",
       "      <td>Yes</td>\n",
       "      <td>Electronic check</td>\n",
       "      <td>70.70</td>\n",
       "      <td>353.5</td>\n",
       "    </tr>\n",
       "  </tbody>\n",
       "</table>\n",
       "</div>"
      ],
      "text/plain": [
       "   customerID   BeginDate EndDate            Type PaperlessBilling  \\\n",
       "0  7590-VHVEG  2020-01-01      No  Month-to-month              Yes   \n",
       "1  5575-GNVDE  2017-04-01      No        One year               No   \n",
       "2  3668-QPYBK  2019-10-01      No  Month-to-month              Yes   \n",
       "3  7795-CFOCW  2016-05-01      No        One year               No   \n",
       "4  9237-HQITU  2019-09-01      No  Month-to-month              Yes   \n",
       "\n",
       "               PaymentMethod  MonthlyCharges TotalCharges  \n",
       "0           Electronic check           29.85        31.04  \n",
       "1               Mailed check           56.95      2071.84  \n",
       "2               Mailed check           53.85       226.17  \n",
       "3  Bank transfer (automatic)           42.30       1960.6  \n",
       "4           Electronic check           70.70        353.5  "
      ]
     },
     "execution_count": 5,
     "metadata": {},
     "output_type": "execute_result"
    }
   ],
   "source": [
    " df_contract.head()"
   ]
  },
  {
   "cell_type": "code",
   "execution_count": 6,
   "metadata": {},
   "outputs": [
    {
     "data": {
      "text/html": [
       "<div>\n",
       "<style scoped>\n",
       "    .dataframe tbody tr th:only-of-type {\n",
       "        vertical-align: middle;\n",
       "    }\n",
       "\n",
       "    .dataframe tbody tr th {\n",
       "        vertical-align: top;\n",
       "    }\n",
       "\n",
       "    .dataframe thead th {\n",
       "        text-align: right;\n",
       "    }\n",
       "</style>\n",
       "<table border=\"1\" class=\"dataframe\">\n",
       "  <thead>\n",
       "    <tr style=\"text-align: right;\">\n",
       "      <th></th>\n",
       "      <th>customerID</th>\n",
       "      <th>gender</th>\n",
       "      <th>SeniorCitizen</th>\n",
       "      <th>Partner</th>\n",
       "      <th>Dependents</th>\n",
       "    </tr>\n",
       "  </thead>\n",
       "  <tbody>\n",
       "    <tr>\n",
       "      <th>0</th>\n",
       "      <td>7590-VHVEG</td>\n",
       "      <td>Female</td>\n",
       "      <td>0</td>\n",
       "      <td>Yes</td>\n",
       "      <td>No</td>\n",
       "    </tr>\n",
       "    <tr>\n",
       "      <th>1</th>\n",
       "      <td>5575-GNVDE</td>\n",
       "      <td>Male</td>\n",
       "      <td>0</td>\n",
       "      <td>No</td>\n",
       "      <td>No</td>\n",
       "    </tr>\n",
       "    <tr>\n",
       "      <th>2</th>\n",
       "      <td>3668-QPYBK</td>\n",
       "      <td>Male</td>\n",
       "      <td>0</td>\n",
       "      <td>No</td>\n",
       "      <td>No</td>\n",
       "    </tr>\n",
       "    <tr>\n",
       "      <th>3</th>\n",
       "      <td>7795-CFOCW</td>\n",
       "      <td>Male</td>\n",
       "      <td>0</td>\n",
       "      <td>No</td>\n",
       "      <td>No</td>\n",
       "    </tr>\n",
       "    <tr>\n",
       "      <th>4</th>\n",
       "      <td>9237-HQITU</td>\n",
       "      <td>Female</td>\n",
       "      <td>0</td>\n",
       "      <td>No</td>\n",
       "      <td>No</td>\n",
       "    </tr>\n",
       "  </tbody>\n",
       "</table>\n",
       "</div>"
      ],
      "text/plain": [
       "   customerID  gender  SeniorCitizen Partner Dependents\n",
       "0  7590-VHVEG  Female              0     Yes         No\n",
       "1  5575-GNVDE    Male              0      No         No\n",
       "2  3668-QPYBK    Male              0      No         No\n",
       "3  7795-CFOCW    Male              0      No         No\n",
       "4  9237-HQITU  Female              0      No         No"
      ]
     },
     "execution_count": 6,
     "metadata": {},
     "output_type": "execute_result"
    }
   ],
   "source": [
    "df_personal.head()"
   ]
  },
  {
   "cell_type": "code",
   "execution_count": 7,
   "metadata": {},
   "outputs": [
    {
     "data": {
      "text/html": [
       "<div>\n",
       "<style scoped>\n",
       "    .dataframe tbody tr th:only-of-type {\n",
       "        vertical-align: middle;\n",
       "    }\n",
       "\n",
       "    .dataframe tbody tr th {\n",
       "        vertical-align: top;\n",
       "    }\n",
       "\n",
       "    .dataframe thead th {\n",
       "        text-align: right;\n",
       "    }\n",
       "</style>\n",
       "<table border=\"1\" class=\"dataframe\">\n",
       "  <thead>\n",
       "    <tr style=\"text-align: right;\">\n",
       "      <th></th>\n",
       "      <th>customerID</th>\n",
       "      <th>InternetService</th>\n",
       "      <th>OnlineSecurity</th>\n",
       "      <th>OnlineBackup</th>\n",
       "      <th>DeviceProtection</th>\n",
       "      <th>TechSupport</th>\n",
       "      <th>StreamingTV</th>\n",
       "      <th>StreamingMovies</th>\n",
       "    </tr>\n",
       "  </thead>\n",
       "  <tbody>\n",
       "    <tr>\n",
       "      <th>0</th>\n",
       "      <td>7590-VHVEG</td>\n",
       "      <td>DSL</td>\n",
       "      <td>No</td>\n",
       "      <td>Yes</td>\n",
       "      <td>No</td>\n",
       "      <td>No</td>\n",
       "      <td>No</td>\n",
       "      <td>No</td>\n",
       "    </tr>\n",
       "    <tr>\n",
       "      <th>1</th>\n",
       "      <td>5575-GNVDE</td>\n",
       "      <td>DSL</td>\n",
       "      <td>Yes</td>\n",
       "      <td>No</td>\n",
       "      <td>Yes</td>\n",
       "      <td>No</td>\n",
       "      <td>No</td>\n",
       "      <td>No</td>\n",
       "    </tr>\n",
       "    <tr>\n",
       "      <th>2</th>\n",
       "      <td>3668-QPYBK</td>\n",
       "      <td>DSL</td>\n",
       "      <td>Yes</td>\n",
       "      <td>Yes</td>\n",
       "      <td>No</td>\n",
       "      <td>No</td>\n",
       "      <td>No</td>\n",
       "      <td>No</td>\n",
       "    </tr>\n",
       "    <tr>\n",
       "      <th>3</th>\n",
       "      <td>7795-CFOCW</td>\n",
       "      <td>DSL</td>\n",
       "      <td>Yes</td>\n",
       "      <td>No</td>\n",
       "      <td>Yes</td>\n",
       "      <td>Yes</td>\n",
       "      <td>No</td>\n",
       "      <td>No</td>\n",
       "    </tr>\n",
       "    <tr>\n",
       "      <th>4</th>\n",
       "      <td>9237-HQITU</td>\n",
       "      <td>Fiber optic</td>\n",
       "      <td>No</td>\n",
       "      <td>No</td>\n",
       "      <td>No</td>\n",
       "      <td>No</td>\n",
       "      <td>No</td>\n",
       "      <td>No</td>\n",
       "    </tr>\n",
       "  </tbody>\n",
       "</table>\n",
       "</div>"
      ],
      "text/plain": [
       "   customerID InternetService OnlineSecurity OnlineBackup DeviceProtection  \\\n",
       "0  7590-VHVEG             DSL             No          Yes               No   \n",
       "1  5575-GNVDE             DSL            Yes           No              Yes   \n",
       "2  3668-QPYBK             DSL            Yes          Yes               No   \n",
       "3  7795-CFOCW             DSL            Yes           No              Yes   \n",
       "4  9237-HQITU     Fiber optic             No           No               No   \n",
       "\n",
       "  TechSupport StreamingTV StreamingMovies  \n",
       "0          No          No              No  \n",
       "1          No          No              No  \n",
       "2          No          No              No  \n",
       "3         Yes          No              No  \n",
       "4          No          No              No  "
      ]
     },
     "execution_count": 7,
     "metadata": {},
     "output_type": "execute_result"
    }
   ],
   "source": [
    "df_internet.head()"
   ]
  },
  {
   "cell_type": "code",
   "execution_count": 8,
   "metadata": {},
   "outputs": [
    {
     "data": {
      "text/html": [
       "<div>\n",
       "<style scoped>\n",
       "    .dataframe tbody tr th:only-of-type {\n",
       "        vertical-align: middle;\n",
       "    }\n",
       "\n",
       "    .dataframe tbody tr th {\n",
       "        vertical-align: top;\n",
       "    }\n",
       "\n",
       "    .dataframe thead th {\n",
       "        text-align: right;\n",
       "    }\n",
       "</style>\n",
       "<table border=\"1\" class=\"dataframe\">\n",
       "  <thead>\n",
       "    <tr style=\"text-align: right;\">\n",
       "      <th></th>\n",
       "      <th>customerID</th>\n",
       "      <th>MultipleLines</th>\n",
       "    </tr>\n",
       "  </thead>\n",
       "  <tbody>\n",
       "    <tr>\n",
       "      <th>0</th>\n",
       "      <td>5575-GNVDE</td>\n",
       "      <td>No</td>\n",
       "    </tr>\n",
       "    <tr>\n",
       "      <th>1</th>\n",
       "      <td>3668-QPYBK</td>\n",
       "      <td>No</td>\n",
       "    </tr>\n",
       "    <tr>\n",
       "      <th>2</th>\n",
       "      <td>9237-HQITU</td>\n",
       "      <td>No</td>\n",
       "    </tr>\n",
       "    <tr>\n",
       "      <th>3</th>\n",
       "      <td>9305-CDSKC</td>\n",
       "      <td>Yes</td>\n",
       "    </tr>\n",
       "    <tr>\n",
       "      <th>4</th>\n",
       "      <td>1452-KIOVK</td>\n",
       "      <td>Yes</td>\n",
       "    </tr>\n",
       "  </tbody>\n",
       "</table>\n",
       "</div>"
      ],
      "text/plain": [
       "   customerID MultipleLines\n",
       "0  5575-GNVDE            No\n",
       "1  3668-QPYBK            No\n",
       "2  9237-HQITU            No\n",
       "3  9305-CDSKC           Yes\n",
       "4  1452-KIOVK           Yes"
      ]
     },
     "execution_count": 8,
     "metadata": {},
     "output_type": "execute_result"
    }
   ],
   "source": [
    "df_phone.head()"
   ]
  },
  {
   "cell_type": "code",
   "execution_count": 9,
   "metadata": {},
   "outputs": [
    {
     "name": "stdout",
     "output_type": "stream",
     "text": [
      "Описание таблицы df_contract:\n",
      "<class 'pandas.core.frame.DataFrame'>\n",
      "RangeIndex: 7043 entries, 0 to 7042\n",
      "Data columns (total 8 columns):\n",
      " #   Column            Non-Null Count  Dtype  \n",
      "---  ------            --------------  -----  \n",
      " 0   customerID        7043 non-null   object \n",
      " 1   BeginDate         7043 non-null   object \n",
      " 2   EndDate           7043 non-null   object \n",
      " 3   Type              7043 non-null   object \n",
      " 4   PaperlessBilling  7043 non-null   object \n",
      " 5   PaymentMethod     7043 non-null   object \n",
      " 6   MonthlyCharges    7043 non-null   float64\n",
      " 7   TotalCharges      7043 non-null   object \n",
      "dtypes: float64(1), object(7)\n",
      "memory usage: 440.3+ KB\n",
      "       MonthlyCharges\n",
      "count     7043.000000\n",
      "mean        64.761692\n",
      "std         30.090047\n",
      "min         18.250000\n",
      "25%         35.500000\n",
      "50%         70.350000\n",
      "75%         89.850000\n",
      "max        118.750000\n",
      "Количество пропусков в таблице:\n",
      "customerID          0\n",
      "BeginDate           0\n",
      "EndDate             0\n",
      "Type                0\n",
      "PaperlessBilling    0\n",
      "PaymentMethod       0\n",
      "MonthlyCharges      0\n",
      "TotalCharges        0\n",
      "dtype: int64\n",
      "Количество дубликатов в таблице:\n",
      "0\n",
      "\n",
      "Описание таблицы df_personal:\n",
      "<class 'pandas.core.frame.DataFrame'>\n",
      "RangeIndex: 7043 entries, 0 to 7042\n",
      "Data columns (total 5 columns):\n",
      " #   Column         Non-Null Count  Dtype \n",
      "---  ------         --------------  ----- \n",
      " 0   customerID     7043 non-null   object\n",
      " 1   gender         7043 non-null   object\n",
      " 2   SeniorCitizen  7043 non-null   int64 \n",
      " 3   Partner        7043 non-null   object\n",
      " 4   Dependents     7043 non-null   object\n",
      "dtypes: int64(1), object(4)\n",
      "memory usage: 275.2+ KB\n",
      "       SeniorCitizen\n",
      "count    7043.000000\n",
      "mean        0.162147\n",
      "std         0.368612\n",
      "min         0.000000\n",
      "25%         0.000000\n",
      "50%         0.000000\n",
      "75%         0.000000\n",
      "max         1.000000\n",
      "Количество пропусков в таблице:\n",
      "customerID       0\n",
      "gender           0\n",
      "SeniorCitizen    0\n",
      "Partner          0\n",
      "Dependents       0\n",
      "dtype: int64\n",
      "Количество дубликатов в таблице:\n",
      "0\n",
      "\n",
      "Описание таблицы df_internet:\n",
      "<class 'pandas.core.frame.DataFrame'>\n",
      "RangeIndex: 5517 entries, 0 to 5516\n",
      "Data columns (total 8 columns):\n",
      " #   Column            Non-Null Count  Dtype \n",
      "---  ------            --------------  ----- \n",
      " 0   customerID        5517 non-null   object\n",
      " 1   InternetService   5517 non-null   object\n",
      " 2   OnlineSecurity    5517 non-null   object\n",
      " 3   OnlineBackup      5517 non-null   object\n",
      " 4   DeviceProtection  5517 non-null   object\n",
      " 5   TechSupport       5517 non-null   object\n",
      " 6   StreamingTV       5517 non-null   object\n",
      " 7   StreamingMovies   5517 non-null   object\n",
      "dtypes: object(8)\n",
      "memory usage: 344.9+ KB\n",
      "        customerID InternetService OnlineSecurity OnlineBackup  \\\n",
      "count         5517            5517           5517         5517   \n",
      "unique        5517               2              2            2   \n",
      "top     2856-HYAPG     Fiber optic             No           No   \n",
      "freq             1            3096           3498         3088   \n",
      "\n",
      "       DeviceProtection TechSupport StreamingTV StreamingMovies  \n",
      "count              5517        5517        5517            5517  \n",
      "unique                2           2           2               2  \n",
      "top                  No          No          No              No  \n",
      "freq               3095        3473        2810            2785  \n",
      "Количество пропусков в таблице:\n",
      "customerID          0\n",
      "InternetService     0\n",
      "OnlineSecurity      0\n",
      "OnlineBackup        0\n",
      "DeviceProtection    0\n",
      "TechSupport         0\n",
      "StreamingTV         0\n",
      "StreamingMovies     0\n",
      "dtype: int64\n",
      "Количество дубликатов в таблице:\n",
      "0\n",
      "\n",
      "Описание таблицы df_phone:\n",
      "<class 'pandas.core.frame.DataFrame'>\n",
      "RangeIndex: 6361 entries, 0 to 6360\n",
      "Data columns (total 2 columns):\n",
      " #   Column         Non-Null Count  Dtype \n",
      "---  ------         --------------  ----- \n",
      " 0   customerID     6361 non-null   object\n",
      " 1   MultipleLines  6361 non-null   object\n",
      "dtypes: object(2)\n",
      "memory usage: 99.5+ KB\n",
      "        customerID MultipleLines\n",
      "count         6361          6361\n",
      "unique        6361             2\n",
      "top     9391-TTOYH            No\n",
      "freq             1          3390\n",
      "Количество пропусков в таблице:\n",
      "customerID       0\n",
      "MultipleLines    0\n",
      "dtype: int64\n",
      "Количество дубликатов в таблице:\n",
      "0\n",
      "\n"
     ]
    }
   ],
   "source": [
    "def analyze_dataframe(df, name):\n",
    "    print(f\"Описание таблицы {name}:\")\n",
    "    df.info()\n",
    "    print(df.describe())\n",
    "    print(\"Количество пропусков в таблице:\")\n",
    "    print(df.isnull().sum())\n",
    "    print(\"Количество дубликатов в таблице:\")\n",
    "    print(df.duplicated().sum())\n",
    "    print()\n",
    "\n",
    "analyze_dataframe(df_contract, \"df_contract\")\n",
    "analyze_dataframe(df_personal, \"df_personal\")\n",
    "analyze_dataframe(df_internet, \"df_internet\")\n",
    "analyze_dataframe(df_phone, \"df_phone\")\n"
   ]
  },
  {
   "cell_type": "markdown",
   "metadata": {},
   "source": [
    "**Вывод**\n",
    "\n",
    "- На данном этапе можно сделать вывод, что пропусков нет и явных дубликатов тоже нет. Все таблицы связаны между собой по столбцу `customerID`, содержащий код клиента.\n",
    "- Названия столбцов нужно привести к нижнему регистру"
   ]
  },
  {
   "cell_type": "markdown",
   "metadata": {},
   "source": [
    "### Подготовка данных\n",
    "\n",
    "- Преобразование данных\n",
    "- Объединение данных\n",
    "- Выделение целевого признака"
   ]
  },
  {
   "cell_type": "code",
   "execution_count": 10,
   "metadata": {},
   "outputs": [],
   "source": [
    "current_date = '2020-02-01'"
   ]
  },
  {
   "cell_type": "markdown",
   "metadata": {},
   "source": [
    "Посмотрим на названия столбцов"
   ]
  },
  {
   "cell_type": "code",
   "execution_count": 11,
   "metadata": {},
   "outputs": [
    {
     "name": "stdout",
     "output_type": "stream",
     "text": [
      "df_contract columns: Index(['customerID', 'BeginDate', 'EndDate', 'Type', 'PaperlessBilling',\n",
      "       'PaymentMethod', 'MonthlyCharges', 'TotalCharges'],\n",
      "      dtype='object')\n",
      "\n",
      "df_personal columns: Index(['customerID', 'gender', 'SeniorCitizen', 'Partner', 'Dependents'], dtype='object')\n",
      "\n",
      "df_internet columns: Index(['customerID', 'InternetService', 'OnlineSecurity', 'OnlineBackup',\n",
      "       'DeviceProtection', 'TechSupport', 'StreamingTV', 'StreamingMovies'],\n",
      "      dtype='object')\n",
      "\n",
      "df_phone columns: Index(['customerID', 'MultipleLines'], dtype='object')\n"
     ]
    }
   ],
   "source": [
    "print(\"df_contract columns:\", df_contract.columns)\n",
    "print()\n",
    "print(\"df_personal columns:\", df_personal.columns)\n",
    "print()\n",
    "print(\"df_internet columns:\", df_internet.columns)\n",
    "print()\n",
    "print(\"df_phone columns:\", df_phone.columns)"
   ]
  },
  {
   "cell_type": "markdown",
   "metadata": {},
   "source": [
    "Преобразование названий столбцов для всех таблиц к \"змеиному\" типу"
   ]
  },
  {
   "cell_type": "code",
   "execution_count": 12,
   "metadata": {},
   "outputs": [],
   "source": [
    "def snake_case(column_name):\n",
    "    column_name = re.sub(r'([a-z])([A-Z])', r'\\1_\\2', column_name).lower()\n",
    "    return column_name"
   ]
  },
  {
   "cell_type": "code",
   "execution_count": 13,
   "metadata": {},
   "outputs": [
    {
     "name": "stdout",
     "output_type": "stream",
     "text": [
      "df_contract columns: Index(['customer_id', 'begin_date', 'end_date', 'type', 'paperless_billing',\n",
      "       'payment_method', 'monthly_charges', 'total_charges'],\n",
      "      dtype='object')\n",
      "\n",
      "df_personal columns: Index(['customer_id', 'gender', 'senior_citizen', 'partner', 'dependents'], dtype='object')\n",
      "\n",
      "df_internet columns: Index(['customer_id', 'internet_service', 'online_security', 'online_backup',\n",
      "       'device_protection', 'tech_support', 'streaming_tv',\n",
      "       'streaming_movies'],\n",
      "      dtype='object')\n",
      "\n",
      "df_phone columns: Index(['customer_id', 'multiple_lines'], dtype='object')\n"
     ]
    }
   ],
   "source": [
    "df_contract = df_contract.rename(columns=snake_case)\n",
    "df_personal = df_personal.rename(columns=snake_case)\n",
    "df_internet = df_internet.rename(columns=snake_case)\n",
    "df_phone = df_phone.rename(columns=snake_case)\n",
    "# Вывод названий столбцов для каждой таблицы\n",
    "print(\"df_contract columns:\", df_contract.columns)\n",
    "print()\n",
    "print(\"df_personal columns:\", df_personal.columns)\n",
    "print()\n",
    "print(\"df_internet columns:\", df_internet.columns)\n",
    "print()\n",
    "print(\"df_phone columns:\", df_phone.columns)"
   ]
  },
  {
   "cell_type": "code",
   "execution_count": 14,
   "metadata": {},
   "outputs": [
    {
     "name": "stdout",
     "output_type": "stream",
     "text": [
      "<class 'pandas.core.frame.DataFrame'>\n",
      "RangeIndex: 7043 entries, 0 to 7042\n",
      "Data columns (total 8 columns):\n",
      " #   Column             Non-Null Count  Dtype  \n",
      "---  ------             --------------  -----  \n",
      " 0   customer_id        7043 non-null   object \n",
      " 1   begin_date         7043 non-null   object \n",
      " 2   end_date           7043 non-null   object \n",
      " 3   type               7043 non-null   object \n",
      " 4   paperless_billing  7043 non-null   object \n",
      " 5   payment_method     7043 non-null   object \n",
      " 6   monthly_charges    7043 non-null   float64\n",
      " 7   total_charges      7043 non-null   object \n",
      "dtypes: float64(1), object(7)\n",
      "memory usage: 440.3+ KB\n",
      "\n",
      "<class 'pandas.core.frame.DataFrame'>\n",
      "RangeIndex: 7043 entries, 0 to 7042\n",
      "Data columns (total 5 columns):\n",
      " #   Column          Non-Null Count  Dtype \n",
      "---  ------          --------------  ----- \n",
      " 0   customer_id     7043 non-null   object\n",
      " 1   gender          7043 non-null   object\n",
      " 2   senior_citizen  7043 non-null   int64 \n",
      " 3   partner         7043 non-null   object\n",
      " 4   dependents      7043 non-null   object\n",
      "dtypes: int64(1), object(4)\n",
      "memory usage: 275.2+ KB\n",
      "\n",
      "<class 'pandas.core.frame.DataFrame'>\n",
      "RangeIndex: 5517 entries, 0 to 5516\n",
      "Data columns (total 8 columns):\n",
      " #   Column             Non-Null Count  Dtype \n",
      "---  ------             --------------  ----- \n",
      " 0   customer_id        5517 non-null   object\n",
      " 1   internet_service   5517 non-null   object\n",
      " 2   online_security    5517 non-null   object\n",
      " 3   online_backup      5517 non-null   object\n",
      " 4   device_protection  5517 non-null   object\n",
      " 5   tech_support       5517 non-null   object\n",
      " 6   streaming_tv       5517 non-null   object\n",
      " 7   streaming_movies   5517 non-null   object\n",
      "dtypes: object(8)\n",
      "memory usage: 344.9+ KB\n",
      "\n",
      "<class 'pandas.core.frame.DataFrame'>\n",
      "RangeIndex: 6361 entries, 0 to 6360\n",
      "Data columns (total 2 columns):\n",
      " #   Column          Non-Null Count  Dtype \n",
      "---  ------          --------------  ----- \n",
      " 0   customer_id     6361 non-null   object\n",
      " 1   multiple_lines  6361 non-null   object\n",
      "dtypes: object(2)\n",
      "memory usage: 99.5+ KB\n"
     ]
    }
   ],
   "source": [
    "df_contract.info()\n",
    "print()\n",
    "df_personal.info()\n",
    "print()\n",
    "df_internet.info()\n",
    "print()\n",
    "df_phone.info()"
   ]
  },
  {
   "cell_type": "markdown",
   "metadata": {},
   "source": [
    "Объединим таблицы "
   ]
  },
  {
   "cell_type": "markdown",
   "metadata": {},
   "source": [
    "Будем использовать метод left, чтобы сохранить все записи."
   ]
  },
  {
   "cell_type": "code",
   "execution_count": 15,
   "metadata": {},
   "outputs": [
    {
     "data": {
      "text/html": [
       "<div>\n",
       "<style scoped>\n",
       "    .dataframe tbody tr th:only-of-type {\n",
       "        vertical-align: middle;\n",
       "    }\n",
       "\n",
       "    .dataframe tbody tr th {\n",
       "        vertical-align: top;\n",
       "    }\n",
       "\n",
       "    .dataframe thead th {\n",
       "        text-align: right;\n",
       "    }\n",
       "</style>\n",
       "<table border=\"1\" class=\"dataframe\">\n",
       "  <thead>\n",
       "    <tr style=\"text-align: right;\">\n",
       "      <th></th>\n",
       "      <th>customer_id</th>\n",
       "      <th>begin_date</th>\n",
       "      <th>end_date</th>\n",
       "      <th>type</th>\n",
       "      <th>paperless_billing</th>\n",
       "      <th>payment_method</th>\n",
       "      <th>monthly_charges</th>\n",
       "      <th>total_charges</th>\n",
       "      <th>gender</th>\n",
       "      <th>senior_citizen</th>\n",
       "      <th>partner</th>\n",
       "      <th>dependents</th>\n",
       "      <th>internet_service</th>\n",
       "      <th>online_security</th>\n",
       "      <th>online_backup</th>\n",
       "      <th>device_protection</th>\n",
       "      <th>tech_support</th>\n",
       "      <th>streaming_tv</th>\n",
       "      <th>streaming_movies</th>\n",
       "      <th>multiple_lines</th>\n",
       "    </tr>\n",
       "  </thead>\n",
       "  <tbody>\n",
       "    <tr>\n",
       "      <th>0</th>\n",
       "      <td>7590-VHVEG</td>\n",
       "      <td>2020-01-01</td>\n",
       "      <td>No</td>\n",
       "      <td>Month-to-month</td>\n",
       "      <td>Yes</td>\n",
       "      <td>Electronic check</td>\n",
       "      <td>29.85</td>\n",
       "      <td>31.04</td>\n",
       "      <td>Female</td>\n",
       "      <td>0</td>\n",
       "      <td>Yes</td>\n",
       "      <td>No</td>\n",
       "      <td>DSL</td>\n",
       "      <td>No</td>\n",
       "      <td>Yes</td>\n",
       "      <td>No</td>\n",
       "      <td>No</td>\n",
       "      <td>No</td>\n",
       "      <td>No</td>\n",
       "      <td>NaN</td>\n",
       "    </tr>\n",
       "    <tr>\n",
       "      <th>1</th>\n",
       "      <td>5575-GNVDE</td>\n",
       "      <td>2017-04-01</td>\n",
       "      <td>No</td>\n",
       "      <td>One year</td>\n",
       "      <td>No</td>\n",
       "      <td>Mailed check</td>\n",
       "      <td>56.95</td>\n",
       "      <td>2071.84</td>\n",
       "      <td>Male</td>\n",
       "      <td>0</td>\n",
       "      <td>No</td>\n",
       "      <td>No</td>\n",
       "      <td>DSL</td>\n",
       "      <td>Yes</td>\n",
       "      <td>No</td>\n",
       "      <td>Yes</td>\n",
       "      <td>No</td>\n",
       "      <td>No</td>\n",
       "      <td>No</td>\n",
       "      <td>No</td>\n",
       "    </tr>\n",
       "    <tr>\n",
       "      <th>2</th>\n",
       "      <td>3668-QPYBK</td>\n",
       "      <td>2019-10-01</td>\n",
       "      <td>No</td>\n",
       "      <td>Month-to-month</td>\n",
       "      <td>Yes</td>\n",
       "      <td>Mailed check</td>\n",
       "      <td>53.85</td>\n",
       "      <td>226.17</td>\n",
       "      <td>Male</td>\n",
       "      <td>0</td>\n",
       "      <td>No</td>\n",
       "      <td>No</td>\n",
       "      <td>DSL</td>\n",
       "      <td>Yes</td>\n",
       "      <td>Yes</td>\n",
       "      <td>No</td>\n",
       "      <td>No</td>\n",
       "      <td>No</td>\n",
       "      <td>No</td>\n",
       "      <td>No</td>\n",
       "    </tr>\n",
       "    <tr>\n",
       "      <th>3</th>\n",
       "      <td>7795-CFOCW</td>\n",
       "      <td>2016-05-01</td>\n",
       "      <td>No</td>\n",
       "      <td>One year</td>\n",
       "      <td>No</td>\n",
       "      <td>Bank transfer (automatic)</td>\n",
       "      <td>42.30</td>\n",
       "      <td>1960.6</td>\n",
       "      <td>Male</td>\n",
       "      <td>0</td>\n",
       "      <td>No</td>\n",
       "      <td>No</td>\n",
       "      <td>DSL</td>\n",
       "      <td>Yes</td>\n",
       "      <td>No</td>\n",
       "      <td>Yes</td>\n",
       "      <td>Yes</td>\n",
       "      <td>No</td>\n",
       "      <td>No</td>\n",
       "      <td>NaN</td>\n",
       "    </tr>\n",
       "    <tr>\n",
       "      <th>4</th>\n",
       "      <td>9237-HQITU</td>\n",
       "      <td>2019-09-01</td>\n",
       "      <td>No</td>\n",
       "      <td>Month-to-month</td>\n",
       "      <td>Yes</td>\n",
       "      <td>Electronic check</td>\n",
       "      <td>70.70</td>\n",
       "      <td>353.5</td>\n",
       "      <td>Female</td>\n",
       "      <td>0</td>\n",
       "      <td>No</td>\n",
       "      <td>No</td>\n",
       "      <td>Fiber optic</td>\n",
       "      <td>No</td>\n",
       "      <td>No</td>\n",
       "      <td>No</td>\n",
       "      <td>No</td>\n",
       "      <td>No</td>\n",
       "      <td>No</td>\n",
       "      <td>No</td>\n",
       "    </tr>\n",
       "  </tbody>\n",
       "</table>\n",
       "</div>"
      ],
      "text/plain": [
       "  customer_id  begin_date end_date            type paperless_billing  \\\n",
       "0  7590-VHVEG  2020-01-01       No  Month-to-month               Yes   \n",
       "1  5575-GNVDE  2017-04-01       No        One year                No   \n",
       "2  3668-QPYBK  2019-10-01       No  Month-to-month               Yes   \n",
       "3  7795-CFOCW  2016-05-01       No        One year                No   \n",
       "4  9237-HQITU  2019-09-01       No  Month-to-month               Yes   \n",
       "\n",
       "              payment_method  monthly_charges total_charges  gender  \\\n",
       "0           Electronic check            29.85         31.04  Female   \n",
       "1               Mailed check            56.95       2071.84    Male   \n",
       "2               Mailed check            53.85        226.17    Male   \n",
       "3  Bank transfer (automatic)            42.30        1960.6    Male   \n",
       "4           Electronic check            70.70         353.5  Female   \n",
       "\n",
       "   senior_citizen partner dependents internet_service online_security  \\\n",
       "0               0     Yes         No              DSL              No   \n",
       "1               0      No         No              DSL             Yes   \n",
       "2               0      No         No              DSL             Yes   \n",
       "3               0      No         No              DSL             Yes   \n",
       "4               0      No         No      Fiber optic              No   \n",
       "\n",
       "  online_backup device_protection tech_support streaming_tv streaming_movies  \\\n",
       "0           Yes                No           No           No               No   \n",
       "1            No               Yes           No           No               No   \n",
       "2           Yes                No           No           No               No   \n",
       "3            No               Yes          Yes           No               No   \n",
       "4            No                No           No           No               No   \n",
       "\n",
       "  multiple_lines  \n",
       "0            NaN  \n",
       "1             No  \n",
       "2             No  \n",
       "3            NaN  \n",
       "4             No  "
      ]
     },
     "execution_count": 15,
     "metadata": {},
     "output_type": "execute_result"
    }
   ],
   "source": [
    "# Объединение таблиц по столбцу \"customer_id\"\n",
    "df = df_contract.merge(df_personal, on='customer_id', how='left') \\\n",
    "                      .merge(df_internet, on='customer_id', how='left') \\\n",
    "                      .merge(df_phone, on='customer_id', how='left')\n",
    "\n",
    "df.head()"
   ]
  },
  {
   "cell_type": "code",
   "execution_count": 16,
   "metadata": {},
   "outputs": [
    {
     "name": "stdout",
     "output_type": "stream",
     "text": [
      "Описание таблицы df:\n",
      "<class 'pandas.core.frame.DataFrame'>\n",
      "Int64Index: 7043 entries, 0 to 7042\n",
      "Data columns (total 20 columns):\n",
      " #   Column             Non-Null Count  Dtype  \n",
      "---  ------             --------------  -----  \n",
      " 0   customer_id        7043 non-null   object \n",
      " 1   begin_date         7043 non-null   object \n",
      " 2   end_date           7043 non-null   object \n",
      " 3   type               7043 non-null   object \n",
      " 4   paperless_billing  7043 non-null   object \n",
      " 5   payment_method     7043 non-null   object \n",
      " 6   monthly_charges    7043 non-null   float64\n",
      " 7   total_charges      7043 non-null   object \n",
      " 8   gender             7043 non-null   object \n",
      " 9   senior_citizen     7043 non-null   int64  \n",
      " 10  partner            7043 non-null   object \n",
      " 11  dependents         7043 non-null   object \n",
      " 12  internet_service   5517 non-null   object \n",
      " 13  online_security    5517 non-null   object \n",
      " 14  online_backup      5517 non-null   object \n",
      " 15  device_protection  5517 non-null   object \n",
      " 16  tech_support       5517 non-null   object \n",
      " 17  streaming_tv       5517 non-null   object \n",
      " 18  streaming_movies   5517 non-null   object \n",
      " 19  multiple_lines     6361 non-null   object \n",
      "dtypes: float64(1), int64(1), object(18)\n",
      "memory usage: 1.1+ MB\n",
      "       monthly_charges  senior_citizen\n",
      "count      7043.000000     7043.000000\n",
      "mean         64.761692        0.162147\n",
      "std          30.090047        0.368612\n",
      "min          18.250000        0.000000\n",
      "25%          35.500000        0.000000\n",
      "50%          70.350000        0.000000\n",
      "75%          89.850000        0.000000\n",
      "max         118.750000        1.000000\n",
      "Количество пропусков в таблице:\n",
      "customer_id             0\n",
      "begin_date              0\n",
      "end_date                0\n",
      "type                    0\n",
      "paperless_billing       0\n",
      "payment_method          0\n",
      "monthly_charges         0\n",
      "total_charges           0\n",
      "gender                  0\n",
      "senior_citizen          0\n",
      "partner                 0\n",
      "dependents              0\n",
      "internet_service     1526\n",
      "online_security      1526\n",
      "online_backup        1526\n",
      "device_protection    1526\n",
      "tech_support         1526\n",
      "streaming_tv         1526\n",
      "streaming_movies     1526\n",
      "multiple_lines        682\n",
      "dtype: int64\n",
      "Количество дубликатов в таблице:\n",
      "0\n",
      "\n"
     ]
    }
   ],
   "source": [
    "analyze_dataframe(df, \"df\")"
   ]
  },
  {
   "cell_type": "markdown",
   "metadata": {},
   "source": [
    "Выделим целевой признак"
   ]
  },
  {
   "cell_type": "code",
   "execution_count": 18,
   "metadata": {},
   "outputs": [],
   "source": [
    "df['status'] = df['end_date'].apply(lambda x: 1 if x != 'No' else 0)"
   ]
  },
  {
   "cell_type": "code",
   "execution_count": 19,
   "metadata": {},
   "outputs": [
    {
     "data": {
      "text/html": [
       "<div>\n",
       "<style scoped>\n",
       "    .dataframe tbody tr th:only-of-type {\n",
       "        vertical-align: middle;\n",
       "    }\n",
       "\n",
       "    .dataframe tbody tr th {\n",
       "        vertical-align: top;\n",
       "    }\n",
       "\n",
       "    .dataframe thead th {\n",
       "        text-align: right;\n",
       "    }\n",
       "</style>\n",
       "<table border=\"1\" class=\"dataframe\">\n",
       "  <thead>\n",
       "    <tr style=\"text-align: right;\">\n",
       "      <th></th>\n",
       "      <th>customer_id</th>\n",
       "      <th>begin_date</th>\n",
       "      <th>end_date</th>\n",
       "      <th>type</th>\n",
       "      <th>paperless_billing</th>\n",
       "      <th>payment_method</th>\n",
       "      <th>monthly_charges</th>\n",
       "      <th>total_charges</th>\n",
       "      <th>gender</th>\n",
       "      <th>senior_citizen</th>\n",
       "      <th>...</th>\n",
       "      <th>dependents</th>\n",
       "      <th>internet_service</th>\n",
       "      <th>online_security</th>\n",
       "      <th>online_backup</th>\n",
       "      <th>device_protection</th>\n",
       "      <th>tech_support</th>\n",
       "      <th>streaming_tv</th>\n",
       "      <th>streaming_movies</th>\n",
       "      <th>multiple_lines</th>\n",
       "      <th>status</th>\n",
       "    </tr>\n",
       "  </thead>\n",
       "  <tbody>\n",
       "    <tr>\n",
       "      <th>0</th>\n",
       "      <td>7590-VHVEG</td>\n",
       "      <td>2020-01-01</td>\n",
       "      <td>No</td>\n",
       "      <td>Month-to-month</td>\n",
       "      <td>Yes</td>\n",
       "      <td>Electronic check</td>\n",
       "      <td>29.85</td>\n",
       "      <td>31.04</td>\n",
       "      <td>Female</td>\n",
       "      <td>0</td>\n",
       "      <td>...</td>\n",
       "      <td>No</td>\n",
       "      <td>DSL</td>\n",
       "      <td>No</td>\n",
       "      <td>Yes</td>\n",
       "      <td>No</td>\n",
       "      <td>No</td>\n",
       "      <td>No</td>\n",
       "      <td>No</td>\n",
       "      <td>NaN</td>\n",
       "      <td>0</td>\n",
       "    </tr>\n",
       "    <tr>\n",
       "      <th>1</th>\n",
       "      <td>5575-GNVDE</td>\n",
       "      <td>2017-04-01</td>\n",
       "      <td>No</td>\n",
       "      <td>One year</td>\n",
       "      <td>No</td>\n",
       "      <td>Mailed check</td>\n",
       "      <td>56.95</td>\n",
       "      <td>2071.84</td>\n",
       "      <td>Male</td>\n",
       "      <td>0</td>\n",
       "      <td>...</td>\n",
       "      <td>No</td>\n",
       "      <td>DSL</td>\n",
       "      <td>Yes</td>\n",
       "      <td>No</td>\n",
       "      <td>Yes</td>\n",
       "      <td>No</td>\n",
       "      <td>No</td>\n",
       "      <td>No</td>\n",
       "      <td>No</td>\n",
       "      <td>0</td>\n",
       "    </tr>\n",
       "    <tr>\n",
       "      <th>2</th>\n",
       "      <td>3668-QPYBK</td>\n",
       "      <td>2019-10-01</td>\n",
       "      <td>No</td>\n",
       "      <td>Month-to-month</td>\n",
       "      <td>Yes</td>\n",
       "      <td>Mailed check</td>\n",
       "      <td>53.85</td>\n",
       "      <td>226.17</td>\n",
       "      <td>Male</td>\n",
       "      <td>0</td>\n",
       "      <td>...</td>\n",
       "      <td>No</td>\n",
       "      <td>DSL</td>\n",
       "      <td>Yes</td>\n",
       "      <td>Yes</td>\n",
       "      <td>No</td>\n",
       "      <td>No</td>\n",
       "      <td>No</td>\n",
       "      <td>No</td>\n",
       "      <td>No</td>\n",
       "      <td>0</td>\n",
       "    </tr>\n",
       "    <tr>\n",
       "      <th>3</th>\n",
       "      <td>7795-CFOCW</td>\n",
       "      <td>2016-05-01</td>\n",
       "      <td>No</td>\n",
       "      <td>One year</td>\n",
       "      <td>No</td>\n",
       "      <td>Bank transfer (automatic)</td>\n",
       "      <td>42.30</td>\n",
       "      <td>1960.6</td>\n",
       "      <td>Male</td>\n",
       "      <td>0</td>\n",
       "      <td>...</td>\n",
       "      <td>No</td>\n",
       "      <td>DSL</td>\n",
       "      <td>Yes</td>\n",
       "      <td>No</td>\n",
       "      <td>Yes</td>\n",
       "      <td>Yes</td>\n",
       "      <td>No</td>\n",
       "      <td>No</td>\n",
       "      <td>NaN</td>\n",
       "      <td>0</td>\n",
       "    </tr>\n",
       "    <tr>\n",
       "      <th>4</th>\n",
       "      <td>9237-HQITU</td>\n",
       "      <td>2019-09-01</td>\n",
       "      <td>No</td>\n",
       "      <td>Month-to-month</td>\n",
       "      <td>Yes</td>\n",
       "      <td>Electronic check</td>\n",
       "      <td>70.70</td>\n",
       "      <td>353.5</td>\n",
       "      <td>Female</td>\n",
       "      <td>0</td>\n",
       "      <td>...</td>\n",
       "      <td>No</td>\n",
       "      <td>Fiber optic</td>\n",
       "      <td>No</td>\n",
       "      <td>No</td>\n",
       "      <td>No</td>\n",
       "      <td>No</td>\n",
       "      <td>No</td>\n",
       "      <td>No</td>\n",
       "      <td>No</td>\n",
       "      <td>0</td>\n",
       "    </tr>\n",
       "    <tr>\n",
       "      <th>5</th>\n",
       "      <td>9305-CDSKC</td>\n",
       "      <td>2019-03-01</td>\n",
       "      <td>No</td>\n",
       "      <td>Month-to-month</td>\n",
       "      <td>Yes</td>\n",
       "      <td>Electronic check</td>\n",
       "      <td>99.65</td>\n",
       "      <td>1150.96</td>\n",
       "      <td>Female</td>\n",
       "      <td>0</td>\n",
       "      <td>...</td>\n",
       "      <td>No</td>\n",
       "      <td>Fiber optic</td>\n",
       "      <td>No</td>\n",
       "      <td>No</td>\n",
       "      <td>Yes</td>\n",
       "      <td>No</td>\n",
       "      <td>Yes</td>\n",
       "      <td>Yes</td>\n",
       "      <td>Yes</td>\n",
       "      <td>0</td>\n",
       "    </tr>\n",
       "    <tr>\n",
       "      <th>6</th>\n",
       "      <td>1452-KIOVK</td>\n",
       "      <td>2018-04-01</td>\n",
       "      <td>No</td>\n",
       "      <td>Month-to-month</td>\n",
       "      <td>Yes</td>\n",
       "      <td>Credit card (automatic)</td>\n",
       "      <td>89.10</td>\n",
       "      <td>2058.21</td>\n",
       "      <td>Male</td>\n",
       "      <td>0</td>\n",
       "      <td>...</td>\n",
       "      <td>Yes</td>\n",
       "      <td>Fiber optic</td>\n",
       "      <td>No</td>\n",
       "      <td>Yes</td>\n",
       "      <td>No</td>\n",
       "      <td>No</td>\n",
       "      <td>Yes</td>\n",
       "      <td>No</td>\n",
       "      <td>Yes</td>\n",
       "      <td>0</td>\n",
       "    </tr>\n",
       "    <tr>\n",
       "      <th>7</th>\n",
       "      <td>6713-OKOMC</td>\n",
       "      <td>2019-04-01</td>\n",
       "      <td>No</td>\n",
       "      <td>Month-to-month</td>\n",
       "      <td>No</td>\n",
       "      <td>Mailed check</td>\n",
       "      <td>29.75</td>\n",
       "      <td>300.48</td>\n",
       "      <td>Female</td>\n",
       "      <td>0</td>\n",
       "      <td>...</td>\n",
       "      <td>No</td>\n",
       "      <td>DSL</td>\n",
       "      <td>Yes</td>\n",
       "      <td>No</td>\n",
       "      <td>No</td>\n",
       "      <td>No</td>\n",
       "      <td>No</td>\n",
       "      <td>No</td>\n",
       "      <td>NaN</td>\n",
       "      <td>0</td>\n",
       "    </tr>\n",
       "    <tr>\n",
       "      <th>8</th>\n",
       "      <td>7892-POOKP</td>\n",
       "      <td>2017-07-01</td>\n",
       "      <td>No</td>\n",
       "      <td>Month-to-month</td>\n",
       "      <td>Yes</td>\n",
       "      <td>Electronic check</td>\n",
       "      <td>104.80</td>\n",
       "      <td>3573.68</td>\n",
       "      <td>Female</td>\n",
       "      <td>0</td>\n",
       "      <td>...</td>\n",
       "      <td>No</td>\n",
       "      <td>Fiber optic</td>\n",
       "      <td>No</td>\n",
       "      <td>No</td>\n",
       "      <td>Yes</td>\n",
       "      <td>Yes</td>\n",
       "      <td>Yes</td>\n",
       "      <td>Yes</td>\n",
       "      <td>Yes</td>\n",
       "      <td>0</td>\n",
       "    </tr>\n",
       "    <tr>\n",
       "      <th>9</th>\n",
       "      <td>6388-TABGU</td>\n",
       "      <td>2014-12-01</td>\n",
       "      <td>2017-05-01</td>\n",
       "      <td>One year</td>\n",
       "      <td>No</td>\n",
       "      <td>Bank transfer (automatic)</td>\n",
       "      <td>56.15</td>\n",
       "      <td>1628.35</td>\n",
       "      <td>Male</td>\n",
       "      <td>0</td>\n",
       "      <td>...</td>\n",
       "      <td>Yes</td>\n",
       "      <td>DSL</td>\n",
       "      <td>Yes</td>\n",
       "      <td>Yes</td>\n",
       "      <td>No</td>\n",
       "      <td>No</td>\n",
       "      <td>No</td>\n",
       "      <td>No</td>\n",
       "      <td>No</td>\n",
       "      <td>1</td>\n",
       "    </tr>\n",
       "  </tbody>\n",
       "</table>\n",
       "<p>10 rows × 21 columns</p>\n",
       "</div>"
      ],
      "text/plain": [
       "  customer_id  begin_date    end_date            type paperless_billing  \\\n",
       "0  7590-VHVEG  2020-01-01          No  Month-to-month               Yes   \n",
       "1  5575-GNVDE  2017-04-01          No        One year                No   \n",
       "2  3668-QPYBK  2019-10-01          No  Month-to-month               Yes   \n",
       "3  7795-CFOCW  2016-05-01          No        One year                No   \n",
       "4  9237-HQITU  2019-09-01          No  Month-to-month               Yes   \n",
       "5  9305-CDSKC  2019-03-01          No  Month-to-month               Yes   \n",
       "6  1452-KIOVK  2018-04-01          No  Month-to-month               Yes   \n",
       "7  6713-OKOMC  2019-04-01          No  Month-to-month                No   \n",
       "8  7892-POOKP  2017-07-01          No  Month-to-month               Yes   \n",
       "9  6388-TABGU  2014-12-01  2017-05-01        One year                No   \n",
       "\n",
       "              payment_method  monthly_charges total_charges  gender  \\\n",
       "0           Electronic check            29.85         31.04  Female   \n",
       "1               Mailed check            56.95       2071.84    Male   \n",
       "2               Mailed check            53.85        226.17    Male   \n",
       "3  Bank transfer (automatic)            42.30        1960.6    Male   \n",
       "4           Electronic check            70.70         353.5  Female   \n",
       "5           Electronic check            99.65       1150.96  Female   \n",
       "6    Credit card (automatic)            89.10       2058.21    Male   \n",
       "7               Mailed check            29.75        300.48  Female   \n",
       "8           Electronic check           104.80       3573.68  Female   \n",
       "9  Bank transfer (automatic)            56.15       1628.35    Male   \n",
       "\n",
       "   senior_citizen  ... dependents internet_service online_security  \\\n",
       "0               0  ...         No              DSL              No   \n",
       "1               0  ...         No              DSL             Yes   \n",
       "2               0  ...         No              DSL             Yes   \n",
       "3               0  ...         No              DSL             Yes   \n",
       "4               0  ...         No      Fiber optic              No   \n",
       "5               0  ...         No      Fiber optic              No   \n",
       "6               0  ...        Yes      Fiber optic              No   \n",
       "7               0  ...         No              DSL             Yes   \n",
       "8               0  ...         No      Fiber optic              No   \n",
       "9               0  ...        Yes              DSL             Yes   \n",
       "\n",
       "  online_backup device_protection tech_support streaming_tv streaming_movies  \\\n",
       "0           Yes                No           No           No               No   \n",
       "1            No               Yes           No           No               No   \n",
       "2           Yes                No           No           No               No   \n",
       "3            No               Yes          Yes           No               No   \n",
       "4            No                No           No           No               No   \n",
       "5            No               Yes           No          Yes              Yes   \n",
       "6           Yes                No           No          Yes               No   \n",
       "7            No                No           No           No               No   \n",
       "8            No               Yes          Yes          Yes              Yes   \n",
       "9           Yes                No           No           No               No   \n",
       "\n",
       "  multiple_lines status  \n",
       "0            NaN      0  \n",
       "1             No      0  \n",
       "2             No      0  \n",
       "3            NaN      0  \n",
       "4             No      0  \n",
       "5            Yes      0  \n",
       "6            Yes      0  \n",
       "7            NaN      0  \n",
       "8            Yes      0  \n",
       "9             No      1  \n",
       "\n",
       "[10 rows x 21 columns]"
      ]
     },
     "execution_count": 19,
     "metadata": {},
     "output_type": "execute_result"
    }
   ],
   "source": [
    "df.head(10)"
   ]
  },
  {
   "cell_type": "code",
   "execution_count": 20,
   "metadata": {},
   "outputs": [
    {
     "data": {
      "image/png": "[encoded data removed]",
      "text/plain": [
       "<Figure size 576x576 with 1 Axes>"
      ]
     },
     "metadata": {},
     "output_type": "display_data"
    }
   ],
   "source": [
    "# Построение круговой диаграммы\n",
    "plt.figure(figsize=(8, 8))\n",
    "colors = ['green', 'gray']  # Зеленый для активных, голубой для ушедших\n",
    "plt.pie(df['status'].value_counts(), labels=['Активные', 'Ушли'], colors=colors, autopct='%1.1f%%', startangle=140, textprops={'fontsize': 20})\n",
    "plt.title('Статус клиентов: Активные договоры vs Ушедшие клиенты', size=20)\n",
    "plt.show()\n"
   ]
  },
  {
   "cell_type": "markdown",
   "metadata": {},
   "source": [
    "**Вывод**\n",
    "- Привели названия столбцов к \"змеиному\" типу\n",
    "- Создали целевой признак столбец `status`, который указывает на то, ушел клиент или остался. Проанализируйте его распределение, чтобы понять, какой процент клиентов ушел и какой остался.\n",
    "- Была проведена визуализация дисбаланса классов, подтверждающая присутствие дисбаланса между активными и ушедшими клиентами.\n",
    "Принимая во внимание дисбаланс классов целевого признака, важно выбрать подходящую метрику для оценки качества модели. Будем использовать метрику AUC-ROC, которая позволяет оценить производительность модели, учитывая дисбаланс классов. Для дополнительной коррекции влияния дисбаланса классов будем применять параметр class_weight='balanced'."
   ]
  },
  {
   "cell_type": "markdown",
   "metadata": {},
   "source": [
    "### Исследовательский анализ данных (EDA)"
   ]
  },
  {
   "cell_type": "markdown",
   "metadata": {},
   "source": [
    " Рассмотрим пропуски"
   ]
  },
  {
   "cell_type": "markdown",
   "metadata": {},
   "source": [
    "`internet_service`, `online_security`, `online_backup`, `device_protection`, `tech_support`, `streaming_tv`, `streaming_movies`: все эти столбцы относятся к дополнительным услугам интернета. Пропущенные значения могли возникнуть, если клиент не подключал эти дополнительные услуги"
   ]
  },
  {
   "cell_type": "markdown",
   "metadata": {},
   "source": [
    "`multiple_lines`: этот столбец относится к услугам подключения телефонного аппарата к нескольким линиям одновременно. Пропущенные значения могли возникнуть, если клиент не подключал эту услугу"
   ]
  },
  {
   "cell_type": "code",
   "execution_count": 21,
   "metadata": {},
   "outputs": [
    {
     "name": "stdout",
     "output_type": "stream",
     "text": [
      "Уникальные значения для столбца internet_service: ['DSL' 'Fiber optic' nan]\n",
      "Уникальные значения для столбца online_security: ['No' 'Yes' nan]\n",
      "Уникальные значения для столбца online_backup: ['Yes' 'No' nan]\n",
      "Уникальные значения для столбца device_protection: ['No' 'Yes' nan]\n",
      "Уникальные значения для столбца tech_support: ['No' 'Yes' nan]\n",
      "Уникальные значения для столбца streaming_tv: ['No' 'Yes' nan]\n",
      "Уникальные значения для столбца streaming_movies: ['No' 'Yes' nan]\n",
      "Уникальные значения для столбца multiple_lines: [nan 'No' 'Yes']\n"
     ]
    }
   ],
   "source": [
    "# Найдем столбцы с пропущенными значениями\n",
    "cols_with_missing = df.columns[df.isnull().any()]\n",
    "\n",
    "# Выведем уникальные значения\n",
    "for col in cols_with_missing:\n",
    "    unique_values = df[col].unique()\n",
    "    print(f\"Уникальные значения для столбца {col}: {unique_values}\")\n"
   ]
  },
  {
   "cell_type": "code",
   "execution_count": 23,
   "metadata": {},
   "outputs": [],
   "source": [
    "# Заполним пропущенные значения строкой 'Not_used'\n",
    "for col in cols_with_missing:\n",
    "    df[col].fillna('Not_used', inplace=True)"
   ]
  },
  {
   "cell_type": "code",
   "execution_count": 24,
   "metadata": {},
   "outputs": [
    {
     "name": "stdout",
     "output_type": "stream",
     "text": [
      "Уникальные значения для столбца internet_service: ['DSL' 'Fiber optic' 'Not_used']\n",
      "Уникальные значения для столбца online_security: ['No' 'Yes' 'Not_used']\n",
      "Уникальные значения для столбца online_backup: ['Yes' 'No' 'Not_used']\n",
      "Уникальные значения для столбца device_protection: ['No' 'Yes' 'Not_used']\n",
      "Уникальные значения для столбца tech_support: ['No' 'Yes' 'Not_used']\n",
      "Уникальные значения для столбца streaming_tv: ['No' 'Yes' 'Not_used']\n",
      "Уникальные значения для столбца streaming_movies: ['No' 'Yes' 'Not_used']\n",
      "Уникальные значения для столбца multiple_lines: ['Not_used' 'No' 'Yes']\n"
     ]
    }
   ],
   "source": [
    "# Выведем уникальные значения\n",
    "for col in cols_with_missing:\n",
    "    unique_values = df[col].unique()\n",
    "    print(f\"Уникальные значения для столбца {col}: {unique_values}\")"
   ]
  },
  {
   "cell_type": "code",
   "execution_count": 25,
   "metadata": {},
   "outputs": [
    {
     "data": {
      "text/plain": [
       "customer_id          0\n",
       "begin_date           0\n",
       "end_date             0\n",
       "type                 0\n",
       "paperless_billing    0\n",
       "payment_method       0\n",
       "monthly_charges      0\n",
       "total_charges        0\n",
       "gender               0\n",
       "senior_citizen       0\n",
       "partner              0\n",
       "dependents           0\n",
       "internet_service     0\n",
       "online_security      0\n",
       "online_backup        0\n",
       "device_protection    0\n",
       "tech_support         0\n",
       "streaming_tv         0\n",
       "streaming_movies     0\n",
       "multiple_lines       0\n",
       "status               0\n",
       "dtype: int64"
      ]
     },
     "execution_count": 25,
     "metadata": {},
     "output_type": "execute_result"
    }
   ],
   "source": [
    "df.isna().sum()"
   ]
  },
  {
   "cell_type": "code",
   "execution_count": 26,
   "metadata": {},
   "outputs": [
    {
     "name": "stdout",
     "output_type": "stream",
     "text": [
      "<class 'pandas.core.frame.DataFrame'>\n",
      "Int64Index: 7043 entries, 0 to 7042\n",
      "Data columns (total 21 columns):\n",
      " #   Column             Non-Null Count  Dtype  \n",
      "---  ------             --------------  -----  \n",
      " 0   customer_id        7043 non-null   object \n",
      " 1   begin_date         7043 non-null   object \n",
      " 2   end_date           7043 non-null   object \n",
      " 3   type               7043 non-null   object \n",
      " 4   paperless_billing  7043 non-null   object \n",
      " 5   payment_method     7043 non-null   object \n",
      " 6   monthly_charges    7043 non-null   float64\n",
      " 7   total_charges      7043 non-null   object \n",
      " 8   gender             7043 non-null   object \n",
      " 9   senior_citizen     7043 non-null   int64  \n",
      " 10  partner            7043 non-null   object \n",
      " 11  dependents         7043 non-null   object \n",
      " 12  internet_service   7043 non-null   object \n",
      " 13  online_security    7043 non-null   object \n",
      " 14  online_backup      7043 non-null   object \n",
      " 15  device_protection  7043 non-null   object \n",
      " 16  tech_support       7043 non-null   object \n",
      " 17  streaming_tv       7043 non-null   object \n",
      " 18  streaming_movies   7043 non-null   object \n",
      " 19  multiple_lines     7043 non-null   object \n",
      " 20  status             7043 non-null   int64  \n",
      "dtypes: float64(1), int64(2), object(18)\n",
      "memory usage: 1.2+ MB\n"
     ]
    }
   ],
   "source": [
    "df.info()"
   ]
  },
  {
   "cell_type": "markdown",
   "metadata": {},
   "source": [
    "`begin_date` и `end_date` - столбцы, представляющие даты начала и окончания пользования услугами. Их следует преобразовать в тип данных datetime."
   ]
  },
  {
   "cell_type": "code",
   "execution_count": 27,
   "metadata": {},
   "outputs": [],
   "source": [
    "df.total_charges = pd.to_numeric(df.total_charges, errors = 'coerce')"
   ]
  },
  {
   "cell_type": "code",
   "execution_count": 28,
   "metadata": {},
   "outputs": [
    {
     "data": {
      "text/plain": [
       "array(['2020-01-01', '2017-04-01', '2019-10-01', '2016-05-01',\n",
       "       '2019-09-01', '2019-03-01', '2018-04-01', '2019-04-01',\n",
       "       '2017-07-01', '2014-12-01', '2019-01-01', '2018-10-01',\n",
       "       '2015-04-01', '2015-09-01', '2018-01-01', '2014-05-01',\n",
       "       '2015-10-01', '2014-03-01', '2018-05-01', '2019-11-01',\n",
       "       '2019-02-01', '2016-01-01', '2017-08-01', '2015-12-01',\n",
       "       '2014-02-01', '2018-06-01', '2019-12-01', '2017-11-01',\n",
       "       '2019-06-01', '2016-04-01', '2017-02-01', '2018-12-01',\n",
       "       '2014-04-01', '2018-09-01', '2014-11-01', '2016-07-01',\n",
       "       '2015-02-01', '2018-07-01', '2014-08-01', '2016-03-01',\n",
       "       '2018-08-01', '2014-10-01', '2015-06-01', '2016-08-01',\n",
       "       '2019-05-01', '2017-03-01', '2016-02-01', '2017-09-01',\n",
       "       '2014-09-01', '2017-12-01', '2016-12-01', '2017-06-01',\n",
       "       '2015-05-01', '2016-10-01', '2016-09-01', '2019-08-01',\n",
       "       '2019-07-01', '2017-05-01', '2017-10-01', '2014-07-01',\n",
       "       '2018-03-01', '2015-01-01', '2018-11-01', '2015-03-01',\n",
       "       '2018-02-01', '2016-06-01', '2015-08-01', '2015-11-01',\n",
       "       '2014-06-01', '2017-01-01', '2015-07-01', '2020-02-01',\n",
       "       '2016-11-01', '2013-11-01', '2014-01-01', '2013-10-01',\n",
       "       '2013-12-01'], dtype=object)"
      ]
     },
     "execution_count": 28,
     "metadata": {},
     "output_type": "execute_result"
    }
   ],
   "source": [
    "df['begin_date'].unique()"
   ]
  },
  {
   "cell_type": "code",
   "execution_count": 29,
   "metadata": {},
   "outputs": [],
   "source": [
    "df['begin_date'] = pd.to_datetime(df['begin_date'])"
   ]
  },
  {
   "cell_type": "code",
   "execution_count": 30,
   "metadata": {},
   "outputs": [
    {
     "data": {
      "text/plain": [
       "array(['No', '2017-05-01', '2016-03-01', '2018-09-01', '2018-11-01',\n",
       "       '2018-12-01', '2019-08-01', '2018-07-01', '2017-09-01',\n",
       "       '2015-09-01', '2016-07-01', '2016-06-01', '2018-03-01',\n",
       "       '2019-02-01', '2018-06-01', '2019-06-01', '2020-01-01',\n",
       "       '2019-11-01', '2016-09-01', '2015-06-01', '2016-12-01',\n",
       "       '2019-05-01', '2019-04-01', '2017-06-01', '2017-08-01',\n",
       "       '2018-04-01', '2018-08-01', '2018-02-01', '2019-07-01',\n",
       "       '2015-12-01', '2014-06-01', '2018-10-01', '2019-01-01',\n",
       "       '2017-07-01', '2017-12-01', '2018-05-01', '2015-11-01',\n",
       "       '2019-10-01', '2019-03-01', '2016-02-01', '2016-10-01',\n",
       "       '2018-01-01', '2017-11-01', '2015-10-01', '2019-12-01',\n",
       "       '2015-07-01', '2017-04-01', '2015-02-01', '2017-03-01',\n",
       "       '2016-05-01', '2016-11-01', '2015-08-01', '2019-09-01',\n",
       "       '2017-10-01', '2017-02-01', '2016-08-01', '2016-04-01',\n",
       "       '2015-05-01', '2014-09-01', '2014-10-01', '2017-01-01',\n",
       "       '2015-03-01', '2015-01-01', '2016-01-01', '2015-04-01',\n",
       "       '2014-12-01', '2014-11-01'], dtype=object)"
      ]
     },
     "execution_count": 30,
     "metadata": {},
     "output_type": "execute_result"
    }
   ],
   "source": [
    "df['end_date'].unique()"
   ]
  },
  {
   "cell_type": "code",
   "execution_count": 31,
   "metadata": {},
   "outputs": [],
   "source": [
    "df['end_date'] = df['end_date'].replace('No', current_date)\n",
    "df['end_date'] = pd.to_datetime(df['end_date'])"
   ]
  },
  {
   "cell_type": "code",
   "execution_count": 32,
   "metadata": {},
   "outputs": [
    {
     "name": "stdout",
     "output_type": "stream",
     "text": [
      "<class 'pandas.core.frame.DataFrame'>\n",
      "Int64Index: 7043 entries, 0 to 7042\n",
      "Data columns (total 21 columns):\n",
      " #   Column             Non-Null Count  Dtype         \n",
      "---  ------             --------------  -----         \n",
      " 0   customer_id        7043 non-null   object        \n",
      " 1   begin_date         7043 non-null   datetime64[ns]\n",
      " 2   end_date           7043 non-null   datetime64[ns]\n",
      " 3   type               7043 non-null   object        \n",
      " 4   paperless_billing  7043 non-null   object        \n",
      " 5   payment_method     7043 non-null   object        \n",
      " 6   monthly_charges    7043 non-null   float64       \n",
      " 7   total_charges      7032 non-null   float64       \n",
      " 8   gender             7043 non-null   object        \n",
      " 9   senior_citizen     7043 non-null   int64         \n",
      " 10  partner            7043 non-null   object        \n",
      " 11  dependents         7043 non-null   object        \n",
      " 12  internet_service   7043 non-null   object        \n",
      " 13  online_security    7043 non-null   object        \n",
      " 14  online_backup      7043 non-null   object        \n",
      " 15  device_protection  7043 non-null   object        \n",
      " 16  tech_support       7043 non-null   object        \n",
      " 17  streaming_tv       7043 non-null   object        \n",
      " 18  streaming_movies   7043 non-null   object        \n",
      " 19  multiple_lines     7043 non-null   object        \n",
      " 20  status             7043 non-null   int64         \n",
      "dtypes: datetime64[ns](2), float64(2), int64(2), object(15)\n",
      "memory usage: 1.2+ MB\n"
     ]
    }
   ],
   "source": [
    "df.info()"
   ]
  },
  {
   "cell_type": "markdown",
   "metadata": {},
   "source": [
    "**Вывод**\n",
    "- Избавились от пропусков, заменив их `Not_used`\n",
    "- Столбцы `begin_date` и `end_date` преобразовали в тип данных `atetime`\n",
    "- Столбец `total_charges` преобразовали в тип данных `float`"
   ]
  },
  {
   "cell_type": "markdown",
   "metadata": {},
   "source": [
    "#### Создание новых  признаков "
   ]
  },
  {
   "cell_type": "code",
   "execution_count": 33,
   "metadata": {},
   "outputs": [],
   "source": [
    "# Рассчитываем длительность контракта в месяцах\n",
    "df['contract_months'] = ((df['end_date'] - df['begin_date']) / np.timedelta64(1, 'M')).astype(int)"
   ]
  },
  {
   "cell_type": "code",
   "execution_count": 34,
   "metadata": {},
   "outputs": [],
   "source": [
    "# Рассчитываем длительность контракта в днях\n",
    "df['contract_days'] = ((df['end_date'] - df['begin_date']) / np.timedelta64(1, 'D')).astype(int)"
   ]
  },
  {
   "cell_type": "code",
   "execution_count": 35,
   "metadata": {},
   "outputs": [
    {
     "data": {
      "text/html": [
       "<div>\n",
       "<style scoped>\n",
       "    .dataframe tbody tr th:only-of-type {\n",
       "        vertical-align: middle;\n",
       "    }\n",
       "\n",
       "    .dataframe tbody tr th {\n",
       "        vertical-align: top;\n",
       "    }\n",
       "\n",
       "    .dataframe thead th {\n",
       "        text-align: right;\n",
       "    }\n",
       "</style>\n",
       "<table border=\"1\" class=\"dataframe\">\n",
       "  <thead>\n",
       "    <tr style=\"text-align: right;\">\n",
       "      <th></th>\n",
       "      <th>customer_id</th>\n",
       "      <th>begin_date</th>\n",
       "      <th>end_date</th>\n",
       "      <th>type</th>\n",
       "      <th>paperless_billing</th>\n",
       "      <th>payment_method</th>\n",
       "      <th>monthly_charges</th>\n",
       "      <th>total_charges</th>\n",
       "      <th>gender</th>\n",
       "      <th>senior_citizen</th>\n",
       "      <th>...</th>\n",
       "      <th>online_security</th>\n",
       "      <th>online_backup</th>\n",
       "      <th>device_protection</th>\n",
       "      <th>tech_support</th>\n",
       "      <th>streaming_tv</th>\n",
       "      <th>streaming_movies</th>\n",
       "      <th>multiple_lines</th>\n",
       "      <th>status</th>\n",
       "      <th>contract_months</th>\n",
       "      <th>contract_days</th>\n",
       "    </tr>\n",
       "  </thead>\n",
       "  <tbody>\n",
       "    <tr>\n",
       "      <th>0</th>\n",
       "      <td>7590-VHVEG</td>\n",
       "      <td>2020-01-01</td>\n",
       "      <td>2020-02-01</td>\n",
       "      <td>Month-to-month</td>\n",
       "      <td>Yes</td>\n",
       "      <td>Electronic check</td>\n",
       "      <td>29.85</td>\n",
       "      <td>31.04</td>\n",
       "      <td>Female</td>\n",
       "      <td>0</td>\n",
       "      <td>...</td>\n",
       "      <td>No</td>\n",
       "      <td>Yes</td>\n",
       "      <td>No</td>\n",
       "      <td>No</td>\n",
       "      <td>No</td>\n",
       "      <td>No</td>\n",
       "      <td>Not_used</td>\n",
       "      <td>0</td>\n",
       "      <td>1</td>\n",
       "      <td>31</td>\n",
       "    </tr>\n",
       "    <tr>\n",
       "      <th>1</th>\n",
       "      <td>5575-GNVDE</td>\n",
       "      <td>2017-04-01</td>\n",
       "      <td>2020-02-01</td>\n",
       "      <td>One year</td>\n",
       "      <td>No</td>\n",
       "      <td>Mailed check</td>\n",
       "      <td>56.95</td>\n",
       "      <td>2071.84</td>\n",
       "      <td>Male</td>\n",
       "      <td>0</td>\n",
       "      <td>...</td>\n",
       "      <td>Yes</td>\n",
       "      <td>No</td>\n",
       "      <td>Yes</td>\n",
       "      <td>No</td>\n",
       "      <td>No</td>\n",
       "      <td>No</td>\n",
       "      <td>No</td>\n",
       "      <td>0</td>\n",
       "      <td>34</td>\n",
       "      <td>1036</td>\n",
       "    </tr>\n",
       "    <tr>\n",
       "      <th>2</th>\n",
       "      <td>3668-QPYBK</td>\n",
       "      <td>2019-10-01</td>\n",
       "      <td>2020-02-01</td>\n",
       "      <td>Month-to-month</td>\n",
       "      <td>Yes</td>\n",
       "      <td>Mailed check</td>\n",
       "      <td>53.85</td>\n",
       "      <td>226.17</td>\n",
       "      <td>Male</td>\n",
       "      <td>0</td>\n",
       "      <td>...</td>\n",
       "      <td>Yes</td>\n",
       "      <td>Yes</td>\n",
       "      <td>No</td>\n",
       "      <td>No</td>\n",
       "      <td>No</td>\n",
       "      <td>No</td>\n",
       "      <td>No</td>\n",
       "      <td>0</td>\n",
       "      <td>4</td>\n",
       "      <td>123</td>\n",
       "    </tr>\n",
       "    <tr>\n",
       "      <th>3</th>\n",
       "      <td>7795-CFOCW</td>\n",
       "      <td>2016-05-01</td>\n",
       "      <td>2020-02-01</td>\n",
       "      <td>One year</td>\n",
       "      <td>No</td>\n",
       "      <td>Bank transfer (automatic)</td>\n",
       "      <td>42.30</td>\n",
       "      <td>1960.60</td>\n",
       "      <td>Male</td>\n",
       "      <td>0</td>\n",
       "      <td>...</td>\n",
       "      <td>Yes</td>\n",
       "      <td>No</td>\n",
       "      <td>Yes</td>\n",
       "      <td>Yes</td>\n",
       "      <td>No</td>\n",
       "      <td>No</td>\n",
       "      <td>Not_used</td>\n",
       "      <td>0</td>\n",
       "      <td>45</td>\n",
       "      <td>1371</td>\n",
       "    </tr>\n",
       "    <tr>\n",
       "      <th>4</th>\n",
       "      <td>9237-HQITU</td>\n",
       "      <td>2019-09-01</td>\n",
       "      <td>2020-02-01</td>\n",
       "      <td>Month-to-month</td>\n",
       "      <td>Yes</td>\n",
       "      <td>Electronic check</td>\n",
       "      <td>70.70</td>\n",
       "      <td>353.50</td>\n",
       "      <td>Female</td>\n",
       "      <td>0</td>\n",
       "      <td>...</td>\n",
       "      <td>No</td>\n",
       "      <td>No</td>\n",
       "      <td>No</td>\n",
       "      <td>No</td>\n",
       "      <td>No</td>\n",
       "      <td>No</td>\n",
       "      <td>No</td>\n",
       "      <td>0</td>\n",
       "      <td>5</td>\n",
       "      <td>153</td>\n",
       "    </tr>\n",
       "  </tbody>\n",
       "</table>\n",
       "<p>5 rows × 23 columns</p>\n",
       "</div>"
      ],
      "text/plain": [
       "  customer_id begin_date   end_date            type paperless_billing  \\\n",
       "0  7590-VHVEG 2020-01-01 2020-02-01  Month-to-month               Yes   \n",
       "1  5575-GNVDE 2017-04-01 2020-02-01        One year                No   \n",
       "2  3668-QPYBK 2019-10-01 2020-02-01  Month-to-month               Yes   \n",
       "3  7795-CFOCW 2016-05-01 2020-02-01        One year                No   \n",
       "4  9237-HQITU 2019-09-01 2020-02-01  Month-to-month               Yes   \n",
       "\n",
       "              payment_method  monthly_charges  total_charges  gender  \\\n",
       "0           Electronic check            29.85          31.04  Female   \n",
       "1               Mailed check            56.95        2071.84    Male   \n",
       "2               Mailed check            53.85         226.17    Male   \n",
       "3  Bank transfer (automatic)            42.30        1960.60    Male   \n",
       "4           Electronic check            70.70         353.50  Female   \n",
       "\n",
       "   senior_citizen  ... online_security online_backup device_protection  \\\n",
       "0               0  ...              No           Yes                No   \n",
       "1               0  ...             Yes            No               Yes   \n",
       "2               0  ...             Yes           Yes                No   \n",
       "3               0  ...             Yes            No               Yes   \n",
       "4               0  ...              No            No                No   \n",
       "\n",
       "  tech_support streaming_tv streaming_movies multiple_lines status  \\\n",
       "0           No           No               No       Not_used      0   \n",
       "1           No           No               No             No      0   \n",
       "2           No           No               No             No      0   \n",
       "3          Yes           No               No       Not_used      0   \n",
       "4           No           No               No             No      0   \n",
       "\n",
       "  contract_months contract_days  \n",
       "0               1            31  \n",
       "1              34          1036  \n",
       "2               4           123  \n",
       "3              45          1371  \n",
       "4               5           153  \n",
       "\n",
       "[5 rows x 23 columns]"
      ]
     },
     "execution_count": 35,
     "metadata": {},
     "output_type": "execute_result"
    }
   ],
   "source": [
    "df.head()"
   ]
  },
  {
   "cell_type": "markdown",
   "metadata": {},
   "source": [
    "####  Исследуем признаки "
   ]
  },
  {
   "cell_type": "markdown",
   "metadata": {},
   "source": [
    "Удаляем ненужные нам для анализа признаки"
   ]
  },
  {
   "cell_type": "code",
   "execution_count": 36,
   "metadata": {},
   "outputs": [],
   "source": [
    "df = df.drop(['customer_id', 'begin_date', 'end_date'], axis=1)"
   ]
  },
  {
   "cell_type": "markdown",
   "metadata": {},
   "source": [
    "Изменим тип даных у признака `senior_citizen`, так как в будущем туда могут начать записывать , например, Yes и No"
   ]
  },
  {
   "cell_type": "code",
   "execution_count": 37,
   "metadata": {},
   "outputs": [],
   "source": [
    "df['senior_citizen'] = df['senior_citizen'].astype('object')"
   ]
  },
  {
   "cell_type": "code",
   "execution_count": 39,
   "metadata": {},
   "outputs": [
    {
     "data": {
      "image/png": "[encoded data removed]",
      "text/plain": [
       "<Figure size 720x432 with 1 Axes>"
      ]
     },
     "metadata": {
      "needs_background": "light"
     },
     "output_type": "display_data"
    },
    {
     "name": "stdout",
     "output_type": "stream",
     "text": [
      "Количество клиентов по статусу в зависимости от type:\n",
      "status          Активные  Ушли\n",
      "type                          \n",
      "Month-to-month      3468   407\n",
      "One year            1160   313\n",
      "Two year            1314   381\n",
      "\n",
      "Процент ушедших клиентов по type:\n",
      "status          Процент_Ушли\n",
      "type                        \n",
      "Month-to-month     10.503226\n",
      "One year           21.249151\n",
      "Two year           22.477876\n",
      "\n"
     ]
    },
    {
     "data": {
      "image/png": "[encoded data removed]",
      "text/plain": [
       "<Figure size 720x432 with 1 Axes>"
      ]
     },
     "metadata": {
      "needs_background": "light"
     },
     "output_type": "display_data"
    },
    {
     "name": "stdout",
     "output_type": "stream",
     "text": [
      "Количество клиентов по статусу в зависимости от paperless_billing:\n",
      "status             Активные  Ушли\n",
      "paperless_billing                \n",
      "No                     2492   380\n",
      "Yes                    3450   721\n",
      "\n",
      "Процент ушедших клиентов по paperless_billing:\n",
      "status             Процент_Ушли\n",
      "paperless_billing              \n",
      "No                    13.231198\n",
      "Yes                   17.286023\n",
      "\n"
     ]
    },
    {
     "data": {
      "image/png": "[encoded data removed]",
      "text/plain": [
       "<Figure size 720x432 with 1 Axes>"
      ]
     },
     "metadata": {
      "needs_background": "light"
     },
     "output_type": "display_data"
    },
    {
     "name": "stdout",
     "output_type": "stream",
     "text": [
      "Количество клиентов по статусу в зависимости от gender:\n",
      "status  Активные  Ушли\n",
      "gender                \n",
      "Female      2960   528\n",
      "Male        2982   573\n",
      "\n",
      "Процент ушедших клиентов по gender:\n",
      "status  Процент_Ушли\n",
      "gender              \n",
      "Female     15.137615\n",
      "Male       16.118143\n",
      "\n"
     ]
    },
    {
     "data": {
      "image/png": "[encoded data removed]",
      "text/plain": [
       "<Figure size 720x432 with 1 Axes>"
      ]
     },
     "metadata": {
      "needs_background": "light"
     },
     "output_type": "display_data"
    },
    {
     "name": "stdout",
     "output_type": "stream",
     "text": [
      "Количество клиентов по статусу в зависимости от partner:\n",
      "status   Активные  Ушли\n",
      "partner                \n",
      "No           3259   382\n",
      "Yes          2683   719\n",
      "\n",
      "Процент ушедших клиентов по partner:\n",
      "status   Процент_Ушли\n",
      "partner              \n",
      "No          10.491623\n",
      "Yes         21.134627\n",
      "\n"
     ]
    },
    {
     "data": {
      "image/png": "[encoded data removed]",
      "text/plain": [
       "<Figure size 720x432 with 1 Axes>"
      ]
     },
     "metadata": {
      "needs_background": "light"
     },
     "output_type": "display_data"
    },
    {
     "name": "stdout",
     "output_type": "stream",
     "text": [
      "Количество клиентов по статусу в зависимости от dependents:\n",
      "status      Активные  Ушли\n",
      "dependents                \n",
      "No              4200   733\n",
      "Yes             1742   368\n",
      "\n",
      "Процент ушедших клиентов по dependents:\n",
      "status      Процент_Ушли\n",
      "dependents              \n",
      "No             14.859112\n",
      "Yes            17.440758\n",
      "\n"
     ]
    },
    {
     "data": {
      "image/png": "[encoded data removed]",
      "text/plain": [
       "<Figure size 720x432 with 1 Axes>"
      ]
     },
     "metadata": {
      "needs_background": "light"
     },
     "output_type": "display_data"
    },
    {
     "name": "stdout",
     "output_type": "stream",
     "text": [
      "Количество клиентов по статусу в зависимости от internet_service:\n",
      "status            Активные  Ушли\n",
      "internet_service                \n",
      "DSL                   2075   346\n",
      "Fiber optic           2501   595\n",
      "Not_used              1366   160\n",
      "\n",
      "Процент ушедших клиентов по internet_service:\n",
      "status            Процент_Ушли\n",
      "internet_service              \n",
      "DSL                  14.291615\n",
      "Fiber optic          19.218346\n",
      "Not_used             10.484928\n",
      "\n"
     ]
    },
    {
     "data": {
      "image/png": "[encoded data removed]",
      "text/plain": [
       "<Figure size 720x432 with 1 Axes>"
      ]
     },
     "metadata": {
      "needs_background": "light"
     },
     "output_type": "display_data"
    },
    {
     "name": "stdout",
     "output_type": "stream",
     "text": [
      "Количество клиентов по статусу в зависимости от online_security:\n",
      "status           Активные  Ушли\n",
      "online_security                \n",
      "No                   2972   526\n",
      "Not_used             1366   160\n",
      "Yes                  1604   415\n",
      "\n",
      "Процент ушедших клиентов по online_security:\n",
      "status           Процент_Ушли\n",
      "online_security              \n",
      "No                  15.037164\n",
      "Not_used            10.484928\n",
      "Yes                 20.554730\n",
      "\n"
     ]
    },
    {
     "data": {
      "image/png": "[encoded data removed]",
      "text/plain": [
       "<Figure size 720x432 with 1 Axes>"
      ]
     },
     "metadata": {
      "needs_background": "light"
     },
     "output_type": "display_data"
    },
    {
     "name": "stdout",
     "output_type": "stream",
     "text": [
      "Количество клиентов по статусу в зависимости от online_backup:\n",
      "status         Активные  Ушли\n",
      "online_backup                \n",
      "No                 2707   381\n",
      "Not_used           1366   160\n",
      "Yes                1869   560\n",
      "\n",
      "Процент ушедших клиентов по online_backup:\n",
      "status         Процент_Ушли\n",
      "online_backup              \n",
      "No                12.338083\n",
      "Not_used          10.484928\n",
      "Yes               23.054755\n",
      "\n"
     ]
    },
    {
     "data": {
      "image/png": "[encoded data removed]",
      "text/plain": [
       "<Figure size 720x432 with 1 Axes>"
      ]
     },
     "metadata": {
      "needs_background": "light"
     },
     "output_type": "display_data"
    },
    {
     "name": "stdout",
     "output_type": "stream",
     "text": [
      "Количество клиентов по статусу в зависимости от device_protection:\n",
      "status             Активные  Ушли\n",
      "device_protection                \n",
      "No                     2704   391\n",
      "Not_used               1366   160\n",
      "Yes                    1872   550\n",
      "\n",
      "Процент ушедших клиентов по device_protection:\n",
      "status             Процент_Ушли\n",
      "device_protection              \n",
      "No                    12.633279\n",
      "Not_used              10.484928\n",
      "Yes                   22.708505\n",
      "\n"
     ]
    },
    {
     "data": {
      "image/png": "[encoded data removed]",
      "text/plain": [
       "<Figure size 720x432 with 1 Axes>"
      ]
     },
     "metadata": {
      "needs_background": "light"
     },
     "output_type": "display_data"
    },
    {
     "name": "stdout",
     "output_type": "stream",
     "text": [
      "Количество клиентов по статусу в зависимости от tech_support:\n",
      "status        Активные  Ушли\n",
      "tech_support                \n",
      "No                2930   543\n",
      "Not_used          1366   160\n",
      "Yes               1646   398\n",
      "\n",
      "Процент ушедших клиентов по tech_support:\n",
      "status        Процент_Ушли\n",
      "tech_support              \n",
      "No               15.634898\n",
      "Not_used         10.484928\n",
      "Yes              19.471624\n",
      "\n"
     ]
    },
    {
     "data": {
      "image/png": "[encoded data removed]",
      "text/plain": [
       "<Figure size 720x432 with 1 Axes>"
      ]
     },
     "metadata": {
      "needs_background": "light"
     },
     "output_type": "display_data"
    },
    {
     "name": "stdout",
     "output_type": "stream",
     "text": [
      "Количество клиентов по статусу в зависимости от streaming_tv:\n",
      "status        Активные  Ушли\n",
      "streaming_tv                \n",
      "No                2453   357\n",
      "Not_used          1366   160\n",
      "Yes               2123   584\n",
      "\n",
      "Процент ушедших клиентов по streaming_tv:\n",
      "status        Процент_Ушли\n",
      "streaming_tv              \n",
      "No               12.704626\n",
      "Not_used         10.484928\n",
      "Yes              21.573698\n",
      "\n"
     ]
    },
    {
     "data": {
      "image/png": "[encoded data removed]",
      "text/plain": [
       "<Figure size 720x432 with 1 Axes>"
      ]
     },
     "metadata": {
      "needs_background": "light"
     },
     "output_type": "display_data"
    },
    {
     "name": "stdout",
     "output_type": "stream",
     "text": [
      "Количество клиентов по статусу в зависимости от streaming_movies:\n",
      "status            Активные  Ушли\n",
      "streaming_movies                \n",
      "No                    2450   335\n",
      "Not_used              1366   160\n",
      "Yes                   2126   606\n",
      "\n",
      "Процент ушедших клиентов по streaming_movies:\n",
      "status            Процент_Ушли\n",
      "streaming_movies              \n",
      "No                   12.028725\n",
      "Not_used             10.484928\n",
      "Yes                  22.181552\n",
      "\n"
     ]
    },
    {
     "data": {
      "image/png": "[encoded data removed]",
      "text/plain": [
       "<Figure size 720x432 with 1 Axes>"
      ]
     },
     "metadata": {
      "needs_background": "light"
     },
     "output_type": "display_data"
    },
    {
     "name": "stdout",
     "output_type": "stream",
     "text": [
      "Количество клиентов по статусу в зависимости от multiple_lines:\n",
      "status          Активные  Ушли\n",
      "multiple_lines                \n",
      "No                  3070   320\n",
      "Not_used             579   103\n",
      "Yes                 2293   678\n",
      "\n",
      "Процент ушедших клиентов по multiple_lines:\n",
      "status          Процент_Ушли\n",
      "multiple_lines              \n",
      "No                  9.439528\n",
      "Not_used           15.102639\n",
      "Yes                22.820599\n",
      "\n"
     ]
    }
   ],
   "source": [
    "# Выбираем столбцы\n",
    "categorical_cols = ['type', 'paperless_billing', 'gender', 'partner', 'dependents', 'internet_service', \n",
    "                    'online_security', 'online_backup', 'device_protection', 'tech_support', 'streaming_tv', \n",
    "                    'streaming_movies', 'multiple_lines']\n",
    "\n",
    "# Строим графики \n",
    "for col in categorical_cols:\n",
    "    plt.figure(figsize=(10, 6))\n",
    "    sns.countplot(x=col, hue='status', data=df)\n",
    "    plt.title(f'Распределение статуса в зависимости от {col}')\n",
    "    plt.xlabel(col)\n",
    "    plt.ylabel('Количество')\n",
    "    plt.xticks(rotation=45)\n",
    "    plt.legend(title='Статус', labels=['Активные', 'Ушли'])\n",
    "    plt.tight_layout()\n",
    "    plt.show()\n",
    "\n",
    "    # Выводим числовую информацию с заменой цифр на слова\n",
    "    counts = df.groupby([col, 'status']).size().unstack(fill_value=0)\n",
    "    counts = counts.rename(columns={0: 'Активные', 1: 'Ушли'})\n",
    "    print(f'Количество клиентов по статусу в зависимости от {col}:\\n{counts.to_string()}\\n')\n",
    "\n",
    "    # Вычисляем процент ушедших клиентов от общего числа клиентов (Активные + Ушли) \n",
    "    type_churn = df.groupby([col, 'status']).size().unstack(fill_value=0)\n",
    "    type_churn['Процент_Ушли'] = (type_churn[1] / (type_churn[0] + type_churn[1])) * 100\n",
    "    print(f'Процент ушедших клиентов по {col}:\\n{type_churn[[\"Процент_Ушли\"]].to_string()}\\n')\n"
   ]
  },
  {
   "cell_type": "markdown",
   "metadata": {},
   "source": [
    "1. `type`\n",
    "- Тип оплаты не сильно влияет на отток клиентов, то есть отток стабильно примерно одинаковый.\n",
    "2. `paperless_billing`\n",
    "- Клиенты, использующие бумажные платежи, кажется, более склонны к оттоку, но незначительно \n",
    "3. `gender`\n",
    "- Пол не влияет на отток клиентов\n",
    "4. `partner`\n",
    "- На графике видно, что люди,имеющие супруг/супруга уходят чаще \n",
    "5. `dependents`\n",
    "- Наличие иждевенцев влияет незначительно на отток клиентов\n",
    "6. `internet_service`\n",
    "- Процент ушедших клиентов среди пользователей `Fiber optic` выше всех \n",
    "7. `online_security`\n",
    "- Онлайн безопасность практически не влияет на отток клиентов\n",
    "8. `online_backup`\n",
    "- Практически не влиет на отток клиентов\n",
    "9. `device_protection`\n",
    "- Практически не влиет на отток клиентов\n",
    "10. `tech_support`\n",
    "- Практически не влиет на отток клиентов\n",
    "11. `streaming_tv`\n",
    "- Практически не влиет на отток клиентов\n",
    "12. `streaming_movies`\n",
    "- Практически не влиет на отток клиентов\n",
    "13. `multiple_lines`\n",
    "- Практически не влиет на отток клиентов"
   ]
  },
  {
   "cell_type": "code",
   "execution_count": 40,
   "metadata": {},
   "outputs": [
    {
     "data": {
      "image/png": "[encoded data removed]",
      "text/plain": [
       "<Figure size 720x432 with 1 Axes>"
      ]
     },
     "metadata": {
      "needs_background": "light"
     },
     "output_type": "display_data"
    }
   ],
   "source": [
    "# Разделение клиентов на ушедших и активных\n",
    "churned_clients = df[df['status'] == 1]\n",
    "active_clients = df[df['status'] == 0]\n",
    "\n",
    "# Построение гистограммы \n",
    "plt.figure(figsize=(10, 6))\n",
    "plt.hist([churned_clients['contract_months'], active_clients['contract_months']], bins=30, alpha=0.5, label=['Ушли', 'Активные'])\n",
    "plt.xlabel('Длительность договора, месяцы')\n",
    "plt.ylabel('Количество')\n",
    "plt.title('Распределение длительности договоров для ушедших и активных клиентов')\n",
    "plt.legend()\n",
    "plt.show()\n"
   ]
  },
  {
   "cell_type": "code",
   "execution_count": 41,
   "metadata": {},
   "outputs": [
    {
     "data": {
      "image/png": "[encoded data removed]",
      "text/plain": [
       "<Figure size 720x432 with 1 Axes>"
      ]
     },
     "metadata": {
      "needs_background": "light"
     },
     "output_type": "display_data"
    }
   ],
   "source": [
    "# Построение гистограммы \n",
    "plt.figure(figsize=(10, 6))\n",
    "plt.hist([churned_clients['monthly_charges'], active_clients['monthly_charges']], bins=30, alpha=0.5, label=['Ушли', 'Активные'])\n",
    "plt.xlabel('Месячные платежи, деньги')\n",
    "plt.ylabel('Количество')\n",
    "plt.title('Распределение месячных платежей для ушедших и активных клиентов')\n",
    "plt.legend()\n",
    "plt.show()"
   ]
  },
  {
   "cell_type": "code",
   "execution_count": 42,
   "metadata": {},
   "outputs": [
    {
     "data": {
      "image/png": "[encoded data removed]",
      "text/plain": [
       "<Figure size 720x432 with 1 Axes>"
      ]
     },
     "metadata": {
      "needs_background": "light"
     },
     "output_type": "display_data"
    }
   ],
   "source": [
    "# Построение гистограммы \n",
    "plt.figure(figsize=(10, 6))\n",
    "plt.hist([churned_clients['total_charges'], active_clients['total_charges']], bins=30, alpha=0.5, label=['Ушли', 'Активные'])\n",
    "plt.xlabel('Общая сумма платежей, деньги')\n",
    "plt.ylabel('Количество клиентов')\n",
    "plt.title('Распределение общей суммы платежей для ушедших и активных клиентов')\n",
    "plt.legend()\n",
    "plt.show()"
   ]
  },
  {
   "cell_type": "markdown",
   "metadata": {},
   "source": [
    "Можно сделать выводы:\n",
    "-  Длительность договора имеет влияние на удержание клиентов. Клиенты, заключившие контракты на более длительные сроки, более склонны оставаться активными, в то время как короткие контракты могут сопровождаться более высоким процентом ухода.\n",
    "- Клиенты с месячными платежами в нижних и средних диапазонах более склонны оставаться активными, в то время как клиенты с более высокими месячными платежами имеют более высокую вероятность ухода. \n",
    "- Клиенты с более высокой общей суммой платежей более склонны оставаться активными клиентами, в то время как клиенты с низкой общей суммой платежей имеют более высокую вероятность ухода."
   ]
  },
  {
   "cell_type": "markdown",
   "metadata": {},
   "source": [
    "Строим тепловую карту"
   ]
  },
  {
   "cell_type": "code",
   "execution_count": 44,
   "metadata": {},
   "outputs": [
    {
     "data": {
      "image/png": "[encoded data removed]",
      "text/plain": [
       "<Figure size 1296x1152 with 2 Axes>"
      ]
     },
     "metadata": {
      "needs_background": "light"
     },
     "output_type": "display_data"
    }
   ],
   "source": [
    "# Определяем список непрерывных переменных\n",
    "interval_cols = ['monthly_charges', 'total_charges', 'contract_months', 'contract_days']\n",
    "\n",
    "# Рассчитываем матрицу корреляции\n",
    "correlation_matrix = phik.phik_matrix(df, interval_cols=interval_cols)\n",
    "\n",
    "# Строим тепловую карту корреляции\n",
    "plt.figure(figsize=(18, 16))\n",
    "sns.heatmap(correlation_matrix, cmap='coolwarm', center=0, annot=True)\n",
    "plt.title(\"Тепловая карта\")\n",
    "plt.show()"
   ]
  },
  {
   "cell_type": "code",
   "execution_count": 45,
   "metadata": {},
   "outputs": [
    {
     "data": {
      "text/plain": [
       "status               1.000000\n",
       "contract_days        0.374569\n",
       "contract_months      0.368902\n",
       "total_charges        0.303758\n",
       "partner              0.226688\n",
       "monthly_charges      0.226280\n",
       "payment_method       0.214832\n",
       "multiple_lines       0.105101\n",
       "type                 0.094015\n",
       "online_backup        0.089704\n",
       "streaming_movies     0.086577\n",
       "senior_citizen       0.086159\n",
       "device_protection    0.085608\n",
       "paperless_billing    0.083398\n",
       "streaming_tv         0.078545\n",
       "online_security      0.058659\n",
       "internet_service     0.056621\n",
       "tech_support         0.051537\n",
       "dependents           0.046871\n",
       "gender               0.008581\n",
       "Name: status, dtype: float64"
      ]
     },
     "execution_count": 45,
     "metadata": {},
     "output_type": "execute_result"
    }
   ],
   "source": [
    "correlation_matrix['status'].sort_values(ascending=False)"
   ]
  },
  {
   "cell_type": "markdown",
   "metadata": {},
   "source": [
    "- Признак `gender` имеет незначительное влияние на остальные признаки и целевую переменную . В связи с этим, признак `gender` можно считать малозначимым для предсказания целевой переменной и общего анализа.\n",
    "- Есть также высокая корреляция между различными видами услуг, такими как `internet_service`, `online_security`, `online_backup`, `device_protection` и `tech_support`, `streaming_tv`,`streaming_movies`. Это может указывать на то, что клиенты, выбравшие одну услугу, часто выбирают и другие. Они еще сильно коррелируют с признаком `monthly_charges` и поэтому мы их удалим.\n",
    "- `total_charges` сильно коррелирует с `contract_months` и поэтому мы удалим столбец `total_charges` "
   ]
  },
  {
   "cell_type": "code",
   "execution_count": 46,
   "metadata": {},
   "outputs": [],
   "source": [
    "df = df.drop(['gender','internet_service', 'online_security','online_backup','device_protection','tech_support', 'streaming_tv', 'streaming_movies', 'total_charges','contract_months'], axis = 1)"
   ]
  },
  {
   "cell_type": "code",
   "execution_count": 47,
   "metadata": {},
   "outputs": [
    {
     "data": {
      "image/png": "[encoded data removed]",
      "text/plain": [
       "<Figure size 1296x1152 with 2 Axes>"
      ]
     },
     "metadata": {
      "needs_background": "light"
     },
     "output_type": "display_data"
    }
   ],
   "source": [
    "# Рассчитываем матрицу корреляции\n",
    "correlation_matrix = phik.phik_matrix(df, interval_cols=interval_cols)\n",
    "\n",
    "# Строим тепловую карту корреляции\n",
    "plt.figure(figsize=(18, 16))\n",
    "sns.heatmap(correlation_matrix, cmap='coolwarm', annot=True, fmt=\".2f\")\n",
    "plt.title(\"Тепловая карта\")\n",
    "plt.show()"
   ]
  },
  {
   "cell_type": "markdown",
   "metadata": {},
   "source": [
    "**Вывод**\n",
    "- Создали признак `contract_months`- длительность контракта в месяцах и удалили его\n",
    "- Создали признак `contract_days`- длительность контракта в днях\n",
    "- Посмотрели на распределения признаков\n",
    "- Построили тепловую карту и на ее основание из-за высокой корреляции (порог 0.8 взяли) мы удалили некоторых признаки для упрощения модели и уменьшения мультиколлинеарности."
   ]
  },
  {
   "cell_type": "markdown",
   "metadata": {},
   "source": [
    "### Обучение моделей"
   ]
  },
  {
   "cell_type": "code",
   "execution_count": 48,
   "metadata": {},
   "outputs": [],
   "source": [
    "RANDOM_STATE=280823"
   ]
  },
  {
   "cell_type": "markdown",
   "metadata": {},
   "source": [
    "Разобьем выборку на обучающую и тестовую в соотношение 3/1"
   ]
  },
  {
   "cell_type": "code",
   "execution_count": 49,
   "metadata": {},
   "outputs": [],
   "source": [
    "features = df.drop('status', axis=1)\n",
    "target = df['status']"
   ]
  },
  {
   "cell_type": "code",
   "execution_count": 50,
   "metadata": {},
   "outputs": [],
   "source": [
    "# Разбиение на тестовую выборку\n",
    "features_train, features_test, target_train, target_test = train_test_split(\n",
    "    features, target, test_size=0.25, random_state=RANDOM_STATE)"
   ]
  },
  {
   "cell_type": "code",
   "execution_count": 51,
   "metadata": {},
   "outputs": [
    {
     "name": "stdout",
     "output_type": "stream",
     "text": [
      "train: 75.00% \n",
      "test: 25.00%\n"
     ]
    }
   ],
   "source": [
    "print(\n",
    "    f\"train: {len(features_train) / (len(features_train) + len(features_test)) * 100:.2f}%\",\n",
    "    f\"\\ntest: {len(features_test) / (len(features_train) + len(features_test)) * 100:.2f}%\"\n",
    ")"
   ]
  },
  {
   "cell_type": "code",
   "execution_count": 52,
   "metadata": {},
   "outputs": [
    {
     "name": "stdout",
     "output_type": "stream",
     "text": [
      "<class 'pandas.core.frame.DataFrame'>\n",
      "Int64Index: 7043 entries, 0 to 7042\n",
      "Data columns (total 10 columns):\n",
      " #   Column             Non-Null Count  Dtype  \n",
      "---  ------             --------------  -----  \n",
      " 0   type               7043 non-null   object \n",
      " 1   paperless_billing  7043 non-null   object \n",
      " 2   payment_method     7043 non-null   object \n",
      " 3   monthly_charges    7043 non-null   float64\n",
      " 4   senior_citizen     7043 non-null   object \n",
      " 5   partner            7043 non-null   object \n",
      " 6   dependents         7043 non-null   object \n",
      " 7   multiple_lines     7043 non-null   object \n",
      " 8   status             7043 non-null   int64  \n",
      " 9   contract_days      7043 non-null   int64  \n",
      "dtypes: float64(1), int64(2), object(7)\n",
      "memory usage: 863.3+ KB\n"
     ]
    }
   ],
   "source": [
    "df.info()"
   ]
  },
  {
   "cell_type": "code",
   "execution_count": 53,
   "metadata": {},
   "outputs": [],
   "source": [
    "# Выделяем категориальные и числовые признаки\n",
    "categorical_columns = ['type', 'paperless_billing', 'payment_method', 'senior_citizen', 'partner', 'dependents', 'multiple_lines']\n",
    "numeric_columns = ['monthly_charges', 'contract_days']"
   ]
  },
  {
   "cell_type": "code",
   "execution_count": 55,
   "metadata": {},
   "outputs": [],
   "source": [
    "# Преобразование категориальных признаков в числовые с помощью OrdinalEncoder\n",
    "categorical_encoder = OrdinalEncoder(handle_unknown='use_encoded_value', unknown_value=-1)\n",
    "features_train_encoded = features_train.copy()\n",
    "features_test_encoded = features_test.copy()\n",
    "\n",
    "features_train_encoded[categorical_columns] = categorical_encoder.fit_transform(features_train[categorical_columns])\n",
    "features_test_encoded[categorical_columns] = categorical_encoder.transform(features_test[categorical_columns])\n"
   ]
  },
  {
   "cell_type": "code",
   "execution_count": 56,
   "metadata": {},
   "outputs": [],
   "source": [
    "# Стандартизация числовых признаков\n",
    "scaler = StandardScaler()\n",
    "features_train_encoded[numeric_columns] = scaler.fit_transform(features_train_encoded[numeric_columns])\n",
    "features_test_encoded[numeric_columns] = scaler.transform(features_test_encoded[numeric_columns])"
   ]
  },
  {
   "cell_type": "code",
   "execution_count": 58,
   "metadata": {},
   "outputs": [],
   "source": [
    "param_grid_dt = {\n",
    "    'max_depth': [5, 10]\n",
    "}\n",
    "\n",
    "param_grid_rf = {\n",
    "    'max_depth': [5, 10],\n",
    "    'n_estimators': [50, 100]\n",
    "}\n",
    "\n",
    "param_grid_catboost = {\n",
    "    'max_depth': [1, 5],\n",
    "    'iterations': [100, 200],\n",
    "    'learning_rate': [0.15, 0.2]\n",
    "}"
   ]
  },
  {
   "cell_type": "code",
   "execution_count": 59,
   "metadata": {
    "scrolled": false
   },
   "outputs": [
    {
     "name": "stdout",
     "output_type": "stream",
     "text": [
      "Decision Tree лучший ROC-AUC: 0.7848459141615628\n",
      "Decision Tree лучшие парметры: {'max_depth': 5}\n",
      "Random Forest лучший ROC-AUC: 0.8316095524287804\n",
      "Random Forest лучшие параметры: {'max_depth': 10, 'n_estimators': 100}\n",
      "CatBoost лучший ROC-AUC: 0.9073661417824962\n",
      "CatBoost лучшие параметры: {'iterations': 200, 'learning_rate': 0.2, 'max_depth': 5}\n"
     ]
    }
   ],
   "source": [
    "# Подбор гиперпараметров и оценка моделей\n",
    "dt_model = DecisionTreeClassifier(random_state=RANDOM_STATE)\n",
    "grid_search_dt = GridSearchCV(dt_model, param_grid_dt, scoring='roc_auc', cv=3)\n",
    "\n",
    "rf_model = RandomForestClassifier(random_state=RANDOM_STATE)\n",
    "grid_search_rf = GridSearchCV(rf_model, param_grid_rf, scoring='roc_auc', cv=3)\n",
    "\n",
    "catboost_model = CatBoostClassifier(random_state=RANDOM_STATE, verbose=0)\n",
    "grid_search_catboost = GridSearchCV(catboost_model, param_grid_catboost, scoring='roc_auc', cv=3)\n",
    "\n",
    "grid_search_dt.fit(features_train_encoded, target_train)\n",
    "grid_search_rf.fit(features_train_encoded, target_train)\n",
    "grid_search_catboost.fit(features_train_encoded, target_train)\n",
    "\n",
    "print(\"Decision Tree лучший ROC-AUC:\", grid_search_dt.best_score_)\n",
    "print(\"Decision Tree лучшие парметры:\", grid_search_dt.best_params_)\n",
    "\n",
    "print(\"Random Forest лучший ROC-AUC:\", grid_search_rf.best_score_)\n",
    "print(\"Random Forest лучшие параметры:\", grid_search_rf.best_params_)\n",
    "\n",
    "print(\"CatBoost лучший ROC-AUC:\", grid_search_catboost.best_score_)\n",
    "print(\"CatBoost лучшие параметры:\", grid_search_catboost.best_params_)"
   ]
  },
  {
   "cell_type": "code",
   "execution_count": 60,
   "metadata": {},
   "outputs": [
    {
     "name": "stdout",
     "output_type": "stream",
     "text": [
      "Лучшая модель: <catboost.core.CatBoostClassifier object at 0x7fd05f145790>\n",
      "Лучший ROC-AUC: 0.9073661417824962\n"
     ]
    }
   ],
   "source": [
    "# Сравниваем значения метрики ROC-AUC для всех моделей\n",
    "best_roc_auc = max(grid_search_dt.best_score_, grid_search_rf.best_score_, grid_search_catboost.best_score_)\n",
    "\n",
    "# Выбираем лучшую модель\n",
    "best_model = None\n",
    "if best_roc_auc == grid_search_dt.best_score_:\n",
    "    best_model = grid_search_dt.best_estimator_\n",
    "elif best_roc_auc == grid_search_rf.best_score_:\n",
    "    best_model = grid_search_rf.best_estimator_\n",
    "elif best_roc_auc == grid_search_catboost.best_score_:\n",
    "    best_model = grid_search_catboost.best_estimator_\n",
    "\n",
    "print(\"Лучшая модель:\", best_model)\n",
    "print(\"Лучший ROC-AUC:\", best_roc_auc)\n"
   ]
  },
  {
   "cell_type": "markdown",
   "metadata": {},
   "source": [
    "***Вывод***\n",
    "\n",
    "В ходе анализа трех различных моделей машинного обучения, Decision Tree, Random Forest и CatBoost, было обнаружено, что модель CatBoost показала наилучший результат по метрике ROC-AUC с значением 0.9074. Это значение говорит о том, что CatBoost обеспечивает наивысший уровень разделения классов и, следовательно, наилучшую способность модели предсказывать целевой класс.\n",
    "Для CatBoost наилучшие параметры модели оказались следующими: 'iterations': 200, 'learning_rate': 0.2 и 'max_depth': 5.\n",
    "\n",
    "Следовательно, для данной задачи прогнозирования оттока клиентов рекомендуется использовать модель CatBoost с этими параметрами для достижения наилучшей производительности."
   ]
  },
  {
   "cell_type": "markdown",
   "metadata": {},
   "source": [
    "### Тестирование модели"
   ]
  },
  {
   "cell_type": "code",
   "execution_count": 61,
   "metadata": {},
   "outputs": [
    {
     "name": "stdout",
     "output_type": "stream",
     "text": [
      "ROC-AUC на тестовой выборке: 0.9261232974764833\n",
      "Accuracy на тестовой выборке: 0.9256104486087451\n"
     ]
    }
   ],
   "source": [
    "# Получение предсказанных вероятностей классов на тестовой выборке\n",
    "test_probabilities = best_model.predict_proba(features_test_encoded)\n",
    "\n",
    "# Вычисление ROC-AUC на тестовой выборке\n",
    "roc_auc_test = roc_auc_score(target_test, test_probabilities[:, 1])\n",
    "\n",
    "# Предсказание классов на тестовой выборке\n",
    "test_predictions = best_model.predict(features_test_encoded)\n",
    "\n",
    "# Вычисление accuracy на тестовой выборке\n",
    "accuracy_test = accuracy_score(target_test, test_predictions)\n",
    "\n",
    "print(\"ROC-AUC на тестовой выборке:\", roc_auc_test)\n",
    "print(\"Accuracy на тестовой выборке:\", accuracy_test)"
   ]
  },
  {
   "cell_type": "markdown",
   "metadata": {},
   "source": [
    "***Вывод***\n",
    "- Метрика Accuracy измеряет долю правильных предсказаний модели. В данном случае, значение Accuracy составило 93%, что означает, что 93% тестовых примеров были предсказаны верно моделью.\n",
    "- Получено нужное значение roc_auc 0.93 на тестовой выборке"
   ]
  },
  {
   "cell_type": "markdown",
   "metadata": {},
   "source": [
    "### Анализ и интерпретация важности признаков"
   ]
  },
  {
   "cell_type": "code",
   "execution_count": 62,
   "metadata": {},
   "outputs": [
    {
     "name": "stdout",
     "output_type": "stream",
     "text": [
      "             Признак   Важность\n",
      "8      contract_days  61.967427\n",
      "3    monthly_charges  12.553925\n",
      "0               type   8.685323\n",
      "2     payment_method   4.252690\n",
      "7     multiple_lines   4.173921\n",
      "5            partner   3.648622\n",
      "1  paperless_billing   1.935336\n",
      "6         dependents   1.592866\n",
      "4     senior_citizen   1.189890\n"
     ]
    }
   ],
   "source": [
    "# Получение важности признаков из лучшей модели CatBoost\n",
    "best_catboost_model = grid_search_catboost.best_estimator_\n",
    "feature_importance = best_catboost_model.feature_importances_\n",
    "\n",
    "# Признаки важнорсти \n",
    "feature_importance_df = pd.DataFrame({'Признак': features_train_encoded.columns, 'Важность': feature_importance})\n",
    "\n",
    "# Сортировка признаков по важности\n",
    "feature_importance_df = feature_importance_df.sort_values(by='Важность', ascending=False)\n",
    "\n",
    "# Вывод результатов\n",
    "print(feature_importance_df)"
   ]
  },
  {
   "cell_type": "markdown",
   "metadata": {},
   "source": [
    "***Вывод***\n",
    "- Анализ важности признаков показал, что на уход клиента влиет длительность контракта и ежемесячные платежи"
   ]
  },
  {
   "cell_type": "markdown",
   "metadata": {},
   "source": [
    "### Анализ и интерпретация матрицы ошибок"
   ]
  },
  {
   "cell_type": "code",
   "execution_count": 63,
   "metadata": {},
   "outputs": [
    {
     "data": {
      "image/png": "[encoded data removed]",
      "text/plain": [
       "<Figure size 576x432 with 1 Axes>"
      ]
     },
     "metadata": {
      "needs_background": "light"
     },
     "output_type": "display_data"
    },
    {
     "name": "stdout",
     "output_type": "stream",
     "text": [
      "Метрика Precision: 0.9024390243902439\n",
      "Метрика Recall: 0.5627376425855514\n",
      "F1-Score: 0.693208430913349\n",
      "Accuracy: 0.9256104486087451\n"
     ]
    }
   ],
   "source": [
    "# Вычисление матрицы ошибок\n",
    "confusion_mat = confusion_matrix(target_test, test_predictions)\n",
    "\n",
    "# Визуализация матрицы ошибок\n",
    "plt.figure(figsize=(8, 6))\n",
    "sns.heatmap(confusion_mat, annot=True, fmt='d', cmap='Blues', cbar=False)\n",
    "plt.title(\"Матрица ошибок\")\n",
    "plt.xlabel(\"Предсказанный класс\")\n",
    "plt.ylabel(\"Реальный класс\")\n",
    "plt.show()\n",
    "\n",
    "# Вычисление основных метрик из матрицы ошибок\n",
    "tn, fp, fn, tp = confusion_mat.ravel()\n",
    "precision = tp / (tp + fp)\n",
    "recall = tp / (tp + fn)\n",
    "f1_score = 2 * (precision * recall) / (precision + recall)\n",
    "accuracy = (tp + tn) / (tp + tn + fp + fn)\n",
    "\n",
    "print(\"Метрика Precision:\", precision)\n",
    "print(\"Метрика Recall:\", recall)\n",
    "print(\"F1-Score:\", f1_score)\n",
    "print(\"Accuracy:\", accuracy)"
   ]
  },
  {
   "cell_type": "markdown",
   "metadata": {},
   "source": [
    "- Precision (Точность): 0.90\n",
    "\n",
    "Precision измеряет, насколько модель точно идентифицирует ушедших клиентов. В данном случае, значение Precision равно 0.90, что означает, что 90% клиентов, которых модель классифицировала как ушедших, действительно ушли. Это важно для бизнеса, так как ошибка в определении уходящих клиентов может привести к потере дохода.\n",
    "\n",
    "- Recall (Полнота): 0.56\n",
    "\n",
    "Recall измеряет, сколько уходящих клиентов модель обнаружила относительно общего числа реальных уходящих клиентов. Значение Recall равно 0.56, что означает, что модель смогла обнаружить 56% всех уходящих клиентов. Это важно, чтобы минимизировать упущенные возможности удержания клиентов.\n",
    "\n",
    "- F1-Score: 0.69\n",
    "\n",
    "F1-Score - это сбалансированная метрика, которая учитывает как точность, так и полноту. Значение F1-Score равно 0.69, что показывает, что модель достигла хорошего баланса между точностью и полнотой предсказаний. Это важно для достижения оптимальных результатов в удержании клиентов.\n",
    "\n",
    "- Accuracy (Точность): 0.93\n",
    "\n",
    "Accuracy измеряет общую долю правильных предсказаний модели относительно общего числа предсказаний. Значение Accuracy равно 0.93, что означает, что модель правильно предсказала 93% всех случаев. Это высокая точность и может быть полезно в общей оценке производительности модели.\n",
    "\n",
    "True Positive (TP): 1482 - количество правильно предсказанных положительных случаев (уходящих клиентов).\n",
    "\n",
    "True Negative (TN): 16 - количество правильно предсказанных отрицательных случаев (неуходящих клиентов).\n",
    "\n",
    "False Positive (FP): 115 - количество неправильно предсказанных положительных случаев (ложное срабатывание).\n",
    "\n",
    "False Negative (FN): 148 - количество неправильно предсказанных отрицательных случаев (пропущенный случай).\n",
    "\n",
    "Итак, модель CatBoost продемонстрировала высокую точность (Accuracy) и хороший баланс между точностью и полнотой (F1-Score), что делает ее хорошим выбором для задачи прогнозирования ухода клиентов. Однако, стоит учесть, что полнота (Recall) ниже, что может означать упущенные возможности в удержании некоторых клиентов."
   ]
  },
  {
   "cell_type": "markdown",
   "metadata": {},
   "source": [
    "### Вывод\n",
    "Целью работы было пстроить модель для предсказания оттока клиентов, что бы заказчик имел возможность удержать клиента с помощью промокодов и других предложений. \n",
    "\n",
    "- Привели названия столбцов к \"змеиному\" типу\n",
    "- Создали целевой признак столбец `status`, который указывает на то, ушел клиент или остался. Проанализируйте его распределение, чтобы понять, какой процент клиентов ушел и какой остался.\n",
    "- Избавились от пропусков, заменив их `Not_used`\n",
    "- Столбцы `begin_date` и `end_date` преобразовали в тип данных `atetime`\n",
    "- Столбец `total_charges` преобразовали в тип данных `float`\n",
    "- Создали признак contract_days- длительность контракта в днях\n",
    "- Построили тепловую карту и на ее основание из-за высокой корреляции (порог 0.8 взяли) мы удалили некоторых признаки (`internet_service`, `online_security`, `online_backup`, `device_protection` и `tech_support`,`streaming_tv`,`streaming_movies`,`total_charges` ) для упрощения модели и уменьшения мультиколлинеарности.\n",
    "- Была проведена визуализация дисбаланса классов, подтверждающая присутствие дисбаланса между активными и ушедшими клиентами.\n",
    "- Проведена предобработка данных, включая заполнение пропущенных значений, преобразование категориальных признаков в числовые с помощью OrdinalEncoder, а также стандартизация числовых признаков с использованием StandardScaler\n",
    "- Построены и обучены три модели: DecisionTreeClassifier, RandomForestClassifier и CatBoostClassifier. Для каждой модели выполнен подбор гиперпараметров через GridSearchCV с использованием метрики roc_au.\n",
    "- Выбрана лучшая модель на основе метрики roc_auc с наилучшими подобранными гиперпараметрами\n",
    "  -Лучшая модель: CatBoostClassifier\n",
    "Параметры:\n",
    "\n",
    "  - 'iterations': 200\n",
    "  - 'learning_rate': 0.2\n",
    "  - 'max_depth': 5\n",
    "  - Лучший ROC-AUC: 0.91\n",
    "- Проведена оценка лучшей модели на тестовой выборке. Рассчитаны значения метрик roc_auc и accuracy на тестовых данных.\n",
    " - ROC-AUC на тестовой выборке: 0.93\n",
    " - Accuracy на тестовой выборке: 0.93\n",
    "- Анализ важности признаков показал, что на уход клиента влиет длительность контракта и ежемесячные платежи\n",
    "- Модель достигает хорошей точности в определении положительных случаев, но при этом имеет ограниченную способность выявления всех положительных случаев,поскольку в данных присутствует дисбаланс классов\n"
   ]
  },
  {
   "cell_type": "markdown",
   "metadata": {},
   "source": [
    "### Отчет"
   ]
  },
  {
   "cell_type": "markdown",
   "metadata": {},
   "source": [
    "1. Ключевые шаги работы над проектом:\n",
    "- Загрузка и ознакомление с данными \n",
    "- Подготовка данных\n",
    "- Исследовательский анализ данных\n",
    "- Обучение моделей \n",
    "- Тестирование модели \n",
    "- Анализ и интерпретация важности признаков\n",
    "- Анализ и интерпретация матрицы ошибок\n",
    "\n",
    "2. Анализ соответствия фактической работы запланированным шагам\n",
    "\n",
    "- Загрузка и ознакомление с данными: Данный этап был успешно выполнен. Нам удалось получить исходные данные и ознакомиться с их структурой.\n",
    "\n",
    "- Подготовка данных: Были проведены работы по подготовке данных, включая обработку пропущенных значений, кодирование категориальных признаков, масштабирование числовых признаков и формирование окончательного списка признаков.\n",
    "\n",
    "- Исследовательский анализ данных (EDA): Этап EDA был проведен для изучения основных характеристик данных, выявления корреляций и визуализации ключевых зависимостей.\n",
    "\n",
    "- Обучение моделей: На этом этапе мы обучили несколько моделей, включая Decision Tree, Random Forest и CatBoost, используя кросс-валидацию для оценки их производительности.\n",
    "\n",
    "- Тестирование модели: Модели были протестированы на тестовой выборке.  В ходе тестирования, мы измерили ключевые метрики, включая ROC-AUC и Accuracy\n",
    "\n",
    "- Анализ и интерпретация важности признаков: Мы провели анализ важности признаков для лучшей модели (CatBoost) и интерпретировали результаты.\n",
    "\n",
    "- Анализ и интерпретация матрицы ошибок: Была построена и проанализирована матрица ошибок для оценки производительности модели\n",
    "\n",
    "Все этапы выполнены в соответствии с запланированными шагами проекта.\n",
    "\n",
    "3. Рефлексия над сложностями и описание путей их решения.\n",
    "\n",
    "Использование phik: При использовании библиотеки phik для расчета корреляции между переменными, возникли некоторые трудности в интерпретации результатов. Эта библиотека предоставляет информацию о нелинейных зависимостях между переменными, что может быть сложно интерпретировать сразу. Решение этой сложности потребовало более глубокого анализа результатов и выделения основных закономерностей.\n",
    "\n",
    "4. Краткое описание предобработки данных .\n",
    "- Все названия столбцов были преобразованы в формат \"змеиного\" типа, то есть слова разделяются нижним подчеркиванием вместо пробелов или других разделителей.\n",
    "- Таблицы были объединены в одну общую таблицу\n",
    "- Был выделен целевой признак `status`, который указывает на статус клиента (активный/ушедший).\n",
    "- В столбцах `internet_service`, `online_security`, `online_backup`, `device_protection`, `tech_support`, `streaming_tv`, `streaming_movies`, `multiple_lines` пропущенные значения были заполнены строкой `Not_used`. Это позволило избавиться от пропусков и обеспечить корректную обработку данных.\n",
    "- Столбцы `begin_date` и `end_date` были преобразованы в тип данных `datetime` для дальнейшего анализа дат. Также столбец `total_charges` был преобразован в тип данных `float` для работы с числовыми значениями.\n",
    "\n",
    "5. Итоговый список признаков.\n",
    "\n",
    "Целевой признак - `status`, который указывает на статус клиента активный/ушедший\n",
    "\n",
    "- `contract_days` - длительность контракта\n",
    "- `monthly_charges` - ежемесячные траты  \n",
    "- `type` - тип оплаты\n",
    "- `payment_method `- способ оплаты \n",
    "- `multiple_lines` - наличие нескольких линий связи\n",
    "- `partner` - наличие партнера\n",
    "- `paperless_billing` - безбумажное выставление счета \n",
    "- `dependents` - наличие иждивенцев \n",
    "- `senior_citizen` - наличие пенсионного статуса\n",
    "\n",
    "Преобразование категориальных признаков в числовые с помощью OrdinalEncoder.\n",
    "Стандартизация числовых признаков с использованием StandardScaler.\n",
    "\n",
    "6. Сводная таблица исследованных моделей и их метрика на кросс-валидации.\n",
    "|    Model     | ROC-AUC Score |\n",
    "|--------------|--------------|\n",
    "| Decision Tree|     0.78     |\n",
    "| Random Forest|     0.83     |\n",
    "|   CatBoost   |     0.91     |\n",
    "\n",
    "\n",
    "7. Лучшая модель - название, гиперпараметры, метрика на кросс-валидации.\n",
    "- Лучшая модель: CatBoostClassifier \n",
    "\n",
    " Параметры \n",
    "  - 'iterations': 200 \n",
    "  - 'learning_rate': 0.2\n",
    "  - 'max_depth': 5\n",
    "\n",
    "- Лучший ROC-AUC: 0.91\n",
    "\n",
    "8. Итоговая метрика на test (AUC-ROC и Accuracy).\n",
    "- ROC-AUC на тестовой выборке: 0.93\n",
    "- Accuracy на тестовой выборке: 0.93\n",
    "9. Матрица ошибок . \n",
    "\n",
    "- Precision (Точность): 0.90\n",
    "\n",
    "Precision измеряет, насколько модель точно идентифицирует ушедших клиентов. В данном случае, значение Precision равно 0.90, что означает, что 90% клиентов, которых модель классифицировала как ушедших, действительно ушли. Это важно для бизнеса, так как ошибка в определении уходящих клиентов может привести к потере дохода.\n",
    "\n",
    "- Recall (Полнота): 0.56\n",
    "\n",
    "Recall измеряет, сколько уходящих клиентов модель обнаружила относительно общего числа реальных уходящих клиентов. Значение Recall равно 0.56, что означает, что модель смогла обнаружить 56% всех уходящих клиентов. Это важно, чтобы минимизировать упущенные возможности удержания клиентов.\n",
    "\n",
    "- F1-Score: 0.69\n",
    "\n",
    "F1-Score - это сбалансированная метрика, которая учитывает как точность, так и полноту. Значение F1-Score равно 0.69, что показывает, что модель достигла хорошего баланса между точностью и полнотой предсказаний. Это важно для достижения оптимальных результатов в удержании клиентов.\n",
    "\n",
    "- Accuracy (Точность): 0.93\n",
    "\n",
    "Accuracy измеряет общую долю правильных предсказаний модели относительно общего числа предсказаний. Значение Accuracy равно 0.93, что означает, что модель правильно предсказала 93% всех случаев. Это высокая точность и может быть полезно в общей оценке производительности модели.\n",
    "\n",
    "True Positive (TP): 1482 - количество правильно предсказанных положительных случаев (уходящих клиентов).\n",
    "\n",
    "True Negative (TN): 16 - количество правильно предсказанных отрицательных случаев (неуходящих клиентов).\n",
    "\n",
    "False Positive (FP): 115 - количество неправильно предсказанных положительных случаев (ложное срабатывание).\n",
    "\n",
    "False Negative (FN): 148 - количество неправильно предсказанных отрицательных случаев (пропущенный случай).\n",
    "\n",
    "Итак, модель CatBoost продемонстрировала высокую точность (Accuracy) и хороший баланс между точностью и полнотой (F1-Score), что делает ее хорошим выбором для задачи прогнозирования ухода клиентов. Однако, стоит учесть, что полнота (Recall) ниже, что может означать упущенные возможности в удержании некоторых клиентов.\n",
    "\n",
    "10. Важность признаков\n",
    "\n",
    "|     Признак        |   Важность   |\n",
    "|---------------------|--------------|\n",
    "|   contract_days     |   61.97  |\n",
    "|   monthly_charges  |   12.55  |\n",
    "|   type              |   8.69   |\n",
    "|   payment_method    |   4.25  |\n",
    "|   multiple_lines    |   4.17  |\n",
    "|   partner           |   3.65   |\n",
    "|   paperless_billing |   1.94   |\n",
    "|   dependents        |   1.59   |\n",
    "|   senior_citizen    |   1.19   |\n",
    "\n",
    "`contract_days` (Длительность контракта) - этот признак является наиболее важным для модели. Это означает, что длительность контракта сильно влияет на прогнозы модели.\n",
    "\n",
    "`monthly_charges` (Ежемесячные платежи) - этот признак следующий по важности после длительности контракта. Ежемесячные платежи также оказывают существенное воздействие на прогнозы модели.\n",
    "\n",
    "Остальные признаки имеют гораздо более низкую важность, что  означает, что эти признаки практически не оказывают существенного влияния на прогнозы модели. Важность признаков - это полезный инструмент для определения, какие из них стоит учитывать при анализе данных и построении модели, а какие можно игнорировать. \n"
   ]
  }
 ],
 "metadata": {
  "ExecuteTimeLog": [
   {
    "duration": 1449,
    "start_time": "2023-08-29T07:54:18.330Z"
   },
   {
    "duration": 344,
    "start_time": "2023-08-29T07:58:55.729Z"
   },
   {
    "duration": 15,
    "start_time": "2023-08-29T08:07:32.504Z"
   },
   {
    "duration": 36,
    "start_time": "2023-08-29T08:09:45.397Z"
   },
   {
    "duration": 12,
    "start_time": "2023-08-29T08:10:24.997Z"
   },
   {
    "duration": 9,
    "start_time": "2023-08-29T08:10:25.512Z"
   },
   {
    "duration": 12,
    "start_time": "2023-08-29T08:10:26.005Z"
   },
   {
    "duration": 8,
    "start_time": "2023-08-29T08:10:26.761Z"
   },
   {
    "duration": 36,
    "start_time": "2023-08-29T08:10:31.409Z"
   },
   {
    "duration": 109,
    "start_time": "2023-08-29T08:14:08.180Z"
   },
   {
    "duration": 22,
    "start_time": "2023-08-29T08:14:23.310Z"
   },
   {
    "duration": 35,
    "start_time": "2023-08-29T08:14:31.589Z"
   },
   {
    "duration": 53,
    "start_time": "2023-08-29T08:14:40.594Z"
   },
   {
    "duration": 82,
    "start_time": "2023-08-29T08:14:47.918Z"
   },
   {
    "duration": 60,
    "start_time": "2023-08-29T08:14:54.564Z"
   },
   {
    "duration": 62,
    "start_time": "2023-08-29T08:15:53.887Z"
   },
   {
    "duration": 4,
    "start_time": "2023-08-29T08:39:51.527Z"
   },
   {
    "duration": 3,
    "start_time": "2023-08-29T08:54:10.127Z"
   },
   {
    "duration": 3,
    "start_time": "2023-08-29T08:54:21.065Z"
   },
   {
    "duration": 8,
    "start_time": "2023-08-29T08:56:58.627Z"
   },
   {
    "duration": 1175,
    "start_time": "2023-08-29T08:57:29.199Z"
   },
   {
    "duration": 97,
    "start_time": "2023-08-29T08:57:30.376Z"
   },
   {
    "duration": 16,
    "start_time": "2023-08-29T08:57:30.475Z"
   },
   {
    "duration": 51,
    "start_time": "2023-08-29T08:57:30.493Z"
   },
   {
    "duration": 41,
    "start_time": "2023-08-29T08:57:30.546Z"
   },
   {
    "duration": 37,
    "start_time": "2023-08-29T08:57:30.590Z"
   },
   {
    "duration": 135,
    "start_time": "2023-08-29T08:57:30.629Z"
   },
   {
    "duration": 5,
    "start_time": "2023-08-29T08:57:30.766Z"
   },
   {
    "duration": 41,
    "start_time": "2023-08-29T08:57:30.773Z"
   },
   {
    "duration": 131,
    "start_time": "2023-08-29T08:57:30.817Z"
   },
   {
    "duration": 6,
    "start_time": "2023-08-29T08:57:58.626Z"
   },
   {
    "duration": 1245,
    "start_time": "2023-08-29T08:58:13.483Z"
   },
   {
    "duration": 95,
    "start_time": "2023-08-29T08:58:14.730Z"
   },
   {
    "duration": 14,
    "start_time": "2023-08-29T08:58:14.827Z"
   },
   {
    "duration": 18,
    "start_time": "2023-08-29T08:58:14.843Z"
   },
   {
    "duration": 31,
    "start_time": "2023-08-29T08:58:14.863Z"
   },
   {
    "duration": 38,
    "start_time": "2023-08-29T08:58:14.896Z"
   },
   {
    "duration": 60,
    "start_time": "2023-08-29T08:58:14.935Z"
   },
   {
    "duration": 6,
    "start_time": "2023-08-29T08:58:14.996Z"
   },
   {
    "duration": 54,
    "start_time": "2023-08-29T08:58:15.004Z"
   },
   {
    "duration": 28,
    "start_time": "2023-08-29T08:58:15.060Z"
   },
   {
    "duration": 31,
    "start_time": "2023-08-29T09:05:14.848Z"
   },
   {
    "duration": 32,
    "start_time": "2023-08-29T09:07:13.545Z"
   },
   {
    "duration": 30,
    "start_time": "2023-08-29T09:07:29.894Z"
   },
   {
    "duration": 37,
    "start_time": "2023-08-29T09:09:21.016Z"
   },
   {
    "duration": 15,
    "start_time": "2023-08-29T09:11:01.542Z"
   },
   {
    "duration": 37,
    "start_time": "2023-08-29T09:13:43.764Z"
   },
   {
    "duration": 38,
    "start_time": "2023-08-29T09:14:49.192Z"
   },
   {
    "duration": 16,
    "start_time": "2023-08-29T09:14:50.517Z"
   },
   {
    "duration": 36,
    "start_time": "2023-08-29T09:16:46.010Z"
   },
   {
    "duration": 9,
    "start_time": "2023-08-29T09:23:21.411Z"
   },
   {
    "duration": 5,
    "start_time": "2023-08-29T09:28:55.063Z"
   },
   {
    "duration": 26,
    "start_time": "2023-08-29T09:29:04.738Z"
   },
   {
    "duration": 31,
    "start_time": "2023-08-29T09:29:14.505Z"
   },
   {
    "duration": 25,
    "start_time": "2023-08-29T09:36:27.881Z"
   },
   {
    "duration": 28,
    "start_time": "2023-08-29T09:36:39.823Z"
   },
   {
    "duration": 69,
    "start_time": "2023-08-29T10:01:23.428Z"
   },
   {
    "duration": 13,
    "start_time": "2023-08-29T10:01:57.412Z"
   },
   {
    "duration": 80,
    "start_time": "2023-08-29T10:02:24.160Z"
   },
   {
    "duration": 155,
    "start_time": "2023-08-29T10:03:51.686Z"
   },
   {
    "duration": 48,
    "start_time": "2023-08-29T10:06:39.443Z"
   },
   {
    "duration": 1131,
    "start_time": "2023-08-29T10:06:56.009Z"
   },
   {
    "duration": 94,
    "start_time": "2023-08-29T10:06:57.142Z"
   },
   {
    "duration": 15,
    "start_time": "2023-08-29T10:06:57.237Z"
   },
   {
    "duration": 11,
    "start_time": "2023-08-29T10:06:57.253Z"
   },
   {
    "duration": 19,
    "start_time": "2023-08-29T10:06:57.266Z"
   },
   {
    "duration": 11,
    "start_time": "2023-08-29T10:06:57.287Z"
   },
   {
    "duration": 106,
    "start_time": "2023-08-29T10:06:57.300Z"
   },
   {
    "duration": 5,
    "start_time": "2023-08-29T10:06:57.408Z"
   },
   {
    "duration": 8,
    "start_time": "2023-08-29T10:06:57.415Z"
   },
   {
    "duration": 28,
    "start_time": "2023-08-29T10:06:57.425Z"
   },
   {
    "duration": 53,
    "start_time": "2023-08-29T10:06:57.455Z"
   },
   {
    "duration": 37,
    "start_time": "2023-08-29T10:06:57.509Z"
   },
   {
    "duration": 44,
    "start_time": "2023-08-29T10:06:57.547Z"
   },
   {
    "duration": 25,
    "start_time": "2023-08-29T10:06:57.593Z"
   },
   {
    "duration": 12,
    "start_time": "2023-08-29T10:12:19.277Z"
   },
   {
    "duration": 9,
    "start_time": "2023-08-29T10:14:01.895Z"
   },
   {
    "duration": 7,
    "start_time": "2023-08-29T10:14:35.517Z"
   },
   {
    "duration": 14,
    "start_time": "2023-08-29T10:15:52.488Z"
   },
   {
    "duration": 15,
    "start_time": "2023-08-29T10:16:48.813Z"
   },
   {
    "duration": 109,
    "start_time": "2023-08-29T10:19:05.046Z"
   },
   {
    "duration": 16,
    "start_time": "2023-08-29T10:19:26.509Z"
   },
   {
    "duration": 8,
    "start_time": "2023-08-29T10:21:09.814Z"
   },
   {
    "duration": 4,
    "start_time": "2023-08-29T10:21:26.902Z"
   },
   {
    "duration": 8,
    "start_time": "2023-08-29T10:21:39.742Z"
   },
   {
    "duration": 1282,
    "start_time": "2023-08-29T10:22:11.760Z"
   },
   {
    "duration": 94,
    "start_time": "2023-08-29T10:22:13.044Z"
   },
   {
    "duration": 15,
    "start_time": "2023-08-29T10:22:13.140Z"
   },
   {
    "duration": 46,
    "start_time": "2023-08-29T10:22:13.157Z"
   },
   {
    "duration": 48,
    "start_time": "2023-08-29T10:22:13.205Z"
   },
   {
    "duration": 19,
    "start_time": "2023-08-29T10:22:13.254Z"
   },
   {
    "duration": 118,
    "start_time": "2023-08-29T10:22:13.276Z"
   },
   {
    "duration": 6,
    "start_time": "2023-08-29T10:22:13.396Z"
   },
   {
    "duration": 17,
    "start_time": "2023-08-29T10:22:13.404Z"
   },
   {
    "duration": 14,
    "start_time": "2023-08-29T10:22:13.424Z"
   },
   {
    "duration": 50,
    "start_time": "2023-08-29T10:22:13.439Z"
   },
   {
    "duration": 40,
    "start_time": "2023-08-29T10:22:13.491Z"
   },
   {
    "duration": 66,
    "start_time": "2023-08-29T10:22:13.533Z"
   },
   {
    "duration": 26,
    "start_time": "2023-08-29T10:22:13.600Z"
   },
   {
    "duration": 52,
    "start_time": "2023-08-29T10:22:13.628Z"
   },
   {
    "duration": 26,
    "start_time": "2023-08-29T10:22:13.682Z"
   },
   {
    "duration": 32,
    "start_time": "2023-08-29T10:22:13.710Z"
   },
   {
    "duration": 12,
    "start_time": "2023-08-29T10:23:03.968Z"
   },
   {
    "duration": 101,
    "start_time": "2023-08-29T10:26:17.712Z"
   },
   {
    "duration": 3,
    "start_time": "2023-08-29T10:26:32.309Z"
   },
   {
    "duration": 12,
    "start_time": "2023-08-29T10:26:41.006Z"
   },
   {
    "duration": 12,
    "start_time": "2023-08-29T10:27:13.160Z"
   },
   {
    "duration": 1094,
    "start_time": "2023-08-29T10:27:24.810Z"
   },
   {
    "duration": 96,
    "start_time": "2023-08-29T10:27:25.906Z"
   },
   {
    "duration": 16,
    "start_time": "2023-08-29T10:27:26.003Z"
   },
   {
    "duration": 24,
    "start_time": "2023-08-29T10:27:26.021Z"
   },
   {
    "duration": 24,
    "start_time": "2023-08-29T10:27:26.048Z"
   },
   {
    "duration": 24,
    "start_time": "2023-08-29T10:27:26.074Z"
   },
   {
    "duration": 117,
    "start_time": "2023-08-29T10:27:26.100Z"
   },
   {
    "duration": 5,
    "start_time": "2023-08-29T10:27:26.218Z"
   },
   {
    "duration": 13,
    "start_time": "2023-08-29T10:27:26.225Z"
   },
   {
    "duration": 20,
    "start_time": "2023-08-29T10:27:26.240Z"
   },
   {
    "duration": 75,
    "start_time": "2023-08-29T10:27:26.261Z"
   },
   {
    "duration": 36,
    "start_time": "2023-08-29T10:27:26.337Z"
   },
   {
    "duration": 45,
    "start_time": "2023-08-29T10:27:26.375Z"
   },
   {
    "duration": 46,
    "start_time": "2023-08-29T10:27:26.423Z"
   },
   {
    "duration": 386,
    "start_time": "2023-08-29T10:27:26.471Z"
   },
   {
    "duration": 0,
    "start_time": "2023-08-29T10:27:26.858Z"
   },
   {
    "duration": 0,
    "start_time": "2023-08-29T10:27:26.860Z"
   },
   {
    "duration": 0,
    "start_time": "2023-08-29T10:27:26.861Z"
   },
   {
    "duration": 0,
    "start_time": "2023-08-29T10:27:26.862Z"
   },
   {
    "duration": 26,
    "start_time": "2023-08-29T10:28:35.824Z"
   },
   {
    "duration": 13,
    "start_time": "2023-08-29T10:28:41.438Z"
   },
   {
    "duration": 13,
    "start_time": "2023-08-29T10:29:46.345Z"
   },
   {
    "duration": 148,
    "start_time": "2023-08-29T10:30:43.311Z"
   },
   {
    "duration": 106,
    "start_time": "2023-08-29T10:31:18.812Z"
   },
   {
    "duration": 90,
    "start_time": "2023-08-29T10:33:13.121Z"
   },
   {
    "duration": 86,
    "start_time": "2023-08-29T10:33:57.538Z"
   },
   {
    "duration": 85,
    "start_time": "2023-08-29T10:34:23.952Z"
   },
   {
    "duration": 88,
    "start_time": "2023-08-29T10:35:20.887Z"
   },
   {
    "duration": 85,
    "start_time": "2023-08-29T10:35:42.698Z"
   },
   {
    "duration": 97,
    "start_time": "2023-08-29T10:36:11.617Z"
   },
   {
    "duration": 113,
    "start_time": "2023-08-29T10:36:29.725Z"
   },
   {
    "duration": 195,
    "start_time": "2023-08-29T10:37:41.648Z"
   },
   {
    "duration": 111,
    "start_time": "2023-08-29T10:37:48.351Z"
   },
   {
    "duration": 98,
    "start_time": "2023-08-29T10:37:58.142Z"
   },
   {
    "duration": 106,
    "start_time": "2023-08-29T10:38:52.818Z"
   },
   {
    "duration": 98,
    "start_time": "2023-08-29T10:39:17.332Z"
   },
   {
    "duration": 121,
    "start_time": "2023-08-29T10:39:22.138Z"
   },
   {
    "duration": 1133,
    "start_time": "2023-08-29T10:39:45.201Z"
   },
   {
    "duration": 98,
    "start_time": "2023-08-29T10:39:46.336Z"
   },
   {
    "duration": 16,
    "start_time": "2023-08-29T10:39:46.436Z"
   },
   {
    "duration": 13,
    "start_time": "2023-08-29T10:39:46.454Z"
   },
   {
    "duration": 10,
    "start_time": "2023-08-29T10:39:46.469Z"
   },
   {
    "duration": 11,
    "start_time": "2023-08-29T10:39:46.481Z"
   },
   {
    "duration": 108,
    "start_time": "2023-08-29T10:39:46.493Z"
   },
   {
    "duration": 6,
    "start_time": "2023-08-29T10:39:46.603Z"
   },
   {
    "duration": 4,
    "start_time": "2023-08-29T10:39:46.611Z"
   },
   {
    "duration": 17,
    "start_time": "2023-08-29T10:39:46.618Z"
   },
   {
    "duration": 46,
    "start_time": "2023-08-29T10:39:46.636Z"
   },
   {
    "duration": 39,
    "start_time": "2023-08-29T10:39:46.684Z"
   },
   {
    "duration": 69,
    "start_time": "2023-08-29T10:39:46.725Z"
   },
   {
    "duration": 31,
    "start_time": "2023-08-29T10:39:46.796Z"
   },
   {
    "duration": 152,
    "start_time": "2023-08-29T10:39:46.829Z"
   },
   {
    "duration": 16,
    "start_time": "2023-08-29T10:39:46.983Z"
   },
   {
    "duration": 15,
    "start_time": "2023-08-29T10:39:47.001Z"
   },
   {
    "duration": 28,
    "start_time": "2023-08-29T10:39:47.018Z"
   },
   {
    "duration": 13,
    "start_time": "2023-08-29T10:39:47.048Z"
   },
   {
    "duration": 16,
    "start_time": "2023-08-29T10:42:00.013Z"
   },
   {
    "duration": 3042,
    "start_time": "2023-08-29T10:46:10.935Z"
   },
   {
    "duration": 9,
    "start_time": "2023-08-29T10:46:59.238Z"
   },
   {
    "duration": 35,
    "start_time": "2023-08-29T10:47:13.380Z"
   },
   {
    "duration": 6,
    "start_time": "2023-08-29T10:49:16.716Z"
   },
   {
    "duration": 5,
    "start_time": "2023-08-29T10:49:51.926Z"
   },
   {
    "duration": 1218,
    "start_time": "2023-08-29T10:50:13.686Z"
   },
   {
    "duration": 96,
    "start_time": "2023-08-29T10:50:14.907Z"
   },
   {
    "duration": 17,
    "start_time": "2023-08-29T10:50:15.006Z"
   },
   {
    "duration": 24,
    "start_time": "2023-08-29T10:50:15.025Z"
   },
   {
    "duration": 31,
    "start_time": "2023-08-29T10:50:15.051Z"
   },
   {
    "duration": 42,
    "start_time": "2023-08-29T10:50:15.084Z"
   },
   {
    "duration": 116,
    "start_time": "2023-08-29T10:50:15.128Z"
   },
   {
    "duration": 13,
    "start_time": "2023-08-29T10:50:15.246Z"
   },
   {
    "duration": 19,
    "start_time": "2023-08-29T10:50:15.261Z"
   },
   {
    "duration": 19,
    "start_time": "2023-08-29T10:50:15.282Z"
   },
   {
    "duration": 64,
    "start_time": "2023-08-29T10:50:15.303Z"
   },
   {
    "duration": 38,
    "start_time": "2023-08-29T10:50:15.368Z"
   },
   {
    "duration": 60,
    "start_time": "2023-08-29T10:50:15.408Z"
   },
   {
    "duration": 26,
    "start_time": "2023-08-29T10:50:15.470Z"
   },
   {
    "duration": 137,
    "start_time": "2023-08-29T10:50:15.497Z"
   },
   {
    "duration": 23,
    "start_time": "2023-08-29T10:50:15.635Z"
   },
   {
    "duration": 22,
    "start_time": "2023-08-29T10:50:15.659Z"
   },
   {
    "duration": 13,
    "start_time": "2023-08-29T10:50:15.683Z"
   },
   {
    "duration": 12,
    "start_time": "2023-08-29T10:50:15.699Z"
   },
   {
    "duration": 30,
    "start_time": "2023-08-29T10:50:15.713Z"
   },
   {
    "duration": 12,
    "start_time": "2023-08-29T10:50:15.745Z"
   },
   {
    "duration": 6,
    "start_time": "2023-08-29T10:50:15.759Z"
   },
   {
    "duration": 15,
    "start_time": "2023-08-29T10:50:15.767Z"
   },
   {
    "duration": 7,
    "start_time": "2023-08-29T10:52:39.247Z"
   },
   {
    "duration": 6,
    "start_time": "2023-08-29T10:52:39.926Z"
   },
   {
    "duration": 11,
    "start_time": "2023-08-29T10:53:39.068Z"
   },
   {
    "duration": 6,
    "start_time": "2023-08-29T10:53:39.764Z"
   },
   {
    "duration": 10,
    "start_time": "2023-08-29T10:54:05.988Z"
   },
   {
    "duration": 6,
    "start_time": "2023-08-29T10:54:06.487Z"
   },
   {
    "duration": 11,
    "start_time": "2023-08-29T10:56:07.514Z"
   },
   {
    "duration": 6,
    "start_time": "2023-08-29T10:56:08.333Z"
   },
   {
    "duration": 1153,
    "start_time": "2023-08-29T10:56:25.170Z"
   },
   {
    "duration": 93,
    "start_time": "2023-08-29T10:56:26.325Z"
   },
   {
    "duration": 15,
    "start_time": "2023-08-29T10:56:26.420Z"
   },
   {
    "duration": 44,
    "start_time": "2023-08-29T10:56:26.436Z"
   },
   {
    "duration": 17,
    "start_time": "2023-08-29T10:56:26.482Z"
   },
   {
    "duration": 10,
    "start_time": "2023-08-29T10:56:26.500Z"
   },
   {
    "duration": 103,
    "start_time": "2023-08-29T10:56:26.512Z"
   },
   {
    "duration": 6,
    "start_time": "2023-08-29T10:56:26.617Z"
   },
   {
    "duration": 12,
    "start_time": "2023-08-29T10:56:26.625Z"
   },
   {
    "duration": 27,
    "start_time": "2023-08-29T10:56:26.639Z"
   },
   {
    "duration": 33,
    "start_time": "2023-08-29T10:56:26.668Z"
   },
   {
    "duration": 39,
    "start_time": "2023-08-29T10:56:26.703Z"
   },
   {
    "duration": 57,
    "start_time": "2023-08-29T10:56:26.744Z"
   },
   {
    "duration": 52,
    "start_time": "2023-08-29T10:56:26.804Z"
   },
   {
    "duration": 142,
    "start_time": "2023-08-29T10:56:26.859Z"
   },
   {
    "duration": 15,
    "start_time": "2023-08-29T10:56:27.003Z"
   },
   {
    "duration": 15,
    "start_time": "2023-08-29T10:56:27.021Z"
   },
   {
    "duration": 24,
    "start_time": "2023-08-29T10:56:27.038Z"
   },
   {
    "duration": 27,
    "start_time": "2023-08-29T10:56:27.063Z"
   },
   {
    "duration": 48,
    "start_time": "2023-08-29T10:56:27.092Z"
   },
   {
    "duration": 26,
    "start_time": "2023-08-29T10:56:27.142Z"
   },
   {
    "duration": 20,
    "start_time": "2023-08-29T10:56:27.170Z"
   },
   {
    "duration": 8,
    "start_time": "2023-08-29T10:56:27.191Z"
   },
   {
    "duration": 9,
    "start_time": "2023-08-29T10:56:27.201Z"
   },
   {
    "duration": 7,
    "start_time": "2023-08-29T10:56:27.211Z"
   },
   {
    "duration": 6,
    "start_time": "2023-08-29T10:56:57.023Z"
   },
   {
    "duration": 109,
    "start_time": "2023-08-29T10:57:32.940Z"
   },
   {
    "duration": 23,
    "start_time": "2023-08-29T10:57:40.602Z"
   },
   {
    "duration": 15,
    "start_time": "2023-08-29T10:58:52.749Z"
   },
   {
    "duration": 5,
    "start_time": "2023-08-29T11:01:06.348Z"
   },
   {
    "duration": 10,
    "start_time": "2023-08-29T11:01:30.769Z"
   },
   {
    "duration": 93,
    "start_time": "2023-08-29T11:02:07.017Z"
   },
   {
    "duration": 5,
    "start_time": "2023-08-29T11:02:46.995Z"
   },
   {
    "duration": 8,
    "start_time": "2023-08-29T11:03:25.830Z"
   },
   {
    "duration": 9,
    "start_time": "2023-08-29T11:03:53.991Z"
   },
   {
    "duration": 9,
    "start_time": "2023-08-29T11:04:00.755Z"
   },
   {
    "duration": 25,
    "start_time": "2023-08-29T11:04:06.493Z"
   },
   {
    "duration": 11,
    "start_time": "2023-08-29T11:04:52.847Z"
   },
   {
    "duration": 5,
    "start_time": "2023-08-29T11:05:33.592Z"
   },
   {
    "duration": 1197,
    "start_time": "2023-08-29T11:15:11.524Z"
   },
   {
    "duration": 95,
    "start_time": "2023-08-29T11:15:12.723Z"
   },
   {
    "duration": 17,
    "start_time": "2023-08-29T11:15:12.820Z"
   },
   {
    "duration": 8,
    "start_time": "2023-08-29T11:15:12.839Z"
   },
   {
    "duration": 25,
    "start_time": "2023-08-29T11:15:12.849Z"
   },
   {
    "duration": 8,
    "start_time": "2023-08-29T11:15:12.876Z"
   },
   {
    "duration": 119,
    "start_time": "2023-08-29T11:15:12.886Z"
   },
   {
    "duration": 6,
    "start_time": "2023-08-29T11:15:13.007Z"
   },
   {
    "duration": 11,
    "start_time": "2023-08-29T11:15:13.014Z"
   },
   {
    "duration": 15,
    "start_time": "2023-08-29T11:15:13.026Z"
   },
   {
    "duration": 34,
    "start_time": "2023-08-29T11:15:13.056Z"
   },
   {
    "duration": 39,
    "start_time": "2023-08-29T11:15:13.092Z"
   },
   {
    "duration": 65,
    "start_time": "2023-08-29T11:15:13.133Z"
   },
   {
    "duration": 27,
    "start_time": "2023-08-29T11:15:13.201Z"
   },
   {
    "duration": 145,
    "start_time": "2023-08-29T11:15:13.230Z"
   },
   {
    "duration": 13,
    "start_time": "2023-08-29T11:15:13.376Z"
   },
   {
    "duration": 40,
    "start_time": "2023-08-29T11:15:13.391Z"
   },
   {
    "duration": 14,
    "start_time": "2023-08-29T11:15:13.433Z"
   },
   {
    "duration": 10,
    "start_time": "2023-08-29T11:15:13.449Z"
   },
   {
    "duration": 24,
    "start_time": "2023-08-29T11:15:13.461Z"
   },
   {
    "duration": 24,
    "start_time": "2023-08-29T11:15:13.487Z"
   },
   {
    "duration": 8,
    "start_time": "2023-08-29T11:15:13.513Z"
   },
   {
    "duration": 10,
    "start_time": "2023-08-29T11:15:13.523Z"
   },
   {
    "duration": 13,
    "start_time": "2023-08-29T11:15:13.534Z"
   },
   {
    "duration": 21,
    "start_time": "2023-08-29T11:15:13.549Z"
   },
   {
    "duration": 610,
    "start_time": "2023-08-29T11:24:41.519Z"
   },
   {
    "duration": 124,
    "start_time": "2023-08-29T11:25:27.274Z"
   },
   {
    "duration": 304,
    "start_time": "2023-08-29T11:25:34.489Z"
   },
   {
    "duration": 659,
    "start_time": "2023-08-29T11:25:42.427Z"
   },
   {
    "duration": 535,
    "start_time": "2023-08-29T11:25:52.314Z"
   },
   {
    "duration": 3,
    "start_time": "2023-08-29T11:27:30.350Z"
   },
   {
    "duration": 17,
    "start_time": "2023-08-29T11:27:41.929Z"
   },
   {
    "duration": 1179,
    "start_time": "2023-08-29T11:32:15.951Z"
   },
   {
    "duration": 96,
    "start_time": "2023-08-29T11:32:17.132Z"
   },
   {
    "duration": 16,
    "start_time": "2023-08-29T11:32:17.230Z"
   },
   {
    "duration": 9,
    "start_time": "2023-08-29T11:32:17.247Z"
   },
   {
    "duration": 37,
    "start_time": "2023-08-29T11:32:17.257Z"
   },
   {
    "duration": 42,
    "start_time": "2023-08-29T11:32:17.295Z"
   },
   {
    "duration": 123,
    "start_time": "2023-08-29T11:32:17.339Z"
   },
   {
    "duration": 6,
    "start_time": "2023-08-29T11:32:17.464Z"
   },
   {
    "duration": 12,
    "start_time": "2023-08-29T11:32:17.472Z"
   },
   {
    "duration": 22,
    "start_time": "2023-08-29T11:32:17.487Z"
   },
   {
    "duration": 50,
    "start_time": "2023-08-29T11:32:17.511Z"
   },
   {
    "duration": 41,
    "start_time": "2023-08-29T11:32:17.563Z"
   },
   {
    "duration": 72,
    "start_time": "2023-08-29T11:32:17.605Z"
   },
   {
    "duration": 26,
    "start_time": "2023-08-29T11:32:17.679Z"
   },
   {
    "duration": 134,
    "start_time": "2023-08-29T11:32:17.707Z"
   },
   {
    "duration": 22,
    "start_time": "2023-08-29T11:32:17.843Z"
   },
   {
    "duration": 14,
    "start_time": "2023-08-29T11:32:17.867Z"
   },
   {
    "duration": 14,
    "start_time": "2023-08-29T11:32:17.883Z"
   },
   {
    "duration": 10,
    "start_time": "2023-08-29T11:32:17.898Z"
   },
   {
    "duration": 40,
    "start_time": "2023-08-29T11:32:17.910Z"
   },
   {
    "duration": 9,
    "start_time": "2023-08-29T11:32:17.952Z"
   },
   {
    "duration": 34,
    "start_time": "2023-08-29T11:32:17.962Z"
   },
   {
    "duration": 23,
    "start_time": "2023-08-29T11:32:17.999Z"
   },
   {
    "duration": 14,
    "start_time": "2023-08-29T11:32:18.024Z"
   },
   {
    "duration": 20,
    "start_time": "2023-08-29T11:32:18.039Z"
   },
   {
    "duration": 17,
    "start_time": "2023-08-29T11:32:18.060Z"
   },
   {
    "duration": 1412,
    "start_time": "2023-08-30T18:17:53.038Z"
   },
   {
    "duration": 374,
    "start_time": "2023-08-30T18:17:54.453Z"
   },
   {
    "duration": 15,
    "start_time": "2023-08-30T18:17:54.829Z"
   },
   {
    "duration": 8,
    "start_time": "2023-08-30T18:17:54.846Z"
   },
   {
    "duration": 10,
    "start_time": "2023-08-30T18:17:54.856Z"
   },
   {
    "duration": 9,
    "start_time": "2023-08-30T18:17:54.868Z"
   },
   {
    "duration": 105,
    "start_time": "2023-08-30T18:17:54.878Z"
   },
   {
    "duration": 6,
    "start_time": "2023-08-30T18:17:54.984Z"
   },
   {
    "duration": 7,
    "start_time": "2023-08-30T18:17:54.991Z"
   },
   {
    "duration": 9,
    "start_time": "2023-08-30T18:17:55.001Z"
   },
   {
    "duration": 39,
    "start_time": "2023-08-30T18:17:55.012Z"
   },
   {
    "duration": 66,
    "start_time": "2023-08-30T18:17:55.053Z"
   },
   {
    "duration": 79,
    "start_time": "2023-08-30T18:17:55.121Z"
   },
   {
    "duration": 6,
    "start_time": "2023-08-30T18:17:55.202Z"
   },
   {
    "duration": 32,
    "start_time": "2023-08-30T18:17:55.210Z"
   },
   {
    "duration": 145,
    "start_time": "2023-08-30T18:17:55.244Z"
   },
   {
    "duration": 15,
    "start_time": "2023-08-30T18:17:55.391Z"
   },
   {
    "duration": 12,
    "start_time": "2023-08-30T18:17:55.408Z"
   },
   {
    "duration": 11,
    "start_time": "2023-08-30T18:17:55.421Z"
   },
   {
    "duration": 11,
    "start_time": "2023-08-30T18:17:55.434Z"
   },
   {
    "duration": 35,
    "start_time": "2023-08-30T18:17:55.447Z"
   },
   {
    "duration": 16,
    "start_time": "2023-08-30T18:17:55.484Z"
   },
   {
    "duration": 6,
    "start_time": "2023-08-30T18:17:55.502Z"
   },
   {
    "duration": 16,
    "start_time": "2023-08-30T18:17:55.510Z"
   },
   {
    "duration": 8,
    "start_time": "2023-08-30T18:17:55.527Z"
   },
   {
    "duration": 6,
    "start_time": "2023-08-30T18:17:55.537Z"
   },
   {
    "duration": 38,
    "start_time": "2023-08-30T18:17:55.545Z"
   },
   {
    "duration": 17,
    "start_time": "2023-08-30T18:17:55.586Z"
   },
   {
    "duration": 1221,
    "start_time": "2023-08-30T18:35:44.040Z"
   },
   {
    "duration": 104,
    "start_time": "2023-08-30T18:35:45.263Z"
   },
   {
    "duration": 17,
    "start_time": "2023-08-30T18:35:45.369Z"
   },
   {
    "duration": 9,
    "start_time": "2023-08-30T18:35:45.388Z"
   },
   {
    "duration": 13,
    "start_time": "2023-08-30T18:35:45.398Z"
   },
   {
    "duration": 22,
    "start_time": "2023-08-30T18:35:45.412Z"
   },
   {
    "duration": 128,
    "start_time": "2023-08-30T18:35:45.435Z"
   },
   {
    "duration": 99,
    "start_time": "2023-08-30T18:35:45.565Z"
   },
   {
    "duration": 0,
    "start_time": "2023-08-30T18:35:45.667Z"
   },
   {
    "duration": 0,
    "start_time": "2023-08-30T18:35:45.668Z"
   },
   {
    "duration": 0,
    "start_time": "2023-08-30T18:35:45.669Z"
   },
   {
    "duration": 0,
    "start_time": "2023-08-30T18:35:45.670Z"
   },
   {
    "duration": 0,
    "start_time": "2023-08-30T18:35:45.672Z"
   },
   {
    "duration": 0,
    "start_time": "2023-08-30T18:35:45.673Z"
   },
   {
    "duration": 0,
    "start_time": "2023-08-30T18:35:45.674Z"
   },
   {
    "duration": 0,
    "start_time": "2023-08-30T18:35:45.676Z"
   },
   {
    "duration": 0,
    "start_time": "2023-08-30T18:35:45.677Z"
   },
   {
    "duration": 0,
    "start_time": "2023-08-30T18:35:45.678Z"
   },
   {
    "duration": 0,
    "start_time": "2023-08-30T18:35:45.679Z"
   },
   {
    "duration": 0,
    "start_time": "2023-08-30T18:35:45.680Z"
   },
   {
    "duration": 0,
    "start_time": "2023-08-30T18:35:45.681Z"
   },
   {
    "duration": 0,
    "start_time": "2023-08-30T18:35:45.683Z"
   },
   {
    "duration": 0,
    "start_time": "2023-08-30T18:35:45.684Z"
   },
   {
    "duration": 0,
    "start_time": "2023-08-30T18:35:45.685Z"
   },
   {
    "duration": 0,
    "start_time": "2023-08-30T18:35:45.686Z"
   },
   {
    "duration": 0,
    "start_time": "2023-08-30T18:35:45.687Z"
   },
   {
    "duration": 0,
    "start_time": "2023-08-30T18:35:45.688Z"
   },
   {
    "duration": 0,
    "start_time": "2023-08-30T18:35:45.689Z"
   },
   {
    "duration": 0,
    "start_time": "2023-08-30T18:35:45.690Z"
   },
   {
    "duration": 0,
    "start_time": "2023-08-30T18:35:45.692Z"
   },
   {
    "duration": 99,
    "start_time": "2023-08-30T18:44:41.050Z"
   },
   {
    "duration": 1279,
    "start_time": "2023-08-30T18:44:49.165Z"
   },
   {
    "duration": 98,
    "start_time": "2023-08-30T18:44:50.446Z"
   },
   {
    "duration": 16,
    "start_time": "2023-08-30T18:44:50.545Z"
   },
   {
    "duration": 8,
    "start_time": "2023-08-30T18:44:50.563Z"
   },
   {
    "duration": 12,
    "start_time": "2023-08-30T18:44:50.573Z"
   },
   {
    "duration": 43,
    "start_time": "2023-08-30T18:44:50.587Z"
   },
   {
    "duration": 129,
    "start_time": "2023-08-30T18:44:50.632Z"
   },
   {
    "duration": 99,
    "start_time": "2023-08-30T18:44:50.762Z"
   },
   {
    "duration": 0,
    "start_time": "2023-08-30T18:44:50.863Z"
   },
   {
    "duration": 0,
    "start_time": "2023-08-30T18:44:50.864Z"
   },
   {
    "duration": 0,
    "start_time": "2023-08-30T18:44:50.865Z"
   },
   {
    "duration": 0,
    "start_time": "2023-08-30T18:44:50.866Z"
   },
   {
    "duration": 0,
    "start_time": "2023-08-30T18:44:50.868Z"
   },
   {
    "duration": 0,
    "start_time": "2023-08-30T18:44:50.869Z"
   },
   {
    "duration": 0,
    "start_time": "2023-08-30T18:44:50.870Z"
   },
   {
    "duration": 0,
    "start_time": "2023-08-30T18:44:50.871Z"
   },
   {
    "duration": 0,
    "start_time": "2023-08-30T18:44:50.872Z"
   },
   {
    "duration": 0,
    "start_time": "2023-08-30T18:44:50.873Z"
   },
   {
    "duration": 0,
    "start_time": "2023-08-30T18:44:50.874Z"
   },
   {
    "duration": 0,
    "start_time": "2023-08-30T18:44:50.876Z"
   },
   {
    "duration": 0,
    "start_time": "2023-08-30T18:44:50.877Z"
   },
   {
    "duration": 0,
    "start_time": "2023-08-30T18:44:50.878Z"
   },
   {
    "duration": 0,
    "start_time": "2023-08-30T18:44:50.879Z"
   },
   {
    "duration": 0,
    "start_time": "2023-08-30T18:44:50.880Z"
   },
   {
    "duration": 0,
    "start_time": "2023-08-30T18:44:50.882Z"
   },
   {
    "duration": 0,
    "start_time": "2023-08-30T18:44:50.883Z"
   },
   {
    "duration": 0,
    "start_time": "2023-08-30T18:44:50.884Z"
   },
   {
    "duration": 0,
    "start_time": "2023-08-30T18:44:50.886Z"
   },
   {
    "duration": 0,
    "start_time": "2023-08-30T18:44:50.887Z"
   },
   {
    "duration": 0,
    "start_time": "2023-08-30T18:44:50.888Z"
   },
   {
    "duration": 0,
    "start_time": "2023-08-30T18:44:50.889Z"
   },
   {
    "duration": 1255,
    "start_time": "2023-08-30T18:45:43.608Z"
   },
   {
    "duration": 99,
    "start_time": "2023-08-30T18:45:44.865Z"
   },
   {
    "duration": 15,
    "start_time": "2023-08-30T18:45:44.966Z"
   },
   {
    "duration": 8,
    "start_time": "2023-08-30T18:45:44.983Z"
   },
   {
    "duration": 13,
    "start_time": "2023-08-30T18:45:44.993Z"
   },
   {
    "duration": 25,
    "start_time": "2023-08-30T18:45:45.008Z"
   },
   {
    "duration": 134,
    "start_time": "2023-08-30T18:45:45.035Z"
   },
   {
    "duration": 11,
    "start_time": "2023-08-30T18:45:45.171Z"
   },
   {
    "duration": 8,
    "start_time": "2023-08-30T18:45:45.184Z"
   },
   {
    "duration": 24,
    "start_time": "2023-08-30T18:45:45.194Z"
   },
   {
    "duration": 17,
    "start_time": "2023-08-30T18:45:45.220Z"
   },
   {
    "duration": 49,
    "start_time": "2023-08-30T18:45:45.239Z"
   },
   {
    "duration": 40,
    "start_time": "2023-08-30T18:45:45.290Z"
   },
   {
    "duration": 77,
    "start_time": "2023-08-30T18:45:45.332Z"
   },
   {
    "duration": 2,
    "start_time": "2023-08-30T18:45:45.411Z"
   },
   {
    "duration": 9,
    "start_time": "2023-08-30T18:45:45.415Z"
   },
   {
    "duration": 26,
    "start_time": "2023-08-30T18:45:45.426Z"
   },
   {
    "duration": 158,
    "start_time": "2023-08-30T18:45:45.455Z"
   },
   {
    "duration": 15,
    "start_time": "2023-08-30T18:45:45.615Z"
   },
   {
    "duration": 9,
    "start_time": "2023-08-30T18:45:45.632Z"
   },
   {
    "duration": 11,
    "start_time": "2023-08-30T18:45:45.643Z"
   },
   {
    "duration": 32,
    "start_time": "2023-08-30T18:45:45.656Z"
   },
   {
    "duration": 12,
    "start_time": "2023-08-30T18:45:45.689Z"
   },
   {
    "duration": 16,
    "start_time": "2023-08-30T18:45:45.703Z"
   },
   {
    "duration": 10,
    "start_time": "2023-08-30T18:45:45.721Z"
   },
   {
    "duration": 6,
    "start_time": "2023-08-30T18:45:45.733Z"
   },
   {
    "duration": 7,
    "start_time": "2023-08-30T18:45:45.781Z"
   },
   {
    "duration": 21,
    "start_time": "2023-08-30T18:45:45.791Z"
   },
   {
    "duration": 12,
    "start_time": "2023-08-30T18:45:45.814Z"
   },
   {
    "duration": 19,
    "start_time": "2023-08-30T18:45:45.828Z"
   },
   {
    "duration": 5,
    "start_time": "2023-08-30T18:45:45.849Z"
   },
   {
    "duration": 10,
    "start_time": "2023-08-30T18:45:45.882Z"
   },
   {
    "duration": 5,
    "start_time": "2023-08-30T18:48:12.826Z"
   },
   {
    "duration": 5,
    "start_time": "2023-08-30T18:48:13.219Z"
   },
   {
    "duration": 25,
    "start_time": "2023-08-30T18:48:37.205Z"
   },
   {
    "duration": 114,
    "start_time": "2023-08-30T18:53:01.329Z"
   },
   {
    "duration": 6,
    "start_time": "2023-08-30T18:53:10.488Z"
   },
   {
    "duration": 114,
    "start_time": "2023-08-30T18:58:13.426Z"
   },
   {
    "duration": 10,
    "start_time": "2023-08-30T18:58:32.511Z"
   },
   {
    "duration": 3638,
    "start_time": "2023-08-30T18:59:45.482Z"
   },
   {
    "duration": 64,
    "start_time": "2023-08-30T18:59:52.639Z"
   },
   {
    "duration": 2606,
    "start_time": "2023-08-30T19:00:18.866Z"
   },
   {
    "duration": 15,
    "start_time": "2023-08-30T19:00:23.256Z"
   },
   {
    "duration": 2351,
    "start_time": "2023-08-30T19:00:53.440Z"
   },
   {
    "duration": 2698,
    "start_time": "2023-08-30T19:00:55.794Z"
   },
   {
    "duration": 1354,
    "start_time": "2023-08-30T19:00:58.493Z"
   },
   {
    "duration": 0,
    "start_time": "2023-08-30T19:00:59.850Z"
   },
   {
    "duration": 0,
    "start_time": "2023-08-30T19:00:59.851Z"
   },
   {
    "duration": 0,
    "start_time": "2023-08-30T19:00:59.852Z"
   },
   {
    "duration": 0,
    "start_time": "2023-08-30T19:00:59.853Z"
   },
   {
    "duration": 0,
    "start_time": "2023-08-30T19:00:59.854Z"
   },
   {
    "duration": 0,
    "start_time": "2023-08-30T19:00:59.855Z"
   },
   {
    "duration": 0,
    "start_time": "2023-08-30T19:00:59.857Z"
   },
   {
    "duration": 0,
    "start_time": "2023-08-30T19:00:59.858Z"
   },
   {
    "duration": 0,
    "start_time": "2023-08-30T19:00:59.859Z"
   },
   {
    "duration": 0,
    "start_time": "2023-08-30T19:00:59.860Z"
   },
   {
    "duration": 0,
    "start_time": "2023-08-30T19:00:59.861Z"
   },
   {
    "duration": 0,
    "start_time": "2023-08-30T19:00:59.881Z"
   },
   {
    "duration": 0,
    "start_time": "2023-08-30T19:00:59.883Z"
   },
   {
    "duration": 0,
    "start_time": "2023-08-30T19:00:59.885Z"
   },
   {
    "duration": 0,
    "start_time": "2023-08-30T19:00:59.886Z"
   },
   {
    "duration": 0,
    "start_time": "2023-08-30T19:00:59.887Z"
   },
   {
    "duration": 0,
    "start_time": "2023-08-30T19:00:59.888Z"
   },
   {
    "duration": 0,
    "start_time": "2023-08-30T19:00:59.890Z"
   },
   {
    "duration": 0,
    "start_time": "2023-08-30T19:00:59.891Z"
   },
   {
    "duration": 0,
    "start_time": "2023-08-30T19:00:59.892Z"
   },
   {
    "duration": 0,
    "start_time": "2023-08-30T19:00:59.893Z"
   },
   {
    "duration": 0,
    "start_time": "2023-08-30T19:00:59.894Z"
   },
   {
    "duration": 0,
    "start_time": "2023-08-30T19:00:59.896Z"
   },
   {
    "duration": 0,
    "start_time": "2023-08-30T19:00:59.897Z"
   },
   {
    "duration": 0,
    "start_time": "2023-08-30T19:00:59.898Z"
   },
   {
    "duration": 0,
    "start_time": "2023-08-30T19:00:59.899Z"
   },
   {
    "duration": 0,
    "start_time": "2023-08-30T19:00:59.901Z"
   },
   {
    "duration": 0,
    "start_time": "2023-08-30T19:00:59.902Z"
   },
   {
    "duration": 0,
    "start_time": "2023-08-30T19:00:59.903Z"
   },
   {
    "duration": 0,
    "start_time": "2023-08-30T19:00:59.905Z"
   },
   {
    "duration": 0,
    "start_time": "2023-08-30T19:00:59.906Z"
   },
   {
    "duration": 0,
    "start_time": "2023-08-30T19:00:59.908Z"
   },
   {
    "duration": 0,
    "start_time": "2023-08-30T19:00:59.909Z"
   },
   {
    "duration": 2462,
    "start_time": "2023-08-30T19:02:01.412Z"
   },
   {
    "duration": 14,
    "start_time": "2023-08-30T19:02:16.527Z"
   },
   {
    "duration": 3,
    "start_time": "2023-08-30T19:02:27.511Z"
   },
   {
    "duration": 1240,
    "start_time": "2023-08-30T19:02:39.324Z"
   },
   {
    "duration": 98,
    "start_time": "2023-08-30T19:02:40.566Z"
   },
   {
    "duration": 15,
    "start_time": "2023-08-30T19:02:40.665Z"
   },
   {
    "duration": 8,
    "start_time": "2023-08-30T19:02:40.682Z"
   },
   {
    "duration": 13,
    "start_time": "2023-08-30T19:02:40.692Z"
   },
   {
    "duration": 12,
    "start_time": "2023-08-30T19:02:40.706Z"
   },
   {
    "duration": 131,
    "start_time": "2023-08-30T19:02:40.720Z"
   },
   {
    "duration": 3,
    "start_time": "2023-08-30T19:02:40.853Z"
   },
   {
    "duration": 23,
    "start_time": "2023-08-30T19:02:40.857Z"
   },
   {
    "duration": 22,
    "start_time": "2023-08-30T19:02:40.882Z"
   },
   {
    "duration": 24,
    "start_time": "2023-08-30T19:02:40.906Z"
   },
   {
    "duration": 38,
    "start_time": "2023-08-30T19:02:40.932Z"
   },
   {
    "duration": 39,
    "start_time": "2023-08-30T19:02:40.971Z"
   },
   {
    "duration": 49,
    "start_time": "2023-08-30T19:02:41.013Z"
   },
   {
    "duration": 3,
    "start_time": "2023-08-30T19:02:41.064Z"
   },
   {
    "duration": 10,
    "start_time": "2023-08-30T19:02:41.080Z"
   },
   {
    "duration": 31,
    "start_time": "2023-08-30T19:02:41.092Z"
   },
   {
    "duration": 137,
    "start_time": "2023-08-30T19:02:41.125Z"
   },
   {
    "duration": 24,
    "start_time": "2023-08-30T19:02:41.264Z"
   },
   {
    "duration": 5,
    "start_time": "2023-08-30T19:02:41.290Z"
   },
   {
    "duration": 10,
    "start_time": "2023-08-30T19:02:41.297Z"
   },
   {
    "duration": 10,
    "start_time": "2023-08-30T19:02:41.309Z"
   },
   {
    "duration": 13,
    "start_time": "2023-08-30T19:02:41.321Z"
   },
   {
    "duration": 56,
    "start_time": "2023-08-30T19:02:41.336Z"
   },
   {
    "duration": 21,
    "start_time": "2023-08-30T19:02:41.394Z"
   },
   {
    "duration": 7,
    "start_time": "2023-08-30T19:02:41.417Z"
   },
   {
    "duration": 7,
    "start_time": "2023-08-30T19:02:41.426Z"
   },
   {
    "duration": 5,
    "start_time": "2023-08-30T19:02:41.434Z"
   },
   {
    "duration": 8,
    "start_time": "2023-08-30T19:02:41.440Z"
   },
   {
    "duration": 15,
    "start_time": "2023-08-30T19:02:41.449Z"
   },
   {
    "duration": 5,
    "start_time": "2023-08-30T19:02:41.481Z"
   },
   {
    "duration": 12,
    "start_time": "2023-08-30T19:02:41.488Z"
   },
   {
    "duration": 33,
    "start_time": "2023-08-30T19:02:41.502Z"
   },
   {
    "duration": 2079,
    "start_time": "2023-08-30T19:02:41.537Z"
   },
   {
    "duration": 378,
    "start_time": "2023-08-30T19:06:30.613Z"
   },
   {
    "duration": 395,
    "start_time": "2023-08-30T19:06:40.947Z"
   },
   {
    "duration": 545,
    "start_time": "2023-08-30T19:08:02.376Z"
   },
   {
    "duration": 34,
    "start_time": "2023-08-30T19:08:49.163Z"
   },
   {
    "duration": 488,
    "start_time": "2023-08-30T19:12:54.159Z"
   },
   {
    "duration": 14,
    "start_time": "2023-08-30T19:13:25.846Z"
   },
   {
    "duration": 12,
    "start_time": "2023-08-30T19:13:57.085Z"
   },
   {
    "duration": 11,
    "start_time": "2023-08-30T19:15:09.518Z"
   },
   {
    "duration": 27505,
    "start_time": "2023-08-30T19:16:35.188Z"
   },
   {
    "duration": 480,
    "start_time": "2023-08-30T19:19:27.685Z"
   },
   {
    "duration": 43,
    "start_time": "2023-08-30T19:20:28.341Z"
   },
   {
    "duration": 16,
    "start_time": "2023-08-30T19:22:48.024Z"
   },
   {
    "duration": 27689,
    "start_time": "2023-08-30T19:23:00.315Z"
   },
   {
    "duration": 27070,
    "start_time": "2023-08-30T19:28:12.769Z"
   },
   {
    "duration": 26858,
    "start_time": "2023-08-30T19:31:43.836Z"
   },
   {
    "duration": 23427,
    "start_time": "2023-08-30T19:33:13.900Z"
   },
   {
    "duration": 23347,
    "start_time": "2023-08-30T19:36:27.852Z"
   },
   {
    "duration": 14,
    "start_time": "2023-08-30T19:39:26.424Z"
   },
   {
    "duration": 26777,
    "start_time": "2023-08-30T19:39:37.661Z"
   },
   {
    "duration": 5461,
    "start_time": "2023-08-30T19:50:16.429Z"
   },
   {
    "duration": 4044,
    "start_time": "2023-08-30T20:01:06.655Z"
   },
   {
    "duration": 4315,
    "start_time": "2023-08-30T20:02:42.556Z"
   },
   {
    "duration": 38,
    "start_time": "2023-08-30T20:05:26.632Z"
   },
   {
    "duration": 39,
    "start_time": "2023-08-30T20:06:15.263Z"
   },
   {
    "duration": 38,
    "start_time": "2023-08-30T20:07:07.393Z"
   },
   {
    "duration": 24260,
    "start_time": "2023-08-30T20:09:16.867Z"
   },
   {
    "duration": 10,
    "start_time": "2023-08-30T20:09:57.332Z"
   },
   {
    "duration": 3938,
    "start_time": "2023-08-30T20:16:29.444Z"
   },
   {
    "duration": 6,
    "start_time": "2023-08-30T20:42:40.083Z"
   },
   {
    "duration": 14,
    "start_time": "2023-08-30T20:43:28.203Z"
   },
   {
    "duration": 7,
    "start_time": "2023-08-30T20:43:56.366Z"
   },
   {
    "duration": 6,
    "start_time": "2023-08-30T20:44:08.274Z"
   },
   {
    "duration": 15,
    "start_time": "2023-08-30T20:45:09.341Z"
   },
   {
    "duration": 1539,
    "start_time": "2023-08-31T09:39:40.926Z"
   },
   {
    "duration": 0,
    "start_time": "2023-08-31T09:39:42.468Z"
   },
   {
    "duration": 0,
    "start_time": "2023-08-31T09:39:42.472Z"
   },
   {
    "duration": 0,
    "start_time": "2023-08-31T09:39:42.473Z"
   },
   {
    "duration": 0,
    "start_time": "2023-08-31T09:39:42.474Z"
   },
   {
    "duration": 0,
    "start_time": "2023-08-31T09:39:42.476Z"
   },
   {
    "duration": 0,
    "start_time": "2023-08-31T09:39:42.478Z"
   },
   {
    "duration": 0,
    "start_time": "2023-08-31T09:39:42.479Z"
   },
   {
    "duration": 0,
    "start_time": "2023-08-31T09:39:42.481Z"
   },
   {
    "duration": 0,
    "start_time": "2023-08-31T09:39:42.482Z"
   },
   {
    "duration": 0,
    "start_time": "2023-08-31T09:39:42.483Z"
   },
   {
    "duration": 0,
    "start_time": "2023-08-31T09:39:42.485Z"
   },
   {
    "duration": 0,
    "start_time": "2023-08-31T09:39:42.486Z"
   },
   {
    "duration": 0,
    "start_time": "2023-08-31T09:39:42.487Z"
   },
   {
    "duration": 0,
    "start_time": "2023-08-31T09:39:42.489Z"
   },
   {
    "duration": 0,
    "start_time": "2023-08-31T09:39:42.490Z"
   },
   {
    "duration": 0,
    "start_time": "2023-08-31T09:39:42.491Z"
   },
   {
    "duration": 0,
    "start_time": "2023-08-31T09:39:42.493Z"
   },
   {
    "duration": 0,
    "start_time": "2023-08-31T09:39:42.494Z"
   },
   {
    "duration": 0,
    "start_time": "2023-08-31T09:39:42.495Z"
   },
   {
    "duration": 0,
    "start_time": "2023-08-31T09:39:42.496Z"
   },
   {
    "duration": 0,
    "start_time": "2023-08-31T09:39:42.497Z"
   },
   {
    "duration": 0,
    "start_time": "2023-08-31T09:39:42.499Z"
   },
   {
    "duration": 0,
    "start_time": "2023-08-31T09:39:42.500Z"
   },
   {
    "duration": 0,
    "start_time": "2023-08-31T09:39:42.557Z"
   },
   {
    "duration": 0,
    "start_time": "2023-08-31T09:39:42.558Z"
   },
   {
    "duration": 0,
    "start_time": "2023-08-31T09:39:42.559Z"
   },
   {
    "duration": 0,
    "start_time": "2023-08-31T09:39:42.562Z"
   },
   {
    "duration": 0,
    "start_time": "2023-08-31T09:39:42.564Z"
   },
   {
    "duration": 0,
    "start_time": "2023-08-31T09:39:42.566Z"
   },
   {
    "duration": 0,
    "start_time": "2023-08-31T09:39:42.568Z"
   },
   {
    "duration": 0,
    "start_time": "2023-08-31T09:39:42.570Z"
   },
   {
    "duration": 1,
    "start_time": "2023-08-31T09:39:42.571Z"
   },
   {
    "duration": 0,
    "start_time": "2023-08-31T09:39:42.574Z"
   },
   {
    "duration": 0,
    "start_time": "2023-08-31T09:39:42.576Z"
   },
   {
    "duration": 0,
    "start_time": "2023-08-31T09:39:42.578Z"
   },
   {
    "duration": 0,
    "start_time": "2023-08-31T09:39:42.580Z"
   },
   {
    "duration": 0,
    "start_time": "2023-08-31T09:39:42.582Z"
   },
   {
    "duration": 3031,
    "start_time": "2023-08-31T09:58:34.829Z"
   },
   {
    "duration": 1327,
    "start_time": "2023-08-31T09:58:37.862Z"
   },
   {
    "duration": 0,
    "start_time": "2023-08-31T09:58:39.192Z"
   },
   {
    "duration": 0,
    "start_time": "2023-08-31T09:58:39.193Z"
   },
   {
    "duration": 0,
    "start_time": "2023-08-31T09:58:39.194Z"
   },
   {
    "duration": 0,
    "start_time": "2023-08-31T09:58:39.195Z"
   },
   {
    "duration": 0,
    "start_time": "2023-08-31T09:58:39.196Z"
   },
   {
    "duration": 0,
    "start_time": "2023-08-31T09:58:39.198Z"
   },
   {
    "duration": 0,
    "start_time": "2023-08-31T09:58:39.199Z"
   },
   {
    "duration": 0,
    "start_time": "2023-08-31T09:58:39.200Z"
   },
   {
    "duration": 0,
    "start_time": "2023-08-31T09:58:39.201Z"
   },
   {
    "duration": 0,
    "start_time": "2023-08-31T09:58:39.202Z"
   },
   {
    "duration": 0,
    "start_time": "2023-08-31T09:58:39.203Z"
   },
   {
    "duration": 0,
    "start_time": "2023-08-31T09:58:39.204Z"
   },
   {
    "duration": 0,
    "start_time": "2023-08-31T09:58:39.205Z"
   },
   {
    "duration": 0,
    "start_time": "2023-08-31T09:58:39.206Z"
   },
   {
    "duration": 0,
    "start_time": "2023-08-31T09:58:39.207Z"
   },
   {
    "duration": 0,
    "start_time": "2023-08-31T09:58:39.209Z"
   },
   {
    "duration": 0,
    "start_time": "2023-08-31T09:58:39.210Z"
   },
   {
    "duration": 0,
    "start_time": "2023-08-31T09:58:39.212Z"
   },
   {
    "duration": 0,
    "start_time": "2023-08-31T09:58:39.213Z"
   },
   {
    "duration": 0,
    "start_time": "2023-08-31T09:58:39.215Z"
   },
   {
    "duration": 0,
    "start_time": "2023-08-31T09:58:39.256Z"
   },
   {
    "duration": 0,
    "start_time": "2023-08-31T09:58:39.257Z"
   },
   {
    "duration": 0,
    "start_time": "2023-08-31T09:58:39.259Z"
   },
   {
    "duration": 0,
    "start_time": "2023-08-31T09:58:39.261Z"
   },
   {
    "duration": 0,
    "start_time": "2023-08-31T09:58:39.261Z"
   },
   {
    "duration": 0,
    "start_time": "2023-08-31T09:58:39.263Z"
   },
   {
    "duration": 0,
    "start_time": "2023-08-31T09:58:39.264Z"
   },
   {
    "duration": 0,
    "start_time": "2023-08-31T09:58:39.266Z"
   },
   {
    "duration": 0,
    "start_time": "2023-08-31T09:58:39.267Z"
   },
   {
    "duration": 0,
    "start_time": "2023-08-31T09:58:39.269Z"
   },
   {
    "duration": 0,
    "start_time": "2023-08-31T09:58:39.270Z"
   },
   {
    "duration": 0,
    "start_time": "2023-08-31T09:58:39.272Z"
   },
   {
    "duration": 0,
    "start_time": "2023-08-31T09:58:39.273Z"
   },
   {
    "duration": 0,
    "start_time": "2023-08-31T09:58:39.275Z"
   },
   {
    "duration": 0,
    "start_time": "2023-08-31T09:58:39.276Z"
   },
   {
    "duration": 0,
    "start_time": "2023-08-31T09:58:39.278Z"
   },
   {
    "duration": 0,
    "start_time": "2023-08-31T09:58:39.279Z"
   },
   {
    "duration": 163,
    "start_time": "2023-08-31T10:01:15.442Z"
   },
   {
    "duration": 0,
    "start_time": "2023-08-31T10:01:15.608Z"
   },
   {
    "duration": 0,
    "start_time": "2023-08-31T10:01:15.610Z"
   },
   {
    "duration": 0,
    "start_time": "2023-08-31T10:01:15.611Z"
   },
   {
    "duration": 0,
    "start_time": "2023-08-31T10:01:15.613Z"
   },
   {
    "duration": 0,
    "start_time": "2023-08-31T10:01:15.614Z"
   },
   {
    "duration": 0,
    "start_time": "2023-08-31T10:01:15.615Z"
   },
   {
    "duration": 0,
    "start_time": "2023-08-31T10:01:15.617Z"
   },
   {
    "duration": 0,
    "start_time": "2023-08-31T10:01:15.618Z"
   },
   {
    "duration": 0,
    "start_time": "2023-08-31T10:01:15.619Z"
   },
   {
    "duration": 0,
    "start_time": "2023-08-31T10:01:15.621Z"
   },
   {
    "duration": 0,
    "start_time": "2023-08-31T10:01:15.622Z"
   },
   {
    "duration": 0,
    "start_time": "2023-08-31T10:01:15.623Z"
   },
   {
    "duration": 0,
    "start_time": "2023-08-31T10:01:15.625Z"
   },
   {
    "duration": 0,
    "start_time": "2023-08-31T10:01:15.626Z"
   },
   {
    "duration": 0,
    "start_time": "2023-08-31T10:01:15.628Z"
   },
   {
    "duration": 0,
    "start_time": "2023-08-31T10:01:15.629Z"
   },
   {
    "duration": 0,
    "start_time": "2023-08-31T10:01:15.630Z"
   },
   {
    "duration": 0,
    "start_time": "2023-08-31T10:01:15.631Z"
   },
   {
    "duration": 0,
    "start_time": "2023-08-31T10:01:15.633Z"
   },
   {
    "duration": 0,
    "start_time": "2023-08-31T10:01:15.634Z"
   },
   {
    "duration": 0,
    "start_time": "2023-08-31T10:01:15.635Z"
   },
   {
    "duration": 0,
    "start_time": "2023-08-31T10:01:15.637Z"
   },
   {
    "duration": 0,
    "start_time": "2023-08-31T10:01:15.638Z"
   },
   {
    "duration": 0,
    "start_time": "2023-08-31T10:01:15.640Z"
   },
   {
    "duration": 0,
    "start_time": "2023-08-31T10:01:15.641Z"
   },
   {
    "duration": 0,
    "start_time": "2023-08-31T10:01:15.643Z"
   },
   {
    "duration": 0,
    "start_time": "2023-08-31T10:01:15.644Z"
   },
   {
    "duration": 0,
    "start_time": "2023-08-31T10:01:15.657Z"
   },
   {
    "duration": 0,
    "start_time": "2023-08-31T10:01:15.658Z"
   },
   {
    "duration": 0,
    "start_time": "2023-08-31T10:01:15.660Z"
   },
   {
    "duration": 0,
    "start_time": "2023-08-31T10:01:15.662Z"
   },
   {
    "duration": 0,
    "start_time": "2023-08-31T10:01:15.663Z"
   },
   {
    "duration": 0,
    "start_time": "2023-08-31T10:01:15.664Z"
   },
   {
    "duration": 0,
    "start_time": "2023-08-31T10:01:15.666Z"
   },
   {
    "duration": 0,
    "start_time": "2023-08-31T10:01:15.667Z"
   },
   {
    "duration": 0,
    "start_time": "2023-08-31T10:01:15.668Z"
   },
   {
    "duration": 0,
    "start_time": "2023-08-31T10:01:15.670Z"
   },
   {
    "duration": 2031,
    "start_time": "2023-08-31T10:44:44.476Z"
   },
   {
    "duration": 110,
    "start_time": "2023-08-31T10:44:46.509Z"
   },
   {
    "duration": 0,
    "start_time": "2023-08-31T10:44:46.622Z"
   },
   {
    "duration": 0,
    "start_time": "2023-08-31T10:44:46.622Z"
   },
   {
    "duration": 0,
    "start_time": "2023-08-31T10:44:46.623Z"
   },
   {
    "duration": 0,
    "start_time": "2023-08-31T10:44:46.624Z"
   },
   {
    "duration": 0,
    "start_time": "2023-08-31T10:44:46.625Z"
   },
   {
    "duration": 0,
    "start_time": "2023-08-31T10:44:46.626Z"
   },
   {
    "duration": 0,
    "start_time": "2023-08-31T10:44:46.627Z"
   },
   {
    "duration": 0,
    "start_time": "2023-08-31T10:44:46.628Z"
   },
   {
    "duration": 0,
    "start_time": "2023-08-31T10:44:46.629Z"
   },
   {
    "duration": 0,
    "start_time": "2023-08-31T10:44:46.630Z"
   },
   {
    "duration": 0,
    "start_time": "2023-08-31T10:44:46.631Z"
   },
   {
    "duration": 0,
    "start_time": "2023-08-31T10:44:46.632Z"
   },
   {
    "duration": 0,
    "start_time": "2023-08-31T10:44:46.633Z"
   },
   {
    "duration": 0,
    "start_time": "2023-08-31T10:44:46.634Z"
   },
   {
    "duration": 0,
    "start_time": "2023-08-31T10:44:46.635Z"
   },
   {
    "duration": 0,
    "start_time": "2023-08-31T10:44:46.636Z"
   },
   {
    "duration": 0,
    "start_time": "2023-08-31T10:44:46.637Z"
   },
   {
    "duration": 0,
    "start_time": "2023-08-31T10:44:46.638Z"
   },
   {
    "duration": 0,
    "start_time": "2023-08-31T10:44:46.639Z"
   },
   {
    "duration": 0,
    "start_time": "2023-08-31T10:44:46.640Z"
   },
   {
    "duration": 0,
    "start_time": "2023-08-31T10:44:46.641Z"
   },
   {
    "duration": 0,
    "start_time": "2023-08-31T10:44:46.642Z"
   },
   {
    "duration": 0,
    "start_time": "2023-08-31T10:44:46.643Z"
   },
   {
    "duration": 0,
    "start_time": "2023-08-31T10:44:46.644Z"
   },
   {
    "duration": 0,
    "start_time": "2023-08-31T10:44:46.645Z"
   },
   {
    "duration": 0,
    "start_time": "2023-08-31T10:44:46.646Z"
   },
   {
    "duration": 0,
    "start_time": "2023-08-31T10:44:46.647Z"
   },
   {
    "duration": 0,
    "start_time": "2023-08-31T10:44:46.648Z"
   },
   {
    "duration": 0,
    "start_time": "2023-08-31T10:44:46.649Z"
   },
   {
    "duration": 0,
    "start_time": "2023-08-31T10:44:46.650Z"
   },
   {
    "duration": 0,
    "start_time": "2023-08-31T10:44:46.651Z"
   },
   {
    "duration": 0,
    "start_time": "2023-08-31T10:44:46.651Z"
   },
   {
    "duration": 0,
    "start_time": "2023-08-31T10:44:46.652Z"
   },
   {
    "duration": 0,
    "start_time": "2023-08-31T10:44:46.653Z"
   },
   {
    "duration": 0,
    "start_time": "2023-08-31T10:44:46.654Z"
   },
   {
    "duration": 0,
    "start_time": "2023-08-31T10:44:46.655Z"
   },
   {
    "duration": 0,
    "start_time": "2023-08-31T10:44:46.656Z"
   },
   {
    "duration": 1251,
    "start_time": "2023-08-31T10:46:29.407Z"
   },
   {
    "duration": 3,
    "start_time": "2023-08-31T10:46:40.222Z"
   },
   {
    "duration": 1248,
    "start_time": "2023-08-31T10:47:00.582Z"
   },
   {
    "duration": 372,
    "start_time": "2023-08-31T10:47:01.832Z"
   },
   {
    "duration": 16,
    "start_time": "2023-08-31T10:47:02.206Z"
   },
   {
    "duration": 19,
    "start_time": "2023-08-31T10:47:02.224Z"
   },
   {
    "duration": 20,
    "start_time": "2023-08-31T10:47:02.245Z"
   },
   {
    "duration": 12,
    "start_time": "2023-08-31T10:47:02.267Z"
   },
   {
    "duration": 125,
    "start_time": "2023-08-31T10:47:02.281Z"
   },
   {
    "duration": 3,
    "start_time": "2023-08-31T10:47:02.408Z"
   },
   {
    "duration": 28,
    "start_time": "2023-08-31T10:47:02.413Z"
   },
   {
    "duration": 27,
    "start_time": "2023-08-31T10:47:02.443Z"
   },
   {
    "duration": 26,
    "start_time": "2023-08-31T10:47:02.472Z"
   },
   {
    "duration": 34,
    "start_time": "2023-08-31T10:47:02.500Z"
   },
   {
    "duration": 43,
    "start_time": "2023-08-31T10:47:02.537Z"
   },
   {
    "duration": 43,
    "start_time": "2023-08-31T10:47:02.583Z"
   },
   {
    "duration": 2,
    "start_time": "2023-08-31T10:47:02.628Z"
   },
   {
    "duration": 27,
    "start_time": "2023-08-31T10:47:02.632Z"
   },
   {
    "duration": 25,
    "start_time": "2023-08-31T10:47:02.660Z"
   },
   {
    "duration": 127,
    "start_time": "2023-08-31T10:47:02.687Z"
   },
   {
    "duration": 15,
    "start_time": "2023-08-31T10:47:02.816Z"
   },
   {
    "duration": 7,
    "start_time": "2023-08-31T10:47:02.833Z"
   },
   {
    "duration": 24,
    "start_time": "2023-08-31T10:47:02.841Z"
   },
   {
    "duration": 19,
    "start_time": "2023-08-31T10:47:02.867Z"
   },
   {
    "duration": 10,
    "start_time": "2023-08-31T10:47:02.888Z"
   },
   {
    "duration": 12,
    "start_time": "2023-08-31T10:47:02.899Z"
   },
   {
    "duration": 5,
    "start_time": "2023-08-31T10:47:02.913Z"
   },
   {
    "duration": 19,
    "start_time": "2023-08-31T10:47:02.919Z"
   },
   {
    "duration": 7,
    "start_time": "2023-08-31T10:47:02.939Z"
   },
   {
    "duration": 4,
    "start_time": "2023-08-31T10:47:02.956Z"
   },
   {
    "duration": 9,
    "start_time": "2023-08-31T10:47:02.962Z"
   },
   {
    "duration": 32,
    "start_time": "2023-08-31T10:47:02.972Z"
   },
   {
    "duration": 30,
    "start_time": "2023-08-31T10:47:03.006Z"
   },
   {
    "duration": 5,
    "start_time": "2023-08-31T10:47:03.038Z"
   },
   {
    "duration": 21,
    "start_time": "2023-08-31T10:47:03.044Z"
   },
   {
    "duration": 14,
    "start_time": "2023-08-31T10:47:03.067Z"
   },
   {
    "duration": 110,
    "start_time": "2023-08-31T10:47:03.083Z"
   },
   {
    "duration": 0,
    "start_time": "2023-08-31T10:47:03.194Z"
   },
   {
    "duration": 0,
    "start_time": "2023-08-31T10:47:03.196Z"
   },
   {
    "duration": 0,
    "start_time": "2023-08-31T10:47:03.197Z"
   },
   {
    "duration": 3680,
    "start_time": "2023-08-31T10:47:59.949Z"
   },
   {
    "duration": 7,
    "start_time": "2023-08-31T11:03:24.076Z"
   },
   {
    "duration": 10,
    "start_time": "2023-08-31T11:04:33.459Z"
   },
   {
    "duration": 16,
    "start_time": "2023-08-31T11:04:53.829Z"
   },
   {
    "duration": 9,
    "start_time": "2023-08-31T11:05:07.861Z"
   },
   {
    "duration": 5,
    "start_time": "2023-08-31T11:05:37.651Z"
   },
   {
    "duration": 199,
    "start_time": "2023-08-31T11:07:07.727Z"
   },
   {
    "duration": 1195,
    "start_time": "2023-08-31T11:08:40.729Z"
   },
   {
    "duration": 193,
    "start_time": "2023-08-31T11:12:34.338Z"
   },
   {
    "duration": 135,
    "start_time": "2023-08-31T11:12:48.788Z"
   },
   {
    "duration": 170,
    "start_time": "2023-08-31T11:13:18.023Z"
   },
   {
    "duration": 163,
    "start_time": "2023-08-31T11:13:27.060Z"
   },
   {
    "duration": 148,
    "start_time": "2023-08-31T11:13:37.179Z"
   },
   {
    "duration": 155,
    "start_time": "2023-08-31T11:13:45.219Z"
   },
   {
    "duration": 163,
    "start_time": "2023-08-31T11:13:55.047Z"
   },
   {
    "duration": 285,
    "start_time": "2023-08-31T11:14:02.809Z"
   },
   {
    "duration": 189,
    "start_time": "2023-08-31T11:14:10.900Z"
   },
   {
    "duration": 162,
    "start_time": "2023-08-31T11:14:20.233Z"
   },
   {
    "duration": 4139,
    "start_time": "2023-08-31T11:14:27.427Z"
   },
   {
    "duration": 1161,
    "start_time": "2023-08-31T11:14:40.086Z"
   },
   {
    "duration": 160,
    "start_time": "2023-08-31T11:14:56.333Z"
   },
   {
    "duration": 9888,
    "start_time": "2023-08-31T11:15:33.419Z"
   },
   {
    "duration": 3929,
    "start_time": "2023-08-31T11:15:56.075Z"
   },
   {
    "duration": 3846,
    "start_time": "2023-08-31T11:17:10.952Z"
   },
   {
    "duration": 4142,
    "start_time": "2023-08-31T11:17:46.999Z"
   },
   {
    "duration": 2346,
    "start_time": "2023-08-31T11:23:11.448Z"
   },
   {
    "duration": 6,
    "start_time": "2023-08-31T11:28:24.151Z"
   },
   {
    "duration": 17,
    "start_time": "2023-08-31T11:28:25.344Z"
   },
   {
    "duration": 3,
    "start_time": "2023-08-31T11:34:42.193Z"
   },
   {
    "duration": 15,
    "start_time": "2023-08-31T11:34:43.464Z"
   },
   {
    "duration": 3838,
    "start_time": "2023-08-31T11:34:45.082Z"
   },
   {
    "duration": 1301,
    "start_time": "2023-08-31T11:37:35.451Z"
   },
   {
    "duration": 7,
    "start_time": "2023-08-31T11:39:35.354Z"
   },
   {
    "duration": 14,
    "start_time": "2023-08-31T11:42:43.496Z"
   },
   {
    "duration": 15,
    "start_time": "2023-08-31T11:42:53.692Z"
   },
   {
    "duration": 14,
    "start_time": "2023-08-31T11:44:09.297Z"
   },
   {
    "duration": 13,
    "start_time": "2023-08-31T11:45:56.003Z"
   },
   {
    "duration": 14,
    "start_time": "2023-08-31T11:46:02.534Z"
   },
   {
    "duration": 4155,
    "start_time": "2023-08-31T11:47:28.603Z"
   },
   {
    "duration": 18,
    "start_time": "2023-08-31T11:47:44.827Z"
   },
   {
    "duration": 247,
    "start_time": "2023-08-31T11:48:14.511Z"
   },
   {
    "duration": 148797,
    "start_time": "2023-08-31T11:49:44.861Z"
   },
   {
    "duration": 273,
    "start_time": "2023-08-31T11:52:13.660Z"
   },
   {
    "duration": 1672,
    "start_time": "2023-08-31T17:58:50.526Z"
   },
   {
    "duration": 0,
    "start_time": "2023-08-31T17:58:52.201Z"
   },
   {
    "duration": 0,
    "start_time": "2023-08-31T17:58:52.202Z"
   },
   {
    "duration": 0,
    "start_time": "2023-08-31T17:58:52.203Z"
   },
   {
    "duration": 1,
    "start_time": "2023-08-31T17:58:52.204Z"
   },
   {
    "duration": 0,
    "start_time": "2023-08-31T17:58:52.205Z"
   },
   {
    "duration": 0,
    "start_time": "2023-08-31T17:58:52.207Z"
   },
   {
    "duration": 0,
    "start_time": "2023-08-31T17:58:52.208Z"
   },
   {
    "duration": 0,
    "start_time": "2023-08-31T17:58:52.209Z"
   },
   {
    "duration": 0,
    "start_time": "2023-08-31T17:58:52.211Z"
   },
   {
    "duration": 0,
    "start_time": "2023-08-31T17:58:52.212Z"
   },
   {
    "duration": 0,
    "start_time": "2023-08-31T17:58:52.214Z"
   },
   {
    "duration": 0,
    "start_time": "2023-08-31T17:58:52.216Z"
   },
   {
    "duration": 0,
    "start_time": "2023-08-31T17:58:52.217Z"
   },
   {
    "duration": 0,
    "start_time": "2023-08-31T17:58:52.246Z"
   },
   {
    "duration": 0,
    "start_time": "2023-08-31T17:58:52.248Z"
   },
   {
    "duration": 0,
    "start_time": "2023-08-31T17:58:52.250Z"
   },
   {
    "duration": 0,
    "start_time": "2023-08-31T17:58:52.251Z"
   },
   {
    "duration": 0,
    "start_time": "2023-08-31T17:58:52.254Z"
   },
   {
    "duration": 0,
    "start_time": "2023-08-31T17:58:52.256Z"
   },
   {
    "duration": 0,
    "start_time": "2023-08-31T17:58:52.257Z"
   },
   {
    "duration": 0,
    "start_time": "2023-08-31T17:58:52.259Z"
   },
   {
    "duration": 0,
    "start_time": "2023-08-31T17:58:52.261Z"
   },
   {
    "duration": 0,
    "start_time": "2023-08-31T17:58:52.263Z"
   },
   {
    "duration": 0,
    "start_time": "2023-08-31T17:58:52.264Z"
   },
   {
    "duration": 0,
    "start_time": "2023-08-31T17:58:52.267Z"
   },
   {
    "duration": 0,
    "start_time": "2023-08-31T17:58:52.269Z"
   },
   {
    "duration": 0,
    "start_time": "2023-08-31T17:58:52.271Z"
   },
   {
    "duration": 0,
    "start_time": "2023-08-31T17:58:52.272Z"
   },
   {
    "duration": 0,
    "start_time": "2023-08-31T17:58:52.274Z"
   },
   {
    "duration": 0,
    "start_time": "2023-08-31T17:58:52.275Z"
   },
   {
    "duration": 0,
    "start_time": "2023-08-31T17:58:52.277Z"
   },
   {
    "duration": 0,
    "start_time": "2023-08-31T17:58:52.278Z"
   },
   {
    "duration": 0,
    "start_time": "2023-08-31T17:58:52.279Z"
   },
   {
    "duration": 0,
    "start_time": "2023-08-31T17:58:52.280Z"
   },
   {
    "duration": 0,
    "start_time": "2023-08-31T17:58:52.281Z"
   },
   {
    "duration": 0,
    "start_time": "2023-08-31T17:58:52.282Z"
   },
   {
    "duration": 0,
    "start_time": "2023-08-31T17:58:52.283Z"
   },
   {
    "duration": 0,
    "start_time": "2023-08-31T17:58:52.285Z"
   },
   {
    "duration": 0,
    "start_time": "2023-08-31T17:58:52.347Z"
   },
   {
    "duration": 0,
    "start_time": "2023-08-31T17:58:52.349Z"
   },
   {
    "duration": 3706,
    "start_time": "2023-08-31T19:05:08.776Z"
   },
   {
    "duration": 1254,
    "start_time": "2023-08-31T19:05:12.484Z"
   },
   {
    "duration": 377,
    "start_time": "2023-08-31T19:05:13.740Z"
   },
   {
    "duration": 16,
    "start_time": "2023-08-31T19:05:14.119Z"
   },
   {
    "duration": 10,
    "start_time": "2023-08-31T19:05:14.137Z"
   },
   {
    "duration": 22,
    "start_time": "2023-08-31T19:05:14.150Z"
   },
   {
    "duration": 9,
    "start_time": "2023-08-31T19:05:14.173Z"
   },
   {
    "duration": 147,
    "start_time": "2023-08-31T19:05:14.184Z"
   },
   {
    "duration": 2,
    "start_time": "2023-08-31T19:05:14.333Z"
   },
   {
    "duration": 9,
    "start_time": "2023-08-31T19:05:14.347Z"
   },
   {
    "duration": 6,
    "start_time": "2023-08-31T19:05:14.359Z"
   },
   {
    "duration": 18,
    "start_time": "2023-08-31T19:05:14.368Z"
   },
   {
    "duration": 73,
    "start_time": "2023-08-31T19:05:14.388Z"
   },
   {
    "duration": 42,
    "start_time": "2023-08-31T19:05:14.463Z"
   },
   {
    "duration": 74,
    "start_time": "2023-08-31T19:05:14.507Z"
   },
   {
    "duration": 3,
    "start_time": "2023-08-31T19:05:14.583Z"
   },
   {
    "duration": 7,
    "start_time": "2023-08-31T19:05:14.588Z"
   },
   {
    "duration": 29,
    "start_time": "2023-08-31T19:05:14.597Z"
   },
   {
    "duration": 149,
    "start_time": "2023-08-31T19:05:14.650Z"
   },
   {
    "duration": 14,
    "start_time": "2023-08-31T19:05:14.801Z"
   },
   {
    "duration": 13,
    "start_time": "2023-08-31T19:05:14.817Z"
   },
   {
    "duration": 24,
    "start_time": "2023-08-31T19:05:14.832Z"
   },
   {
    "duration": 14,
    "start_time": "2023-08-31T19:05:14.859Z"
   },
   {
    "duration": 21,
    "start_time": "2023-08-31T19:05:14.877Z"
   },
   {
    "duration": 16,
    "start_time": "2023-08-31T19:05:14.900Z"
   },
   {
    "duration": 30,
    "start_time": "2023-08-31T19:05:14.918Z"
   },
   {
    "duration": 11,
    "start_time": "2023-08-31T19:05:14.950Z"
   },
   {
    "duration": 8,
    "start_time": "2023-08-31T19:05:14.967Z"
   },
   {
    "duration": 8,
    "start_time": "2023-08-31T19:05:14.977Z"
   },
   {
    "duration": 8,
    "start_time": "2023-08-31T19:05:14.987Z"
   },
   {
    "duration": 17,
    "start_time": "2023-08-31T19:05:14.997Z"
   },
   {
    "duration": 49,
    "start_time": "2023-08-31T19:05:15.015Z"
   },
   {
    "duration": 25,
    "start_time": "2023-08-31T19:05:15.066Z"
   },
   {
    "duration": 40,
    "start_time": "2023-08-31T19:05:15.093Z"
   },
   {
    "duration": 49,
    "start_time": "2023-08-31T19:05:15.135Z"
   },
   {
    "duration": 4288,
    "start_time": "2023-08-31T19:05:15.186Z"
   },
   {
    "duration": 6,
    "start_time": "2023-08-31T19:05:19.477Z"
   },
   {
    "duration": 12,
    "start_time": "2023-08-31T19:05:19.485Z"
   },
   {
    "duration": 6,
    "start_time": "2023-08-31T19:05:19.499Z"
   },
   {
    "duration": 4345,
    "start_time": "2023-08-31T19:05:19.507Z"
   },
   {
    "duration": 416,
    "start_time": "2023-08-31T19:05:23.855Z"
   },
   {
    "duration": 127,
    "start_time": "2023-08-31T19:05:24.273Z"
   },
   {
    "duration": 335,
    "start_time": "2023-08-31T19:07:33.169Z"
   },
   {
    "duration": 315,
    "start_time": "2023-08-31T19:08:22.611Z"
   },
   {
    "duration": 300,
    "start_time": "2023-08-31T19:09:48.978Z"
   },
   {
    "duration": 1583,
    "start_time": "2023-08-31T19:10:09.406Z"
   },
   {
    "duration": 0,
    "start_time": "2023-08-31T19:10:10.990Z"
   },
   {
    "duration": 2521,
    "start_time": "2023-08-31T19:10:17.136Z"
   },
   {
    "duration": 1364,
    "start_time": "2023-08-31T19:10:19.660Z"
   },
   {
    "duration": 105,
    "start_time": "2023-08-31T19:10:21.025Z"
   },
   {
    "duration": 20,
    "start_time": "2023-08-31T19:10:21.133Z"
   },
   {
    "duration": 12,
    "start_time": "2023-08-31T19:10:21.156Z"
   },
   {
    "duration": 31,
    "start_time": "2023-08-31T19:10:21.170Z"
   },
   {
    "duration": 11,
    "start_time": "2023-08-31T19:10:21.204Z"
   },
   {
    "duration": 166,
    "start_time": "2023-08-31T19:10:21.217Z"
   },
   {
    "duration": 2,
    "start_time": "2023-08-31T19:10:21.385Z"
   },
   {
    "duration": 9,
    "start_time": "2023-08-31T19:10:21.390Z"
   },
   {
    "duration": 3,
    "start_time": "2023-08-31T19:10:21.401Z"
   },
   {
    "duration": 9,
    "start_time": "2023-08-31T19:10:21.406Z"
   },
   {
    "duration": 69,
    "start_time": "2023-08-31T19:10:21.417Z"
   },
   {
    "duration": 41,
    "start_time": "2023-08-31T19:10:21.488Z"
   },
   {
    "duration": 54,
    "start_time": "2023-08-31T19:10:21.550Z"
   },
   {
    "duration": 3,
    "start_time": "2023-08-31T19:10:21.606Z"
   },
   {
    "duration": 23,
    "start_time": "2023-08-31T19:10:21.611Z"
   },
   {
    "duration": 34,
    "start_time": "2023-08-31T19:10:21.646Z"
   },
   {
    "duration": 158,
    "start_time": "2023-08-31T19:10:21.682Z"
   },
   {
    "duration": 32,
    "start_time": "2023-08-31T19:10:21.842Z"
   },
   {
    "duration": 3,
    "start_time": "2023-08-31T19:10:21.876Z"
   },
   {
    "duration": 13,
    "start_time": "2023-08-31T19:10:21.880Z"
   },
   {
    "duration": 13,
    "start_time": "2023-08-31T19:10:21.895Z"
   },
   {
    "duration": 39,
    "start_time": "2023-08-31T19:10:21.910Z"
   },
   {
    "duration": 20,
    "start_time": "2023-08-31T19:10:21.951Z"
   },
   {
    "duration": 23,
    "start_time": "2023-08-31T19:10:21.974Z"
   },
   {
    "duration": 9,
    "start_time": "2023-08-31T19:10:21.998Z"
   },
   {
    "duration": 22,
    "start_time": "2023-08-31T19:10:22.010Z"
   },
   {
    "duration": 9,
    "start_time": "2023-08-31T19:10:22.034Z"
   },
   {
    "duration": 11,
    "start_time": "2023-08-31T19:10:22.047Z"
   },
   {
    "duration": 26,
    "start_time": "2023-08-31T19:10:22.062Z"
   },
   {
    "duration": 5,
    "start_time": "2023-08-31T19:10:22.091Z"
   },
   {
    "duration": 51,
    "start_time": "2023-08-31T19:10:22.097Z"
   },
   {
    "duration": 28,
    "start_time": "2023-08-31T19:10:22.155Z"
   },
   {
    "duration": 4182,
    "start_time": "2023-08-31T19:10:22.185Z"
   },
   {
    "duration": 9,
    "start_time": "2023-08-31T19:10:26.370Z"
   },
   {
    "duration": 11,
    "start_time": "2023-08-31T19:10:26.380Z"
   },
   {
    "duration": 18,
    "start_time": "2023-08-31T19:10:26.393Z"
   },
   {
    "duration": 4375,
    "start_time": "2023-08-31T19:10:26.413Z"
   },
   {
    "duration": 395,
    "start_time": "2023-08-31T19:10:30.790Z"
   },
   {
    "duration": 257,
    "start_time": "2023-08-31T19:15:14.892Z"
   },
   {
    "duration": 264,
    "start_time": "2023-08-31T19:15:38.823Z"
   },
   {
    "duration": 264,
    "start_time": "2023-08-31T19:17:27.969Z"
   },
   {
    "duration": 2606,
    "start_time": "2023-08-31T19:28:17.810Z"
   },
   {
    "duration": 1332,
    "start_time": "2023-08-31T19:28:20.419Z"
   },
   {
    "duration": 107,
    "start_time": "2023-08-31T19:28:21.753Z"
   },
   {
    "duration": 28,
    "start_time": "2023-08-31T19:28:21.861Z"
   },
   {
    "duration": 9,
    "start_time": "2023-08-31T19:28:21.891Z"
   },
   {
    "duration": 12,
    "start_time": "2023-08-31T19:28:21.902Z"
   },
   {
    "duration": 18,
    "start_time": "2023-08-31T19:28:21.915Z"
   },
   {
    "duration": 129,
    "start_time": "2023-08-31T19:28:21.935Z"
   },
   {
    "duration": 2,
    "start_time": "2023-08-31T19:28:22.066Z"
   },
   {
    "duration": 8,
    "start_time": "2023-08-31T19:28:22.070Z"
   },
   {
    "duration": 16,
    "start_time": "2023-08-31T19:28:22.079Z"
   },
   {
    "duration": 19,
    "start_time": "2023-08-31T19:28:22.096Z"
   },
   {
    "duration": 57,
    "start_time": "2023-08-31T19:28:22.117Z"
   },
   {
    "duration": 41,
    "start_time": "2023-08-31T19:28:22.177Z"
   },
   {
    "duration": 67,
    "start_time": "2023-08-31T19:28:22.220Z"
   },
   {
    "duration": 3,
    "start_time": "2023-08-31T19:28:22.289Z"
   },
   {
    "duration": 17,
    "start_time": "2023-08-31T19:28:22.294Z"
   },
   {
    "duration": 42,
    "start_time": "2023-08-31T19:28:22.312Z"
   },
   {
    "duration": 154,
    "start_time": "2023-08-31T19:28:22.355Z"
   },
   {
    "duration": 17,
    "start_time": "2023-08-31T19:28:22.511Z"
   },
   {
    "duration": 17,
    "start_time": "2023-08-31T19:28:22.530Z"
   },
   {
    "duration": 14,
    "start_time": "2023-08-31T19:28:22.548Z"
   },
   {
    "duration": 10,
    "start_time": "2023-08-31T19:28:22.564Z"
   },
   {
    "duration": 12,
    "start_time": "2023-08-31T19:28:22.576Z"
   },
   {
    "duration": 18,
    "start_time": "2023-08-31T19:28:22.590Z"
   },
   {
    "duration": 39,
    "start_time": "2023-08-31T19:28:22.610Z"
   },
   {
    "duration": 12,
    "start_time": "2023-08-31T19:28:22.651Z"
   },
   {
    "duration": 19,
    "start_time": "2023-08-31T19:28:22.665Z"
   },
   {
    "duration": 7,
    "start_time": "2023-08-31T19:28:22.686Z"
   },
   {
    "duration": 11,
    "start_time": "2023-08-31T19:28:22.695Z"
   },
   {
    "duration": 40,
    "start_time": "2023-08-31T19:28:22.708Z"
   },
   {
    "duration": 5,
    "start_time": "2023-08-31T19:28:22.750Z"
   },
   {
    "duration": 24,
    "start_time": "2023-08-31T19:28:22.757Z"
   },
   {
    "duration": 16,
    "start_time": "2023-08-31T19:28:22.783Z"
   },
   {
    "duration": 47,
    "start_time": "2023-08-31T19:28:22.800Z"
   },
   {
    "duration": 8,
    "start_time": "2023-08-31T19:28:22.848Z"
   },
   {
    "duration": 4060,
    "start_time": "2023-08-31T19:28:22.858Z"
   },
   {
    "duration": 297,
    "start_time": "2023-08-31T19:28:26.919Z"
   },
   {
    "duration": 271,
    "start_time": "2023-08-31T19:28:27.218Z"
   },
   {
    "duration": 356,
    "start_time": "2023-08-31T19:28:27.491Z"
   },
   {
    "duration": 3586,
    "start_time": "2023-08-31T19:28:27.851Z"
   },
   {
    "duration": 9,
    "start_time": "2023-08-31T19:28:31.439Z"
   },
   {
    "duration": 113,
    "start_time": "2023-08-31T19:36:32.201Z"
   },
   {
    "duration": 8,
    "start_time": "2023-08-31T19:36:45.791Z"
   },
   {
    "duration": 14,
    "start_time": "2023-08-31T19:36:51.916Z"
   },
   {
    "duration": 7,
    "start_time": "2023-08-31T19:43:11.013Z"
   },
   {
    "duration": 5,
    "start_time": "2023-08-31T19:52:43.941Z"
   },
   {
    "duration": 1507,
    "start_time": "2023-08-31T19:53:03.824Z"
   },
   {
    "duration": 7,
    "start_time": "2023-08-31T19:53:16.874Z"
   },
   {
    "duration": 18,
    "start_time": "2023-08-31T19:54:02.315Z"
   },
   {
    "duration": 1543,
    "start_time": "2023-08-31T19:54:03.059Z"
   },
   {
    "duration": 2417,
    "start_time": "2023-08-31T19:54:17.763Z"
   },
   {
    "duration": 1272,
    "start_time": "2023-08-31T19:54:20.182Z"
   },
   {
    "duration": 95,
    "start_time": "2023-08-31T19:54:21.456Z"
   },
   {
    "duration": 16,
    "start_time": "2023-08-31T19:54:21.553Z"
   },
   {
    "duration": 8,
    "start_time": "2023-08-31T19:54:21.571Z"
   },
   {
    "duration": 12,
    "start_time": "2023-08-31T19:54:21.580Z"
   },
   {
    "duration": 9,
    "start_time": "2023-08-31T19:54:21.594Z"
   },
   {
    "duration": 136,
    "start_time": "2023-08-31T19:54:21.605Z"
   },
   {
    "duration": 5,
    "start_time": "2023-08-31T19:54:21.742Z"
   },
   {
    "duration": 6,
    "start_time": "2023-08-31T19:54:21.750Z"
   },
   {
    "duration": 6,
    "start_time": "2023-08-31T19:54:21.757Z"
   },
   {
    "duration": 10,
    "start_time": "2023-08-31T19:54:21.764Z"
   },
   {
    "duration": 34,
    "start_time": "2023-08-31T19:54:21.776Z"
   },
   {
    "duration": 74,
    "start_time": "2023-08-31T19:54:21.811Z"
   },
   {
    "duration": 63,
    "start_time": "2023-08-31T19:54:21.887Z"
   },
   {
    "duration": 2,
    "start_time": "2023-08-31T19:54:21.952Z"
   },
   {
    "duration": 11,
    "start_time": "2023-08-31T19:54:21.956Z"
   },
   {
    "duration": 27,
    "start_time": "2023-08-31T19:54:21.969Z"
   },
   {
    "duration": 153,
    "start_time": "2023-08-31T19:54:21.998Z"
   },
   {
    "duration": 19,
    "start_time": "2023-08-31T19:54:22.153Z"
   },
   {
    "duration": 6,
    "start_time": "2023-08-31T19:54:22.173Z"
   },
   {
    "duration": 14,
    "start_time": "2023-08-31T19:54:22.180Z"
   },
   {
    "duration": 25,
    "start_time": "2023-08-31T19:54:22.195Z"
   },
   {
    "duration": 26,
    "start_time": "2023-08-31T19:54:22.222Z"
   },
   {
    "duration": 18,
    "start_time": "2023-08-31T19:54:22.250Z"
   },
   {
    "duration": 6,
    "start_time": "2023-08-31T19:54:22.270Z"
   },
   {
    "duration": 6,
    "start_time": "2023-08-31T19:54:22.278Z"
   },
   {
    "duration": 7,
    "start_time": "2023-08-31T19:54:22.288Z"
   },
   {
    "duration": 12,
    "start_time": "2023-08-31T19:54:22.297Z"
   },
   {
    "duration": 40,
    "start_time": "2023-08-31T19:54:22.311Z"
   },
   {
    "duration": 15,
    "start_time": "2023-08-31T19:54:22.353Z"
   },
   {
    "duration": 5,
    "start_time": "2023-08-31T19:54:22.370Z"
   },
   {
    "duration": 24,
    "start_time": "2023-08-31T19:54:22.376Z"
   },
   {
    "duration": 21,
    "start_time": "2023-08-31T19:54:22.401Z"
   },
   {
    "duration": 4,
    "start_time": "2023-08-31T19:54:22.447Z"
   },
   {
    "duration": 4,
    "start_time": "2023-08-31T19:54:22.453Z"
   },
   {
    "duration": 4055,
    "start_time": "2023-08-31T19:54:22.459Z"
   },
   {
    "duration": 290,
    "start_time": "2023-08-31T19:54:26.516Z"
   },
   {
    "duration": 278,
    "start_time": "2023-08-31T19:54:26.808Z"
   },
   {
    "duration": 366,
    "start_time": "2023-08-31T19:54:27.088Z"
   },
   {
    "duration": 3560,
    "start_time": "2023-08-31T19:54:27.457Z"
   },
   {
    "duration": 6,
    "start_time": "2023-08-31T19:54:31.020Z"
   },
   {
    "duration": 24,
    "start_time": "2023-08-31T19:54:31.027Z"
   },
   {
    "duration": 1345,
    "start_time": "2023-08-31T19:54:31.053Z"
   },
   {
    "duration": 7,
    "start_time": "2023-08-31T19:54:32.400Z"
   },
   {
    "duration": 1432,
    "start_time": "2023-08-31T19:55:40.404Z"
   },
   {
    "duration": 2475,
    "start_time": "2023-08-31T19:55:56.094Z"
   },
   {
    "duration": 1251,
    "start_time": "2023-08-31T19:55:58.572Z"
   },
   {
    "duration": 98,
    "start_time": "2023-08-31T19:55:59.824Z"
   },
   {
    "duration": 15,
    "start_time": "2023-08-31T19:55:59.924Z"
   },
   {
    "duration": 8,
    "start_time": "2023-08-31T19:55:59.941Z"
   },
   {
    "duration": 13,
    "start_time": "2023-08-31T19:55:59.951Z"
   },
   {
    "duration": 19,
    "start_time": "2023-08-31T19:55:59.966Z"
   },
   {
    "duration": 125,
    "start_time": "2023-08-31T19:55:59.986Z"
   },
   {
    "duration": 4,
    "start_time": "2023-08-31T19:56:00.113Z"
   },
   {
    "duration": 39,
    "start_time": "2023-08-31T19:56:00.120Z"
   },
   {
    "duration": 23,
    "start_time": "2023-08-31T19:56:00.160Z"
   },
   {
    "duration": 32,
    "start_time": "2023-08-31T19:56:00.185Z"
   },
   {
    "duration": 53,
    "start_time": "2023-08-31T19:56:00.218Z"
   },
   {
    "duration": 41,
    "start_time": "2023-08-31T19:56:00.273Z"
   },
   {
    "duration": 73,
    "start_time": "2023-08-31T19:56:00.316Z"
   },
   {
    "duration": 2,
    "start_time": "2023-08-31T19:56:00.391Z"
   },
   {
    "duration": 53,
    "start_time": "2023-08-31T19:56:00.395Z"
   },
   {
    "duration": 44,
    "start_time": "2023-08-31T19:56:00.450Z"
   },
   {
    "duration": 176,
    "start_time": "2023-08-31T19:56:00.496Z"
   },
   {
    "duration": 15,
    "start_time": "2023-08-31T19:56:00.674Z"
   },
   {
    "duration": 38,
    "start_time": "2023-08-31T19:56:00.691Z"
   },
   {
    "duration": 35,
    "start_time": "2023-08-31T19:56:00.731Z"
   },
   {
    "duration": 35,
    "start_time": "2023-08-31T19:56:00.768Z"
   },
   {
    "duration": 33,
    "start_time": "2023-08-31T19:56:00.805Z"
   },
   {
    "duration": 43,
    "start_time": "2023-08-31T19:56:00.840Z"
   },
   {
    "duration": 20,
    "start_time": "2023-08-31T19:56:00.885Z"
   },
   {
    "duration": 41,
    "start_time": "2023-08-31T19:56:00.907Z"
   },
   {
    "duration": 63,
    "start_time": "2023-08-31T19:56:00.951Z"
   },
   {
    "duration": 44,
    "start_time": "2023-08-31T19:56:01.016Z"
   },
   {
    "duration": 44,
    "start_time": "2023-08-31T19:56:01.062Z"
   },
   {
    "duration": 53,
    "start_time": "2023-08-31T19:56:01.109Z"
   },
   {
    "duration": 25,
    "start_time": "2023-08-31T19:56:01.164Z"
   },
   {
    "duration": 59,
    "start_time": "2023-08-31T19:56:01.191Z"
   },
   {
    "duration": 42,
    "start_time": "2023-08-31T19:56:01.252Z"
   },
   {
    "duration": 23,
    "start_time": "2023-08-31T19:56:01.296Z"
   },
   {
    "duration": 36,
    "start_time": "2023-08-31T19:56:01.321Z"
   },
   {
    "duration": 4080,
    "start_time": "2023-08-31T19:56:01.359Z"
   },
   {
    "duration": 283,
    "start_time": "2023-08-31T19:56:05.447Z"
   },
   {
    "duration": 291,
    "start_time": "2023-08-31T19:56:05.732Z"
   },
   {
    "duration": 364,
    "start_time": "2023-08-31T19:56:06.025Z"
   },
   {
    "duration": 3463,
    "start_time": "2023-08-31T19:56:06.391Z"
   },
   {
    "duration": 6,
    "start_time": "2023-08-31T19:56:09.856Z"
   },
   {
    "duration": 6,
    "start_time": "2023-08-31T19:56:09.864Z"
   },
   {
    "duration": 1358,
    "start_time": "2023-08-31T19:56:09.872Z"
   },
   {
    "duration": 5,
    "start_time": "2023-08-31T20:03:20.356Z"
   },
   {
    "duration": 3,
    "start_time": "2023-08-31T20:03:56.021Z"
   },
   {
    "duration": 5,
    "start_time": "2023-08-31T20:23:42.689Z"
   },
   {
    "duration": 452,
    "start_time": "2023-08-31T20:25:16.234Z"
   },
   {
    "duration": 4016,
    "start_time": "2023-08-31T20:25:44.267Z"
   },
   {
    "duration": 1236,
    "start_time": "2023-08-31T20:25:53.996Z"
   },
   {
    "duration": 6,
    "start_time": "2023-08-31T20:26:00.195Z"
   },
   {
    "duration": 102,
    "start_time": "2023-08-31T20:29:12.648Z"
   },
   {
    "duration": 6,
    "start_time": "2023-08-31T20:30:05.483Z"
   },
   {
    "duration": 4,
    "start_time": "2023-08-31T20:30:06.272Z"
   },
   {
    "duration": 12,
    "start_time": "2023-08-31T20:31:27.310Z"
   },
   {
    "duration": 12,
    "start_time": "2023-08-31T20:31:57.715Z"
   },
   {
    "duration": 4,
    "start_time": "2023-08-31T20:32:12.867Z"
   },
   {
    "duration": 4,
    "start_time": "2023-08-31T20:32:34.470Z"
   },
   {
    "duration": 21,
    "start_time": "2023-08-31T20:36:42.867Z"
   },
   {
    "duration": 6,
    "start_time": "2023-08-31T20:49:41.734Z"
   },
   {
    "duration": 4,
    "start_time": "2023-08-31T20:49:42.940Z"
   },
   {
    "duration": 7,
    "start_time": "2023-08-31T20:52:38.759Z"
   },
   {
    "duration": 31,
    "start_time": "2023-08-31T20:52:45.508Z"
   },
   {
    "duration": 12,
    "start_time": "2023-08-31T20:54:29.831Z"
   },
   {
    "duration": 15,
    "start_time": "2023-08-31T20:54:38.280Z"
   },
   {
    "duration": 3,
    "start_time": "2023-08-31T20:57:10.878Z"
   },
   {
    "duration": 4,
    "start_time": "2023-08-31T20:58:30.414Z"
   },
   {
    "duration": 18,
    "start_time": "2023-08-31T20:58:32.635Z"
   },
   {
    "duration": 3,
    "start_time": "2023-08-31T20:58:34.850Z"
   },
   {
    "duration": 19,
    "start_time": "2023-08-31T21:06:01.259Z"
   },
   {
    "duration": 9,
    "start_time": "2023-08-31T21:06:14.447Z"
   },
   {
    "duration": 2343,
    "start_time": "2023-08-31T21:06:15.135Z"
   },
   {
    "duration": 14,
    "start_time": "2023-08-31T21:12:45.392Z"
   },
   {
    "duration": 5,
    "start_time": "2023-08-31T21:12:56.655Z"
   },
   {
    "duration": 625,
    "start_time": "2023-08-31T21:12:58.303Z"
   },
   {
    "duration": 26,
    "start_time": "2023-08-31T21:17:00.706Z"
   },
   {
    "duration": 4,
    "start_time": "2023-08-31T21:18:17.787Z"
   },
   {
    "duration": 31,
    "start_time": "2023-08-31T21:20:20.167Z"
   },
   {
    "duration": 15,
    "start_time": "2023-08-31T21:20:34.824Z"
   },
   {
    "duration": 29,
    "start_time": "2023-08-31T21:20:57.572Z"
   },
   {
    "duration": 24,
    "start_time": "2023-08-31T21:20:59.772Z"
   },
   {
    "duration": 4,
    "start_time": "2023-08-31T21:21:20.298Z"
   },
   {
    "duration": 18008,
    "start_time": "2023-08-31T21:21:22.767Z"
   },
   {
    "duration": 4,
    "start_time": "2023-08-31T21:22:08.979Z"
   },
   {
    "duration": 12132,
    "start_time": "2023-08-31T21:22:10.732Z"
   },
   {
    "duration": 45,
    "start_time": "2023-08-31T21:22:42.662Z"
   },
   {
    "duration": 35453,
    "start_time": "2023-08-31T21:22:44.124Z"
   },
   {
    "duration": 124,
    "start_time": "2023-08-31T21:25:11.148Z"
   },
   {
    "duration": 4143,
    "start_time": "2023-08-31T21:27:22.610Z"
   },
   {
    "duration": 4589,
    "start_time": "2023-08-31T21:28:14.501Z"
   },
   {
    "duration": 4477,
    "start_time": "2023-08-31T21:30:21.748Z"
   },
   {
    "duration": 95,
    "start_time": "2023-08-31T21:31:11.766Z"
   },
   {
    "duration": 16,
    "start_time": "2023-08-31T21:32:21.020Z"
   },
   {
    "duration": 13,
    "start_time": "2023-08-31T21:33:06.483Z"
   },
   {
    "duration": 15,
    "start_time": "2023-08-31T21:35:57.090Z"
   },
   {
    "duration": 18,
    "start_time": "2023-08-31T21:45:18.246Z"
   },
   {
    "duration": 41,
    "start_time": "2023-08-31T21:45:40.072Z"
   },
   {
    "duration": 3086,
    "start_time": "2023-08-31T21:49:08.156Z"
   },
   {
    "duration": 2382,
    "start_time": "2023-08-31T21:56:34.682Z"
   },
   {
    "duration": 2425,
    "start_time": "2023-08-31T21:56:37.066Z"
   },
   {
    "duration": 2406,
    "start_time": "2023-08-31T21:56:39.493Z"
   },
   {
    "duration": 205,
    "start_time": "2023-08-31T21:56:41.901Z"
   },
   {
    "duration": 17,
    "start_time": "2023-08-31T21:56:42.108Z"
   },
   {
    "duration": 10,
    "start_time": "2023-08-31T21:56:42.128Z"
   },
   {
    "duration": 18,
    "start_time": "2023-08-31T21:56:42.139Z"
   },
   {
    "duration": 14,
    "start_time": "2023-08-31T21:56:42.159Z"
   },
   {
    "duration": 118,
    "start_time": "2023-08-31T21:56:42.175Z"
   },
   {
    "duration": 2,
    "start_time": "2023-08-31T21:56:42.297Z"
   },
   {
    "duration": 12,
    "start_time": "2023-08-31T21:56:42.302Z"
   },
   {
    "duration": 12,
    "start_time": "2023-08-31T21:56:42.315Z"
   },
   {
    "duration": 23,
    "start_time": "2023-08-31T21:56:42.328Z"
   },
   {
    "duration": 34,
    "start_time": "2023-08-31T21:56:42.353Z"
   },
   {
    "duration": 64,
    "start_time": "2023-08-31T21:56:42.390Z"
   },
   {
    "duration": 49,
    "start_time": "2023-08-31T21:56:42.456Z"
   },
   {
    "duration": 3,
    "start_time": "2023-08-31T21:56:42.507Z"
   },
   {
    "duration": 29,
    "start_time": "2023-08-31T21:56:42.512Z"
   },
   {
    "duration": 24,
    "start_time": "2023-08-31T21:56:42.546Z"
   },
   {
    "duration": 138,
    "start_time": "2023-08-31T21:56:42.572Z"
   },
   {
    "duration": 15,
    "start_time": "2023-08-31T21:56:42.711Z"
   },
   {
    "duration": 18,
    "start_time": "2023-08-31T21:56:42.728Z"
   },
   {
    "duration": 9,
    "start_time": "2023-08-31T21:56:42.748Z"
   },
   {
    "duration": 10,
    "start_time": "2023-08-31T21:56:42.758Z"
   },
   {
    "duration": 12,
    "start_time": "2023-08-31T21:56:42.769Z"
   },
   {
    "duration": 16,
    "start_time": "2023-08-31T21:56:42.782Z"
   },
   {
    "duration": 53,
    "start_time": "2023-08-31T21:56:42.799Z"
   },
   {
    "duration": 20,
    "start_time": "2023-08-31T21:56:42.856Z"
   },
   {
    "duration": 6,
    "start_time": "2023-08-31T21:56:42.878Z"
   },
   {
    "duration": 5,
    "start_time": "2023-08-31T21:56:42.886Z"
   },
   {
    "duration": 8,
    "start_time": "2023-08-31T21:56:42.892Z"
   },
   {
    "duration": 16,
    "start_time": "2023-08-31T21:56:42.902Z"
   },
   {
    "duration": 5,
    "start_time": "2023-08-31T21:56:42.920Z"
   },
   {
    "duration": 40,
    "start_time": "2023-08-31T21:56:42.926Z"
   },
   {
    "duration": 15,
    "start_time": "2023-08-31T21:56:42.968Z"
   },
   {
    "duration": 5,
    "start_time": "2023-08-31T21:56:42.985Z"
   },
   {
    "duration": 7,
    "start_time": "2023-08-31T21:56:42.992Z"
   },
   {
    "duration": 3914,
    "start_time": "2023-08-31T21:56:43.000Z"
   },
   {
    "duration": 308,
    "start_time": "2023-08-31T21:56:46.916Z"
   },
   {
    "duration": 457,
    "start_time": "2023-08-31T21:56:47.226Z"
   },
   {
    "duration": 300,
    "start_time": "2023-08-31T21:56:47.685Z"
   },
   {
    "duration": 3541,
    "start_time": "2023-08-31T21:56:47.987Z"
   },
   {
    "duration": 16,
    "start_time": "2023-08-31T21:56:51.530Z"
   },
   {
    "duration": 6,
    "start_time": "2023-08-31T21:56:51.548Z"
   },
   {
    "duration": 1303,
    "start_time": "2023-08-31T21:56:51.556Z"
   },
   {
    "duration": 3,
    "start_time": "2023-08-31T21:56:52.861Z"
   },
   {
    "duration": 7,
    "start_time": "2023-08-31T21:56:52.865Z"
   },
   {
    "duration": 8,
    "start_time": "2023-08-31T21:56:52.873Z"
   },
   {
    "duration": 4,
    "start_time": "2023-08-31T21:56:52.882Z"
   },
   {
    "duration": 14,
    "start_time": "2023-08-31T21:56:52.887Z"
   },
   {
    "duration": 2,
    "start_time": "2023-08-31T21:56:52.903Z"
   },
   {
    "duration": 52,
    "start_time": "2023-08-31T21:56:52.907Z"
   },
   {
    "duration": 200,
    "start_time": "2023-08-31T21:56:52.961Z"
   },
   {
    "duration": 15,
    "start_time": "2023-08-31T21:59:55.866Z"
   },
   {
    "duration": 7,
    "start_time": "2023-08-31T22:00:39.443Z"
   },
   {
    "duration": 6,
    "start_time": "2023-08-31T22:00:50.216Z"
   },
   {
    "duration": 146,
    "start_time": "2023-08-31T22:01:40.818Z"
   },
   {
    "duration": 10986,
    "start_time": "2023-08-31T22:02:15.522Z"
   },
   {
    "duration": 6,
    "start_time": "2023-08-31T22:03:27.777Z"
   },
   {
    "duration": 10994,
    "start_time": "2023-08-31T22:03:32.352Z"
   },
   {
    "duration": 10622,
    "start_time": "2023-08-31T22:04:23.321Z"
   },
   {
    "duration": 10541,
    "start_time": "2023-08-31T22:07:03.742Z"
   },
   {
    "duration": 10258,
    "start_time": "2023-08-31T22:07:33.926Z"
   },
   {
    "duration": 18,
    "start_time": "2023-08-31T22:12:37.874Z"
   },
   {
    "duration": 5,
    "start_time": "2023-08-31T22:18:07.705Z"
   },
   {
    "duration": 10309,
    "start_time": "2023-08-31T22:18:08.719Z"
   },
   {
    "duration": 3394,
    "start_time": "2023-08-31T22:18:54.090Z"
   },
   {
    "duration": 28,
    "start_time": "2023-08-31T22:19:11.985Z"
   },
   {
    "duration": 15241,
    "start_time": "2023-08-31T22:19:47.299Z"
   },
   {
    "duration": 70,
    "start_time": "2023-08-31T22:21:05.232Z"
   },
   {
    "duration": 10423,
    "start_time": "2023-08-31T22:21:14.680Z"
   },
   {
    "duration": 13201,
    "start_time": "2023-08-31T22:22:34.910Z"
   },
   {
    "duration": 15434,
    "start_time": "2023-08-31T22:29:50.771Z"
   },
   {
    "duration": 4,
    "start_time": "2023-08-31T22:32:31.041Z"
   },
   {
    "duration": 3053,
    "start_time": "2023-08-31T22:34:43.727Z"
   },
   {
    "duration": 13609,
    "start_time": "2023-08-31T22:35:18.401Z"
   },
   {
    "duration": 23060,
    "start_time": "2023-08-31T22:39:11.419Z"
   },
   {
    "duration": 38,
    "start_time": "2023-08-31T22:43:25.827Z"
   },
   {
    "duration": 2471,
    "start_time": "2023-08-31T23:03:05.173Z"
   },
   {
    "duration": 2358,
    "start_time": "2023-08-31T23:03:07.646Z"
   },
   {
    "duration": 2524,
    "start_time": "2023-08-31T23:03:10.006Z"
   },
   {
    "duration": 98,
    "start_time": "2023-08-31T23:03:12.532Z"
   },
   {
    "duration": 14,
    "start_time": "2023-08-31T23:03:12.632Z"
   },
   {
    "duration": 18,
    "start_time": "2023-08-31T23:03:12.648Z"
   },
   {
    "duration": 25,
    "start_time": "2023-08-31T23:03:12.667Z"
   },
   {
    "duration": 26,
    "start_time": "2023-08-31T23:03:12.693Z"
   },
   {
    "duration": 119,
    "start_time": "2023-08-31T23:03:12.721Z"
   },
   {
    "duration": 3,
    "start_time": "2023-08-31T23:03:12.847Z"
   },
   {
    "duration": 11,
    "start_time": "2023-08-31T23:03:12.852Z"
   },
   {
    "duration": 5,
    "start_time": "2023-08-31T23:03:12.864Z"
   },
   {
    "duration": 10,
    "start_time": "2023-08-31T23:03:12.871Z"
   },
   {
    "duration": 34,
    "start_time": "2023-08-31T23:03:12.883Z"
   },
   {
    "duration": 68,
    "start_time": "2023-08-31T23:03:12.919Z"
   },
   {
    "duration": 64,
    "start_time": "2023-08-31T23:03:12.989Z"
   },
   {
    "duration": 3,
    "start_time": "2023-08-31T23:03:13.055Z"
   },
   {
    "duration": 17,
    "start_time": "2023-08-31T23:03:13.060Z"
   },
   {
    "duration": 25,
    "start_time": "2023-08-31T23:03:13.079Z"
   },
   {
    "duration": 143,
    "start_time": "2023-08-31T23:03:13.106Z"
   },
   {
    "duration": 16,
    "start_time": "2023-08-31T23:03:13.251Z"
   },
   {
    "duration": 3,
    "start_time": "2023-08-31T23:03:13.269Z"
   },
   {
    "duration": 30,
    "start_time": "2023-08-31T23:03:13.274Z"
   },
   {
    "duration": 14,
    "start_time": "2023-08-31T23:03:13.305Z"
   },
   {
    "duration": 27,
    "start_time": "2023-08-31T23:03:13.320Z"
   },
   {
    "duration": 17,
    "start_time": "2023-08-31T23:03:13.349Z"
   },
   {
    "duration": 6,
    "start_time": "2023-08-31T23:03:13.368Z"
   },
   {
    "duration": 5,
    "start_time": "2023-08-31T23:03:13.379Z"
   },
   {
    "duration": 9,
    "start_time": "2023-08-31T23:03:13.386Z"
   },
   {
    "duration": 6,
    "start_time": "2023-08-31T23:03:13.397Z"
   },
   {
    "duration": 47,
    "start_time": "2023-08-31T23:03:13.404Z"
   },
   {
    "duration": 18,
    "start_time": "2023-08-31T23:03:13.452Z"
   },
   {
    "duration": 4,
    "start_time": "2023-08-31T23:03:13.472Z"
   },
   {
    "duration": 22,
    "start_time": "2023-08-31T23:03:13.478Z"
   },
   {
    "duration": 16,
    "start_time": "2023-08-31T23:03:13.501Z"
   },
   {
    "duration": 32,
    "start_time": "2023-08-31T23:03:13.518Z"
   },
   {
    "duration": 15,
    "start_time": "2023-08-31T23:03:13.552Z"
   },
   {
    "duration": 3953,
    "start_time": "2023-08-31T23:03:13.569Z"
   },
   {
    "duration": 290,
    "start_time": "2023-08-31T23:03:17.524Z"
   },
   {
    "duration": 410,
    "start_time": "2023-08-31T23:03:17.815Z"
   },
   {
    "duration": 266,
    "start_time": "2023-08-31T23:03:18.227Z"
   },
   {
    "duration": 3566,
    "start_time": "2023-08-31T23:03:18.494Z"
   },
   {
    "duration": 6,
    "start_time": "2023-08-31T23:03:22.062Z"
   },
   {
    "duration": 52,
    "start_time": "2023-08-31T23:03:22.069Z"
   },
   {
    "duration": 1358,
    "start_time": "2023-08-31T23:03:22.123Z"
   },
   {
    "duration": 3,
    "start_time": "2023-08-31T23:03:23.482Z"
   },
   {
    "duration": 24,
    "start_time": "2023-08-31T23:03:23.487Z"
   },
   {
    "duration": 22,
    "start_time": "2023-08-31T23:03:23.513Z"
   },
   {
    "duration": 17,
    "start_time": "2023-08-31T23:03:23.537Z"
   },
   {
    "duration": 35,
    "start_time": "2023-08-31T23:03:23.556Z"
   },
   {
    "duration": 2,
    "start_time": "2023-08-31T23:03:23.593Z"
   },
   {
    "duration": 26,
    "start_time": "2023-08-31T23:03:23.597Z"
   },
   {
    "duration": 14681,
    "start_time": "2023-08-31T23:03:23.625Z"
   },
   {
    "duration": 0,
    "start_time": "2023-08-31T23:03:38.308Z"
   },
   {
    "duration": 0,
    "start_time": "2023-08-31T23:03:38.310Z"
   },
   {
    "duration": 0,
    "start_time": "2023-08-31T23:03:38.311Z"
   },
   {
    "duration": 0,
    "start_time": "2023-08-31T23:03:38.312Z"
   },
   {
    "duration": 21,
    "start_time": "2023-08-31T23:04:10.507Z"
   },
   {
    "duration": 4,
    "start_time": "2023-08-31T23:04:21.300Z"
   },
   {
    "duration": 59433,
    "start_time": "2023-08-31T23:04:22.828Z"
   },
   {
    "duration": 4,
    "start_time": "2023-08-31T23:06:26.356Z"
   },
   {
    "duration": 59377,
    "start_time": "2023-08-31T23:06:27.518Z"
   },
   {
    "duration": 5,
    "start_time": "2023-08-31T23:24:48.692Z"
   },
   {
    "duration": 61,
    "start_time": "2023-08-31T23:34:27.240Z"
   },
   {
    "duration": 13075,
    "start_time": "2023-08-31T23:39:29.676Z"
   },
   {
    "duration": 11165,
    "start_time": "2023-08-31T23:39:57.224Z"
   },
   {
    "duration": 26,
    "start_time": "2023-08-31T23:44:57.179Z"
   },
   {
    "duration": 3,
    "start_time": "2023-08-31T23:45:11.105Z"
   },
   {
    "duration": 25,
    "start_time": "2023-08-31T23:45:11.682Z"
   },
   {
    "duration": 24,
    "start_time": "2023-08-31T23:45:37.054Z"
   },
   {
    "duration": 2,
    "start_time": "2023-08-31T23:53:07.622Z"
   },
   {
    "duration": 24,
    "start_time": "2023-08-31T23:53:08.361Z"
   },
   {
    "duration": 4,
    "start_time": "2023-08-31T23:53:09.066Z"
   },
   {
    "duration": 23832,
    "start_time": "2023-08-31T23:53:51.004Z"
   },
   {
    "duration": 4,
    "start_time": "2023-08-31T23:57:29.750Z"
   },
   {
    "duration": 3,
    "start_time": "2023-08-31T23:57:44.453Z"
   },
   {
    "duration": 86166,
    "start_time": "2023-08-31T23:57:47.690Z"
   },
   {
    "duration": 4,
    "start_time": "2023-08-31T23:59:13.858Z"
   },
   {
    "duration": 4,
    "start_time": "2023-09-01T00:07:02.956Z"
   },
   {
    "duration": 54317,
    "start_time": "2023-09-01T00:07:05.377Z"
   },
   {
    "duration": 4,
    "start_time": "2023-09-01T00:10:23.959Z"
   },
   {
    "duration": 51778,
    "start_time": "2023-09-01T00:10:25.878Z"
   },
   {
    "duration": 23,
    "start_time": "2023-09-01T00:13:55.296Z"
   },
   {
    "duration": 12,
    "start_time": "2023-09-01T00:13:55.799Z"
   },
   {
    "duration": 2396,
    "start_time": "2023-09-01T00:14:35.987Z"
   },
   {
    "duration": 2410,
    "start_time": "2023-09-01T00:14:38.386Z"
   },
   {
    "duration": 2418,
    "start_time": "2023-09-01T00:14:40.798Z"
   },
   {
    "duration": 101,
    "start_time": "2023-09-01T00:14:43.218Z"
   },
   {
    "duration": 15,
    "start_time": "2023-09-01T00:14:43.321Z"
   },
   {
    "duration": 11,
    "start_time": "2023-09-01T00:14:43.338Z"
   },
   {
    "duration": 14,
    "start_time": "2023-09-01T00:14:43.350Z"
   },
   {
    "duration": 23,
    "start_time": "2023-09-01T00:14:43.366Z"
   },
   {
    "duration": 108,
    "start_time": "2023-09-01T00:14:43.391Z"
   },
   {
    "duration": 3,
    "start_time": "2023-09-01T00:14:43.502Z"
   },
   {
    "duration": 32,
    "start_time": "2023-09-01T00:14:43.506Z"
   },
   {
    "duration": 3,
    "start_time": "2023-09-01T00:14:43.540Z"
   },
   {
    "duration": 10,
    "start_time": "2023-09-01T00:14:43.545Z"
   },
   {
    "duration": 34,
    "start_time": "2023-09-01T00:14:43.556Z"
   },
   {
    "duration": 62,
    "start_time": "2023-09-01T00:14:43.592Z"
   },
   {
    "duration": 48,
    "start_time": "2023-09-01T00:14:43.656Z"
   },
   {
    "duration": 3,
    "start_time": "2023-09-01T00:14:43.706Z"
   },
   {
    "duration": 9,
    "start_time": "2023-09-01T00:14:43.710Z"
   },
   {
    "duration": 47,
    "start_time": "2023-09-01T00:14:43.720Z"
   },
   {
    "duration": 129,
    "start_time": "2023-09-01T00:14:43.769Z"
   },
   {
    "duration": 14,
    "start_time": "2023-09-01T00:14:43.900Z"
   },
   {
    "duration": 4,
    "start_time": "2023-09-01T00:14:43.916Z"
   },
   {
    "duration": 27,
    "start_time": "2023-09-01T00:14:43.922Z"
   },
   {
    "duration": 10,
    "start_time": "2023-09-01T00:14:43.951Z"
   },
   {
    "duration": 12,
    "start_time": "2023-09-01T00:14:43.962Z"
   },
   {
    "duration": 15,
    "start_time": "2023-09-01T00:14:43.976Z"
   },
   {
    "duration": 6,
    "start_time": "2023-09-01T00:14:43.993Z"
   },
   {
    "duration": 5,
    "start_time": "2023-09-01T00:14:44.003Z"
   },
   {
    "duration": 43,
    "start_time": "2023-09-01T00:14:44.009Z"
   },
   {
    "duration": 6,
    "start_time": "2023-09-01T00:14:44.053Z"
   },
   {
    "duration": 7,
    "start_time": "2023-09-01T00:14:44.060Z"
   },
   {
    "duration": 17,
    "start_time": "2023-09-01T00:14:44.069Z"
   },
   {
    "duration": 5,
    "start_time": "2023-09-01T00:14:44.092Z"
   },
   {
    "duration": 53,
    "start_time": "2023-09-01T00:14:44.099Z"
   },
   {
    "duration": 17,
    "start_time": "2023-09-01T00:14:44.153Z"
   },
   {
    "duration": 6,
    "start_time": "2023-09-01T00:14:44.171Z"
   },
   {
    "duration": 5,
    "start_time": "2023-09-01T00:14:44.178Z"
   },
   {
    "duration": 4037,
    "start_time": "2023-09-01T00:14:44.185Z"
   },
   {
    "duration": 300,
    "start_time": "2023-09-01T00:14:48.224Z"
   },
   {
    "duration": 404,
    "start_time": "2023-09-01T00:14:48.526Z"
   },
   {
    "duration": 285,
    "start_time": "2023-09-01T00:14:48.932Z"
   },
   {
    "duration": 3569,
    "start_time": "2023-09-01T00:14:49.219Z"
   },
   {
    "duration": 6,
    "start_time": "2023-09-01T00:14:52.790Z"
   },
   {
    "duration": 7,
    "start_time": "2023-09-01T00:14:52.797Z"
   },
   {
    "duration": 1338,
    "start_time": "2023-09-01T00:14:52.805Z"
   },
   {
    "duration": 4,
    "start_time": "2023-09-01T00:14:54.144Z"
   },
   {
    "duration": 7,
    "start_time": "2023-09-01T00:14:54.150Z"
   },
   {
    "duration": 17,
    "start_time": "2023-09-01T00:14:54.159Z"
   },
   {
    "duration": 14,
    "start_time": "2023-09-01T00:14:54.178Z"
   },
   {
    "duration": 19,
    "start_time": "2023-09-01T00:14:54.194Z"
   },
   {
    "duration": 18,
    "start_time": "2023-09-01T00:14:54.215Z"
   },
   {
    "duration": 183,
    "start_time": "2023-09-01T00:14:54.234Z"
   },
   {
    "duration": 0,
    "start_time": "2023-09-01T00:14:54.418Z"
   },
   {
    "duration": 0,
    "start_time": "2023-09-01T00:14:54.420Z"
   },
   {
    "duration": 0,
    "start_time": "2023-09-01T00:14:54.421Z"
   },
   {
    "duration": 2,
    "start_time": "2023-09-01T00:15:21.539Z"
   },
   {
    "duration": 34,
    "start_time": "2023-09-01T00:15:22.031Z"
   },
   {
    "duration": 15,
    "start_time": "2023-09-01T00:15:22.935Z"
   },
   {
    "duration": 3,
    "start_time": "2023-09-01T00:15:24.452Z"
   },
   {
    "duration": 15,
    "start_time": "2023-09-01T00:15:24.988Z"
   },
   {
    "duration": 119,
    "start_time": "2023-09-01T00:15:46.627Z"
   },
   {
    "duration": 100,
    "start_time": "2023-09-01T00:15:52.906Z"
   },
   {
    "duration": 116,
    "start_time": "2023-09-01T00:16:01.979Z"
   },
   {
    "duration": 95,
    "start_time": "2023-09-01T00:16:06.593Z"
   },
   {
    "duration": 126,
    "start_time": "2023-09-01T00:16:16.842Z"
   },
   {
    "duration": 2,
    "start_time": "2023-09-01T00:16:31.059Z"
   },
   {
    "duration": 51066,
    "start_time": "2023-09-01T00:16:33.530Z"
   },
   {
    "duration": 81366,
    "start_time": "2023-09-01T00:17:52.275Z"
   },
   {
    "duration": 3,
    "start_time": "2023-09-01T00:19:35.098Z"
   },
   {
    "duration": 2506,
    "start_time": "2023-09-01T00:40:59.412Z"
   },
   {
    "duration": 2341,
    "start_time": "2023-09-01T00:41:01.920Z"
   },
   {
    "duration": 2576,
    "start_time": "2023-09-01T00:41:04.263Z"
   },
   {
    "duration": 103,
    "start_time": "2023-09-01T00:41:06.841Z"
   },
   {
    "duration": 15,
    "start_time": "2023-09-01T00:41:06.946Z"
   },
   {
    "duration": 30,
    "start_time": "2023-09-01T00:41:06.963Z"
   },
   {
    "duration": 16,
    "start_time": "2023-09-01T00:41:06.994Z"
   },
   {
    "duration": 15,
    "start_time": "2023-09-01T00:41:07.011Z"
   },
   {
    "duration": 107,
    "start_time": "2023-09-01T00:41:07.028Z"
   },
   {
    "duration": 9,
    "start_time": "2023-09-01T00:41:07.138Z"
   },
   {
    "duration": 5,
    "start_time": "2023-09-01T00:41:07.149Z"
   },
   {
    "duration": 7,
    "start_time": "2023-09-01T00:41:07.155Z"
   },
   {
    "duration": 13,
    "start_time": "2023-09-01T00:41:07.163Z"
   },
   {
    "duration": 51,
    "start_time": "2023-09-01T00:41:07.178Z"
   },
   {
    "duration": 50,
    "start_time": "2023-09-01T00:41:07.231Z"
   },
   {
    "duration": 47,
    "start_time": "2023-09-01T00:41:07.283Z"
   },
   {
    "duration": 15,
    "start_time": "2023-09-01T00:41:07.332Z"
   },
   {
    "duration": 8,
    "start_time": "2023-09-01T00:41:07.348Z"
   },
   {
    "duration": 33,
    "start_time": "2023-09-01T00:41:07.358Z"
   },
   {
    "duration": 135,
    "start_time": "2023-09-01T00:41:07.393Z"
   },
   {
    "duration": 24,
    "start_time": "2023-09-01T00:41:07.530Z"
   },
   {
    "duration": 5,
    "start_time": "2023-09-01T00:41:07.555Z"
   },
   {
    "duration": 10,
    "start_time": "2023-09-01T00:41:07.561Z"
   },
   {
    "duration": 10,
    "start_time": "2023-09-01T00:41:07.572Z"
   },
   {
    "duration": 11,
    "start_time": "2023-09-01T00:41:07.583Z"
   },
   {
    "duration": 17,
    "start_time": "2023-09-01T00:41:07.596Z"
   },
   {
    "duration": 58,
    "start_time": "2023-09-01T00:41:07.615Z"
   },
   {
    "duration": 63,
    "start_time": "2023-09-01T00:41:07.678Z"
   },
   {
    "duration": 16,
    "start_time": "2023-09-01T00:41:07.743Z"
   },
   {
    "duration": 12,
    "start_time": "2023-09-01T00:41:07.761Z"
   },
   {
    "duration": 17,
    "start_time": "2023-09-01T00:41:07.775Z"
   },
   {
    "duration": 17,
    "start_time": "2023-09-01T00:41:07.793Z"
   },
   {
    "duration": 5,
    "start_time": "2023-09-01T00:41:07.811Z"
   },
   {
    "duration": 32,
    "start_time": "2023-09-01T00:41:07.817Z"
   },
   {
    "duration": 14,
    "start_time": "2023-09-01T00:41:07.851Z"
   },
   {
    "duration": 16,
    "start_time": "2023-09-01T00:41:07.867Z"
   },
   {
    "duration": 4,
    "start_time": "2023-09-01T00:41:07.885Z"
   },
   {
    "duration": 3924,
    "start_time": "2023-09-01T00:41:07.890Z"
   },
   {
    "duration": 295,
    "start_time": "2023-09-01T00:41:11.816Z"
   },
   {
    "duration": 425,
    "start_time": "2023-09-01T00:41:12.114Z"
   },
   {
    "duration": 284,
    "start_time": "2023-09-01T00:41:12.541Z"
   },
   {
    "duration": 3544,
    "start_time": "2023-09-01T00:41:12.826Z"
   },
   {
    "duration": 8,
    "start_time": "2023-09-01T00:41:16.373Z"
   },
   {
    "duration": 10,
    "start_time": "2023-09-01T00:41:16.383Z"
   },
   {
    "duration": 1356,
    "start_time": "2023-09-01T00:41:16.395Z"
   },
   {
    "duration": 3,
    "start_time": "2023-09-01T00:41:17.753Z"
   },
   {
    "duration": 16,
    "start_time": "2023-09-01T00:41:17.758Z"
   },
   {
    "duration": 9,
    "start_time": "2023-09-01T00:41:17.776Z"
   },
   {
    "duration": 11,
    "start_time": "2023-09-01T00:41:17.787Z"
   },
   {
    "duration": 47,
    "start_time": "2023-09-01T00:41:17.800Z"
   },
   {
    "duration": 5,
    "start_time": "2023-09-01T00:41:17.849Z"
   },
   {
    "duration": 38,
    "start_time": "2023-09-01T00:41:17.855Z"
   },
   {
    "duration": 16,
    "start_time": "2023-09-01T00:41:17.895Z"
   },
   {
    "duration": 5,
    "start_time": "2023-09-01T00:41:17.913Z"
   },
   {
    "duration": 53011,
    "start_time": "2023-09-01T00:41:17.920Z"
   },
   {
    "duration": 4,
    "start_time": "2023-09-01T00:42:55.954Z"
   },
   {
    "duration": 37521,
    "start_time": "2023-09-01T00:42:56.571Z"
   },
   {
    "duration": 3,
    "start_time": "2023-09-01T00:44:01.419Z"
   },
   {
    "duration": 2384,
    "start_time": "2023-09-01T00:50:20.238Z"
   },
   {
    "duration": 2348,
    "start_time": "2023-09-01T00:50:22.624Z"
   },
   {
    "duration": 2734,
    "start_time": "2023-09-01T00:50:24.975Z"
   },
   {
    "duration": 100,
    "start_time": "2023-09-01T00:50:27.711Z"
   },
   {
    "duration": 15,
    "start_time": "2023-09-01T00:50:27.812Z"
   },
   {
    "duration": 8,
    "start_time": "2023-09-01T00:50:27.829Z"
   },
   {
    "duration": 13,
    "start_time": "2023-09-01T00:50:27.839Z"
   },
   {
    "duration": 8,
    "start_time": "2023-09-01T00:50:27.853Z"
   },
   {
    "duration": 121,
    "start_time": "2023-09-01T00:50:27.862Z"
   },
   {
    "duration": 3,
    "start_time": "2023-09-01T00:50:27.986Z"
   },
   {
    "duration": 8,
    "start_time": "2023-09-01T00:50:27.990Z"
   },
   {
    "duration": 5,
    "start_time": "2023-09-01T00:50:27.999Z"
   },
   {
    "duration": 12,
    "start_time": "2023-09-01T00:50:28.005Z"
   },
   {
    "duration": 56,
    "start_time": "2023-09-01T00:50:28.019Z"
   },
   {
    "duration": 40,
    "start_time": "2023-09-01T00:50:28.077Z"
   },
   {
    "duration": 65,
    "start_time": "2023-09-01T00:50:28.118Z"
   },
   {
    "duration": 3,
    "start_time": "2023-09-01T00:50:28.185Z"
   },
   {
    "duration": 9,
    "start_time": "2023-09-01T00:50:28.189Z"
   },
   {
    "duration": 26,
    "start_time": "2023-09-01T00:50:28.199Z"
   },
   {
    "duration": 130,
    "start_time": "2023-09-01T00:50:28.246Z"
   },
   {
    "duration": 15,
    "start_time": "2023-09-01T00:50:28.378Z"
   },
   {
    "duration": 6,
    "start_time": "2023-09-01T00:50:28.395Z"
   },
   {
    "duration": 10,
    "start_time": "2023-09-01T00:50:28.402Z"
   },
   {
    "duration": 34,
    "start_time": "2023-09-01T00:50:28.413Z"
   },
   {
    "duration": 12,
    "start_time": "2023-09-01T00:50:28.449Z"
   },
   {
    "duration": 18,
    "start_time": "2023-09-01T00:50:28.462Z"
   },
   {
    "duration": 6,
    "start_time": "2023-09-01T00:50:28.482Z"
   },
   {
    "duration": 5,
    "start_time": "2023-09-01T00:50:28.493Z"
   },
   {
    "duration": 6,
    "start_time": "2023-09-01T00:50:28.500Z"
   },
   {
    "duration": 40,
    "start_time": "2023-09-01T00:50:28.508Z"
   },
   {
    "duration": 20,
    "start_time": "2023-09-01T00:50:28.549Z"
   },
   {
    "duration": 28,
    "start_time": "2023-09-01T00:50:28.570Z"
   },
   {
    "duration": 5,
    "start_time": "2023-09-01T00:50:28.599Z"
   },
   {
    "duration": 25,
    "start_time": "2023-09-01T00:50:28.605Z"
   },
   {
    "duration": 22,
    "start_time": "2023-09-01T00:50:28.632Z"
   },
   {
    "duration": 5,
    "start_time": "2023-09-01T00:50:28.656Z"
   },
   {
    "duration": 6,
    "start_time": "2023-09-01T00:50:28.662Z"
   },
   {
    "duration": 3946,
    "start_time": "2023-09-01T00:50:28.670Z"
   },
   {
    "duration": 286,
    "start_time": "2023-09-01T00:50:32.618Z"
   },
   {
    "duration": 403,
    "start_time": "2023-09-01T00:50:32.906Z"
   },
   {
    "duration": 273,
    "start_time": "2023-09-01T00:50:33.311Z"
   },
   {
    "duration": 3517,
    "start_time": "2023-09-01T00:50:33.586Z"
   },
   {
    "duration": 6,
    "start_time": "2023-09-01T00:50:37.104Z"
   },
   {
    "duration": 4,
    "start_time": "2023-09-01T00:50:37.112Z"
   },
   {
    "duration": 1323,
    "start_time": "2023-09-01T00:50:37.118Z"
   },
   {
    "duration": 5,
    "start_time": "2023-09-01T00:50:38.442Z"
   },
   {
    "duration": 6,
    "start_time": "2023-09-01T00:50:38.449Z"
   },
   {
    "duration": 15,
    "start_time": "2023-09-01T00:50:38.457Z"
   },
   {
    "duration": 5,
    "start_time": "2023-09-01T00:50:38.473Z"
   },
   {
    "duration": 31,
    "start_time": "2023-09-01T00:50:38.479Z"
   },
   {
    "duration": 10,
    "start_time": "2023-09-01T00:50:38.512Z"
   },
   {
    "duration": 35,
    "start_time": "2023-09-01T00:50:38.523Z"
   },
   {
    "duration": 14,
    "start_time": "2023-09-01T00:50:38.560Z"
   },
   {
    "duration": 2425,
    "start_time": "2023-09-01T00:58:49.350Z"
   },
   {
    "duration": 2327,
    "start_time": "2023-09-01T00:58:51.778Z"
   },
   {
    "duration": 2528,
    "start_time": "2023-09-01T00:58:54.108Z"
   },
   {
    "duration": 101,
    "start_time": "2023-09-01T00:58:56.638Z"
   },
   {
    "duration": 16,
    "start_time": "2023-09-01T00:58:56.741Z"
   },
   {
    "duration": 10,
    "start_time": "2023-09-01T00:58:56.758Z"
   },
   {
    "duration": 13,
    "start_time": "2023-09-01T00:58:56.770Z"
   },
   {
    "duration": 12,
    "start_time": "2023-09-01T00:58:56.785Z"
   },
   {
    "duration": 124,
    "start_time": "2023-09-01T00:58:56.799Z"
   },
   {
    "duration": 3,
    "start_time": "2023-09-01T00:58:56.925Z"
   },
   {
    "duration": 20,
    "start_time": "2023-09-01T00:58:56.929Z"
   },
   {
    "duration": 3,
    "start_time": "2023-09-01T00:58:56.951Z"
   },
   {
    "duration": 20,
    "start_time": "2023-09-01T00:58:56.955Z"
   },
   {
    "duration": 38,
    "start_time": "2023-09-01T00:58:56.978Z"
   },
   {
    "duration": 65,
    "start_time": "2023-09-01T00:58:57.018Z"
   },
   {
    "duration": 64,
    "start_time": "2023-09-01T00:58:57.085Z"
   },
   {
    "duration": 3,
    "start_time": "2023-09-01T00:58:57.151Z"
   },
   {
    "duration": 9,
    "start_time": "2023-09-01T00:58:57.155Z"
   },
   {
    "duration": 38,
    "start_time": "2023-09-01T00:58:57.166Z"
   },
   {
    "duration": 131,
    "start_time": "2023-09-01T00:58:57.206Z"
   },
   {
    "duration": 21,
    "start_time": "2023-09-01T00:58:57.339Z"
   },
   {
    "duration": 8,
    "start_time": "2023-09-01T00:58:57.361Z"
   },
   {
    "duration": 11,
    "start_time": "2023-09-01T00:58:57.370Z"
   },
   {
    "duration": 16,
    "start_time": "2023-09-01T00:58:57.383Z"
   },
   {
    "duration": 16,
    "start_time": "2023-09-01T00:58:57.401Z"
   },
   {
    "duration": 30,
    "start_time": "2023-09-01T00:58:57.418Z"
   },
   {
    "duration": 7,
    "start_time": "2023-09-01T00:58:57.449Z"
   },
   {
    "duration": 18,
    "start_time": "2023-09-01T00:58:57.457Z"
   },
   {
    "duration": 11,
    "start_time": "2023-09-01T00:58:57.477Z"
   },
   {
    "duration": 10,
    "start_time": "2023-09-01T00:58:57.489Z"
   },
   {
    "duration": 8,
    "start_time": "2023-09-01T00:58:57.501Z"
   },
   {
    "duration": 17,
    "start_time": "2023-09-01T00:58:57.510Z"
   },
   {
    "duration": 17,
    "start_time": "2023-09-01T00:58:57.529Z"
   },
   {
    "duration": 22,
    "start_time": "2023-09-01T00:58:57.548Z"
   },
   {
    "duration": 16,
    "start_time": "2023-09-01T00:58:57.572Z"
   },
   {
    "duration": 5,
    "start_time": "2023-09-01T00:58:57.590Z"
   },
   {
    "duration": 4,
    "start_time": "2023-09-01T00:58:57.596Z"
   },
   {
    "duration": 3918,
    "start_time": "2023-09-01T00:58:57.601Z"
   },
   {
    "duration": 295,
    "start_time": "2023-09-01T00:59:01.521Z"
   },
   {
    "duration": 418,
    "start_time": "2023-09-01T00:59:01.817Z"
   },
   {
    "duration": 273,
    "start_time": "2023-09-01T00:59:02.240Z"
   },
   {
    "duration": 3444,
    "start_time": "2023-09-01T00:59:02.515Z"
   },
   {
    "duration": 8,
    "start_time": "2023-09-01T00:59:05.962Z"
   },
   {
    "duration": 50,
    "start_time": "2023-09-01T00:59:05.971Z"
   },
   {
    "duration": 1319,
    "start_time": "2023-09-01T00:59:06.023Z"
   },
   {
    "duration": 3,
    "start_time": "2023-09-01T00:59:07.344Z"
   },
   {
    "duration": 11,
    "start_time": "2023-09-01T00:59:07.348Z"
   },
   {
    "duration": 8,
    "start_time": "2023-09-01T00:59:07.361Z"
   },
   {
    "duration": 26,
    "start_time": "2023-09-01T00:59:07.370Z"
   },
   {
    "duration": 23,
    "start_time": "2023-09-01T00:59:07.398Z"
   },
   {
    "duration": 2,
    "start_time": "2023-09-01T00:59:07.423Z"
   },
   {
    "duration": 35,
    "start_time": "2023-09-01T00:59:07.427Z"
   },
   {
    "duration": 14,
    "start_time": "2023-09-01T00:59:07.464Z"
   },
   {
    "duration": 4,
    "start_time": "2023-09-01T00:59:07.479Z"
   },
   {
    "duration": 22589,
    "start_time": "2023-09-01T00:59:07.485Z"
   },
   {
    "duration": 0,
    "start_time": "2023-09-01T00:59:30.076Z"
   },
   {
    "duration": 3,
    "start_time": "2023-09-01T00:59:59.981Z"
   },
   {
    "duration": 13,
    "start_time": "2023-09-01T01:00:02.960Z"
   },
   {
    "duration": 30346,
    "start_time": "2023-09-01T01:00:37.534Z"
   },
   {
    "duration": 13,
    "start_time": "2023-09-01T01:01:07.882Z"
   },
   {
    "duration": 13,
    "start_time": "2023-09-01T01:01:46.144Z"
   },
   {
    "duration": 3,
    "start_time": "2023-09-01T01:02:39.986Z"
   },
   {
    "duration": 5904,
    "start_time": "2023-09-01T01:02:41.783Z"
   },
   {
    "duration": 4,
    "start_time": "2023-09-01T01:02:57.849Z"
   },
   {
    "duration": 4066,
    "start_time": "2023-09-01T01:02:58.383Z"
   },
   {
    "duration": 4,
    "start_time": "2023-09-01T01:03:10.242Z"
   },
   {
    "duration": 5900,
    "start_time": "2023-09-01T01:03:10.614Z"
   },
   {
    "duration": 4,
    "start_time": "2023-09-01T01:03:25.180Z"
   },
   {
    "duration": 5964,
    "start_time": "2023-09-01T01:03:25.505Z"
   },
   {
    "duration": 4,
    "start_time": "2023-09-01T01:03:37.413Z"
   },
   {
    "duration": 6165,
    "start_time": "2023-09-01T01:03:37.811Z"
   },
   {
    "duration": 4,
    "start_time": "2023-09-01T01:03:53.888Z"
   },
   {
    "duration": 5919,
    "start_time": "2023-09-01T01:03:54.223Z"
   },
   {
    "duration": 3,
    "start_time": "2023-09-01T01:04:08.437Z"
   },
   {
    "duration": 7929,
    "start_time": "2023-09-01T01:04:10.015Z"
   },
   {
    "duration": 3,
    "start_time": "2023-09-01T01:04:26.545Z"
   },
   {
    "duration": 7894,
    "start_time": "2023-09-01T01:04:26.845Z"
   },
   {
    "duration": 3,
    "start_time": "2023-09-01T01:04:45.601Z"
   },
   {
    "duration": 6097,
    "start_time": "2023-09-01T01:04:45.905Z"
   },
   {
    "duration": 3,
    "start_time": "2023-09-01T01:06:15.141Z"
   },
   {
    "duration": 5727,
    "start_time": "2023-09-01T01:06:15.383Z"
   },
   {
    "duration": 4,
    "start_time": "2023-09-01T01:06:39.455Z"
   },
   {
    "duration": 5520,
    "start_time": "2023-09-01T01:06:39.666Z"
   },
   {
    "duration": 4,
    "start_time": "2023-09-01T01:07:34.085Z"
   },
   {
    "duration": 6618,
    "start_time": "2023-09-01T01:07:34.493Z"
   },
   {
    "duration": 3,
    "start_time": "2023-09-01T01:07:49.355Z"
   },
   {
    "duration": 6524,
    "start_time": "2023-09-01T01:07:49.677Z"
   },
   {
    "duration": 3,
    "start_time": "2023-09-01T01:08:02.585Z"
   },
   {
    "duration": 6561,
    "start_time": "2023-09-01T01:08:02.891Z"
   },
   {
    "duration": 3,
    "start_time": "2023-09-01T01:08:24.468Z"
   },
   {
    "duration": 6601,
    "start_time": "2023-09-01T01:08:24.737Z"
   },
   {
    "duration": 3,
    "start_time": "2023-09-01T01:08:42.947Z"
   },
   {
    "duration": 5236,
    "start_time": "2023-09-01T01:08:43.267Z"
   },
   {
    "duration": 4,
    "start_time": "2023-09-01T01:09:51.835Z"
   },
   {
    "duration": 5338,
    "start_time": "2023-09-01T01:09:52.190Z"
   },
   {
    "duration": 4,
    "start_time": "2023-09-01T01:11:14.761Z"
   },
   {
    "duration": 5467,
    "start_time": "2023-09-01T01:11:15.206Z"
   },
   {
    "duration": 5669,
    "start_time": "2023-09-01T01:11:31.686Z"
   },
   {
    "duration": 3,
    "start_time": "2023-09-01T01:12:59.837Z"
   },
   {
    "duration": 15,
    "start_time": "2023-09-01T01:13:00.259Z"
   },
   {
    "duration": 6696,
    "start_time": "2023-09-01T01:14:49.102Z"
   },
   {
    "duration": 6862,
    "start_time": "2023-09-01T01:15:53.594Z"
   },
   {
    "duration": 5675,
    "start_time": "2023-09-01T01:16:17.412Z"
   },
   {
    "duration": 1443,
    "start_time": "2023-09-01T01:18:19.043Z"
   },
   {
    "duration": 0,
    "start_time": "2023-09-01T01:18:20.488Z"
   },
   {
    "duration": 2349,
    "start_time": "2023-09-01T01:21:32.146Z"
   },
   {
    "duration": 2390,
    "start_time": "2023-09-01T01:21:34.497Z"
   },
   {
    "duration": 2425,
    "start_time": "2023-09-01T01:21:36.889Z"
   },
   {
    "duration": 97,
    "start_time": "2023-09-01T01:21:39.317Z"
   },
   {
    "duration": 16,
    "start_time": "2023-09-01T01:21:39.415Z"
   },
   {
    "duration": 8,
    "start_time": "2023-09-01T01:21:39.433Z"
   },
   {
    "duration": 10,
    "start_time": "2023-09-01T01:21:39.443Z"
   },
   {
    "duration": 11,
    "start_time": "2023-09-01T01:21:39.455Z"
   },
   {
    "duration": 115,
    "start_time": "2023-09-01T01:21:39.467Z"
   },
   {
    "duration": 2,
    "start_time": "2023-09-01T01:21:39.585Z"
   },
   {
    "duration": 9,
    "start_time": "2023-09-01T01:21:39.589Z"
   },
   {
    "duration": 56,
    "start_time": "2023-09-01T01:21:39.599Z"
   },
   {
    "duration": 14,
    "start_time": "2023-09-01T01:21:39.657Z"
   },
   {
    "duration": 35,
    "start_time": "2023-09-01T01:21:39.672Z"
   },
   {
    "duration": 46,
    "start_time": "2023-09-01T01:21:39.709Z"
   },
   {
    "duration": 52,
    "start_time": "2023-09-01T01:21:39.757Z"
   },
   {
    "duration": 2,
    "start_time": "2023-09-01T01:21:39.811Z"
   },
   {
    "duration": 33,
    "start_time": "2023-09-01T01:21:39.815Z"
   },
   {
    "duration": 24,
    "start_time": "2023-09-01T01:21:39.850Z"
   },
   {
    "duration": 139,
    "start_time": "2023-09-01T01:21:39.876Z"
   },
   {
    "duration": 14,
    "start_time": "2023-09-01T01:21:40.017Z"
   },
   {
    "duration": 2,
    "start_time": "2023-09-01T01:21:40.047Z"
   },
   {
    "duration": 18,
    "start_time": "2023-09-01T01:21:40.051Z"
   },
   {
    "duration": 10,
    "start_time": "2023-09-01T01:21:40.071Z"
   },
   {
    "duration": 15,
    "start_time": "2023-09-01T01:21:40.083Z"
   },
   {
    "duration": 16,
    "start_time": "2023-09-01T01:21:40.100Z"
   },
   {
    "duration": 12,
    "start_time": "2023-09-01T01:21:40.117Z"
   },
   {
    "duration": 4,
    "start_time": "2023-09-01T01:21:40.147Z"
   },
   {
    "duration": 10,
    "start_time": "2023-09-01T01:21:40.153Z"
   },
   {
    "duration": 6,
    "start_time": "2023-09-01T01:21:40.164Z"
   },
   {
    "duration": 8,
    "start_time": "2023-09-01T01:21:40.171Z"
   },
   {
    "duration": 16,
    "start_time": "2023-09-01T01:21:40.180Z"
   },
   {
    "duration": 4,
    "start_time": "2023-09-01T01:21:40.197Z"
   },
   {
    "duration": 6,
    "start_time": "2023-09-01T01:21:40.203Z"
   },
   {
    "duration": 0,
    "start_time": "2023-09-01T01:21:40.210Z"
   },
   {
    "duration": 0,
    "start_time": "2023-09-01T01:21:40.211Z"
   },
   {
    "duration": 0,
    "start_time": "2023-09-01T01:21:40.247Z"
   },
   {
    "duration": 0,
    "start_time": "2023-09-01T01:21:40.248Z"
   },
   {
    "duration": 0,
    "start_time": "2023-09-01T01:21:40.249Z"
   },
   {
    "duration": 0,
    "start_time": "2023-09-01T01:21:40.250Z"
   },
   {
    "duration": 0,
    "start_time": "2023-09-01T01:21:40.251Z"
   },
   {
    "duration": 0,
    "start_time": "2023-09-01T01:21:40.251Z"
   },
   {
    "duration": 0,
    "start_time": "2023-09-01T01:21:40.253Z"
   },
   {
    "duration": 0,
    "start_time": "2023-09-01T01:21:40.254Z"
   },
   {
    "duration": 0,
    "start_time": "2023-09-01T01:21:40.255Z"
   },
   {
    "duration": 0,
    "start_time": "2023-09-01T01:21:40.256Z"
   },
   {
    "duration": 0,
    "start_time": "2023-09-01T01:21:40.257Z"
   },
   {
    "duration": 0,
    "start_time": "2023-09-01T01:21:40.258Z"
   },
   {
    "duration": 0,
    "start_time": "2023-09-01T01:21:40.260Z"
   },
   {
    "duration": 0,
    "start_time": "2023-09-01T01:21:40.261Z"
   },
   {
    "duration": 0,
    "start_time": "2023-09-01T01:21:40.263Z"
   },
   {
    "duration": 0,
    "start_time": "2023-09-01T01:21:40.264Z"
   },
   {
    "duration": 0,
    "start_time": "2023-09-01T01:21:40.266Z"
   },
   {
    "duration": 1,
    "start_time": "2023-09-01T01:21:40.267Z"
   },
   {
    "duration": 0,
    "start_time": "2023-09-01T01:21:40.269Z"
   },
   {
    "duration": 0,
    "start_time": "2023-09-01T01:21:40.271Z"
   },
   {
    "duration": 3,
    "start_time": "2023-09-01T01:22:12.060Z"
   },
   {
    "duration": 5,
    "start_time": "2023-09-01T01:22:39.322Z"
   },
   {
    "duration": 23,
    "start_time": "2023-09-01T01:22:43.293Z"
   },
   {
    "duration": 6,
    "start_time": "2023-09-01T01:22:48.261Z"
   },
   {
    "duration": 4,
    "start_time": "2023-09-01T01:22:48.577Z"
   },
   {
    "duration": 3871,
    "start_time": "2023-09-01T01:22:48.740Z"
   },
   {
    "duration": 291,
    "start_time": "2023-09-01T01:22:52.613Z"
   },
   {
    "duration": 397,
    "start_time": "2023-09-01T01:22:52.906Z"
   },
   {
    "duration": 268,
    "start_time": "2023-09-01T01:22:53.305Z"
   },
   {
    "duration": 3771,
    "start_time": "2023-09-01T01:22:53.575Z"
   },
   {
    "duration": 6,
    "start_time": "2023-09-01T01:22:57.348Z"
   },
   {
    "duration": 6,
    "start_time": "2023-09-01T01:22:57.356Z"
   },
   {
    "duration": 1501,
    "start_time": "2023-09-01T01:22:57.363Z"
   },
   {
    "duration": 2,
    "start_time": "2023-09-01T01:22:58.866Z"
   },
   {
    "duration": 15,
    "start_time": "2023-09-01T01:22:58.871Z"
   },
   {
    "duration": 9,
    "start_time": "2023-09-01T01:22:58.888Z"
   },
   {
    "duration": 6,
    "start_time": "2023-09-01T01:22:58.899Z"
   },
   {
    "duration": 14,
    "start_time": "2023-09-01T01:22:58.907Z"
   },
   {
    "duration": 3,
    "start_time": "2023-09-01T01:22:58.923Z"
   },
   {
    "duration": 52,
    "start_time": "2023-09-01T01:22:58.928Z"
   },
   {
    "duration": 200,
    "start_time": "2023-09-01T01:22:58.981Z"
   },
   {
    "duration": 0,
    "start_time": "2023-09-01T01:22:59.183Z"
   },
   {
    "duration": 0,
    "start_time": "2023-09-01T01:22:59.184Z"
   },
   {
    "duration": 12,
    "start_time": "2023-09-01T01:24:16.809Z"
   },
   {
    "duration": 3,
    "start_time": "2023-09-01T01:25:13.061Z"
   },
   {
    "duration": 33,
    "start_time": "2023-09-01T01:25:19.292Z"
   },
   {
    "duration": 17,
    "start_time": "2023-09-01T01:25:27.611Z"
   },
   {
    "duration": 4,
    "start_time": "2023-09-01T01:25:29.052Z"
   },
   {
    "duration": 5595,
    "start_time": "2023-09-01T01:25:29.547Z"
   },
   {
    "duration": 21,
    "start_time": "2023-09-01T01:29:36.410Z"
   },
   {
    "duration": 1708,
    "start_time": "2023-09-01T01:29:37.929Z"
   },
   {
    "duration": 3,
    "start_time": "2023-09-01T01:29:40.637Z"
   },
   {
    "duration": 2420,
    "start_time": "2023-09-01T01:30:02.593Z"
   },
   {
    "duration": 2446,
    "start_time": "2023-09-01T01:30:05.015Z"
   },
   {
    "duration": 2477,
    "start_time": "2023-09-01T01:30:07.463Z"
   },
   {
    "duration": 101,
    "start_time": "2023-09-01T01:30:09.943Z"
   },
   {
    "duration": 15,
    "start_time": "2023-09-01T01:30:10.046Z"
   },
   {
    "duration": 18,
    "start_time": "2023-09-01T01:30:10.063Z"
   },
   {
    "duration": 17,
    "start_time": "2023-09-01T01:30:10.083Z"
   },
   {
    "duration": 19,
    "start_time": "2023-09-01T01:30:10.101Z"
   },
   {
    "duration": 119,
    "start_time": "2023-09-01T01:30:10.122Z"
   },
   {
    "duration": 3,
    "start_time": "2023-09-01T01:30:10.246Z"
   },
   {
    "duration": 7,
    "start_time": "2023-09-01T01:30:10.251Z"
   },
   {
    "duration": 2,
    "start_time": "2023-09-01T01:30:10.260Z"
   },
   {
    "duration": 9,
    "start_time": "2023-09-01T01:30:10.264Z"
   },
   {
    "duration": 40,
    "start_time": "2023-09-01T01:30:10.274Z"
   },
   {
    "duration": 83,
    "start_time": "2023-09-01T01:30:10.316Z"
   },
   {
    "duration": 68,
    "start_time": "2023-09-01T01:30:10.401Z"
   },
   {
    "duration": 3,
    "start_time": "2023-09-01T01:30:10.471Z"
   },
   {
    "duration": 13,
    "start_time": "2023-09-01T01:30:10.476Z"
   },
   {
    "duration": 24,
    "start_time": "2023-09-01T01:30:10.490Z"
   },
   {
    "duration": 145,
    "start_time": "2023-09-01T01:30:10.515Z"
   },
   {
    "duration": 15,
    "start_time": "2023-09-01T01:30:10.661Z"
   },
   {
    "duration": 6,
    "start_time": "2023-09-01T01:30:10.678Z"
   },
   {
    "duration": 10,
    "start_time": "2023-09-01T01:30:10.686Z"
   },
   {
    "duration": 9,
    "start_time": "2023-09-01T01:30:10.698Z"
   },
   {
    "duration": 39,
    "start_time": "2023-09-01T01:30:10.708Z"
   },
   {
    "duration": 16,
    "start_time": "2023-09-01T01:30:10.748Z"
   },
   {
    "duration": 6,
    "start_time": "2023-09-01T01:30:10.766Z"
   },
   {
    "duration": 5,
    "start_time": "2023-09-01T01:30:10.775Z"
   },
   {
    "duration": 7,
    "start_time": "2023-09-01T01:30:10.781Z"
   },
   {
    "duration": 5,
    "start_time": "2023-09-01T01:30:10.789Z"
   },
   {
    "duration": 6,
    "start_time": "2023-09-01T01:30:10.796Z"
   },
   {
    "duration": 54,
    "start_time": "2023-09-01T01:30:10.804Z"
   },
   {
    "duration": 4,
    "start_time": "2023-09-01T01:30:10.860Z"
   },
   {
    "duration": 4,
    "start_time": "2023-09-01T01:30:10.866Z"
   },
   {
    "duration": 21,
    "start_time": "2023-09-01T01:30:10.872Z"
   },
   {
    "duration": 5,
    "start_time": "2023-09-01T01:30:10.895Z"
   },
   {
    "duration": 4,
    "start_time": "2023-09-01T01:30:10.901Z"
   },
   {
    "duration": 3906,
    "start_time": "2023-09-01T01:30:10.907Z"
   },
   {
    "duration": 287,
    "start_time": "2023-09-01T01:30:14.815Z"
   },
   {
    "duration": 421,
    "start_time": "2023-09-01T01:30:15.104Z"
   },
   {
    "duration": 276,
    "start_time": "2023-09-01T01:30:15.527Z"
   },
   {
    "duration": 3822,
    "start_time": "2023-09-01T01:30:15.805Z"
   },
   {
    "duration": 8,
    "start_time": "2023-09-01T01:30:19.628Z"
   },
   {
    "duration": 5,
    "start_time": "2023-09-01T01:30:19.647Z"
   },
   {
    "duration": 1354,
    "start_time": "2023-09-01T01:30:19.653Z"
   },
   {
    "duration": 2,
    "start_time": "2023-09-01T01:30:21.009Z"
   },
   {
    "duration": 36,
    "start_time": "2023-09-01T01:30:21.013Z"
   },
   {
    "duration": 18,
    "start_time": "2023-09-01T01:30:21.051Z"
   },
   {
    "duration": 16,
    "start_time": "2023-09-01T01:30:21.071Z"
   },
   {
    "duration": 16,
    "start_time": "2023-09-01T01:30:21.088Z"
   },
   {
    "duration": 18,
    "start_time": "2023-09-01T01:30:21.106Z"
   },
   {
    "duration": 40,
    "start_time": "2023-09-01T01:30:21.126Z"
   },
   {
    "duration": 15,
    "start_time": "2023-09-01T01:30:21.168Z"
   },
   {
    "duration": 3,
    "start_time": "2023-09-01T01:30:21.184Z"
   },
   {
    "duration": 5922,
    "start_time": "2023-09-01T01:30:21.189Z"
   },
   {
    "duration": 4,
    "start_time": "2023-09-01T01:30:51.604Z"
   },
   {
    "duration": 9712,
    "start_time": "2023-09-01T01:30:52.125Z"
   },
   {
    "duration": 2414,
    "start_time": "2023-09-01T01:31:58.462Z"
   },
   {
    "duration": 2383,
    "start_time": "2023-09-01T01:32:00.878Z"
   },
   {
    "duration": 2446,
    "start_time": "2023-09-01T01:32:03.263Z"
   },
   {
    "duration": 100,
    "start_time": "2023-09-01T01:32:05.711Z"
   },
   {
    "duration": 15,
    "start_time": "2023-09-01T01:32:05.813Z"
   },
   {
    "duration": 11,
    "start_time": "2023-09-01T01:32:05.829Z"
   },
   {
    "duration": 17,
    "start_time": "2023-09-01T01:32:05.842Z"
   },
   {
    "duration": 15,
    "start_time": "2023-09-01T01:32:05.861Z"
   },
   {
    "duration": 113,
    "start_time": "2023-09-01T01:32:05.878Z"
   },
   {
    "duration": 2,
    "start_time": "2023-09-01T01:32:05.995Z"
   },
   {
    "duration": 11,
    "start_time": "2023-09-01T01:32:05.999Z"
   },
   {
    "duration": 7,
    "start_time": "2023-09-01T01:32:06.012Z"
   },
   {
    "duration": 28,
    "start_time": "2023-09-01T01:32:06.020Z"
   },
   {
    "duration": 46,
    "start_time": "2023-09-01T01:32:06.049Z"
   },
   {
    "duration": 40,
    "start_time": "2023-09-01T01:32:06.097Z"
   },
   {
    "duration": 54,
    "start_time": "2023-09-01T01:32:06.139Z"
   },
   {
    "duration": 2,
    "start_time": "2023-09-01T01:32:06.195Z"
   },
   {
    "duration": 32,
    "start_time": "2023-09-01T01:32:06.199Z"
   },
   {
    "duration": 32,
    "start_time": "2023-09-01T01:32:06.233Z"
   },
   {
    "duration": 134,
    "start_time": "2023-09-01T01:32:06.267Z"
   },
   {
    "duration": 15,
    "start_time": "2023-09-01T01:32:06.403Z"
   },
   {
    "duration": 10,
    "start_time": "2023-09-01T01:32:06.419Z"
   },
   {
    "duration": 19,
    "start_time": "2023-09-01T01:32:06.431Z"
   },
   {
    "duration": 19,
    "start_time": "2023-09-01T01:32:06.452Z"
   },
   {
    "duration": 17,
    "start_time": "2023-09-01T01:32:06.472Z"
   },
   {
    "duration": 16,
    "start_time": "2023-09-01T01:32:06.491Z"
   },
   {
    "duration": 31,
    "start_time": "2023-09-01T01:32:06.508Z"
   },
   {
    "duration": 32,
    "start_time": "2023-09-01T01:32:06.543Z"
   },
   {
    "duration": 12,
    "start_time": "2023-09-01T01:32:06.577Z"
   },
   {
    "duration": 6,
    "start_time": "2023-09-01T01:32:06.591Z"
   },
   {
    "duration": 20,
    "start_time": "2023-09-01T01:32:06.599Z"
   },
   {
    "duration": 22,
    "start_time": "2023-09-01T01:32:06.621Z"
   },
   {
    "duration": 10,
    "start_time": "2023-09-01T01:32:06.645Z"
   },
   {
    "duration": 11,
    "start_time": "2023-09-01T01:32:06.657Z"
   },
   {
    "duration": 34,
    "start_time": "2023-09-01T01:32:06.670Z"
   },
   {
    "duration": 15,
    "start_time": "2023-09-01T01:32:06.706Z"
   },
   {
    "duration": 6,
    "start_time": "2023-09-01T01:32:06.723Z"
   },
   {
    "duration": 3884,
    "start_time": "2023-09-01T01:32:06.731Z"
   },
   {
    "duration": 290,
    "start_time": "2023-09-01T01:32:10.616Z"
   },
   {
    "duration": 393,
    "start_time": "2023-09-01T01:32:10.908Z"
   },
   {
    "duration": 263,
    "start_time": "2023-09-01T01:32:11.302Z"
   },
   {
    "duration": 3818,
    "start_time": "2023-09-01T01:32:11.567Z"
   },
   {
    "duration": 7,
    "start_time": "2023-09-01T01:32:15.386Z"
   },
   {
    "duration": 8,
    "start_time": "2023-09-01T01:32:15.395Z"
   },
   {
    "duration": 1352,
    "start_time": "2023-09-01T01:32:15.405Z"
   },
   {
    "duration": 2,
    "start_time": "2023-09-01T01:32:16.759Z"
   },
   {
    "duration": 10,
    "start_time": "2023-09-01T01:32:16.763Z"
   },
   {
    "duration": 7,
    "start_time": "2023-09-01T01:32:16.775Z"
   },
   {
    "duration": 3,
    "start_time": "2023-09-01T01:32:16.784Z"
   },
   {
    "duration": 16,
    "start_time": "2023-09-01T01:32:16.789Z"
   },
   {
    "duration": 21,
    "start_time": "2023-09-01T01:32:16.807Z"
   },
   {
    "duration": 41,
    "start_time": "2023-09-01T01:32:16.830Z"
   },
   {
    "duration": 14,
    "start_time": "2023-09-01T01:32:16.873Z"
   },
   {
    "duration": 4,
    "start_time": "2023-09-01T01:32:16.888Z"
   },
   {
    "duration": 2320,
    "start_time": "2023-09-01T01:33:31.663Z"
   },
   {
    "duration": 2356,
    "start_time": "2023-09-01T01:33:33.985Z"
   },
   {
    "duration": 2414,
    "start_time": "2023-09-01T01:33:36.343Z"
   },
   {
    "duration": 97,
    "start_time": "2023-09-01T01:33:38.759Z"
   },
   {
    "duration": 15,
    "start_time": "2023-09-01T01:33:38.858Z"
   },
   {
    "duration": 9,
    "start_time": "2023-09-01T01:33:38.874Z"
   },
   {
    "duration": 12,
    "start_time": "2023-09-01T01:33:38.884Z"
   },
   {
    "duration": 7,
    "start_time": "2023-09-01T01:33:38.897Z"
   },
   {
    "duration": 127,
    "start_time": "2023-09-01T01:33:38.905Z"
   },
   {
    "duration": 3,
    "start_time": "2023-09-01T01:33:39.046Z"
   },
   {
    "duration": 9,
    "start_time": "2023-09-01T01:33:39.051Z"
   },
   {
    "duration": 4,
    "start_time": "2023-09-01T01:33:39.061Z"
   },
   {
    "duration": 12,
    "start_time": "2023-09-01T01:33:39.067Z"
   },
   {
    "duration": 66,
    "start_time": "2023-09-01T01:33:39.081Z"
   },
   {
    "duration": 40,
    "start_time": "2023-09-01T01:33:39.149Z"
   },
   {
    "duration": 69,
    "start_time": "2023-09-01T01:33:39.191Z"
   },
   {
    "duration": 3,
    "start_time": "2023-09-01T01:33:39.262Z"
   },
   {
    "duration": 8,
    "start_time": "2023-09-01T01:33:39.267Z"
   },
   {
    "duration": 24,
    "start_time": "2023-09-01T01:33:39.277Z"
   },
   {
    "duration": 153,
    "start_time": "2023-09-01T01:33:39.303Z"
   },
   {
    "duration": 14,
    "start_time": "2023-09-01T01:33:39.458Z"
   },
   {
    "duration": 2,
    "start_time": "2023-09-01T01:33:39.474Z"
   },
   {
    "duration": 8,
    "start_time": "2023-09-01T01:33:39.478Z"
   },
   {
    "duration": 10,
    "start_time": "2023-09-01T01:33:39.487Z"
   },
   {
    "duration": 11,
    "start_time": "2023-09-01T01:33:39.498Z"
   },
   {
    "duration": 49,
    "start_time": "2023-09-01T01:33:39.510Z"
   },
   {
    "duration": 6,
    "start_time": "2023-09-01T01:33:39.561Z"
   },
   {
    "duration": 6,
    "start_time": "2023-09-01T01:33:39.571Z"
   },
   {
    "duration": 6,
    "start_time": "2023-09-01T01:33:39.578Z"
   },
   {
    "duration": 5,
    "start_time": "2023-09-01T01:33:39.585Z"
   },
   {
    "duration": 7,
    "start_time": "2023-09-01T01:33:39.591Z"
   },
   {
    "duration": 48,
    "start_time": "2023-09-01T01:33:39.599Z"
   },
   {
    "duration": 5,
    "start_time": "2023-09-01T01:33:39.649Z"
   },
   {
    "duration": 5,
    "start_time": "2023-09-01T01:33:39.655Z"
   },
   {
    "duration": 23,
    "start_time": "2023-09-01T01:33:39.661Z"
   },
   {
    "duration": 7,
    "start_time": "2023-09-01T01:33:39.685Z"
   },
   {
    "duration": 4,
    "start_time": "2023-09-01T01:33:39.693Z"
   },
   {
    "duration": 3908,
    "start_time": "2023-09-01T01:33:39.699Z"
   },
   {
    "duration": 290,
    "start_time": "2023-09-01T01:33:43.609Z"
   },
   {
    "duration": 401,
    "start_time": "2023-09-01T01:33:43.900Z"
   },
   {
    "duration": 267,
    "start_time": "2023-09-01T01:33:44.303Z"
   },
   {
    "duration": 3824,
    "start_time": "2023-09-01T01:33:44.572Z"
   },
   {
    "duration": 6,
    "start_time": "2023-09-01T01:33:48.398Z"
   },
   {
    "duration": 19,
    "start_time": "2023-09-01T01:33:48.405Z"
   },
   {
    "duration": 1308,
    "start_time": "2023-09-01T01:33:48.425Z"
   },
   {
    "duration": 2,
    "start_time": "2023-09-01T01:33:49.735Z"
   },
   {
    "duration": 9,
    "start_time": "2023-09-01T01:33:49.739Z"
   },
   {
    "duration": 11,
    "start_time": "2023-09-01T01:33:49.749Z"
   },
   {
    "duration": 4,
    "start_time": "2023-09-01T01:33:49.761Z"
   },
   {
    "duration": 21,
    "start_time": "2023-09-01T01:33:49.766Z"
   },
   {
    "duration": 4,
    "start_time": "2023-09-01T01:33:49.789Z"
   },
   {
    "duration": 56,
    "start_time": "2023-09-01T01:33:49.795Z"
   },
   {
    "duration": 15,
    "start_time": "2023-09-01T01:33:49.853Z"
   },
   {
    "duration": 4,
    "start_time": "2023-09-01T01:33:49.869Z"
   },
   {
    "duration": 40104,
    "start_time": "2023-09-01T01:33:49.874Z"
   },
   {
    "duration": 5,
    "start_time": "2023-09-01T01:34:29.983Z"
   },
   {
    "duration": 180,
    "start_time": "2023-09-01T01:35:35.463Z"
   },
   {
    "duration": 3,
    "start_time": "2023-09-01T01:35:58.910Z"
   },
   {
    "duration": 11,
    "start_time": "2023-09-01T01:36:00.097Z"
   },
   {
    "duration": 5,
    "start_time": "2023-09-01T01:36:21.361Z"
   },
   {
    "duration": 2363,
    "start_time": "2023-09-01T01:37:50.298Z"
   },
   {
    "duration": 2336,
    "start_time": "2023-09-01T01:37:52.663Z"
   },
   {
    "duration": 2525,
    "start_time": "2023-09-01T01:37:55.002Z"
   },
   {
    "duration": 102,
    "start_time": "2023-09-01T01:37:57.529Z"
   },
   {
    "duration": 16,
    "start_time": "2023-09-01T01:37:57.633Z"
   },
   {
    "duration": 8,
    "start_time": "2023-09-01T01:37:57.651Z"
   },
   {
    "duration": 11,
    "start_time": "2023-09-01T01:37:57.662Z"
   },
   {
    "duration": 22,
    "start_time": "2023-09-01T01:37:57.675Z"
   },
   {
    "duration": 118,
    "start_time": "2023-09-01T01:37:57.699Z"
   },
   {
    "duration": 3,
    "start_time": "2023-09-01T01:37:57.820Z"
   },
   {
    "duration": 24,
    "start_time": "2023-09-01T01:37:57.825Z"
   },
   {
    "duration": 3,
    "start_time": "2023-09-01T01:37:57.851Z"
   },
   {
    "duration": 9,
    "start_time": "2023-09-01T01:37:57.856Z"
   },
   {
    "duration": 33,
    "start_time": "2023-09-01T01:37:57.867Z"
   },
   {
    "duration": 72,
    "start_time": "2023-09-01T01:37:57.902Z"
   },
   {
    "duration": 49,
    "start_time": "2023-09-01T01:37:57.976Z"
   },
   {
    "duration": 21,
    "start_time": "2023-09-01T01:37:58.027Z"
   },
   {
    "duration": 7,
    "start_time": "2023-09-01T01:37:58.051Z"
   },
   {
    "duration": 23,
    "start_time": "2023-09-01T01:37:58.059Z"
   },
   {
    "duration": 156,
    "start_time": "2023-09-01T01:37:58.084Z"
   },
   {
    "duration": 18,
    "start_time": "2023-09-01T01:37:58.242Z"
   },
   {
    "duration": 4,
    "start_time": "2023-09-01T01:37:58.262Z"
   },
   {
    "duration": 9,
    "start_time": "2023-09-01T01:37:58.268Z"
   },
   {
    "duration": 11,
    "start_time": "2023-09-01T01:37:58.279Z"
   },
   {
    "duration": 12,
    "start_time": "2023-09-01T01:37:58.291Z"
   },
   {
    "duration": 68,
    "start_time": "2023-09-01T01:37:58.304Z"
   },
   {
    "duration": 5,
    "start_time": "2023-09-01T01:37:58.374Z"
   },
   {
    "duration": 7,
    "start_time": "2023-09-01T01:37:58.383Z"
   },
   {
    "duration": 8,
    "start_time": "2023-09-01T01:37:58.391Z"
   },
   {
    "duration": 5,
    "start_time": "2023-09-01T01:37:58.400Z"
   },
   {
    "duration": 7,
    "start_time": "2023-09-01T01:37:58.406Z"
   },
   {
    "duration": 35,
    "start_time": "2023-09-01T01:37:58.415Z"
   },
   {
    "duration": 4,
    "start_time": "2023-09-01T01:37:58.452Z"
   },
   {
    "duration": 9,
    "start_time": "2023-09-01T01:37:58.458Z"
   },
   {
    "duration": 22,
    "start_time": "2023-09-01T01:37:58.469Z"
   },
   {
    "duration": 4,
    "start_time": "2023-09-01T01:37:58.493Z"
   },
   {
    "duration": 23,
    "start_time": "2023-09-01T01:37:58.499Z"
   },
   {
    "duration": 3890,
    "start_time": "2023-09-01T01:37:58.524Z"
   },
   {
    "duration": 282,
    "start_time": "2023-09-01T01:38:02.416Z"
   },
   {
    "duration": 391,
    "start_time": "2023-09-01T01:38:02.700Z"
   },
   {
    "duration": 263,
    "start_time": "2023-09-01T01:38:03.093Z"
   },
   {
    "duration": 3872,
    "start_time": "2023-09-01T01:38:03.358Z"
   },
   {
    "duration": 17,
    "start_time": "2023-09-01T01:38:07.232Z"
   },
   {
    "duration": 6,
    "start_time": "2023-09-01T01:38:07.250Z"
   },
   {
    "duration": 1289,
    "start_time": "2023-09-01T01:38:07.257Z"
   },
   {
    "duration": 2,
    "start_time": "2023-09-01T01:38:08.548Z"
   },
   {
    "duration": 31,
    "start_time": "2023-09-01T01:38:08.552Z"
   },
   {
    "duration": 15,
    "start_time": "2023-09-01T01:38:08.585Z"
   },
   {
    "duration": 16,
    "start_time": "2023-09-01T01:38:08.601Z"
   },
   {
    "duration": 36,
    "start_time": "2023-09-01T01:38:08.619Z"
   },
   {
    "duration": 17,
    "start_time": "2023-09-01T01:38:08.656Z"
   },
   {
    "duration": 52,
    "start_time": "2023-09-01T01:38:08.675Z"
   },
   {
    "duration": 14,
    "start_time": "2023-09-01T01:38:08.729Z"
   },
   {
    "duration": 18,
    "start_time": "2023-09-01T01:38:08.745Z"
   },
   {
    "duration": 14343,
    "start_time": "2023-09-01T01:38:08.765Z"
   },
   {
    "duration": 4,
    "start_time": "2023-09-01T01:38:23.109Z"
   },
   {
    "duration": 26,
    "start_time": "2023-09-01T01:38:23.115Z"
   },
   {
    "duration": 2403,
    "start_time": "2023-09-01T01:40:34.409Z"
   },
   {
    "duration": 2364,
    "start_time": "2023-09-01T01:40:36.815Z"
   },
   {
    "duration": 2592,
    "start_time": "2023-09-01T01:40:39.181Z"
   },
   {
    "duration": 102,
    "start_time": "2023-09-01T01:40:41.775Z"
   },
   {
    "duration": 15,
    "start_time": "2023-09-01T01:40:41.880Z"
   },
   {
    "duration": 13,
    "start_time": "2023-09-01T01:40:41.896Z"
   },
   {
    "duration": 12,
    "start_time": "2023-09-01T01:40:41.911Z"
   },
   {
    "duration": 9,
    "start_time": "2023-09-01T01:40:41.924Z"
   },
   {
    "duration": 118,
    "start_time": "2023-09-01T01:40:41.935Z"
   },
   {
    "duration": 2,
    "start_time": "2023-09-01T01:40:42.055Z"
   },
   {
    "duration": 11,
    "start_time": "2023-09-01T01:40:42.059Z"
   },
   {
    "duration": 3,
    "start_time": "2023-09-01T01:40:42.072Z"
   },
   {
    "duration": 10,
    "start_time": "2023-09-01T01:40:42.077Z"
   },
   {
    "duration": 72,
    "start_time": "2023-09-01T01:40:42.089Z"
   },
   {
    "duration": 41,
    "start_time": "2023-09-01T01:40:42.163Z"
   },
   {
    "duration": 70,
    "start_time": "2023-09-01T01:40:42.205Z"
   },
   {
    "duration": 2,
    "start_time": "2023-09-01T01:40:42.277Z"
   },
   {
    "duration": 10,
    "start_time": "2023-09-01T01:40:42.281Z"
   },
   {
    "duration": 38,
    "start_time": "2023-09-01T01:40:42.292Z"
   },
   {
    "duration": 140,
    "start_time": "2023-09-01T01:40:42.331Z"
   },
   {
    "duration": 15,
    "start_time": "2023-09-01T01:40:42.473Z"
   },
   {
    "duration": 8,
    "start_time": "2023-09-01T01:40:42.489Z"
   },
   {
    "duration": 12,
    "start_time": "2023-09-01T01:40:42.498Z"
   },
   {
    "duration": 21,
    "start_time": "2023-09-01T01:40:42.512Z"
   },
   {
    "duration": 18,
    "start_time": "2023-09-01T01:40:42.535Z"
   },
   {
    "duration": 18,
    "start_time": "2023-09-01T01:40:42.555Z"
   },
   {
    "duration": 7,
    "start_time": "2023-09-01T01:40:42.575Z"
   },
   {
    "duration": 6,
    "start_time": "2023-09-01T01:40:42.584Z"
   },
   {
    "duration": 7,
    "start_time": "2023-09-01T01:40:42.592Z"
   },
   {
    "duration": 48,
    "start_time": "2023-09-01T01:40:42.600Z"
   },
   {
    "duration": 9,
    "start_time": "2023-09-01T01:40:42.650Z"
   },
   {
    "duration": 17,
    "start_time": "2023-09-01T01:40:42.660Z"
   },
   {
    "duration": 5,
    "start_time": "2023-09-01T01:40:42.679Z"
   },
   {
    "duration": 5,
    "start_time": "2023-09-01T01:40:42.686Z"
   },
   {
    "duration": 56,
    "start_time": "2023-09-01T01:40:42.692Z"
   },
   {
    "duration": 6,
    "start_time": "2023-09-01T01:40:42.749Z"
   },
   {
    "duration": 3,
    "start_time": "2023-09-01T01:40:42.757Z"
   },
   {
    "duration": 3954,
    "start_time": "2023-09-01T01:40:42.762Z"
   },
   {
    "duration": 302,
    "start_time": "2023-09-01T01:40:46.717Z"
   },
   {
    "duration": 401,
    "start_time": "2023-09-01T01:40:47.021Z"
   },
   {
    "duration": 282,
    "start_time": "2023-09-01T01:40:47.427Z"
   },
   {
    "duration": 4007,
    "start_time": "2023-09-01T01:40:47.711Z"
   },
   {
    "duration": 6,
    "start_time": "2023-09-01T01:40:51.720Z"
   },
   {
    "duration": 20,
    "start_time": "2023-09-01T01:40:51.728Z"
   },
   {
    "duration": 1301,
    "start_time": "2023-09-01T01:40:51.750Z"
   },
   {
    "duration": 3,
    "start_time": "2023-09-01T01:40:53.053Z"
   },
   {
    "duration": 18,
    "start_time": "2023-09-01T01:40:53.058Z"
   },
   {
    "duration": 31,
    "start_time": "2023-09-01T01:40:53.077Z"
   },
   {
    "duration": 18,
    "start_time": "2023-09-01T01:40:53.109Z"
   },
   {
    "duration": 34,
    "start_time": "2023-09-01T01:40:53.129Z"
   },
   {
    "duration": 11,
    "start_time": "2023-09-01T01:40:53.165Z"
   },
   {
    "duration": 50,
    "start_time": "2023-09-01T01:40:53.177Z"
   },
   {
    "duration": 14,
    "start_time": "2023-09-01T01:40:53.229Z"
   },
   {
    "duration": 21,
    "start_time": "2023-09-01T01:40:53.245Z"
   },
   {
    "duration": 15885,
    "start_time": "2023-09-01T01:40:53.267Z"
   },
   {
    "duration": 5,
    "start_time": "2023-09-01T01:41:09.154Z"
   },
   {
    "duration": 11,
    "start_time": "2023-09-01T01:41:09.161Z"
   },
   {
    "duration": 7,
    "start_time": "2023-09-01T01:43:15.921Z"
   },
   {
    "duration": 8,
    "start_time": "2023-09-01T01:46:45.545Z"
   },
   {
    "duration": 187,
    "start_time": "2023-09-01T01:51:24.950Z"
   },
   {
    "duration": 5,
    "start_time": "2023-09-01T01:51:42.467Z"
   },
   {
    "duration": 176,
    "start_time": "2023-09-01T01:51:47.191Z"
   },
   {
    "duration": 210,
    "start_time": "2023-09-01T01:51:49.559Z"
   },
   {
    "duration": 169,
    "start_time": "2023-09-01T01:53:47.298Z"
   },
   {
    "duration": 2330,
    "start_time": "2023-09-01T01:55:23.160Z"
   },
   {
    "duration": 2354,
    "start_time": "2023-09-01T01:55:25.492Z"
   },
   {
    "duration": 2465,
    "start_time": "2023-09-01T01:55:27.848Z"
   },
   {
    "duration": 101,
    "start_time": "2023-09-01T01:55:30.316Z"
   },
   {
    "duration": 16,
    "start_time": "2023-09-01T01:55:30.419Z"
   },
   {
    "duration": 41,
    "start_time": "2023-09-01T01:55:30.436Z"
   },
   {
    "duration": 36,
    "start_time": "2023-09-01T01:55:30.478Z"
   },
   {
    "duration": 38,
    "start_time": "2023-09-01T01:55:30.516Z"
   },
   {
    "duration": 145,
    "start_time": "2023-09-01T01:55:30.556Z"
   },
   {
    "duration": 2,
    "start_time": "2023-09-01T01:55:30.703Z"
   },
   {
    "duration": 33,
    "start_time": "2023-09-01T01:55:30.707Z"
   },
   {
    "duration": 33,
    "start_time": "2023-09-01T01:55:30.742Z"
   },
   {
    "duration": 46,
    "start_time": "2023-09-01T01:55:30.777Z"
   },
   {
    "duration": 47,
    "start_time": "2023-09-01T01:55:30.827Z"
   },
   {
    "duration": 52,
    "start_time": "2023-09-01T01:55:30.876Z"
   },
   {
    "duration": 54,
    "start_time": "2023-09-01T01:55:30.930Z"
   },
   {
    "duration": 3,
    "start_time": "2023-09-01T01:55:30.986Z"
   },
   {
    "duration": 24,
    "start_time": "2023-09-01T01:55:30.990Z"
   },
   {
    "duration": 65,
    "start_time": "2023-09-01T01:55:31.016Z"
   },
   {
    "duration": 166,
    "start_time": "2023-09-01T01:55:31.083Z"
   },
   {
    "duration": 15,
    "start_time": "2023-09-01T01:55:31.251Z"
   },
   {
    "duration": 32,
    "start_time": "2023-09-01T01:55:31.268Z"
   },
   {
    "duration": 34,
    "start_time": "2023-09-01T01:55:31.302Z"
   },
   {
    "duration": 40,
    "start_time": "2023-09-01T01:55:31.338Z"
   },
   {
    "duration": 38,
    "start_time": "2023-09-01T01:55:31.380Z"
   },
   {
    "duration": 41,
    "start_time": "2023-09-01T01:55:31.420Z"
   },
   {
    "duration": 24,
    "start_time": "2023-09-01T01:55:31.463Z"
   },
   {
    "duration": 30,
    "start_time": "2023-09-01T01:55:31.488Z"
   },
   {
    "duration": 55,
    "start_time": "2023-09-01T01:55:31.519Z"
   },
   {
    "duration": 63,
    "start_time": "2023-09-01T01:55:31.576Z"
   },
   {
    "duration": 38,
    "start_time": "2023-09-01T01:55:31.641Z"
   },
   {
    "duration": 54,
    "start_time": "2023-09-01T01:55:31.680Z"
   },
   {
    "duration": 16,
    "start_time": "2023-09-01T01:55:31.736Z"
   },
   {
    "duration": 32,
    "start_time": "2023-09-01T01:55:31.754Z"
   },
   {
    "duration": 56,
    "start_time": "2023-09-01T01:55:31.788Z"
   },
   {
    "duration": 24,
    "start_time": "2023-09-01T01:55:31.845Z"
   },
   {
    "duration": 37,
    "start_time": "2023-09-01T01:55:31.871Z"
   },
   {
    "duration": 3912,
    "start_time": "2023-09-01T01:55:31.910Z"
   },
   {
    "duration": 292,
    "start_time": "2023-09-01T01:55:35.824Z"
   },
   {
    "duration": 412,
    "start_time": "2023-09-01T01:55:36.118Z"
   },
   {
    "duration": 265,
    "start_time": "2023-09-01T01:55:36.535Z"
   },
   {
    "duration": 3816,
    "start_time": "2023-09-01T01:55:36.802Z"
   },
   {
    "duration": 5,
    "start_time": "2023-09-01T01:55:40.620Z"
   },
   {
    "duration": 19,
    "start_time": "2023-09-01T01:55:40.627Z"
   },
   {
    "duration": 1287,
    "start_time": "2023-09-01T01:55:40.648Z"
   },
   {
    "duration": 9,
    "start_time": "2023-09-01T01:55:41.937Z"
   },
   {
    "duration": 6,
    "start_time": "2023-09-01T01:55:41.948Z"
   },
   {
    "duration": 6,
    "start_time": "2023-09-01T01:55:41.955Z"
   },
   {
    "duration": 12,
    "start_time": "2023-09-01T01:55:41.962Z"
   },
   {
    "duration": 22,
    "start_time": "2023-09-01T01:55:41.976Z"
   },
   {
    "duration": 3,
    "start_time": "2023-09-01T01:55:42.000Z"
   },
   {
    "duration": 48,
    "start_time": "2023-09-01T01:55:42.004Z"
   },
   {
    "duration": 15,
    "start_time": "2023-09-01T01:55:42.054Z"
   },
   {
    "duration": 4,
    "start_time": "2023-09-01T01:55:42.070Z"
   },
   {
    "duration": 14841,
    "start_time": "2023-09-01T01:55:42.076Z"
   },
   {
    "duration": 4,
    "start_time": "2023-09-01T01:55:56.919Z"
   },
   {
    "duration": 13,
    "start_time": "2023-09-01T01:55:56.925Z"
   },
   {
    "duration": 7,
    "start_time": "2023-09-01T01:55:56.940Z"
   },
   {
    "duration": 220,
    "start_time": "2023-09-01T01:55:56.949Z"
   },
   {
    "duration": 51,
    "start_time": "2023-09-02T08:55:58.577Z"
   },
   {
    "duration": 3233,
    "start_time": "2023-09-02T08:56:02.348Z"
   },
   {
    "duration": 3684,
    "start_time": "2023-09-02T08:56:05.583Z"
   },
   {
    "duration": 2728,
    "start_time": "2023-09-02T08:56:09.272Z"
   },
   {
    "duration": 308,
    "start_time": "2023-09-02T08:56:12.002Z"
   },
   {
    "duration": 16,
    "start_time": "2023-09-02T08:56:12.311Z"
   },
   {
    "duration": 11,
    "start_time": "2023-09-02T08:56:12.328Z"
   },
   {
    "duration": 12,
    "start_time": "2023-09-02T08:56:12.341Z"
   },
   {
    "duration": 9,
    "start_time": "2023-09-02T08:56:12.355Z"
   },
   {
    "duration": 125,
    "start_time": "2023-09-02T08:56:12.366Z"
   },
   {
    "duration": 3,
    "start_time": "2023-09-02T08:56:12.493Z"
   },
   {
    "duration": 12,
    "start_time": "2023-09-02T08:56:12.497Z"
   },
   {
    "duration": 3,
    "start_time": "2023-09-02T08:56:12.523Z"
   },
   {
    "duration": 12,
    "start_time": "2023-09-02T08:56:12.527Z"
   },
   {
    "duration": 30,
    "start_time": "2023-09-02T08:56:12.541Z"
   },
   {
    "duration": 58,
    "start_time": "2023-09-02T08:56:12.573Z"
   },
   {
    "duration": 42,
    "start_time": "2023-09-02T08:56:12.633Z"
   },
   {
    "duration": 2,
    "start_time": "2023-09-02T08:56:12.677Z"
   },
   {
    "duration": 20,
    "start_time": "2023-09-02T08:56:12.680Z"
   },
   {
    "duration": 30,
    "start_time": "2023-09-02T08:56:12.702Z"
   },
   {
    "duration": 131,
    "start_time": "2023-09-02T08:56:12.734Z"
   },
   {
    "duration": 17,
    "start_time": "2023-09-02T08:56:12.867Z"
   },
   {
    "duration": 8,
    "start_time": "2023-09-02T08:56:12.886Z"
   },
   {
    "duration": 31,
    "start_time": "2023-09-02T08:56:12.896Z"
   },
   {
    "duration": 18,
    "start_time": "2023-09-02T08:56:12.929Z"
   },
   {
    "duration": 12,
    "start_time": "2023-09-02T08:56:12.949Z"
   },
   {
    "duration": 20,
    "start_time": "2023-09-02T08:56:12.963Z"
   },
   {
    "duration": 21,
    "start_time": "2023-09-02T08:56:12.986Z"
   },
   {
    "duration": 20,
    "start_time": "2023-09-02T08:56:13.008Z"
   },
   {
    "duration": 25,
    "start_time": "2023-09-02T08:56:13.030Z"
   },
   {
    "duration": 9,
    "start_time": "2023-09-02T08:56:13.056Z"
   },
   {
    "duration": 13,
    "start_time": "2023-09-02T08:56:13.067Z"
   },
   {
    "duration": 24,
    "start_time": "2023-09-02T08:56:13.082Z"
   },
   {
    "duration": 5,
    "start_time": "2023-09-02T08:56:13.108Z"
   },
   {
    "duration": 6,
    "start_time": "2023-09-02T08:56:13.114Z"
   },
   {
    "duration": 22,
    "start_time": "2023-09-02T08:56:13.121Z"
   },
   {
    "duration": 5,
    "start_time": "2023-09-02T08:56:13.145Z"
   },
   {
    "duration": 8,
    "start_time": "2023-09-02T08:56:13.152Z"
   },
   {
    "duration": 170,
    "start_time": "2023-09-02T08:56:13.162Z"
   },
   {
    "duration": 0,
    "start_time": "2023-09-02T08:56:13.334Z"
   },
   {
    "duration": 0,
    "start_time": "2023-09-02T08:56:13.336Z"
   },
   {
    "duration": 0,
    "start_time": "2023-09-02T08:56:13.338Z"
   },
   {
    "duration": 0,
    "start_time": "2023-09-02T08:56:13.339Z"
   },
   {
    "duration": 0,
    "start_time": "2023-09-02T08:56:13.340Z"
   },
   {
    "duration": 0,
    "start_time": "2023-09-02T08:56:13.342Z"
   },
   {
    "duration": 0,
    "start_time": "2023-09-02T08:56:13.343Z"
   },
   {
    "duration": 0,
    "start_time": "2023-09-02T08:56:13.344Z"
   },
   {
    "duration": 0,
    "start_time": "2023-09-02T08:56:13.346Z"
   },
   {
    "duration": 0,
    "start_time": "2023-09-02T08:56:13.347Z"
   },
   {
    "duration": 0,
    "start_time": "2023-09-02T08:56:13.348Z"
   },
   {
    "duration": 0,
    "start_time": "2023-09-02T08:56:13.350Z"
   },
   {
    "duration": 0,
    "start_time": "2023-09-02T08:56:13.351Z"
   },
   {
    "duration": 0,
    "start_time": "2023-09-02T08:56:13.353Z"
   },
   {
    "duration": 0,
    "start_time": "2023-09-02T08:56:13.354Z"
   },
   {
    "duration": 0,
    "start_time": "2023-09-02T08:56:13.356Z"
   },
   {
    "duration": 0,
    "start_time": "2023-09-02T08:56:13.357Z"
   },
   {
    "duration": 0,
    "start_time": "2023-09-02T08:56:13.358Z"
   },
   {
    "duration": 0,
    "start_time": "2023-09-02T08:56:13.359Z"
   },
   {
    "duration": 0,
    "start_time": "2023-09-02T08:56:13.361Z"
   },
   {
    "duration": 0,
    "start_time": "2023-09-02T08:56:13.362Z"
   },
   {
    "duration": 0,
    "start_time": "2023-09-02T08:56:13.363Z"
   },
   {
    "duration": 3893,
    "start_time": "2023-09-02T08:56:34.982Z"
   },
   {
    "duration": 12,
    "start_time": "2023-09-02T08:56:41.472Z"
   },
   {
    "duration": 24,
    "start_time": "2023-09-02T08:57:22.403Z"
   },
   {
    "duration": 155,
    "start_time": "2023-09-02T08:58:07.182Z"
   },
   {
    "duration": 388,
    "start_time": "2023-09-02T08:59:23.742Z"
   },
   {
    "duration": 150,
    "start_time": "2023-09-02T09:04:17.174Z"
   },
   {
    "duration": 177,
    "start_time": "2023-09-02T09:04:56.810Z"
   },
   {
    "duration": 71,
    "start_time": "2023-09-02T09:07:00.293Z"
   },
   {
    "duration": 900,
    "start_time": "2023-09-02T09:07:20.142Z"
   },
   {
    "duration": 4110,
    "start_time": "2023-09-02T09:08:12.369Z"
   },
   {
    "duration": 4112,
    "start_time": "2023-09-02T09:10:03.375Z"
   },
   {
    "duration": 18,
    "start_time": "2023-09-02T09:17:35.338Z"
   },
   {
    "duration": 3957,
    "start_time": "2023-09-02T09:17:59.944Z"
   },
   {
    "duration": 4053,
    "start_time": "2023-09-02T09:18:20.125Z"
   },
   {
    "duration": 3938,
    "start_time": "2023-09-02T09:18:28.249Z"
   },
   {
    "duration": 3,
    "start_time": "2023-09-02T14:30:34.979Z"
   },
   {
    "duration": 4020,
    "start_time": "2023-09-02T14:32:03.367Z"
   },
   {
    "duration": 3974,
    "start_time": "2023-09-02T14:35:50.812Z"
   },
   {
    "duration": 4003,
    "start_time": "2023-09-02T14:36:11.098Z"
   },
   {
    "duration": 289,
    "start_time": "2023-09-02T14:37:30.074Z"
   },
   {
    "duration": 239,
    "start_time": "2023-09-02T14:37:32.991Z"
   },
   {
    "duration": 229,
    "start_time": "2023-09-02T14:37:33.652Z"
   },
   {
    "duration": 348,
    "start_time": "2023-09-02T14:38:05.721Z"
   },
   {
    "duration": 555,
    "start_time": "2023-09-02T14:38:59.971Z"
   },
   {
    "duration": 457,
    "start_time": "2023-09-02T14:39:35.649Z"
   },
   {
    "duration": 371,
    "start_time": "2023-09-02T14:39:52.190Z"
   },
   {
    "duration": 16,
    "start_time": "2023-09-02T14:40:59.273Z"
   },
   {
    "duration": 28,
    "start_time": "2023-09-02T14:45:00.074Z"
   },
   {
    "duration": 295,
    "start_time": "2023-09-02T14:55:38.693Z"
   },
   {
    "duration": 271,
    "start_time": "2023-09-02T14:56:42.758Z"
   },
   {
    "duration": 79,
    "start_time": "2023-09-02T14:58:33.091Z"
   },
   {
    "duration": 11,
    "start_time": "2023-09-02T14:59:11.047Z"
   },
   {
    "duration": 2270,
    "start_time": "2023-09-02T14:59:15.373Z"
   },
   {
    "duration": 2298,
    "start_time": "2023-09-02T14:59:17.645Z"
   },
   {
    "duration": 2446,
    "start_time": "2023-09-02T14:59:19.945Z"
   },
   {
    "duration": 106,
    "start_time": "2023-09-02T14:59:22.393Z"
   },
   {
    "duration": 21,
    "start_time": "2023-09-02T14:59:22.502Z"
   },
   {
    "duration": 11,
    "start_time": "2023-09-02T14:59:22.525Z"
   },
   {
    "duration": 11,
    "start_time": "2023-09-02T14:59:22.537Z"
   },
   {
    "duration": 8,
    "start_time": "2023-09-02T14:59:22.550Z"
   },
   {
    "duration": 127,
    "start_time": "2023-09-02T14:59:22.559Z"
   },
   {
    "duration": 3,
    "start_time": "2023-09-02T14:59:22.688Z"
   },
   {
    "duration": 7,
    "start_time": "2023-09-02T14:59:22.693Z"
   },
   {
    "duration": 23,
    "start_time": "2023-09-02T14:59:22.701Z"
   },
   {
    "duration": 9,
    "start_time": "2023-09-02T14:59:22.725Z"
   },
   {
    "duration": 33,
    "start_time": "2023-09-02T14:59:22.736Z"
   },
   {
    "duration": 58,
    "start_time": "2023-09-02T14:59:22.771Z"
   },
   {
    "duration": 47,
    "start_time": "2023-09-02T14:59:22.831Z"
   },
   {
    "duration": 3,
    "start_time": "2023-09-02T14:59:22.879Z"
   },
   {
    "duration": 18,
    "start_time": "2023-09-02T14:59:22.884Z"
   },
   {
    "duration": 45,
    "start_time": "2023-09-02T14:59:22.904Z"
   },
   {
    "duration": 141,
    "start_time": "2023-09-02T14:59:22.951Z"
   },
   {
    "duration": 14,
    "start_time": "2023-09-02T14:59:23.094Z"
   },
   {
    "duration": 3,
    "start_time": "2023-09-02T14:59:23.124Z"
   },
   {
    "duration": 10,
    "start_time": "2023-09-02T14:59:23.128Z"
   },
   {
    "duration": 12,
    "start_time": "2023-09-02T14:59:23.139Z"
   },
   {
    "duration": 11,
    "start_time": "2023-09-02T14:59:23.153Z"
   },
   {
    "duration": 16,
    "start_time": "2023-09-02T14:59:23.165Z"
   },
   {
    "duration": 5,
    "start_time": "2023-09-02T14:59:23.183Z"
   },
   {
    "duration": 35,
    "start_time": "2023-09-02T14:59:23.190Z"
   },
   {
    "duration": 6,
    "start_time": "2023-09-02T14:59:23.227Z"
   },
   {
    "duration": 6,
    "start_time": "2023-09-02T14:59:23.235Z"
   },
   {
    "duration": 8,
    "start_time": "2023-09-02T14:59:23.243Z"
   },
   {
    "duration": 16,
    "start_time": "2023-09-02T14:59:23.252Z"
   },
   {
    "duration": 6,
    "start_time": "2023-09-02T14:59:23.269Z"
   },
   {
    "duration": 5,
    "start_time": "2023-09-02T14:59:23.277Z"
   },
   {
    "duration": 64,
    "start_time": "2023-09-02T14:59:23.284Z"
   },
   {
    "duration": 6,
    "start_time": "2023-09-02T14:59:23.350Z"
   },
   {
    "duration": 3,
    "start_time": "2023-09-02T14:59:23.358Z"
   },
   {
    "duration": 3,
    "start_time": "2023-09-02T14:59:23.363Z"
   },
   {
    "duration": 3964,
    "start_time": "2023-09-02T14:59:23.367Z"
   },
   {
    "duration": 260,
    "start_time": "2023-09-02T14:59:27.332Z"
   },
   {
    "duration": 401,
    "start_time": "2023-09-02T14:59:27.596Z"
   },
   {
    "duration": 250,
    "start_time": "2023-09-02T14:59:27.999Z"
   },
   {
    "duration": 3619,
    "start_time": "2023-09-02T14:59:28.251Z"
   },
   {
    "duration": 6,
    "start_time": "2023-09-02T14:59:31.872Z"
   },
   {
    "duration": 222,
    "start_time": "2023-09-02T14:59:31.879Z"
   },
   {
    "duration": 0,
    "start_time": "2023-09-02T14:59:32.103Z"
   },
   {
    "duration": 0,
    "start_time": "2023-09-02T14:59:32.104Z"
   },
   {
    "duration": 0,
    "start_time": "2023-09-02T14:59:32.106Z"
   },
   {
    "duration": 0,
    "start_time": "2023-09-02T14:59:32.106Z"
   },
   {
    "duration": 0,
    "start_time": "2023-09-02T14:59:32.107Z"
   },
   {
    "duration": 0,
    "start_time": "2023-09-02T14:59:32.109Z"
   },
   {
    "duration": 0,
    "start_time": "2023-09-02T14:59:32.110Z"
   },
   {
    "duration": 0,
    "start_time": "2023-09-02T14:59:32.124Z"
   },
   {
    "duration": 0,
    "start_time": "2023-09-02T14:59:32.125Z"
   },
   {
    "duration": 0,
    "start_time": "2023-09-02T14:59:32.126Z"
   },
   {
    "duration": 0,
    "start_time": "2023-09-02T14:59:32.127Z"
   },
   {
    "duration": 0,
    "start_time": "2023-09-02T14:59:32.129Z"
   },
   {
    "duration": 0,
    "start_time": "2023-09-02T14:59:32.130Z"
   },
   {
    "duration": 0,
    "start_time": "2023-09-02T14:59:32.131Z"
   },
   {
    "duration": 0,
    "start_time": "2023-09-02T14:59:32.133Z"
   },
   {
    "duration": 0,
    "start_time": "2023-09-02T14:59:32.134Z"
   },
   {
    "duration": 415,
    "start_time": "2023-09-02T15:00:10.212Z"
   },
   {
    "duration": 3816,
    "start_time": "2023-09-02T15:00:40.246Z"
   },
   {
    "duration": 3563,
    "start_time": "2023-09-02T15:01:22.777Z"
   },
   {
    "duration": 6,
    "start_time": "2023-09-02T15:02:23.956Z"
   },
   {
    "duration": 5,
    "start_time": "2023-09-02T15:02:26.723Z"
   },
   {
    "duration": 1200,
    "start_time": "2023-09-02T15:02:27.895Z"
   },
   {
    "duration": 3,
    "start_time": "2023-09-02T15:02:31.309Z"
   },
   {
    "duration": 5,
    "start_time": "2023-09-02T15:02:33.061Z"
   },
   {
    "duration": 6,
    "start_time": "2023-09-02T15:02:33.235Z"
   },
   {
    "duration": 3,
    "start_time": "2023-09-02T15:02:33.443Z"
   },
   {
    "duration": 14,
    "start_time": "2023-09-02T15:02:45.228Z"
   },
   {
    "duration": 3,
    "start_time": "2023-09-02T15:02:46.972Z"
   },
   {
    "duration": 31,
    "start_time": "2023-09-02T15:02:48.475Z"
   },
   {
    "duration": 33,
    "start_time": "2023-09-02T15:03:58.038Z"
   },
   {
    "duration": 154,
    "start_time": "2023-09-02T15:04:02.975Z"
   },
   {
    "duration": 3,
    "start_time": "2023-09-02T15:06:26.447Z"
   },
   {
    "duration": 4,
    "start_time": "2023-09-02T15:06:28.015Z"
   },
   {
    "duration": 22939,
    "start_time": "2023-09-02T15:06:43.225Z"
   },
   {
    "duration": 84,
    "start_time": "2023-09-02T15:07:20.429Z"
   },
   {
    "duration": 5,
    "start_time": "2023-09-02T15:08:14.722Z"
   },
   {
    "duration": 4,
    "start_time": "2023-09-02T15:09:11.880Z"
   },
   {
    "duration": 3,
    "start_time": "2023-09-02T15:14:34.844Z"
   },
   {
    "duration": 15,
    "start_time": "2023-09-02T15:23:34.272Z"
   },
   {
    "duration": 135,
    "start_time": "2023-09-02T15:24:56.246Z"
   },
   {
    "duration": 9,
    "start_time": "2023-09-02T15:26:50.837Z"
   },
   {
    "duration": 146,
    "start_time": "2023-09-02T15:37:25.612Z"
   },
   {
    "duration": 9,
    "start_time": "2023-09-02T15:40:25.518Z"
   },
   {
    "duration": 218,
    "start_time": "2023-09-02T15:40:27.833Z"
   },
   {
    "duration": 177,
    "start_time": "2023-09-02T15:46:17.867Z"
   },
   {
    "duration": 161,
    "start_time": "2023-09-02T15:48:31.098Z"
   },
   {
    "duration": 2538,
    "start_time": "2023-09-02T15:54:35.481Z"
   },
   {
    "duration": 2499,
    "start_time": "2023-09-02T15:54:38.021Z"
   },
   {
    "duration": 3040,
    "start_time": "2023-09-02T15:54:40.522Z"
   },
   {
    "duration": 106,
    "start_time": "2023-09-02T15:54:43.564Z"
   },
   {
    "duration": 13,
    "start_time": "2023-09-02T15:54:43.673Z"
   },
   {
    "duration": 7,
    "start_time": "2023-09-02T15:54:43.688Z"
   },
   {
    "duration": 9,
    "start_time": "2023-09-02T15:54:43.697Z"
   },
   {
    "duration": 7,
    "start_time": "2023-09-02T15:54:43.708Z"
   },
   {
    "duration": 117,
    "start_time": "2023-09-02T15:54:43.716Z"
   },
   {
    "duration": 4,
    "start_time": "2023-09-02T15:54:43.836Z"
   },
   {
    "duration": 13,
    "start_time": "2023-09-02T15:54:43.843Z"
   },
   {
    "duration": 6,
    "start_time": "2023-09-02T15:54:43.858Z"
   },
   {
    "duration": 9,
    "start_time": "2023-09-02T15:54:43.865Z"
   },
   {
    "duration": 66,
    "start_time": "2023-09-02T15:54:43.878Z"
   },
   {
    "duration": 47,
    "start_time": "2023-09-02T15:54:43.946Z"
   },
   {
    "duration": 80,
    "start_time": "2023-09-02T15:54:43.995Z"
   },
   {
    "duration": 3,
    "start_time": "2023-09-02T15:54:44.077Z"
   },
   {
    "duration": 7,
    "start_time": "2023-09-02T15:54:44.082Z"
   },
   {
    "duration": 56,
    "start_time": "2023-09-02T15:54:44.091Z"
   },
   {
    "duration": 141,
    "start_time": "2023-09-02T15:54:44.149Z"
   },
   {
    "duration": 13,
    "start_time": "2023-09-02T15:54:44.293Z"
   },
   {
    "duration": 6,
    "start_time": "2023-09-02T15:54:44.308Z"
   },
   {
    "duration": 15,
    "start_time": "2023-09-02T15:54:44.324Z"
   },
   {
    "duration": 15,
    "start_time": "2023-09-02T15:54:44.341Z"
   },
   {
    "duration": 11,
    "start_time": "2023-09-02T15:54:44.358Z"
   },
   {
    "duration": 14,
    "start_time": "2023-09-02T15:54:44.370Z"
   },
   {
    "duration": 7,
    "start_time": "2023-09-02T15:54:44.386Z"
   },
   {
    "duration": 35,
    "start_time": "2023-09-02T15:54:44.395Z"
   },
   {
    "duration": 11,
    "start_time": "2023-09-02T15:54:44.433Z"
   },
   {
    "duration": 7,
    "start_time": "2023-09-02T15:54:44.446Z"
   },
   {
    "duration": 9,
    "start_time": "2023-09-02T15:54:44.455Z"
   },
   {
    "duration": 15,
    "start_time": "2023-09-02T15:54:44.466Z"
   },
   {
    "duration": 5,
    "start_time": "2023-09-02T15:54:44.483Z"
   },
   {
    "duration": 44,
    "start_time": "2023-09-02T15:54:44.489Z"
   },
   {
    "duration": 36,
    "start_time": "2023-09-02T15:54:44.534Z"
   },
   {
    "duration": 5,
    "start_time": "2023-09-02T15:54:44.572Z"
   },
   {
    "duration": 4,
    "start_time": "2023-09-02T15:54:44.578Z"
   },
   {
    "duration": 5,
    "start_time": "2023-09-02T15:54:44.583Z"
   },
   {
    "duration": 4148,
    "start_time": "2023-09-02T15:54:44.590Z"
   },
   {
    "duration": 332,
    "start_time": "2023-09-02T15:54:48.741Z"
   },
   {
    "duration": 439,
    "start_time": "2023-09-02T15:54:49.078Z"
   },
   {
    "duration": 275,
    "start_time": "2023-09-02T15:54:49.523Z"
   },
   {
    "duration": 2,
    "start_time": "2023-09-02T15:54:49.800Z"
   },
   {
    "duration": 4074,
    "start_time": "2023-09-02T15:54:49.804Z"
   },
   {
    "duration": 6,
    "start_time": "2023-09-02T15:54:53.879Z"
   },
   {
    "duration": 28,
    "start_time": "2023-09-02T15:54:53.886Z"
   },
   {
    "duration": 1483,
    "start_time": "2023-09-02T15:54:53.916Z"
   },
   {
    "duration": 2,
    "start_time": "2023-09-02T15:54:55.401Z"
   },
   {
    "duration": 7,
    "start_time": "2023-09-02T15:54:55.404Z"
   },
   {
    "duration": 15,
    "start_time": "2023-09-02T15:54:55.412Z"
   },
   {
    "duration": 5,
    "start_time": "2023-09-02T15:54:55.430Z"
   },
   {
    "duration": 26,
    "start_time": "2023-09-02T15:54:55.437Z"
   },
   {
    "duration": 6,
    "start_time": "2023-09-02T15:54:55.465Z"
   },
   {
    "duration": 8,
    "start_time": "2023-09-02T15:54:55.472Z"
   },
   {
    "duration": 207,
    "start_time": "2023-09-02T15:54:55.482Z"
   },
   {
    "duration": 13,
    "start_time": "2023-09-02T15:54:55.691Z"
   },
   {
    "duration": 3,
    "start_time": "2023-09-02T15:54:55.705Z"
   },
   {
    "duration": 6,
    "start_time": "2023-09-02T15:54:55.709Z"
   },
   {
    "duration": 28292,
    "start_time": "2023-09-02T15:54:55.726Z"
   },
   {
    "duration": 7,
    "start_time": "2023-09-02T15:55:24.020Z"
   },
   {
    "duration": 28,
    "start_time": "2023-09-02T15:55:24.029Z"
   },
   {
    "duration": 7,
    "start_time": "2023-09-02T15:55:24.060Z"
   },
   {
    "duration": 208,
    "start_time": "2023-09-02T15:55:24.069Z"
   },
   {
    "duration": 7,
    "start_time": "2023-09-02T16:46:05.540Z"
   },
   {
    "duration": 3,
    "start_time": "2023-09-02T16:47:48.629Z"
   },
   {
    "duration": 4,
    "start_time": "2023-09-02T16:48:52.890Z"
   },
   {
    "duration": 5,
    "start_time": "2023-09-02T16:52:11.583Z"
   },
   {
    "duration": 4,
    "start_time": "2023-09-02T16:52:18.910Z"
   },
   {
    "duration": 4,
    "start_time": "2023-09-02T16:52:47.791Z"
   },
   {
    "duration": 158,
    "start_time": "2023-09-02T16:54:03.404Z"
   },
   {
    "duration": 3,
    "start_time": "2023-09-02T16:55:03.226Z"
   },
   {
    "duration": 19,
    "start_time": "2023-09-02T16:55:39.280Z"
   },
   {
    "duration": 20,
    "start_time": "2023-09-02T16:55:50.204Z"
   },
   {
    "duration": 7,
    "start_time": "2023-09-02T16:56:15.879Z"
   },
   {
    "duration": 4,
    "start_time": "2023-09-02T16:56:40.094Z"
   },
   {
    "duration": 4,
    "start_time": "2023-09-02T16:59:56.980Z"
   },
   {
    "duration": 5,
    "start_time": "2023-09-02T17:01:12.403Z"
   },
   {
    "duration": 351,
    "start_time": "2023-09-02T17:05:15.288Z"
   },
   {
    "duration": 5,
    "start_time": "2023-09-02T17:07:47.219Z"
   },
   {
    "duration": 306,
    "start_time": "2023-09-02T17:07:53.631Z"
   },
   {
    "duration": 235,
    "start_time": "2023-09-02T17:08:24.400Z"
   },
   {
    "duration": 341,
    "start_time": "2023-09-02T17:43:32.205Z"
   },
   {
    "duration": 529,
    "start_time": "2023-09-02T17:46:18.964Z"
   },
   {
    "duration": 80,
    "start_time": "2023-09-02T17:46:27.868Z"
   },
   {
    "duration": 400,
    "start_time": "2023-09-02T17:46:35.432Z"
   },
   {
    "duration": 374,
    "start_time": "2023-09-02T17:47:18.035Z"
   },
   {
    "duration": 335,
    "start_time": "2023-09-02T17:47:36.098Z"
   },
   {
    "duration": 4,
    "start_time": "2023-09-02T17:47:44.405Z"
   },
   {
    "duration": 1560,
    "start_time": "2023-09-02T17:48:34.793Z"
   },
   {
    "duration": 243,
    "start_time": "2023-09-02T17:49:17.598Z"
   },
   {
    "duration": 2135,
    "start_time": "2023-09-02T18:03:42.713Z"
   },
   {
    "duration": 2179,
    "start_time": "2023-09-02T18:03:44.850Z"
   },
   {
    "duration": 2762,
    "start_time": "2023-09-02T18:03:47.031Z"
   },
   {
    "duration": 97,
    "start_time": "2023-09-02T18:03:49.795Z"
   },
   {
    "duration": 15,
    "start_time": "2023-09-02T18:03:49.894Z"
   },
   {
    "duration": 7,
    "start_time": "2023-09-02T18:03:49.911Z"
   },
   {
    "duration": 10,
    "start_time": "2023-09-02T18:03:49.920Z"
   },
   {
    "duration": 7,
    "start_time": "2023-09-02T18:03:49.932Z"
   },
   {
    "duration": 109,
    "start_time": "2023-09-02T18:03:49.941Z"
   },
   {
    "duration": 3,
    "start_time": "2023-09-02T18:03:50.052Z"
   },
   {
    "duration": 31,
    "start_time": "2023-09-02T18:03:50.056Z"
   },
   {
    "duration": 36,
    "start_time": "2023-09-02T18:03:50.089Z"
   },
   {
    "duration": 61,
    "start_time": "2023-09-02T18:03:50.126Z"
   },
   {
    "duration": 39,
    "start_time": "2023-09-02T18:03:50.188Z"
   },
   {
    "duration": 37,
    "start_time": "2023-09-02T18:03:50.228Z"
   },
   {
    "duration": 64,
    "start_time": "2023-09-02T18:03:50.267Z"
   },
   {
    "duration": 2,
    "start_time": "2023-09-02T18:03:50.333Z"
   },
   {
    "duration": 19,
    "start_time": "2023-09-02T18:03:50.337Z"
   },
   {
    "duration": 27,
    "start_time": "2023-09-02T18:03:50.358Z"
   },
   {
    "duration": 128,
    "start_time": "2023-09-02T18:03:50.387Z"
   },
   {
    "duration": 13,
    "start_time": "2023-09-02T18:03:50.523Z"
   },
   {
    "duration": 5,
    "start_time": "2023-09-02T18:03:50.537Z"
   },
   {
    "duration": 24,
    "start_time": "2023-09-02T18:03:50.543Z"
   },
   {
    "duration": 12,
    "start_time": "2023-09-02T18:03:50.569Z"
   },
   {
    "duration": 17,
    "start_time": "2023-09-02T18:03:50.583Z"
   },
   {
    "duration": 25,
    "start_time": "2023-09-02T18:03:50.601Z"
   },
   {
    "duration": 5,
    "start_time": "2023-09-02T18:03:50.628Z"
   },
   {
    "duration": 8,
    "start_time": "2023-09-02T18:03:50.636Z"
   },
   {
    "duration": 7,
    "start_time": "2023-09-02T18:03:50.646Z"
   },
   {
    "duration": 15,
    "start_time": "2023-09-02T18:03:50.655Z"
   },
   {
    "duration": 10,
    "start_time": "2023-09-02T18:03:50.672Z"
   },
   {
    "duration": 25,
    "start_time": "2023-09-02T18:03:50.683Z"
   },
   {
    "duration": 10,
    "start_time": "2023-09-02T18:03:50.710Z"
   },
   {
    "duration": 24,
    "start_time": "2023-09-02T18:03:50.721Z"
   },
   {
    "duration": 44,
    "start_time": "2023-09-02T18:03:50.747Z"
   },
   {
    "duration": 15,
    "start_time": "2023-09-02T18:03:50.793Z"
   },
   {
    "duration": 45,
    "start_time": "2023-09-02T18:03:50.809Z"
   },
   {
    "duration": 48,
    "start_time": "2023-09-02T18:03:50.855Z"
   },
   {
    "duration": 3877,
    "start_time": "2023-09-02T18:03:50.905Z"
   },
   {
    "duration": 255,
    "start_time": "2023-09-02T18:03:54.783Z"
   },
   {
    "duration": 385,
    "start_time": "2023-09-02T18:03:55.039Z"
   },
   {
    "duration": 254,
    "start_time": "2023-09-02T18:03:55.426Z"
   },
   {
    "duration": 3,
    "start_time": "2023-09-02T18:03:55.682Z"
   },
   {
    "duration": 3568,
    "start_time": "2023-09-02T18:03:55.686Z"
   },
   {
    "duration": 6,
    "start_time": "2023-09-02T18:03:59.256Z"
   },
   {
    "duration": 33,
    "start_time": "2023-09-02T18:03:59.263Z"
   },
   {
    "duration": 1274,
    "start_time": "2023-09-02T18:03:59.298Z"
   },
   {
    "duration": 3,
    "start_time": "2023-09-02T18:04:00.574Z"
   },
   {
    "duration": 66,
    "start_time": "2023-09-02T18:04:00.579Z"
   },
   {
    "duration": 52,
    "start_time": "2023-09-02T18:04:00.647Z"
   },
   {
    "duration": 75,
    "start_time": "2023-09-02T18:04:00.701Z"
   },
   {
    "duration": 67,
    "start_time": "2023-09-02T18:04:00.778Z"
   },
   {
    "duration": 29,
    "start_time": "2023-09-02T18:04:00.847Z"
   },
   {
    "duration": 30,
    "start_time": "2023-09-02T18:04:00.878Z"
   },
   {
    "duration": 240,
    "start_time": "2023-09-02T18:04:00.910Z"
   },
   {
    "duration": 13,
    "start_time": "2023-09-02T18:04:01.152Z"
   },
   {
    "duration": 38,
    "start_time": "2023-09-02T18:04:01.166Z"
   },
   {
    "duration": 50,
    "start_time": "2023-09-02T18:04:01.205Z"
   },
   {
    "duration": 27247,
    "start_time": "2023-09-02T18:04:01.257Z"
   },
   {
    "duration": 4,
    "start_time": "2023-09-02T18:04:28.506Z"
   },
   {
    "duration": 15,
    "start_time": "2023-09-02T18:04:28.511Z"
   },
   {
    "duration": 7,
    "start_time": "2023-09-02T18:04:28.528Z"
   },
   {
    "duration": 212,
    "start_time": "2023-09-02T18:04:28.537Z"
   }
  ],
  "kernelspec": {
   "display_name": "Python 3 (ipykernel)",
   "language": "python",
   "name": "python3"
  },
  "language_info": {
   "codemirror_mode": {
    "name": "ipython",
    "version": 3
   },
   "file_extension": ".py",
   "mimetype": "text/x-python",
   "name": "python",
   "nbconvert_exporter": "python",
   "pygments_lexer": "ipython3",
   "version": "3.11.5"
  },
  "toc": {
   "base_numbering": 1,
   "nav_menu": {},
   "number_sections": true,
   "sideBar": true,
   "skip_h1_title": true,
   "title_cell": "Table of Contents",
   "title_sidebar": "Contents",
   "toc_cell": false,
   "toc_position": {
    "height": "calc(100% - 180px)",
    "left": "10px",
    "top": "150px",
    "width": "230.594px"
   },
   "toc_section_display": true,
   "toc_window_display": true
  }
 },
 "nbformat": 4,
 "nbformat_minor": 2
}
