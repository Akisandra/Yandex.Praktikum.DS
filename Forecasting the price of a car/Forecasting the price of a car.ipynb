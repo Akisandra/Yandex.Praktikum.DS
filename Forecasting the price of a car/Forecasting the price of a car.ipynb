{
 "cells": [
  {
   "cell_type": "markdown",
   "metadata": {},
   "source": [
    "# Определение стоимости автомобилей"
   ]
  },
  {
   "cell_type": "markdown",
   "metadata": {},
   "source": [
    "Сервис по продаже автомобилей с пробегом «Не бит, не крашен» разрабатывает приложение для привлечения новых клиентов. В нём можно быстро узнать рыночную стоимость своего автомобиля. В вашем распоряжении исторические данные: технические характеристики, комплектации и цены автомобилей. Вам нужно построить модель для определения стоимости. \n",
    "\n",
    "Заказчику важны:\n",
    "\n",
    "- качество предсказания;\n",
    "- скорость предсказания;\n",
    "- время обучения."
   ]
  },
  {
   "cell_type": "markdown",
   "metadata": {},
   "source": [
    "## Подготовка данных"
   ]
  },
  {
   "cell_type": "code",
   "execution_count": 1,
   "metadata": {},
   "outputs": [
    {
     "name": "stdout",
     "output_type": "stream",
     "text": [
      "Requirement already satisfied: lightgbm in c:\\users\\akisa\\anaconda4\\lib\\site-packages (3.3.5)\n",
      "Requirement already satisfied: wheel in c:\\users\\akisa\\anaconda4\\lib\\site-packages (from lightgbm) (0.36.2)\n",
      "Requirement already satisfied: scipy in c:\\users\\akisa\\anaconda4\\lib\\site-packages (from lightgbm) (1.6.2)\n",
      "Requirement already satisfied: numpy in c:\\users\\akisa\\anaconda4\\lib\\site-packages (from lightgbm) (1.20.1)\n",
      "Requirement already satisfied: scikit-learn!=0.22.0 in c:\\users\\akisa\\anaconda4\\lib\\site-packages (from lightgbm) (0.24.1)\n",
      "Requirement already satisfied: threadpoolctl>=2.0.0 in c:\\users\\akisa\\anaconda4\\lib\\site-packages (from scikit-learn!=0.22.0->lightgbm) (2.1.0)\n",
      "Requirement already satisfied: joblib>=0.11 in c:\\users\\akisa\\anaconda4\\lib\\site-packages (from scikit-learn!=0.22.0->lightgbm) (1.0.1)\n"
     ]
    }
   ],
   "source": [
    "!pip install lightgbm"
   ]
  },
  {
   "cell_type": "code",
   "execution_count": 2,
   "metadata": {},
   "outputs": [
    {
     "name": "stdout",
     "output_type": "stream",
     "text": [
      "Requirement already satisfied: catboost in c:\\users\\akisa\\anaconda4\\lib\\site-packages (1.2)\n",
      "Requirement already satisfied: six in c:\\users\\akisa\\anaconda4\\lib\\site-packages (from catboost) (1.15.0)\n",
      "Requirement already satisfied: graphviz in c:\\users\\akisa\\anaconda4\\lib\\site-packages (from catboost) (0.20.1)\n",
      "Requirement already satisfied: scipy in c:\\users\\akisa\\anaconda4\\lib\\site-packages (from catboost) (1.6.2)\n",
      "Requirement already satisfied: matplotlib in c:\\users\\akisa\\anaconda4\\lib\\site-packages (from catboost) (3.3.4)\n",
      "Requirement already satisfied: plotly in c:\\users\\akisa\\anaconda4\\lib\\site-packages (from catboost) (5.15.0)\n",
      "Requirement already satisfied: pandas>=0.24 in c:\\users\\akisa\\anaconda4\\lib\\site-packages (from catboost) (1.2.4)\n",
      "Requirement already satisfied: numpy>=1.16.0 in c:\\users\\akisa\\anaconda4\\lib\\site-packages (from catboost) (1.20.1)\n",
      "Requirement already satisfied: python-dateutil>=2.7.3 in c:\\users\\akisa\\anaconda4\\lib\\site-packages (from pandas>=0.24->catboost) (2.8.1)\n",
      "Requirement already satisfied: pytz>=2017.3 in c:\\users\\akisa\\anaconda4\\lib\\site-packages (from pandas>=0.24->catboost) (2021.1)\n",
      "Requirement already satisfied: pyparsing!=2.0.4,!=2.1.2,!=2.1.6,>=2.0.3 in c:\\users\\akisa\\anaconda4\\lib\\site-packages (from matplotlib->catboost) (2.4.7)\n",
      "Requirement already satisfied: cycler>=0.10 in c:\\users\\akisa\\anaconda4\\lib\\site-packages (from matplotlib->catboost) (0.10.0)\n",
      "Requirement already satisfied: kiwisolver>=1.0.1 in c:\\users\\akisa\\anaconda4\\lib\\site-packages (from matplotlib->catboost) (1.3.1)\n",
      "Requirement already satisfied: pillow>=6.2.0 in c:\\users\\akisa\\anaconda4\\lib\\site-packages (from matplotlib->catboost) (8.2.0)\n",
      "Requirement already satisfied: tenacity>=6.2.0 in c:\\users\\akisa\\anaconda4\\lib\\site-packages (from plotly->catboost) (8.2.2)\n",
      "Requirement already satisfied: packaging in c:\\users\\akisa\\anaconda4\\lib\\site-packages (from plotly->catboost) (20.9)\n"
     ]
    }
   ],
   "source": [
    "!pip install catboost"
   ]
  },
  {
   "cell_type": "code",
   "execution_count": 3,
   "metadata": {},
   "outputs": [],
   "source": [
    "import pandas as pd\n",
    "import numpy as np\n",
    "import re\n",
    "import os\n",
    "from matplotlib import pyplot as plt\n",
    "import seaborn as sns\n",
    "import numpy as np\n",
    "import time\n",
    "from sklearn.model_selection import train_test_split\n",
    "from sklearn.model_selection import cross_val_score\n",
    "from sklearn.model_selection import GridSearchCV\n",
    "from sklearn.metrics import r2_score\n",
    "from sklearn.metrics import mean_squared_error\n",
    "from sklearn.linear_model import LinearRegression\n",
    "from sklearn.preprocessing import OneHotEncoder\n",
    "import lightgbm as lgb\n",
    "from sklearn.linear_model import Ridge\n",
    "from catboost import CatBoostRegressor\n",
    "from lightgbm import LGBMRegressor\n",
    "from catboost import CatBoostRegressor"
   ]
  },
  {
   "cell_type": "code",
   "execution_count": 4,
   "metadata": {},
   "outputs": [],
   "source": [
    "data = pd.read_csv('/datasets/autos.csv')"
   ]
  },
  {
   "cell_type": "code",
   "execution_count": 5,
   "metadata": {},
   "outputs": [],
   "source": [
    "RANDOM_STATE = 12345"
   ]
  },
  {
   "cell_type": "code",
   "execution_count": 6,
   "metadata": {},
   "outputs": [
    {
     "data": {
      "text/html": [
       "<div>\n",
       "<style scoped>\n",
       "    .dataframe tbody tr th:only-of-type {\n",
       "        vertical-align: middle;\n",
       "    }\n",
       "\n",
       "    .dataframe tbody tr th {\n",
       "        vertical-align: top;\n",
       "    }\n",
       "\n",
       "    .dataframe thead th {\n",
       "        text-align: right;\n",
       "    }\n",
       "</style>\n",
       "<table border=\"1\" class=\"dataframe\">\n",
       "  <thead>\n",
       "    <tr style=\"text-align: right;\">\n",
       "      <th></th>\n",
       "      <th>DateCrawled</th>\n",
       "      <th>Price</th>\n",
       "      <th>VehicleType</th>\n",
       "      <th>RegistrationYear</th>\n",
       "      <th>Gearbox</th>\n",
       "      <th>Power</th>\n",
       "      <th>Model</th>\n",
       "      <th>Kilometer</th>\n",
       "      <th>RegistrationMonth</th>\n",
       "      <th>FuelType</th>\n",
       "      <th>Brand</th>\n",
       "      <th>Repaired</th>\n",
       "      <th>DateCreated</th>\n",
       "      <th>NumberOfPictures</th>\n",
       "      <th>PostalCode</th>\n",
       "      <th>LastSeen</th>\n",
       "    </tr>\n",
       "  </thead>\n",
       "  <tbody>\n",
       "    <tr>\n",
       "      <th>0</th>\n",
       "      <td>2016-03-24 11:52:17</td>\n",
       "      <td>480</td>\n",
       "      <td>NaN</td>\n",
       "      <td>1993</td>\n",
       "      <td>manual</td>\n",
       "      <td>0</td>\n",
       "      <td>golf</td>\n",
       "      <td>150000</td>\n",
       "      <td>0</td>\n",
       "      <td>petrol</td>\n",
       "      <td>volkswagen</td>\n",
       "      <td>NaN</td>\n",
       "      <td>2016-03-24 00:00:00</td>\n",
       "      <td>0</td>\n",
       "      <td>70435</td>\n",
       "      <td>2016-04-07 03:16:57</td>\n",
       "    </tr>\n",
       "    <tr>\n",
       "      <th>1</th>\n",
       "      <td>2016-03-24 10:58:45</td>\n",
       "      <td>18300</td>\n",
       "      <td>coupe</td>\n",
       "      <td>2011</td>\n",
       "      <td>manual</td>\n",
       "      <td>190</td>\n",
       "      <td>NaN</td>\n",
       "      <td>125000</td>\n",
       "      <td>5</td>\n",
       "      <td>gasoline</td>\n",
       "      <td>audi</td>\n",
       "      <td>yes</td>\n",
       "      <td>2016-03-24 00:00:00</td>\n",
       "      <td>0</td>\n",
       "      <td>66954</td>\n",
       "      <td>2016-04-07 01:46:50</td>\n",
       "    </tr>\n",
       "    <tr>\n",
       "      <th>2</th>\n",
       "      <td>2016-03-14 12:52:21</td>\n",
       "      <td>9800</td>\n",
       "      <td>suv</td>\n",
       "      <td>2004</td>\n",
       "      <td>auto</td>\n",
       "      <td>163</td>\n",
       "      <td>grand</td>\n",
       "      <td>125000</td>\n",
       "      <td>8</td>\n",
       "      <td>gasoline</td>\n",
       "      <td>jeep</td>\n",
       "      <td>NaN</td>\n",
       "      <td>2016-03-14 00:00:00</td>\n",
       "      <td>0</td>\n",
       "      <td>90480</td>\n",
       "      <td>2016-04-05 12:47:46</td>\n",
       "    </tr>\n",
       "    <tr>\n",
       "      <th>3</th>\n",
       "      <td>2016-03-17 16:54:04</td>\n",
       "      <td>1500</td>\n",
       "      <td>small</td>\n",
       "      <td>2001</td>\n",
       "      <td>manual</td>\n",
       "      <td>75</td>\n",
       "      <td>golf</td>\n",
       "      <td>150000</td>\n",
       "      <td>6</td>\n",
       "      <td>petrol</td>\n",
       "      <td>volkswagen</td>\n",
       "      <td>no</td>\n",
       "      <td>2016-03-17 00:00:00</td>\n",
       "      <td>0</td>\n",
       "      <td>91074</td>\n",
       "      <td>2016-03-17 17:40:17</td>\n",
       "    </tr>\n",
       "    <tr>\n",
       "      <th>4</th>\n",
       "      <td>2016-03-31 17:25:20</td>\n",
       "      <td>3600</td>\n",
       "      <td>small</td>\n",
       "      <td>2008</td>\n",
       "      <td>manual</td>\n",
       "      <td>69</td>\n",
       "      <td>fabia</td>\n",
       "      <td>90000</td>\n",
       "      <td>7</td>\n",
       "      <td>gasoline</td>\n",
       "      <td>skoda</td>\n",
       "      <td>no</td>\n",
       "      <td>2016-03-31 00:00:00</td>\n",
       "      <td>0</td>\n",
       "      <td>60437</td>\n",
       "      <td>2016-04-06 10:17:21</td>\n",
       "    </tr>\n",
       "  </tbody>\n",
       "</table>\n",
       "</div>"
      ],
      "text/plain": [
       "           DateCrawled  Price VehicleType  RegistrationYear Gearbox  Power  \\\n",
       "0  2016-03-24 11:52:17    480         NaN              1993  manual      0   \n",
       "1  2016-03-24 10:58:45  18300       coupe              2011  manual    190   \n",
       "2  2016-03-14 12:52:21   9800         suv              2004    auto    163   \n",
       "3  2016-03-17 16:54:04   1500       small              2001  manual     75   \n",
       "4  2016-03-31 17:25:20   3600       small              2008  manual     69   \n",
       "\n",
       "   Model  Kilometer  RegistrationMonth  FuelType       Brand Repaired  \\\n",
       "0   golf     150000                  0    petrol  volkswagen      NaN   \n",
       "1    NaN     125000                  5  gasoline        audi      yes   \n",
       "2  grand     125000                  8  gasoline        jeep      NaN   \n",
       "3   golf     150000                  6    petrol  volkswagen       no   \n",
       "4  fabia      90000                  7  gasoline       skoda       no   \n",
       "\n",
       "           DateCreated  NumberOfPictures  PostalCode             LastSeen  \n",
       "0  2016-03-24 00:00:00                 0       70435  2016-04-07 03:16:57  \n",
       "1  2016-03-24 00:00:00                 0       66954  2016-04-07 01:46:50  \n",
       "2  2016-03-14 00:00:00                 0       90480  2016-04-05 12:47:46  \n",
       "3  2016-03-17 00:00:00                 0       91074  2016-03-17 17:40:17  \n",
       "4  2016-03-31 00:00:00                 0       60437  2016-04-06 10:17:21  "
      ]
     },
     "execution_count": 6,
     "metadata": {},
     "output_type": "execute_result"
    }
   ],
   "source": [
    "data.head()"
   ]
  },
  {
   "cell_type": "markdown",
   "metadata": {},
   "source": [
    "Описание данных\n",
    "\n",
    "<br>Признаки:\n",
    "\n",
    "- DateCrawled — дата скачивания анкеты из базы\n",
    "- VehicleType — тип автомобильного кузова\n",
    "- RegistrationYear — год регистрации автомобиля\n",
    "- Gearbox — тип коробки передач\n",
    "- Power — мощность (л. с- .)\n",
    "- Model — модель автомобиля\n",
    "- Kilometer — пробег (км)\n",
    "- RegistrationMonth — месяц регистрации автомобиля\n",
    "- FuelType — тип топлива\n",
    "- Brand — марка автомобиля\n",
    "- Repaired — была машина в ремонте или нет\n",
    "- DateCreated — дата создания анкеты\n",
    "- NumberOfPictures — количество фотографий автомобиля\n",
    "- PostalCode — почтовый индекс владельца анкеты (пользователя)\n",
    "- LastSeen — дата последней активности пользователя\n",
    "\n",
    "<br>Целевой признак\n",
    "\n",
    "- Price — цена (евро)"
   ]
  },
  {
   "cell_type": "code",
   "execution_count": 7,
   "metadata": {},
   "outputs": [
    {
     "data": {
      "text/plain": [
       "Index(['DateCrawled', 'Price', 'VehicleType', 'RegistrationYear', 'Gearbox',\n",
       "       'Power', 'Model', 'Kilometer', 'RegistrationMonth', 'FuelType', 'Brand',\n",
       "       'Repaired', 'DateCreated', 'NumberOfPictures', 'PostalCode',\n",
       "       'LastSeen'],\n",
       "      dtype='object')"
      ]
     },
     "execution_count": 7,
     "metadata": {},
     "output_type": "execute_result"
    }
   ],
   "source": [
    "data.columns"
   ]
  },
  {
   "cell_type": "markdown",
   "metadata": {},
   "source": [
    "Приведем названия столбцов к змеиной нотации"
   ]
  },
  {
   "cell_type": "code",
   "execution_count": 8,
   "metadata": {},
   "outputs": [
    {
     "data": {
      "text/plain": [
       "Index(['date_crawled', 'price', 'vehicle_type', 'registration_year', 'gearbox',\n",
       "       'power', 'model', 'kilometer', 'registration_month', 'fuel_type',\n",
       "       'brand', 'repaired', 'date_created', 'number_of_pictures',\n",
       "       'postal_code', 'last_seen'],\n",
       "      dtype='object')"
      ]
     },
     "execution_count": 8,
     "metadata": {},
     "output_type": "execute_result"
    }
   ],
   "source": [
    "def snake_case(column_name):\n",
    "    column_name = re.sub(r'([a-z])([A-Z])', r'\\1_\\2', column_name).lower()\n",
    "    return column_name\n",
    "\n",
    "data = data.rename(columns=snake_case)\n",
    "data.columns"
   ]
  },
  {
   "cell_type": "code",
   "execution_count": 9,
   "metadata": {},
   "outputs": [
    {
     "name": "stdout",
     "output_type": "stream",
     "text": [
      "<class 'pandas.core.frame.DataFrame'>\n",
      "RangeIndex: 354369 entries, 0 to 354368\n",
      "Data columns (total 16 columns):\n",
      " #   Column              Non-Null Count   Dtype \n",
      "---  ------              --------------   ----- \n",
      " 0   date_crawled        354369 non-null  object\n",
      " 1   price               354369 non-null  int64 \n",
      " 2   vehicle_type        316879 non-null  object\n",
      " 3   registration_year   354369 non-null  int64 \n",
      " 4   gearbox             334536 non-null  object\n",
      " 5   power               354369 non-null  int64 \n",
      " 6   model               334664 non-null  object\n",
      " 7   kilometer           354369 non-null  int64 \n",
      " 8   registration_month  354369 non-null  int64 \n",
      " 9   fuel_type           321474 non-null  object\n",
      " 10  brand               354369 non-null  object\n",
      " 11  repaired            283215 non-null  object\n",
      " 12  date_created        354369 non-null  object\n",
      " 13  number_of_pictures  354369 non-null  int64 \n",
      " 14  postal_code         354369 non-null  int64 \n",
      " 15  last_seen           354369 non-null  object\n",
      "dtypes: int64(7), object(9)\n",
      "memory usage: 43.3+ MB\n"
     ]
    }
   ],
   "source": [
    "data.info()"
   ]
  },
  {
   "cell_type": "code",
   "execution_count": 10,
   "metadata": {},
   "outputs": [
    {
     "name": "stdout",
     "output_type": "stream",
     "text": [
      "Количество дубликатов: 4\n",
      "\n",
      "Уникальные значения по столбцам:\n",
      " date_crawled          271174\n",
      "price                   3731\n",
      "vehicle_type               8\n",
      "registration_year        151\n",
      "gearbox                    2\n",
      "power                    712\n",
      "model                    250\n",
      "kilometer                 13\n",
      "registration_month        13\n",
      "fuel_type                  7\n",
      "brand                     40\n",
      "repaired                   2\n",
      "date_created             109\n",
      "number_of_pictures         1\n",
      "postal_code             8143\n",
      "last_seen             179150\n",
      "dtype: int64\n",
      "\n",
      "Пропущенные значения по столбцам:\n",
      " date_crawled              0\n",
      "price                     0\n",
      "vehicle_type          37490\n",
      "registration_year         0\n",
      "gearbox               19833\n",
      "power                     0\n",
      "model                 19705\n",
      "kilometer                 0\n",
      "registration_month        0\n",
      "fuel_type             32895\n",
      "brand                     0\n",
      "repaired              71154\n",
      "date_created              0\n",
      "number_of_pictures        0\n",
      "postal_code               0\n",
      "last_seen                 0\n",
      "dtype: int64\n"
     ]
    }
   ],
   "source": [
    "# Проверка на дубликаты\n",
    "duplicates = data.duplicated()\n",
    "print(\"Количество дубликатов:\", duplicates.sum())\n",
    "print()\n",
    "# Проверка на уникальные значения для каждого столбца\n",
    "unique_values = data.nunique()\n",
    "print(\"Уникальные значения по столбцам:\\n\", unique_values)\n",
    "print()\n",
    "# Проверка на пропущенные значения для каждого столбца\n",
    "missing_values = data.isnull().sum()\n",
    "print(\"Пропущенные значения по столбцам:\\n\", missing_values)"
   ]
  },
  {
   "cell_type": "code",
   "execution_count": 11,
   "metadata": {},
   "outputs": [],
   "source": [
    "data.drop_duplicates(inplace=True)"
   ]
  },
  {
   "cell_type": "code",
   "execution_count": 12,
   "metadata": {},
   "outputs": [
    {
     "data": {
      "text/plain": [
       "array([[<AxesSubplot:title={'center':'price'}>,\n",
       "        <AxesSubplot:title={'center':'registration_year'}>,\n",
       "        <AxesSubplot:title={'center':'power'}>],\n",
       "       [<AxesSubplot:title={'center':'kilometer'}>,\n",
       "        <AxesSubplot:title={'center':'registration_month'}>,\n",
       "        <AxesSubplot:title={'center':'number_of_pictures'}>],\n",
       "       [<AxesSubplot:title={'center':'postal_code'}>, <AxesSubplot:>,\n",
       "        <AxesSubplot:>]], dtype=object)"
      ]
     },
     "execution_count": 12,
     "metadata": {},
     "output_type": "execute_result"
    },
    {
     "data": {
      "image/png": "[encoded data removed]",
      "text/plain": [
       "<Figure size 1080x1080 with 9 Axes>"
      ]
     },
     "metadata": {
      "needs_background": "light"
     },
     "output_type": "display_data"
    }
   ],
   "source": [
    "data.hist(figsize=(15, 15))"
   ]
  },
  {
   "cell_type": "code",
   "execution_count": 13,
   "metadata": {},
   "outputs": [
    {
     "data": {
      "text/html": [
       "<div>\n",
       "<style scoped>\n",
       "    .dataframe tbody tr th:only-of-type {\n",
       "        vertical-align: middle;\n",
       "    }\n",
       "\n",
       "    .dataframe tbody tr th {\n",
       "        vertical-align: top;\n",
       "    }\n",
       "\n",
       "    .dataframe thead th {\n",
       "        text-align: right;\n",
       "    }\n",
       "</style>\n",
       "<table border=\"1\" class=\"dataframe\">\n",
       "  <thead>\n",
       "    <tr style=\"text-align: right;\">\n",
       "      <th></th>\n",
       "      <th>price</th>\n",
       "      <th>registration_year</th>\n",
       "      <th>power</th>\n",
       "      <th>kilometer</th>\n",
       "      <th>registration_month</th>\n",
       "      <th>number_of_pictures</th>\n",
       "      <th>postal_code</th>\n",
       "    </tr>\n",
       "  </thead>\n",
       "  <tbody>\n",
       "    <tr>\n",
       "      <th>count</th>\n",
       "      <td>354365.000000</td>\n",
       "      <td>354365.000000</td>\n",
       "      <td>354365.000000</td>\n",
       "      <td>354365.000000</td>\n",
       "      <td>354365.000000</td>\n",
       "      <td>354365.0</td>\n",
       "      <td>354365.000000</td>\n",
       "    </tr>\n",
       "    <tr>\n",
       "      <th>mean</th>\n",
       "      <td>4416.679830</td>\n",
       "      <td>2004.234481</td>\n",
       "      <td>110.093816</td>\n",
       "      <td>128211.363989</td>\n",
       "      <td>5.714650</td>\n",
       "      <td>0.0</td>\n",
       "      <td>50508.503800</td>\n",
       "    </tr>\n",
       "    <tr>\n",
       "      <th>std</th>\n",
       "      <td>4514.176349</td>\n",
       "      <td>90.228466</td>\n",
       "      <td>189.851330</td>\n",
       "      <td>37905.083858</td>\n",
       "      <td>3.726432</td>\n",
       "      <td>0.0</td>\n",
       "      <td>25783.100078</td>\n",
       "    </tr>\n",
       "    <tr>\n",
       "      <th>min</th>\n",
       "      <td>0.000000</td>\n",
       "      <td>1000.000000</td>\n",
       "      <td>0.000000</td>\n",
       "      <td>5000.000000</td>\n",
       "      <td>0.000000</td>\n",
       "      <td>0.0</td>\n",
       "      <td>1067.000000</td>\n",
       "    </tr>\n",
       "    <tr>\n",
       "      <th>25%</th>\n",
       "      <td>1050.000000</td>\n",
       "      <td>1999.000000</td>\n",
       "      <td>69.000000</td>\n",
       "      <td>125000.000000</td>\n",
       "      <td>3.000000</td>\n",
       "      <td>0.0</td>\n",
       "      <td>30165.000000</td>\n",
       "    </tr>\n",
       "    <tr>\n",
       "      <th>50%</th>\n",
       "      <td>2700.000000</td>\n",
       "      <td>2003.000000</td>\n",
       "      <td>105.000000</td>\n",
       "      <td>150000.000000</td>\n",
       "      <td>6.000000</td>\n",
       "      <td>0.0</td>\n",
       "      <td>49413.000000</td>\n",
       "    </tr>\n",
       "    <tr>\n",
       "      <th>75%</th>\n",
       "      <td>6400.000000</td>\n",
       "      <td>2008.000000</td>\n",
       "      <td>143.000000</td>\n",
       "      <td>150000.000000</td>\n",
       "      <td>9.000000</td>\n",
       "      <td>0.0</td>\n",
       "      <td>71083.000000</td>\n",
       "    </tr>\n",
       "    <tr>\n",
       "      <th>max</th>\n",
       "      <td>20000.000000</td>\n",
       "      <td>9999.000000</td>\n",
       "      <td>20000.000000</td>\n",
       "      <td>150000.000000</td>\n",
       "      <td>12.000000</td>\n",
       "      <td>0.0</td>\n",
       "      <td>99998.000000</td>\n",
       "    </tr>\n",
       "  </tbody>\n",
       "</table>\n",
       "</div>"
      ],
      "text/plain": [
       "               price  registration_year          power      kilometer  \\\n",
       "count  354365.000000      354365.000000  354365.000000  354365.000000   \n",
       "mean     4416.679830        2004.234481     110.093816  128211.363989   \n",
       "std      4514.176349          90.228466     189.851330   37905.083858   \n",
       "min         0.000000        1000.000000       0.000000    5000.000000   \n",
       "25%      1050.000000        1999.000000      69.000000  125000.000000   \n",
       "50%      2700.000000        2003.000000     105.000000  150000.000000   \n",
       "75%      6400.000000        2008.000000     143.000000  150000.000000   \n",
       "max     20000.000000        9999.000000   20000.000000  150000.000000   \n",
       "\n",
       "       registration_month  number_of_pictures    postal_code  \n",
       "count       354365.000000            354365.0  354365.000000  \n",
       "mean             5.714650                 0.0   50508.503800  \n",
       "std              3.726432                 0.0   25783.100078  \n",
       "min              0.000000                 0.0    1067.000000  \n",
       "25%              3.000000                 0.0   30165.000000  \n",
       "50%              6.000000                 0.0   49413.000000  \n",
       "75%              9.000000                 0.0   71083.000000  \n",
       "max             12.000000                 0.0   99998.000000  "
      ]
     },
     "execution_count": 13,
     "metadata": {},
     "output_type": "execute_result"
    }
   ],
   "source": [
    "data.describe()"
   ]
  },
  {
   "cell_type": "code",
   "execution_count": 14,
   "metadata": {},
   "outputs": [],
   "source": [
    "df = data.copy()"
   ]
  },
  {
   "cell_type": "markdown",
   "metadata": {},
   "source": [
    "Рассмотрим столбцы с пропусками"
   ]
  },
  {
   "cell_type": "code",
   "execution_count": 15,
   "metadata": {},
   "outputs": [
    {
     "name": "stdout",
     "output_type": "stream",
     "text": [
      "Столбец 'vehicle_type': Уникальные значения: [nan 'coupe' 'suv' 'small' 'sedan' 'convertible' 'bus' 'wagon' 'other']\n",
      "Столбец 'gearbox': Уникальные значения: ['manual' 'auto' nan]\n",
      "Столбец 'model': Уникальные значения: ['golf' nan 'grand' 'fabia' '3er' '2_reihe' 'other' 'c_max' '3_reihe'\n",
      " 'passat' 'navara' 'ka' 'polo' 'twingo' 'a_klasse' 'scirocco' '5er'\n",
      " 'meriva' 'arosa' 'c4' 'civic' 'transporter' 'punto' 'e_klasse' 'clio'\n",
      " 'kadett' 'kangoo' 'corsa' 'one' 'fortwo' '1er' 'b_klasse' 'signum'\n",
      " 'astra' 'a8' 'jetta' 'fiesta' 'c_klasse' 'micra' 'vito' 'sprinter' '156'\n",
      " 'escort' 'forester' 'xc_reihe' 'scenic' 'a4' 'a1' 'insignia' 'combo'\n",
      " 'focus' 'tt' 'a6' 'jazz' 'omega' 'slk' '7er' '80' '147' '100' 'z_reihe'\n",
      " 'sportage' 'sorento' 'v40' 'ibiza' 'mustang' 'eos' 'touran' 'getz' 'a3'\n",
      " 'almera' 'megane' 'lupo' 'r19' 'zafira' 'caddy' 'mondeo' 'cordoba' 'colt'\n",
      " 'impreza' 'vectra' 'berlingo' 'tiguan' 'i_reihe' 'espace' 'sharan'\n",
      " '6_reihe' 'panda' 'up' 'seicento' 'ceed' '5_reihe' 'yeti' 'octavia' 'mii'\n",
      " 'rx_reihe' '6er' 'modus' 'fox' 'matiz' 'beetle' 'c1' 'rio' 'touareg'\n",
      " 'logan' 'spider' 'cuore' 's_max' 'a2' 'galaxy' 'c3' 'viano' 's_klasse'\n",
      " '1_reihe' 'avensis' 'roomster' 'sl' 'kaefer' 'santa' 'cooper' 'leon'\n",
      " '4_reihe' 'a5' '500' 'laguna' 'ptcruiser' 'clk' 'primera' 'x_reihe'\n",
      " 'exeo' '159' 'transit' 'juke' 'qashqai' 'carisma' 'accord' 'corolla'\n",
      " 'lanos' 'phaeton' 'verso' 'swift' 'rav' 'picanto' 'boxster' 'kalos'\n",
      " 'superb' 'stilo' 'alhambra' 'mx_reihe' 'roadster' 'ypsilon' 'cayenne'\n",
      " 'galant' 'justy' '90' 'sirion' 'crossfire' 'agila' 'duster' 'cr_reihe'\n",
      " 'v50' 'c_reihe' 'v_klasse' 'm_klasse' 'yaris' 'c5' 'aygo' 'cc' 'carnival'\n",
      " 'fusion' '911' 'bora' 'forfour' 'm_reihe' 'cl' 'tigra' '300c' 'spark'\n",
      " 'v70' 'kuga' 'x_type' 'ducato' 's_type' 'x_trail' 'toledo' 'altea'\n",
      " 'voyager' 'calibra' 'bravo' 'antara' 'tucson' 'citigo' 'jimny' 'wrangler'\n",
      " 'lybra' 'q7' 'lancer' 'captiva' 'c2' 'discovery' 'freelander' 'sandero'\n",
      " 'note' '900' 'cherokee' 'clubman' 'samara' 'defender' '601' 'cx_reihe'\n",
      " 'legacy' 'pajero' 'auris' 'niva' 's60' 'nubira' 'vivaro' 'g_klasse'\n",
      " 'lodgy' '850' 'range_rover' 'q3' 'serie_2' 'glk' 'charade' 'croma'\n",
      " 'outlander' 'doblo' 'musa' 'move' '9000' 'v60' '145' 'aveo' '200' 'b_max'\n",
      " 'range_rover_sport' 'terios' 'rangerover' 'q5' 'range_rover_evoque'\n",
      " 'materia' 'delta' 'gl' 'kalina' 'amarok' 'elefantino' 'i3' 'kappa'\n",
      " 'serie_3' 'serie_1']\n",
      "Столбец 'fuel_type': Уникальные значения: ['petrol' 'gasoline' nan 'lpg' 'other' 'hybrid' 'cng' 'electric']\n",
      "Столбец 'repaired': Уникальные значения: [nan 'yes' 'no']\n"
     ]
    }
   ],
   "source": [
    "columns_with_missing_values = df.columns[df.isnull().any()]\n",
    "for column in columns_with_missing_values:\n",
    "    unique_values = df[column].unique()\n",
    "    print(f\"Столбец '{column}': Уникальные значения: {unique_values}\")"
   ]
  },
  {
   "cell_type": "markdown",
   "metadata": {},
   "source": [
    "Отсутствуют значения в категориальных переменных. Что бы не исказить результаты заменим пропущенные значения на \"unknown\""
   ]
  },
  {
   "cell_type": "code",
   "execution_count": 16,
   "metadata": {},
   "outputs": [
    {
     "data": {
      "text/plain": [
       "date_crawled          0\n",
       "price                 0\n",
       "vehicle_type          0\n",
       "registration_year     0\n",
       "gearbox               0\n",
       "power                 0\n",
       "model                 0\n",
       "kilometer             0\n",
       "registration_month    0\n",
       "fuel_type             0\n",
       "brand                 0\n",
       "repaired              0\n",
       "date_created          0\n",
       "number_of_pictures    0\n",
       "postal_code           0\n",
       "last_seen             0\n",
       "dtype: int64"
      ]
     },
     "execution_count": 16,
     "metadata": {},
     "output_type": "execute_result"
    }
   ],
   "source": [
    "df=df.fillna('unknown')\n",
    "df.isna().sum()"
   ]
  },
  {
   "cell_type": "markdown",
   "metadata": {},
   "source": [
    "Рассмотрим столбцы с датами"
   ]
  },
  {
   "cell_type": "code",
   "execution_count": 17,
   "metadata": {},
   "outputs": [
    {
     "name": "stdout",
     "output_type": "stream",
     "text": [
      "         date_crawled date_created           last_seen\n",
      "0 2016-03-24 11:52:17   2016-03-24 2016-04-07 03:16:57\n",
      "1 2016-03-24 10:58:45   2016-03-24 2016-04-07 01:46:50\n",
      "2 2016-03-14 12:52:21   2016-03-14 2016-04-05 12:47:46\n",
      "3 2016-03-17 16:54:04   2016-03-17 2016-03-17 17:40:17\n",
      "4 2016-03-31 17:25:20   2016-03-31 2016-04-06 10:17:21\n",
      "date_crawled    datetime64[ns]\n",
      "date_created    datetime64[ns]\n",
      "last_seen       datetime64[ns]\n",
      "dtype: object\n"
     ]
    }
   ],
   "source": [
    "# Преобразование столбцов с датами в тип datetime\n",
    "date_cols = ['date_crawled', 'date_created', 'last_seen']\n",
    "df[date_cols] = df[date_cols].apply(pd.to_datetime)\n",
    "\n",
    "print(df[date_cols].head(5))\n",
    "print(df[date_cols].dtypes)"
   ]
  },
  {
   "cell_type": "code",
   "execution_count": 18,
   "metadata": {},
   "outputs": [
    {
     "name": "stdout",
     "output_type": "stream",
     "text": [
      "Минимальные даты:\n",
      "date_crawled   2016-03-05 14:06:22\n",
      "date_created   2014-03-10 00:00:00\n",
      "last_seen      2016-03-05 14:15:08\n",
      "dtype: datetime64[ns]\n",
      "\n",
      "Максимальные даты:\n",
      "date_crawled   2016-04-07 14:36:58\n",
      "date_created   2016-04-07 00:00:00\n",
      "last_seen      2016-04-07 14:58:51\n",
      "dtype: datetime64[ns]\n"
     ]
    }
   ],
   "source": [
    "min_dates = df[date_cols].min()\n",
    "max_dates = df[date_cols].max()\n",
    "\n",
    "print(\"Минимальные даты:\")\n",
    "print(min_dates)\n",
    "print()\n",
    "print(\"Максимальные даты:\")\n",
    "print(max_dates)"
   ]
  },
  {
   "cell_type": "code",
   "execution_count": 19,
   "metadata": {},
   "outputs": [
    {
     "data": {
      "image/png": "[encoded data removed]",
      "text/plain": [
       "<Figure size 864x432 with 1 Axes>"
      ]
     },
     "metadata": {
      "needs_background": "light"
     },
     "output_type": "display_data"
    },
    {
     "data": {
      "image/png": "[encoded data removed]",
      "text/plain": [
       "<Figure size 864x432 with 1 Axes>"
      ]
     },
     "metadata": {
      "needs_background": "light"
     },
     "output_type": "display_data"
    },
    {
     "data": {
      "image/png": "[encoded data removed]",
      "text/plain": [
       "<Figure size 864x432 with 1 Axes>"
      ]
     },
     "metadata": {
      "needs_background": "light"
     },
     "output_type": "display_data"
    }
   ],
   "source": [
    "# Функция для построения графика распределения наблюдений по дате\n",
    "def plot_date_distribution(column):\n",
    "    plt.figure(figsize=(12, 6))\n",
    "    plt.hist(df[column], bins=50)\n",
    "    plt.xlabel('Дата')\n",
    "    plt.ylabel('Количество наблюдений')\n",
    "    plt.title(f'Распределение наблюдений по {column}')\n",
    "    plt.show()\n",
    "\n",
    "# Построение графиков для каждого столбца с датой\n",
    "for col in date_cols:\n",
    "    plot_date_distribution(col)"
   ]
  },
  {
   "cell_type": "markdown",
   "metadata": {},
   "source": [
    "Можно сделать вывод, что компания начала с конца 2015 года. "
   ]
  },
  {
   "cell_type": "markdown",
   "metadata": {},
   "source": [
    "Исходя из предоставленного списка данных, визуально можно выделить несколько столбцов, которые не влияют на цену.\n",
    "\n",
    "- date_crawled: Дата скачивания анкеты из базы. Эта информация не представляет особой ценности для анализа данных или моделирования, так как она отражает только момент скачивания анкеты, который может быть случайным.\n",
    "\n",
    "- date_crawled: Дата создания анкеты. Аналогично предыдущему столбцу, эта информация может быть несущественной для исследования, если она не имеет прямого отношения к анализу автомобилей или их цены.\n",
    "\n",
    "- last_seen: Дата последней активности пользователя. Данный столбец отражает только момент последнего доступа пользователя к анкете, что не является важным фактором для анализа автомобилей или их цены.\n",
    "\n",
    "- number_of_pictures: Количество фотографий автомобиля. В данном датасете значение этого столбца равно 0 для всех записей, что говорит о том, что отсутствуют фотографии. Таким образом, этот столбец не несет информации и может быть удален.\n",
    "\n",
    "- postal_code: Почтовый индекс владельца анкеты. Данный столбец может иметь некоторую информативность, но в контексте анализа цены автомобилей он не является важным. \n",
    "\n",
    "- registration_month: месяц регистрации автомобиля. Данный столбец не влияет на стоимость автомобиля."
   ]
  },
  {
   "cell_type": "code",
   "execution_count": 20,
   "metadata": {},
   "outputs": [
    {
     "data": {
      "text/plain": [
       "Index(['price', 'vehicle_type', 'registration_year', 'gearbox', 'power',\n",
       "       'model', 'kilometer', 'fuel_type', 'brand', 'repaired'],\n",
       "      dtype='object')"
      ]
     },
     "execution_count": 20,
     "metadata": {},
     "output_type": "execute_result"
    }
   ],
   "source": [
    "df = df.drop(['date_crawled', 'date_created', 'last_seen', 'number_of_pictures', 'postal_code', 'registration_month'], axis=1)\n",
    "df.columns"
   ]
  },
  {
   "cell_type": "markdown",
   "metadata": {},
   "source": [
    "**Рассмотрим аномальные значения**"
   ]
  },
  {
   "cell_type": "code",
   "execution_count": 21,
   "metadata": {},
   "outputs": [],
   "source": [
    "def plot_numeric_columns(df):\n",
    "    numeric_columns = df.select_dtypes(include=['int64']).columns\n",
    "\n",
    "    for column in numeric_columns:\n",
    "        plt.figure(figsize=(15, 5))\n",
    "        df[column].hist(bins=200)\n",
    "        plt.title(f'Гистограмма для {column}')\n",
    "        plt.xlabel(column)\n",
    "        plt.ylabel('Частота')\n",
    "        plt.show()\n",
    "\n",
    "        plt.figure(figsize=(15, 3))\n",
    "        sns.boxplot(data=df[column], orient='h')\n",
    "        plt.title(f'Ящик с усами для {column}')\n",
    "        plt.xlabel(column)\n",
    "        plt.show()"
   ]
  },
  {
   "cell_type": "code",
   "execution_count": 22,
   "metadata": {},
   "outputs": [
    {
     "data": {
      "image/png": "[encoded data removed]",
      "text/plain": [
       "<Figure size 1080x360 with 1 Axes>"
      ]
     },
     "metadata": {
      "needs_background": "light"
     },
     "output_type": "display_data"
    },
    {
     "data": {
      "image/png": "[encoded data removed]",
      "text/plain": [
       "<Figure size 1080x216 with 1 Axes>"
      ]
     },
     "metadata": {
      "needs_background": "light"
     },
     "output_type": "display_data"
    },
    {
     "data": {
      "image/png": "[encoded data removed]",
      "text/plain": [
       "<Figure size 1080x360 with 1 Axes>"
      ]
     },
     "metadata": {
      "needs_background": "light"
     },
     "output_type": "display_data"
    },
    {
     "data": {
      "image/png": "[encoded data removed]",
      "text/plain": [
       "<Figure size 1080x216 with 1 Axes>"
      ]
     },
     "metadata": {
      "needs_background": "light"
     },
     "output_type": "display_data"
    },
    {
     "data": {
      "image/png": "[encoded data removed]",
      "text/plain": [
       "<Figure size 1080x360 with 1 Axes>"
      ]
     },
     "metadata": {
      "needs_background": "light"
     },
     "output_type": "display_data"
    },
    {
     "data": {
      "image/png": "[encoded data removed]",
      "text/plain": [
       "<Figure size 1080x216 with 1 Axes>"
      ]
     },
     "metadata": {
      "needs_background": "light"
     },
     "output_type": "display_data"
    },
    {
     "data": {
      "image/png": "[encoded data removed]",
      "text/plain": [
       "<Figure size 1080x360 with 1 Axes>"
      ]
     },
     "metadata": {
      "needs_background": "light"
     },
     "output_type": "display_data"
    },
    {
     "data": {
      "image/png": "[encoded data removed]",
      "text/plain": [
       "<Figure size 1080x216 with 1 Axes>"
      ]
     },
     "metadata": {
      "needs_background": "light"
     },
     "output_type": "display_data"
    }
   ],
   "source": [
    "plot_numeric_columns(df)"
   ]
  },
  {
   "cell_type": "markdown",
   "metadata": {},
   "source": [
    "**Признак price**"
   ]
  },
  {
   "cell_type": "code",
   "execution_count": 23,
   "metadata": {},
   "outputs": [
    {
     "data": {
      "text/plain": [
       "0        10772\n",
       "500       5670\n",
       "1500      5394\n",
       "1000      4648\n",
       "1200      4594\n",
       "         ...  \n",
       "13180        1\n",
       "10879        1\n",
       "2683         1\n",
       "634          1\n",
       "8188         1\n",
       "Name: price, Length: 3731, dtype: int64"
      ]
     },
     "execution_count": 23,
     "metadata": {},
     "output_type": "execute_result"
    }
   ],
   "source": [
    "df.price.value_counts()"
   ]
  },
  {
   "cell_type": "code",
   "execution_count": 24,
   "metadata": {},
   "outputs": [],
   "source": [
    "df = df[df['price'] != 0]"
   ]
  },
  {
   "cell_type": "code",
   "execution_count": 25,
   "metadata": {},
   "outputs": [
    {
     "data": {
      "text/plain": [
       "0.05      350.0\n",
       "0.95    14800.0\n",
       "Name: price, dtype: float64"
      ]
     },
     "execution_count": 25,
     "metadata": {},
     "output_type": "execute_result"
    }
   ],
   "source": [
    "quantiles_price = df['price'].quantile([0.05, 0.95])\n",
    "quantiles_price"
   ]
  },
  {
   "cell_type": "code",
   "execution_count": 26,
   "metadata": {},
   "outputs": [
    {
     "name": "stdout",
     "output_type": "stream",
     "text": [
      "Доля значений меньше 350.0 : 0.0453123317413335\n",
      "Доля значений больше 14800.0 : 0.04986131847854875\n"
     ]
    }
   ],
   "source": [
    "# Подсчет доли значений меньше 0.05\n",
    "fraction_less_than_0_05 = df[df['price'] < quantiles_price[0.05]].shape[0] / len(df)\n",
    "\n",
    "# Подсчет доли значений больше 0.95\n",
    "fraction_greater_than_0_95 = df[df['price'] > quantiles_price[0.95]].shape[0] / len(df)\n",
    "\n",
    "print(\"Доля значений меньше\", quantiles_price[0.05], \":\", fraction_less_than_0_05)\n",
    "print(\"Доля значений больше\", quantiles_price[0.95], \":\", fraction_greater_than_0_95)"
   ]
  },
  {
   "cell_type": "code",
   "execution_count": 27,
   "metadata": {},
   "outputs": [],
   "source": [
    "df = df.query(f'{quantiles_price[0.05]} <= price <= {quantiles_price[0.95]}')"
   ]
  },
  {
   "cell_type": "markdown",
   "metadata": {},
   "source": [
    "**Признак registration_year**"
   ]
  },
  {
   "cell_type": "code",
   "execution_count": 28,
   "metadata": {},
   "outputs": [
    {
     "data": {
      "text/plain": [
       "2000    20907\n",
       "2005    20811\n",
       "1999    20621\n",
       "2003    19217\n",
       "2001    19091\n",
       "        ...  \n",
       "1948        1\n",
       "1949        1\n",
       "5300        1\n",
       "8888        1\n",
       "2290        1\n",
       "Name: registration_year, Length: 130, dtype: int64"
      ]
     },
     "execution_count": 28,
     "metadata": {},
     "output_type": "execute_result"
    }
   ],
   "source": [
    "df.registration_year.value_counts()"
   ]
  },
  {
   "cell_type": "code",
   "execution_count": 29,
   "metadata": {},
   "outputs": [
    {
     "name": "stdout",
     "output_type": "stream",
     "text": [
      "Минимальный год регистрации: 1000\n",
      "Максимальный год регистрации: 9999\n"
     ]
    }
   ],
   "source": [
    "min_year = df['registration_year'].min()\n",
    "max_year = df['registration_year'].max()\n",
    "\n",
    "print(\"Минимальный год регистрации:\", min_year)\n",
    "print(\"Максимальный год регистрации:\", max_year)"
   ]
  },
  {
   "cell_type": "markdown",
   "metadata": {},
   "source": [
    "До этого мы посмотрели максимальные даты:\n",
    "- date_crawled   2016-04-07 14:36:58\n",
    "- date_created   2016-04-07 00:00:00\n",
    "- last_seen      2016-04-07 14:58:51\n",
    "<br>Следовательно можно удалить автомобили с годом регистрации после 2016 года и до 1900."
   ]
  },
  {
   "cell_type": "code",
   "execution_count": 30,
   "metadata": {},
   "outputs": [],
   "source": [
    "df = df[(df['registration_year'] >= 1890) & (df['registration_year'] <= 2016)]"
   ]
  },
  {
   "cell_type": "markdown",
   "metadata": {},
   "source": [
    "**Признак power**\n"
   ]
  },
  {
   "cell_type": "code",
   "execution_count": 31,
   "metadata": {},
   "outputs": [
    {
     "data": {
      "text/plain": [
       "0        27306\n",
       "75       20682\n",
       "60       13099\n",
       "150      13029\n",
       "101      12116\n",
       "         ...  \n",
       "678          1\n",
       "4400         1\n",
       "1703         1\n",
       "9013         1\n",
       "17019        1\n",
       "Name: power, Length: 633, dtype: int64"
      ]
     },
     "execution_count": 31,
     "metadata": {},
     "output_type": "execute_result"
    }
   ],
   "source": [
    "df.power.value_counts()"
   ]
  },
  {
   "cell_type": "code",
   "execution_count": 32,
   "metadata": {},
   "outputs": [
    {
     "data": {
      "image/png": "[encoded data removed]",
      "text/plain": [
       "<Figure size 720x432 with 1 Axes>"
      ]
     },
     "metadata": {
      "needs_background": "light"
     },
     "output_type": "display_data"
    }
   ],
   "source": [
    "plt.figure(figsize=(10, 6))\n",
    "df['power'].hist(bins=50, range=(0, 1000))\n",
    "plt.title('Гистограмма столбца power (до 1000)')\n",
    "plt.xlabel('Мощность')\n",
    "plt.ylabel('Частота')\n",
    "plt.show()"
   ]
  },
  {
   "cell_type": "code",
   "execution_count": 33,
   "metadata": {},
   "outputs": [],
   "source": [
    "df = df[(df['power'] > 0) & (df['power'] <= 1000)]"
   ]
  },
  {
   "cell_type": "markdown",
   "metadata": {},
   "source": [
    "**Вывод**\n",
    "- Данные были обработаны\n",
    "- Наименования признаков привели к \"змеиному\" стилю\n",
    "- Убрали аномальные значения \n",
    "- Убрали столбцы, не влияющие на цену\n",
    "- Удалили 4 полных дубликата "
   ]
  },
  {
   "cell_type": "markdown",
   "metadata": {},
   "source": [
    "## Обучение моделей"
   ]
  },
  {
   "cell_type": "code",
   "execution_count": 34,
   "metadata": {},
   "outputs": [],
   "source": [
    "features = df.drop('price', axis=1)\n",
    "target = df['price']"
   ]
  },
  {
   "cell_type": "markdown",
   "metadata": {},
   "source": [
    "Разобьем выборку на обучающую и тестовую"
   ]
  },
  {
   "cell_type": "code",
   "execution_count": 35,
   "metadata": {},
   "outputs": [
    {
     "name": "stdout",
     "output_type": "stream",
     "text": [
      "train 202653 202653\n",
      "test 67552 67552\n"
     ]
    }
   ],
   "source": [
    "features_train, features_test, target_train, target_test = train_test_split(\n",
    "    features, target, test_size=0.25, random_state=RANDOM_STATE)\n",
    "\n",
    "# Проверим размер выборок\n",
    "print('train', len(features_train), len(target_train))\n",
    "print('test', len(features_test), len(target_test))"
   ]
  },
  {
   "cell_type": "code",
   "execution_count": 36,
   "metadata": {},
   "outputs": [],
   "source": [
    "categorical_features = ['vehicle_type', 'gearbox', 'model', 'fuel_type', 'brand', 'repaired']\n",
    "numerical_features = ['registration_year', 'power', 'kilometer']"
   ]
  },
  {
   "cell_type": "code",
   "execution_count": 37,
   "metadata": {},
   "outputs": [],
   "source": [
    "# Прямое кодирование категориальных признаков \n",
    "features_train_ohe = pd.get_dummies(features_train, columns=categorical_features, drop_first=True)\n",
    "features_test_ohe = pd.get_dummies(features_test, columns=categorical_features, drop_first=True)\n",
    "\n",
    "# Удаление лишних признаков\n",
    "common_columns = set(features_train_ohe.columns) & set(features_test_ohe.columns)\n",
    "features_train_ohe = features_train_ohe[list(common_columns)]\n",
    "features_test_ohe = features_test_ohe[list(common_columns)]"
   ]
  },
  {
   "cell_type": "markdown",
   "metadata": {},
   "source": [
    "```python\n",
    "# прямое кодирование (для линейных моделей)\n",
    "features_train_ohe = pd.get_dummies(features_train, drop_first=True)\n",
    "features_valid_ohe = pd.get_dummies(features_valid, drop_first=True)\n",
    "features_test_ohe = pd.get_dummies(features_test, drop_first=True)\n",
    "# после прямого кодирования кол-во признаков в выборках будет отличаться\n",
    "# поэтому стоит удалить лишние признаки в каждой выборке\n",
    "\n",
    "# Найдем общие признаки между обучающей, валидационной и тестовой выборками\n",
    "common_columns = set(features_train_ohe.columns) & set(features_valid_ohe.columns) & set(features_test_ohe.columns)\n",
    "\n",
    "# Оставим в каждой выборке только общие признаки\n",
    "features_train_ohe = features_train_ohe[list(common_columns)]\n",
    "features_valid_ohe = features_valid_ohe[list(common_columns)]\n",
    "features_test_ohe = features_test_ohe[list(common_columns)]\n",
    "```"
   ]
  },
  {
   "cell_type": "markdown",
   "metadata": {},
   "source": [
    " Обучение моделей и поиск лучших параметров"
   ]
  },
  {
   "cell_type": "code",
   "execution_count": 43,
   "metadata": {},
   "outputs": [
    {
     "name": "stdout",
     "output_type": "stream",
     "text": [
      "0:\tlearn: 3363.6687400\ttotal: 203ms\tremaining: 20.1s\n",
      "1:\tlearn: 3165.5577789\ttotal: 248ms\tremaining: 12.2s\n",
      "2:\tlearn: 2997.0338581\ttotal: 296ms\tremaining: 9.56s\n",
      "3:\tlearn: 2847.2729536\ttotal: 338ms\tremaining: 8.12s\n",
      "4:\tlearn: 2712.5895278\ttotal: 387ms\tremaining: 7.35s\n",
      "5:\tlearn: 2592.3903168\ttotal: 431ms\tremaining: 6.75s\n",
      "6:\tlearn: 2485.7764568\ttotal: 479ms\tremaining: 6.36s\n",
      "7:\tlearn: 2392.1765979\ttotal: 521ms\tremaining: 6s\n",
      "8:\tlearn: 2311.3788184\ttotal: 565ms\tremaining: 5.71s\n",
      "9:\tlearn: 2242.4371240\ttotal: 609ms\tremaining: 5.48s\n",
      "10:\tlearn: 2171.6285291\ttotal: 655ms\tremaining: 5.3s\n",
      "11:\tlearn: 2106.9925449\ttotal: 697ms\tremaining: 5.11s\n",
      "12:\tlearn: 2052.5933308\ttotal: 740ms\tremaining: 4.95s\n",
      "13:\tlearn: 2005.3128435\ttotal: 782ms\tremaining: 4.81s\n",
      "14:\tlearn: 1964.8256061\ttotal: 826ms\tremaining: 4.68s\n",
      "15:\tlearn: 1926.4216274\ttotal: 871ms\tremaining: 4.57s\n",
      "16:\tlearn: 1895.4977503\ttotal: 915ms\tremaining: 4.47s\n",
      "17:\tlearn: 1866.2479013\ttotal: 957ms\tremaining: 4.36s\n",
      "18:\tlearn: 1840.4044254\ttotal: 999ms\tremaining: 4.26s\n",
      "19:\tlearn: 1812.4230542\ttotal: 1.04s\tremaining: 4.16s\n",
      "20:\tlearn: 1788.8968508\ttotal: 1.08s\tremaining: 4.08s\n",
      "21:\tlearn: 1769.3878518\ttotal: 1.13s\tremaining: 4s\n",
      "22:\tlearn: 1747.6497265\ttotal: 1.17s\tremaining: 3.93s\n",
      "23:\tlearn: 1730.8761028\ttotal: 1.22s\tremaining: 3.85s\n",
      "24:\tlearn: 1713.1944929\ttotal: 1.26s\tremaining: 3.78s\n",
      "25:\tlearn: 1699.6081808\ttotal: 1.31s\tremaining: 3.72s\n",
      "26:\tlearn: 1685.8629076\ttotal: 1.35s\tremaining: 3.65s\n",
      "27:\tlearn: 1673.9709690\ttotal: 1.39s\tremaining: 3.58s\n",
      "28:\tlearn: 1663.2400627\ttotal: 1.44s\tremaining: 3.51s\n",
      "29:\tlearn: 1654.5481070\ttotal: 1.48s\tremaining: 3.45s\n",
      "30:\tlearn: 1645.0484295\ttotal: 1.52s\tremaining: 3.39s\n",
      "31:\tlearn: 1637.9310657\ttotal: 1.57s\tremaining: 3.33s\n",
      "32:\tlearn: 1631.2635394\ttotal: 1.61s\tremaining: 3.27s\n",
      "33:\tlearn: 1625.1145669\ttotal: 1.65s\tremaining: 3.21s\n",
      "34:\tlearn: 1618.4077735\ttotal: 1.7s\tremaining: 3.15s\n",
      "35:\tlearn: 1612.0555881\ttotal: 1.74s\tremaining: 3.09s\n",
      "36:\tlearn: 1606.2343180\ttotal: 1.78s\tremaining: 3.04s\n",
      "37:\tlearn: 1600.9541199\ttotal: 1.83s\tremaining: 2.98s\n",
      "38:\tlearn: 1596.8351966\ttotal: 1.88s\tremaining: 2.94s\n",
      "39:\tlearn: 1592.1137767\ttotal: 1.92s\tremaining: 2.88s\n",
      "40:\tlearn: 1587.3014530\ttotal: 1.96s\tremaining: 2.82s\n",
      "41:\tlearn: 1583.4837812\ttotal: 2s\tremaining: 2.77s\n",
      "42:\tlearn: 1579.3983794\ttotal: 2.04s\tremaining: 2.71s\n",
      "43:\tlearn: 1576.0547441\ttotal: 2.09s\tremaining: 2.66s\n",
      "44:\tlearn: 1571.8197902\ttotal: 2.13s\tremaining: 2.6s\n",
      "45:\tlearn: 1568.9669304\ttotal: 2.17s\tremaining: 2.55s\n",
      "46:\tlearn: 1566.4456539\ttotal: 2.22s\tremaining: 2.5s\n",
      "47:\tlearn: 1563.5047883\ttotal: 2.26s\tremaining: 2.45s\n",
      "48:\tlearn: 1559.3687768\ttotal: 2.3s\tremaining: 2.4s\n",
      "49:\tlearn: 1556.9137764\ttotal: 2.35s\tremaining: 2.35s\n",
      "50:\tlearn: 1553.6547217\ttotal: 2.4s\tremaining: 2.3s\n",
      "51:\tlearn: 1552.0519805\ttotal: 2.44s\tremaining: 2.25s\n",
      "52:\tlearn: 1550.0047407\ttotal: 2.5s\tremaining: 2.22s\n",
      "53:\tlearn: 1547.8261677\ttotal: 2.55s\tremaining: 2.17s\n",
      "54:\tlearn: 1545.2342134\ttotal: 2.6s\tremaining: 2.13s\n",
      "55:\tlearn: 1543.0054728\ttotal: 2.65s\tremaining: 2.08s\n",
      "56:\tlearn: 1540.5011405\ttotal: 2.7s\tremaining: 2.03s\n",
      "57:\tlearn: 1538.8786960\ttotal: 2.74s\tremaining: 1.98s\n",
      "58:\tlearn: 1535.4503887\ttotal: 2.78s\tremaining: 1.93s\n",
      "59:\tlearn: 1532.2800542\ttotal: 2.83s\tremaining: 1.88s\n",
      "60:\tlearn: 1530.0956332\ttotal: 2.88s\tremaining: 1.84s\n",
      "61:\tlearn: 1527.6028760\ttotal: 2.92s\tremaining: 1.79s\n",
      "62:\tlearn: 1526.0408440\ttotal: 2.96s\tremaining: 1.74s\n",
      "63:\tlearn: 1524.7213378\ttotal: 3s\tremaining: 1.69s\n",
      "64:\tlearn: 1523.0744069\ttotal: 3.04s\tremaining: 1.64s\n",
      "65:\tlearn: 1521.7094830\ttotal: 3.09s\tremaining: 1.59s\n",
      "66:\tlearn: 1519.6607871\ttotal: 3.13s\tremaining: 1.54s\n",
      "67:\tlearn: 1518.2813239\ttotal: 3.17s\tremaining: 1.49s\n",
      "68:\tlearn: 1513.3320347\ttotal: 3.22s\tremaining: 1.45s\n",
      "69:\tlearn: 1511.7869575\ttotal: 3.26s\tremaining: 1.4s\n",
      "70:\tlearn: 1508.2034776\ttotal: 3.31s\tremaining: 1.35s\n",
      "71:\tlearn: 1505.0024049\ttotal: 3.35s\tremaining: 1.3s\n",
      "72:\tlearn: 1503.8765110\ttotal: 3.39s\tremaining: 1.25s\n",
      "73:\tlearn: 1501.0298305\ttotal: 3.43s\tremaining: 1.21s\n",
      "74:\tlearn: 1500.0928872\ttotal: 3.47s\tremaining: 1.16s\n",
      "75:\tlearn: 1499.4305046\ttotal: 3.52s\tremaining: 1.11s\n",
      "76:\tlearn: 1498.0256794\ttotal: 3.56s\tremaining: 1.06s\n",
      "77:\tlearn: 1496.6253637\ttotal: 3.6s\tremaining: 1.01s\n",
      "78:\tlearn: 1495.8166420\ttotal: 3.64s\tremaining: 969ms\n",
      "79:\tlearn: 1494.0058027\ttotal: 3.7s\tremaining: 925ms\n",
      "80:\tlearn: 1492.6090131\ttotal: 3.74s\tremaining: 878ms\n",
      "81:\tlearn: 1490.6460174\ttotal: 3.79s\tremaining: 832ms\n",
      "82:\tlearn: 1489.7128705\ttotal: 3.83s\tremaining: 785ms\n",
      "83:\tlearn: 1488.6232480\ttotal: 3.88s\tremaining: 739ms\n",
      "84:\tlearn: 1486.9332301\ttotal: 3.92s\tremaining: 692ms\n",
      "85:\tlearn: 1486.1894818\ttotal: 3.96s\tremaining: 645ms\n",
      "86:\tlearn: 1485.0466091\ttotal: 4.01s\tremaining: 599ms\n",
      "87:\tlearn: 1484.1887475\ttotal: 4.05s\tremaining: 552ms\n",
      "88:\tlearn: 1483.0241950\ttotal: 4.09s\tremaining: 506ms\n",
      "89:\tlearn: 1481.9890331\ttotal: 4.13s\tremaining: 459ms\n",
      "90:\tlearn: 1480.4428881\ttotal: 4.18s\tremaining: 413ms\n",
      "91:\tlearn: 1479.4762978\ttotal: 4.22s\tremaining: 367ms\n",
      "92:\tlearn: 1478.3964618\ttotal: 4.27s\tremaining: 321ms\n",
      "93:\tlearn: 1477.8564232\ttotal: 4.31s\tremaining: 275ms\n",
      "94:\tlearn: 1476.4877458\ttotal: 4.36s\tremaining: 229ms\n",
      "95:\tlearn: 1475.9108670\ttotal: 4.4s\tremaining: 183ms\n",
      "96:\tlearn: 1474.1683267\ttotal: 4.44s\tremaining: 137ms\n",
      "97:\tlearn: 1472.6977214\ttotal: 4.48s\tremaining: 91.5ms\n",
      "98:\tlearn: 1471.2292224\ttotal: 4.53s\tremaining: 45.7ms\n",
      "99:\tlearn: 1470.6408338\ttotal: 4.57s\tremaining: 0us\n",
      "0:\tlearn: 3385.8282089\ttotal: 44.4ms\tremaining: 4.39s\n",
      "1:\tlearn: 3186.6093502\ttotal: 92.8ms\tremaining: 4.54s\n",
      "2:\tlearn: 3017.7432158\ttotal: 141ms\tremaining: 4.55s\n",
      "3:\tlearn: 2860.1559340\ttotal: 189ms\tremaining: 4.54s\n",
      "4:\tlearn: 2732.0366648\ttotal: 232ms\tremaining: 4.41s\n",
      "5:\tlearn: 2604.6381215\ttotal: 281ms\tremaining: 4.4s\n",
      "6:\tlearn: 2499.4043964\ttotal: 324ms\tremaining: 4.3s\n",
      "7:\tlearn: 2406.9805875\ttotal: 366ms\tremaining: 4.21s\n",
      "8:\tlearn: 2324.0247040\ttotal: 410ms\tremaining: 4.15s\n",
      "9:\tlearn: 2250.9279642\ttotal: 453ms\tremaining: 4.08s\n",
      "10:\tlearn: 2189.3870014\ttotal: 497ms\tremaining: 4.02s\n",
      "11:\tlearn: 2124.2388474\ttotal: 549ms\tremaining: 4.03s\n",
      "12:\tlearn: 2067.3012165\ttotal: 594ms\tremaining: 3.97s\n",
      "13:\tlearn: 2021.5682524\ttotal: 637ms\tremaining: 3.91s\n",
      "14:\tlearn: 1978.5484147\ttotal: 680ms\tremaining: 3.85s\n",
      "15:\tlearn: 1940.2180617\ttotal: 725ms\tremaining: 3.81s\n",
      "16:\tlearn: 1907.2617514\ttotal: 766ms\tremaining: 3.74s\n",
      "17:\tlearn: 1875.7883674\ttotal: 813ms\tremaining: 3.7s\n",
      "18:\tlearn: 1848.1142962\ttotal: 864ms\tremaining: 3.68s\n",
      "19:\tlearn: 1819.9285331\ttotal: 910ms\tremaining: 3.64s\n",
      "20:\tlearn: 1795.1512274\ttotal: 959ms\tremaining: 3.61s\n",
      "21:\tlearn: 1773.4114243\ttotal: 1s\tremaining: 3.56s\n",
      "22:\tlearn: 1753.5419803\ttotal: 1.05s\tremaining: 3.52s\n",
      "23:\tlearn: 1733.4047820\ttotal: 1.1s\tremaining: 3.48s\n",
      "24:\tlearn: 1716.0025756\ttotal: 1.15s\tremaining: 3.44s\n",
      "25:\tlearn: 1700.8453051\ttotal: 1.2s\tremaining: 3.4s\n",
      "26:\tlearn: 1683.8926706\ttotal: 1.25s\tremaining: 3.37s\n",
      "27:\tlearn: 1670.2874669\ttotal: 1.3s\tremaining: 3.33s\n",
      "28:\tlearn: 1660.0708924\ttotal: 1.34s\tremaining: 3.29s\n",
      "29:\tlearn: 1650.8393489\ttotal: 1.39s\tremaining: 3.25s\n",
      "30:\tlearn: 1640.5279169\ttotal: 1.44s\tremaining: 3.21s\n",
      "31:\tlearn: 1633.5344897\ttotal: 1.49s\tremaining: 3.16s\n",
      "32:\tlearn: 1625.5090537\ttotal: 1.54s\tremaining: 3.12s\n",
      "33:\tlearn: 1619.2132791\ttotal: 1.58s\tremaining: 3.07s\n",
      "34:\tlearn: 1612.1936718\ttotal: 1.63s\tremaining: 3.03s\n",
      "35:\tlearn: 1606.1811312\ttotal: 1.69s\tremaining: 3s\n",
      "36:\tlearn: 1600.5132027\ttotal: 1.73s\tremaining: 2.95s\n",
      "37:\tlearn: 1594.1801302\ttotal: 1.78s\tremaining: 2.9s\n",
      "38:\tlearn: 1589.7043349\ttotal: 1.82s\tremaining: 2.85s\n",
      "39:\tlearn: 1585.9133573\ttotal: 1.86s\tremaining: 2.8s\n",
      "40:\tlearn: 1581.1143077\ttotal: 1.91s\tremaining: 2.75s\n",
      "41:\tlearn: 1577.3508018\ttotal: 1.95s\tremaining: 2.69s\n",
      "42:\tlearn: 1572.8599082\ttotal: 1.99s\tremaining: 2.64s\n",
      "43:\tlearn: 1570.0996196\ttotal: 2.04s\tremaining: 2.59s\n",
      "44:\tlearn: 1566.5874487\ttotal: 2.08s\tremaining: 2.54s\n",
      "45:\tlearn: 1563.0650563\ttotal: 2.13s\tremaining: 2.5s\n",
      "46:\tlearn: 1560.2508501\ttotal: 2.18s\tremaining: 2.46s\n",
      "47:\tlearn: 1557.5895834\ttotal: 2.22s\tremaining: 2.41s\n",
      "48:\tlearn: 1554.9206900\ttotal: 2.26s\tremaining: 2.36s\n",
      "49:\tlearn: 1552.6073620\ttotal: 2.31s\tremaining: 2.31s\n",
      "50:\tlearn: 1549.2151741\ttotal: 2.35s\tremaining: 2.26s\n",
      "51:\tlearn: 1546.8236092\ttotal: 2.4s\tremaining: 2.21s\n",
      "52:\tlearn: 1544.1617347\ttotal: 2.44s\tremaining: 2.16s\n",
      "53:\tlearn: 1541.6966450\ttotal: 2.48s\tremaining: 2.12s\n",
      "54:\tlearn: 1538.9426770\ttotal: 2.53s\tremaining: 2.07s\n",
      "55:\tlearn: 1537.4272646\ttotal: 2.58s\tremaining: 2.03s\n",
      "56:\tlearn: 1534.9113907\ttotal: 2.63s\tremaining: 1.99s\n",
      "57:\tlearn: 1532.6284597\ttotal: 2.69s\tremaining: 1.95s\n",
      "58:\tlearn: 1529.5679421\ttotal: 2.73s\tremaining: 1.9s\n",
      "59:\tlearn: 1527.6194434\ttotal: 2.77s\tremaining: 1.85s\n",
      "60:\tlearn: 1524.6475606\ttotal: 2.82s\tremaining: 1.8s\n",
      "61:\tlearn: 1522.6620531\ttotal: 2.86s\tremaining: 1.75s\n",
      "62:\tlearn: 1520.4858210\ttotal: 2.9s\tremaining: 1.7s\n",
      "63:\tlearn: 1519.4188213\ttotal: 2.94s\tremaining: 1.66s\n",
      "64:\tlearn: 1517.9358000\ttotal: 2.98s\tremaining: 1.61s\n",
      "65:\tlearn: 1515.8895899\ttotal: 3.03s\tremaining: 1.56s\n",
      "66:\tlearn: 1513.1437759\ttotal: 3.07s\tremaining: 1.51s\n",
      "67:\tlearn: 1510.4478513\ttotal: 3.11s\tremaining: 1.46s\n",
      "68:\tlearn: 1508.6633642\ttotal: 3.15s\tremaining: 1.42s\n",
      "69:\tlearn: 1506.3531850\ttotal: 3.2s\tremaining: 1.37s\n",
      "70:\tlearn: 1503.7296014\ttotal: 3.24s\tremaining: 1.32s\n",
      "71:\tlearn: 1502.5109073\ttotal: 3.28s\tremaining: 1.28s\n",
      "72:\tlearn: 1500.6683090\ttotal: 3.33s\tremaining: 1.23s\n",
      "73:\tlearn: 1499.8379601\ttotal: 3.37s\tremaining: 1.18s\n",
      "74:\tlearn: 1497.8408436\ttotal: 3.41s\tremaining: 1.14s\n",
      "75:\tlearn: 1496.9630181\ttotal: 3.45s\tremaining: 1.09s\n",
      "76:\tlearn: 1495.9327107\ttotal: 3.49s\tremaining: 1.04s\n",
      "77:\tlearn: 1494.1079860\ttotal: 3.54s\tremaining: 997ms\n",
      "78:\tlearn: 1491.9845574\ttotal: 3.58s\tremaining: 951ms\n",
      "79:\tlearn: 1490.5716342\ttotal: 3.62s\tremaining: 906ms\n",
      "80:\tlearn: 1489.0011417\ttotal: 3.67s\tremaining: 860ms\n",
      "81:\tlearn: 1487.7997376\ttotal: 3.71s\tremaining: 814ms\n",
      "82:\tlearn: 1486.7694094\ttotal: 3.75s\tremaining: 768ms\n",
      "83:\tlearn: 1485.5116651\ttotal: 3.79s\tremaining: 722ms\n",
      "84:\tlearn: 1484.6683245\ttotal: 3.83s\tremaining: 677ms\n",
      "85:\tlearn: 1483.4799505\ttotal: 3.88s\tremaining: 631ms\n",
      "86:\tlearn: 1482.4185039\ttotal: 3.92s\tremaining: 586ms\n",
      "87:\tlearn: 1480.5424276\ttotal: 3.96s\tremaining: 541ms\n",
      "88:\tlearn: 1478.9798692\ttotal: 4.01s\tremaining: 495ms\n",
      "89:\tlearn: 1477.0386070\ttotal: 4.05s\tremaining: 450ms\n",
      "90:\tlearn: 1475.9014076\ttotal: 4.09s\tremaining: 405ms\n",
      "91:\tlearn: 1474.4562036\ttotal: 4.13s\tremaining: 359ms\n",
      "92:\tlearn: 1473.4325993\ttotal: 4.18s\tremaining: 314ms\n",
      "93:\tlearn: 1472.3600479\ttotal: 4.22s\tremaining: 269ms\n",
      "94:\tlearn: 1470.9419092\ttotal: 4.26s\tremaining: 224ms\n",
      "95:\tlearn: 1470.5918623\ttotal: 4.3s\tremaining: 179ms\n",
      "96:\tlearn: 1469.5131771\ttotal: 4.34s\tremaining: 134ms\n",
      "97:\tlearn: 1468.6949767\ttotal: 4.39s\tremaining: 89.6ms\n",
      "98:\tlearn: 1467.1371567\ttotal: 4.43s\tremaining: 44.8ms\n",
      "99:\tlearn: 1466.3229683\ttotal: 4.48s\tremaining: 0us\n",
      "0:\tlearn: 3472.5967869\ttotal: 51ms\tremaining: 5.05s\n",
      "1:\tlearn: 3366.0076553\ttotal: 102ms\tremaining: 5s\n",
      "2:\tlearn: 3270.0586034\ttotal: 147ms\tremaining: 4.75s\n",
      "3:\tlearn: 3176.8985428\ttotal: 190ms\tremaining: 4.55s\n",
      "4:\tlearn: 3090.7875079\ttotal: 237ms\tremaining: 4.51s\n",
      "5:\tlearn: 3009.9613502\ttotal: 281ms\tremaining: 4.4s\n",
      "6:\tlearn: 2930.3486075\ttotal: 322ms\tremaining: 4.28s\n",
      "7:\tlearn: 2856.0446136\ttotal: 366ms\tremaining: 4.2s\n",
      "8:\tlearn: 2787.5596960\ttotal: 409ms\tremaining: 4.13s\n",
      "9:\tlearn: 2725.8501259\ttotal: 451ms\tremaining: 4.06s\n",
      "10:\tlearn: 2664.6621459\ttotal: 497ms\tremaining: 4.02s\n",
      "11:\tlearn: 2605.8566022\ttotal: 544ms\tremaining: 3.99s\n",
      "12:\tlearn: 2552.9856840\ttotal: 585ms\tremaining: 3.92s\n",
      "13:\tlearn: 2503.1095097\ttotal: 630ms\tremaining: 3.87s\n",
      "14:\tlearn: 2454.1391633\ttotal: 672ms\tremaining: 3.81s\n",
      "15:\tlearn: 2409.9112462\ttotal: 716ms\tremaining: 3.76s\n",
      "16:\tlearn: 2369.0855338\ttotal: 758ms\tremaining: 3.7s\n",
      "17:\tlearn: 2331.8543429\ttotal: 800ms\tremaining: 3.64s\n",
      "18:\tlearn: 2294.3604479\ttotal: 842ms\tremaining: 3.59s\n",
      "19:\tlearn: 2254.4771006\ttotal: 886ms\tremaining: 3.54s\n",
      "20:\tlearn: 2217.6244589\ttotal: 928ms\tremaining: 3.49s\n",
      "21:\tlearn: 2181.9896859\ttotal: 971ms\tremaining: 3.44s\n",
      "22:\tlearn: 2149.1323765\ttotal: 1.01s\tremaining: 3.39s\n",
      "23:\tlearn: 2120.2326591\ttotal: 1.05s\tremaining: 3.34s\n",
      "24:\tlearn: 2092.9908022\ttotal: 1.1s\tremaining: 3.29s\n",
      "25:\tlearn: 2065.4394421\ttotal: 1.14s\tremaining: 3.25s\n",
      "26:\tlearn: 2040.2186054\ttotal: 1.19s\tremaining: 3.21s\n",
      "27:\tlearn: 2016.3702297\ttotal: 1.23s\tremaining: 3.16s\n",
      "28:\tlearn: 1994.6569970\ttotal: 1.27s\tremaining: 3.11s\n",
      "29:\tlearn: 1973.0723094\ttotal: 1.31s\tremaining: 3.07s\n",
      "30:\tlearn: 1954.0303354\ttotal: 1.36s\tremaining: 3.02s\n",
      "31:\tlearn: 1936.3292732\ttotal: 1.4s\tremaining: 2.98s\n",
      "32:\tlearn: 1919.3881398\ttotal: 1.44s\tremaining: 2.93s\n",
      "33:\tlearn: 1903.2336026\ttotal: 1.49s\tremaining: 2.88s\n",
      "34:\tlearn: 1886.6202887\ttotal: 1.53s\tremaining: 2.85s\n",
      "35:\tlearn: 1871.5693655\ttotal: 1.57s\tremaining: 2.8s\n",
      "36:\tlearn: 1857.8309457\ttotal: 1.62s\tremaining: 2.76s\n",
      "37:\tlearn: 1845.1116541\ttotal: 1.66s\tremaining: 2.71s\n",
      "38:\tlearn: 1831.0027929\ttotal: 1.71s\tremaining: 2.67s\n",
      "39:\tlearn: 1818.6717868\ttotal: 1.75s\tremaining: 2.62s\n",
      "40:\tlearn: 1806.3747626\ttotal: 1.79s\tremaining: 2.58s\n",
      "41:\tlearn: 1795.0360401\ttotal: 1.84s\tremaining: 2.54s\n",
      "42:\tlearn: 1783.9467466\ttotal: 1.88s\tremaining: 2.49s\n",
      "43:\tlearn: 1773.6059139\ttotal: 1.92s\tremaining: 2.44s\n",
      "44:\tlearn: 1764.0277055\ttotal: 1.96s\tremaining: 2.4s\n",
      "45:\tlearn: 1755.2990562\ttotal: 2.01s\tremaining: 2.35s\n",
      "46:\tlearn: 1747.2656393\ttotal: 2.05s\tremaining: 2.31s\n",
      "47:\tlearn: 1737.6806703\ttotal: 2.1s\tremaining: 2.27s\n",
      "48:\tlearn: 1728.6656420\ttotal: 2.14s\tremaining: 2.23s\n",
      "49:\tlearn: 1718.7034955\ttotal: 2.18s\tremaining: 2.18s\n",
      "50:\tlearn: 1710.7059380\ttotal: 2.23s\tremaining: 2.14s\n",
      "51:\tlearn: 1703.1354362\ttotal: 2.27s\tremaining: 2.1s\n",
      "52:\tlearn: 1696.0426570\ttotal: 2.32s\tremaining: 2.05s\n",
      "53:\tlearn: 1688.4318590\ttotal: 2.36s\tremaining: 2.01s\n",
      "54:\tlearn: 1682.2430943\ttotal: 2.4s\tremaining: 1.96s\n",
      "55:\tlearn: 1676.2250460\ttotal: 2.44s\tremaining: 1.92s\n",
      "56:\tlearn: 1670.4903288\ttotal: 2.48s\tremaining: 1.88s\n",
      "57:\tlearn: 1664.4657511\ttotal: 2.53s\tremaining: 1.83s\n",
      "58:\tlearn: 1659.6840330\ttotal: 2.58s\tremaining: 1.79s\n",
      "59:\tlearn: 1654.6229354\ttotal: 2.62s\tremaining: 1.75s\n",
      "60:\tlearn: 1649.6415071\ttotal: 2.66s\tremaining: 1.7s\n",
      "61:\tlearn: 1645.5518538\ttotal: 2.7s\tremaining: 1.66s\n",
      "62:\tlearn: 1641.1279321\ttotal: 2.75s\tremaining: 1.61s\n",
      "63:\tlearn: 1637.1248834\ttotal: 2.79s\tremaining: 1.57s\n",
      "64:\tlearn: 1632.9810386\ttotal: 2.83s\tremaining: 1.52s\n",
      "65:\tlearn: 1629.5062531\ttotal: 2.87s\tremaining: 1.48s\n",
      "66:\tlearn: 1626.5449797\ttotal: 2.93s\tremaining: 1.44s\n",
      "67:\tlearn: 1622.7693780\ttotal: 2.97s\tremaining: 1.4s\n",
      "68:\tlearn: 1619.2521604\ttotal: 3.01s\tremaining: 1.35s\n",
      "69:\tlearn: 1615.9747854\ttotal: 3.05s\tremaining: 1.31s\n",
      "70:\tlearn: 1613.2903659\ttotal: 3.1s\tremaining: 1.26s\n",
      "71:\tlearn: 1610.3886953\ttotal: 3.14s\tremaining: 1.22s\n",
      "72:\tlearn: 1607.7495629\ttotal: 3.18s\tremaining: 1.18s\n",
      "73:\tlearn: 1604.0514689\ttotal: 3.23s\tremaining: 1.13s\n",
      "74:\tlearn: 1601.4841916\ttotal: 3.27s\tremaining: 1.09s\n",
      "75:\tlearn: 1599.2022291\ttotal: 3.31s\tremaining: 1.04s\n",
      "76:\tlearn: 1595.9652060\ttotal: 3.35s\tremaining: 1s\n",
      "77:\tlearn: 1592.8787617\ttotal: 3.39s\tremaining: 957ms\n",
      "78:\tlearn: 1590.3381067\ttotal: 3.44s\tremaining: 914ms\n",
      "79:\tlearn: 1587.9280687\ttotal: 3.48s\tremaining: 870ms\n",
      "80:\tlearn: 1585.8699422\ttotal: 3.53s\tremaining: 827ms\n",
      "81:\tlearn: 1583.0017173\ttotal: 3.58s\tremaining: 785ms\n",
      "82:\tlearn: 1580.3444348\ttotal: 3.62s\tremaining: 742ms\n",
      "83:\tlearn: 1578.4405796\ttotal: 3.66s\tremaining: 698ms\n",
      "84:\tlearn: 1576.3974592\ttotal: 3.71s\tremaining: 654ms\n",
      "85:\tlearn: 1574.3438135\ttotal: 3.75s\tremaining: 610ms\n",
      "86:\tlearn: 1572.3149594\ttotal: 3.79s\tremaining: 566ms\n",
      "87:\tlearn: 1570.8653829\ttotal: 3.83s\tremaining: 523ms\n",
      "88:\tlearn: 1569.0382337\ttotal: 3.88s\tremaining: 479ms\n",
      "89:\tlearn: 1566.8627005\ttotal: 3.92s\tremaining: 435ms\n",
      "90:\tlearn: 1565.2143901\ttotal: 3.96s\tremaining: 392ms\n",
      "91:\tlearn: 1563.6924028\ttotal: 4s\tremaining: 348ms\n",
      "92:\tlearn: 1562.3320296\ttotal: 4.05s\tremaining: 305ms\n",
      "93:\tlearn: 1561.1403789\ttotal: 4.09s\tremaining: 261ms\n",
      "94:\tlearn: 1559.8266340\ttotal: 4.13s\tremaining: 217ms\n",
      "95:\tlearn: 1558.0648090\ttotal: 4.17s\tremaining: 174ms\n",
      "96:\tlearn: 1556.4397492\ttotal: 4.21s\tremaining: 130ms\n",
      "97:\tlearn: 1554.7853070\ttotal: 4.26s\tremaining: 86.9ms\n",
      "98:\tlearn: 1553.6832088\ttotal: 4.3s\tremaining: 43.4ms\n",
      "99:\tlearn: 1552.3684021\ttotal: 4.34s\tremaining: 0us\n",
      "0:\tlearn: 3495.0285408\ttotal: 45.8ms\tremaining: 4.53s\n",
      "1:\tlearn: 3388.3120252\ttotal: 92.6ms\tremaining: 4.54s\n",
      "2:\tlearn: 3290.5821820\ttotal: 140ms\tremaining: 4.54s\n",
      "3:\tlearn: 3197.1869930\ttotal: 190ms\tremaining: 4.56s\n",
      "4:\tlearn: 3112.2173447\ttotal: 234ms\tremaining: 4.44s\n",
      "5:\tlearn: 3027.1068868\ttotal: 281ms\tremaining: 4.4s\n",
      "6:\tlearn: 2949.1440894\ttotal: 323ms\tremaining: 4.3s\n",
      "7:\tlearn: 2876.0954803\ttotal: 367ms\tremaining: 4.21s\n",
      "8:\tlearn: 2807.6483061\ttotal: 410ms\tremaining: 4.14s\n",
      "9:\tlearn: 2742.0138653\ttotal: 453ms\tremaining: 4.08s\n",
      "10:\tlearn: 2679.6785652\ttotal: 499ms\tremaining: 4.04s\n",
      "11:\tlearn: 2622.7847651\ttotal: 545ms\tremaining: 4s\n",
      "12:\tlearn: 2569.3401087\ttotal: 589ms\tremaining: 3.94s\n",
      "13:\tlearn: 2517.2943279\ttotal: 632ms\tremaining: 3.88s\n",
      "14:\tlearn: 2472.4828716\ttotal: 675ms\tremaining: 3.83s\n",
      "15:\tlearn: 2428.1688958\ttotal: 723ms\tremaining: 3.79s\n",
      "16:\tlearn: 2387.5159158\ttotal: 766ms\tremaining: 3.74s\n",
      "17:\tlearn: 2350.5471487\ttotal: 810ms\tremaining: 3.69s\n",
      "18:\tlearn: 2314.9057992\ttotal: 852ms\tremaining: 3.63s\n",
      "19:\tlearn: 2275.5877960\ttotal: 897ms\tremaining: 3.59s\n",
      "20:\tlearn: 2237.9894221\ttotal: 941ms\tremaining: 3.54s\n",
      "21:\tlearn: 2204.0609126\ttotal: 984ms\tremaining: 3.49s\n",
      "22:\tlearn: 2170.3852099\ttotal: 1.03s\tremaining: 3.44s\n",
      "23:\tlearn: 2139.4960531\ttotal: 1.07s\tremaining: 3.39s\n",
      "24:\tlearn: 2111.2817253\ttotal: 1.11s\tremaining: 3.34s\n",
      "25:\tlearn: 2084.3411409\ttotal: 1.16s\tremaining: 3.29s\n",
      "26:\tlearn: 2060.0874325\ttotal: 1.21s\tremaining: 3.26s\n",
      "27:\tlearn: 2037.1670887\ttotal: 1.25s\tremaining: 3.21s\n",
      "28:\tlearn: 2015.4572212\ttotal: 1.29s\tremaining: 3.16s\n",
      "29:\tlearn: 1995.8961694\ttotal: 1.33s\tremaining: 3.12s\n",
      "30:\tlearn: 1976.1226999\ttotal: 1.38s\tremaining: 3.07s\n",
      "31:\tlearn: 1958.2600844\ttotal: 1.42s\tremaining: 3.03s\n",
      "32:\tlearn: 1941.3089006\ttotal: 1.47s\tremaining: 2.98s\n",
      "33:\tlearn: 1925.2367716\ttotal: 1.51s\tremaining: 2.93s\n",
      "34:\tlearn: 1909.5244399\ttotal: 1.56s\tremaining: 2.89s\n",
      "35:\tlearn: 1894.6778193\ttotal: 1.6s\tremaining: 2.85s\n",
      "36:\tlearn: 1878.1544335\ttotal: 1.64s\tremaining: 2.8s\n",
      "37:\tlearn: 1862.6771476\ttotal: 1.69s\tremaining: 2.75s\n",
      "38:\tlearn: 1848.2776873\ttotal: 1.73s\tremaining: 2.71s\n",
      "39:\tlearn: 1834.8385614\ttotal: 1.77s\tremaining: 2.66s\n",
      "40:\tlearn: 1823.2729019\ttotal: 1.82s\tremaining: 2.62s\n",
      "41:\tlearn: 1812.9262024\ttotal: 1.86s\tremaining: 2.57s\n",
      "42:\tlearn: 1800.5052469\ttotal: 1.91s\tremaining: 2.52s\n",
      "43:\tlearn: 1789.8637898\ttotal: 1.95s\tremaining: 2.48s\n",
      "44:\tlearn: 1777.1873804\ttotal: 1.99s\tremaining: 2.44s\n",
      "45:\tlearn: 1766.7933176\ttotal: 2.04s\tremaining: 2.39s\n",
      "46:\tlearn: 1756.2445095\ttotal: 2.08s\tremaining: 2.35s\n",
      "47:\tlearn: 1746.3741786\ttotal: 2.13s\tremaining: 2.3s\n",
      "48:\tlearn: 1737.1410077\ttotal: 2.17s\tremaining: 2.26s\n",
      "49:\tlearn: 1728.1759274\ttotal: 2.21s\tremaining: 2.21s\n",
      "50:\tlearn: 1719.7901578\ttotal: 2.25s\tremaining: 2.17s\n",
      "51:\tlearn: 1712.9502522\ttotal: 2.3s\tremaining: 2.12s\n",
      "52:\tlearn: 1706.0301789\ttotal: 2.34s\tremaining: 2.08s\n",
      "53:\tlearn: 1699.3070090\ttotal: 2.39s\tremaining: 2.03s\n",
      "54:\tlearn: 1692.7722233\ttotal: 2.43s\tremaining: 1.99s\n",
      "55:\tlearn: 1686.7354323\ttotal: 2.47s\tremaining: 1.94s\n",
      "56:\tlearn: 1680.7782308\ttotal: 2.51s\tremaining: 1.9s\n",
      "57:\tlearn: 1675.0262720\ttotal: 2.56s\tremaining: 1.85s\n",
      "58:\tlearn: 1670.2310498\ttotal: 2.6s\tremaining: 1.81s\n",
      "59:\tlearn: 1665.3893684\ttotal: 2.64s\tremaining: 1.76s\n",
      "60:\tlearn: 1660.7320829\ttotal: 2.69s\tremaining: 1.72s\n",
      "61:\tlearn: 1656.1127375\ttotal: 2.73s\tremaining: 1.67s\n",
      "62:\tlearn: 1651.9964147\ttotal: 2.78s\tremaining: 1.63s\n",
      "63:\tlearn: 1648.0972197\ttotal: 2.82s\tremaining: 1.59s\n",
      "64:\tlearn: 1643.9033329\ttotal: 2.86s\tremaining: 1.54s\n",
      "65:\tlearn: 1639.9030622\ttotal: 2.9s\tremaining: 1.5s\n",
      "66:\tlearn: 1635.2429099\ttotal: 2.95s\tremaining: 1.45s\n",
      "67:\tlearn: 1631.4412856\ttotal: 2.99s\tremaining: 1.41s\n",
      "68:\tlearn: 1628.5255205\ttotal: 3.03s\tremaining: 1.36s\n",
      "69:\tlearn: 1624.7010852\ttotal: 3.08s\tremaining: 1.32s\n",
      "70:\tlearn: 1621.5762392\ttotal: 3.12s\tremaining: 1.27s\n",
      "71:\tlearn: 1618.3849681\ttotal: 3.17s\tremaining: 1.23s\n",
      "72:\tlearn: 1615.3787262\ttotal: 3.21s\tremaining: 1.19s\n",
      "73:\tlearn: 1612.1753890\ttotal: 3.25s\tremaining: 1.14s\n",
      "74:\tlearn: 1609.6415756\ttotal: 3.3s\tremaining: 1.1s\n",
      "75:\tlearn: 1607.2336251\ttotal: 3.34s\tremaining: 1.05s\n",
      "76:\tlearn: 1603.6896455\ttotal: 3.38s\tremaining: 1.01s\n",
      "77:\tlearn: 1601.4025103\ttotal: 3.43s\tremaining: 967ms\n",
      "78:\tlearn: 1599.1550067\ttotal: 3.47s\tremaining: 923ms\n",
      "79:\tlearn: 1597.0075291\ttotal: 3.51s\tremaining: 879ms\n",
      "80:\tlearn: 1595.1917997\ttotal: 3.56s\tremaining: 835ms\n",
      "81:\tlearn: 1593.1449546\ttotal: 3.6s\tremaining: 791ms\n",
      "82:\tlearn: 1590.8217910\ttotal: 3.65s\tremaining: 748ms\n",
      "83:\tlearn: 1588.6803473\ttotal: 3.69s\tremaining: 703ms\n",
      "84:\tlearn: 1586.3290851\ttotal: 3.73s\tremaining: 659ms\n",
      "85:\tlearn: 1583.8682294\ttotal: 3.78s\tremaining: 615ms\n",
      "86:\tlearn: 1581.6950863\ttotal: 3.82s\tremaining: 571ms\n",
      "87:\tlearn: 1579.5669727\ttotal: 3.86s\tremaining: 527ms\n",
      "88:\tlearn: 1577.5390965\ttotal: 3.91s\tremaining: 483ms\n",
      "89:\tlearn: 1574.9496681\ttotal: 3.95s\tremaining: 439ms\n",
      "90:\tlearn: 1572.7312995\ttotal: 3.99s\tremaining: 395ms\n",
      "91:\tlearn: 1570.9969453\ttotal: 4.04s\tremaining: 351ms\n",
      "92:\tlearn: 1569.1098687\ttotal: 4.08s\tremaining: 307ms\n",
      "93:\tlearn: 1567.1754756\ttotal: 4.12s\tremaining: 263ms\n",
      "94:\tlearn: 1565.4167535\ttotal: 4.17s\tremaining: 219ms\n",
      "95:\tlearn: 1563.4621044\ttotal: 4.21s\tremaining: 175ms\n",
      "96:\tlearn: 1561.8398177\ttotal: 4.25s\tremaining: 132ms\n",
      "97:\tlearn: 1560.3666221\ttotal: 4.3s\tremaining: 87.7ms\n",
      "98:\tlearn: 1558.9291541\ttotal: 4.34s\tremaining: 43.8ms\n",
      "99:\tlearn: 1557.9757134\ttotal: 4.38s\tremaining: 0us\n",
      "0:\tlearn: 3360.0950941\ttotal: 85ms\tremaining: 16.9s\n",
      "1:\tlearn: 3164.9462253\ttotal: 173ms\tremaining: 17.1s\n",
      "2:\tlearn: 2998.7046796\ttotal: 258ms\tremaining: 16.9s\n",
      "3:\tlearn: 2850.0276638\ttotal: 347ms\tremaining: 17s\n",
      "4:\tlearn: 2710.7767726\ttotal: 424ms\tremaining: 16.5s\n",
      "5:\tlearn: 2585.2537741\ttotal: 507ms\tremaining: 16.4s\n",
      "6:\tlearn: 2479.6652284\ttotal: 592ms\tremaining: 16.3s\n",
      "7:\tlearn: 2381.1080069\ttotal: 674ms\tremaining: 16.2s\n",
      "8:\tlearn: 2294.2859062\ttotal: 745ms\tremaining: 15.8s\n",
      "9:\tlearn: 2222.5027353\ttotal: 824ms\tremaining: 15.7s\n",
      "10:\tlearn: 2150.5478315\ttotal: 907ms\tremaining: 15.6s\n",
      "11:\tlearn: 2093.1093950\ttotal: 985ms\tremaining: 15.4s\n",
      "12:\tlearn: 2037.8342561\ttotal: 1.07s\tremaining: 15.4s\n",
      "13:\tlearn: 1988.9575291\ttotal: 1.14s\tremaining: 15.1s\n",
      "14:\tlearn: 1945.7146585\ttotal: 1.23s\tremaining: 15.1s\n",
      "15:\tlearn: 1901.4558473\ttotal: 1.32s\tremaining: 15.2s\n",
      "16:\tlearn: 1868.3507227\ttotal: 1.39s\tremaining: 15s\n",
      "17:\tlearn: 1835.6186390\ttotal: 1.48s\tremaining: 15s\n",
      "18:\tlearn: 1806.6506445\ttotal: 1.57s\tremaining: 14.9s\n",
      "19:\tlearn: 1778.4882968\ttotal: 1.64s\tremaining: 14.7s\n",
      "20:\tlearn: 1756.6868709\ttotal: 1.71s\tremaining: 14.6s\n",
      "21:\tlearn: 1736.9607146\ttotal: 1.78s\tremaining: 14.4s\n",
      "22:\tlearn: 1717.7056887\ttotal: 1.87s\tremaining: 14.4s\n",
      "23:\tlearn: 1700.4514835\ttotal: 1.96s\tremaining: 14.3s\n",
      "24:\tlearn: 1686.3988318\ttotal: 2.03s\tremaining: 14.2s\n",
      "25:\tlearn: 1673.2074621\ttotal: 2.11s\tremaining: 14.2s\n",
      "26:\tlearn: 1661.5608776\ttotal: 2.21s\tremaining: 14.1s\n",
      "27:\tlearn: 1650.7932728\ttotal: 2.3s\tremaining: 14.1s\n",
      "28:\tlearn: 1639.9813591\ttotal: 2.39s\tremaining: 14.1s\n",
      "29:\tlearn: 1630.1011466\ttotal: 2.47s\tremaining: 14s\n",
      "30:\tlearn: 1622.7498964\ttotal: 2.55s\tremaining: 13.9s\n",
      "31:\tlearn: 1614.3071031\ttotal: 2.63s\tremaining: 13.8s\n",
      "32:\tlearn: 1607.4562438\ttotal: 2.72s\tremaining: 13.8s\n",
      "33:\tlearn: 1599.5358291\ttotal: 2.82s\tremaining: 13.8s\n",
      "34:\tlearn: 1593.8725329\ttotal: 2.9s\tremaining: 13.7s\n",
      "35:\tlearn: 1588.6194750\ttotal: 2.97s\tremaining: 13.5s\n",
      "36:\tlearn: 1582.8617323\ttotal: 3.04s\tremaining: 13.4s\n",
      "37:\tlearn: 1576.3323425\ttotal: 3.12s\tremaining: 13.3s\n",
      "38:\tlearn: 1571.8701985\ttotal: 3.19s\tremaining: 13.2s\n",
      "39:\tlearn: 1567.9257053\ttotal: 3.26s\tremaining: 13.1s\n",
      "40:\tlearn: 1564.2262678\ttotal: 3.33s\tremaining: 12.9s\n",
      "41:\tlearn: 1558.5557291\ttotal: 3.41s\tremaining: 12.8s\n",
      "42:\tlearn: 1554.8371560\ttotal: 3.5s\tremaining: 12.8s\n",
      "43:\tlearn: 1551.7723101\ttotal: 3.59s\tremaining: 12.7s\n",
      "44:\tlearn: 1549.6206532\ttotal: 3.67s\tremaining: 12.6s\n",
      "45:\tlearn: 1545.3602370\ttotal: 3.76s\tremaining: 12.6s\n",
      "46:\tlearn: 1541.8705805\ttotal: 3.83s\tremaining: 12.5s\n",
      "47:\tlearn: 1537.4662430\ttotal: 3.89s\tremaining: 12.3s\n",
      "48:\tlearn: 1534.8452656\ttotal: 3.97s\tremaining: 12.2s\n",
      "49:\tlearn: 1532.2333576\ttotal: 4.04s\tremaining: 12.1s\n",
      "50:\tlearn: 1529.9063128\ttotal: 4.12s\tremaining: 12s\n",
      "51:\tlearn: 1526.8340653\ttotal: 4.21s\tremaining: 12s\n",
      "52:\tlearn: 1523.9753150\ttotal: 4.28s\tremaining: 11.9s\n",
      "53:\tlearn: 1521.1158925\ttotal: 4.36s\tremaining: 11.8s\n",
      "54:\tlearn: 1518.3591857\ttotal: 4.45s\tremaining: 11.7s\n",
      "55:\tlearn: 1514.7652887\ttotal: 4.53s\tremaining: 11.6s\n",
      "56:\tlearn: 1513.9282931\ttotal: 4.6s\tremaining: 11.5s\n",
      "57:\tlearn: 1511.8585169\ttotal: 4.67s\tremaining: 11.4s\n",
      "58:\tlearn: 1510.3101722\ttotal: 4.75s\tremaining: 11.3s\n",
      "59:\tlearn: 1508.3235167\ttotal: 4.83s\tremaining: 11.3s\n",
      "60:\tlearn: 1505.6515389\ttotal: 4.91s\tremaining: 11.2s\n",
      "61:\tlearn: 1503.9416538\ttotal: 4.99s\tremaining: 11.1s\n",
      "62:\tlearn: 1502.0343159\ttotal: 5.08s\tremaining: 11s\n",
      "63:\tlearn: 1500.5624284\ttotal: 5.15s\tremaining: 10.9s\n",
      "64:\tlearn: 1498.9435101\ttotal: 5.24s\tremaining: 10.9s\n",
      "65:\tlearn: 1496.7585766\ttotal: 5.32s\tremaining: 10.8s\n",
      "66:\tlearn: 1495.8464344\ttotal: 5.38s\tremaining: 10.7s\n",
      "67:\tlearn: 1494.9606555\ttotal: 5.46s\tremaining: 10.6s\n",
      "68:\tlearn: 1493.0536964\ttotal: 5.54s\tremaining: 10.5s\n",
      "69:\tlearn: 1490.7843032\ttotal: 5.61s\tremaining: 10.4s\n",
      "70:\tlearn: 1489.3429953\ttotal: 5.68s\tremaining: 10.3s\n",
      "71:\tlearn: 1487.0447849\ttotal: 5.77s\tremaining: 10.3s\n",
      "72:\tlearn: 1485.6354591\ttotal: 5.86s\tremaining: 10.2s\n",
      "73:\tlearn: 1484.4626438\ttotal: 5.93s\tremaining: 10.1s\n",
      "74:\tlearn: 1482.3405472\ttotal: 6.02s\tremaining: 10s\n",
      "75:\tlearn: 1481.1748833\ttotal: 6.09s\tremaining: 9.94s\n",
      "76:\tlearn: 1479.5300455\ttotal: 6.16s\tremaining: 9.84s\n",
      "77:\tlearn: 1478.8715786\ttotal: 6.24s\tremaining: 9.76s\n",
      "78:\tlearn: 1477.4129416\ttotal: 6.33s\tremaining: 9.69s\n",
      "79:\tlearn: 1475.6868583\ttotal: 6.41s\tremaining: 9.61s\n",
      "80:\tlearn: 1473.8354872\ttotal: 6.49s\tremaining: 9.54s\n",
      "81:\tlearn: 1473.3569021\ttotal: 6.57s\tremaining: 9.46s\n",
      "82:\tlearn: 1472.5369898\ttotal: 6.66s\tremaining: 9.38s\n",
      "83:\tlearn: 1471.3446783\ttotal: 6.74s\tremaining: 9.3s\n",
      "84:\tlearn: 1470.1045550\ttotal: 6.82s\tremaining: 9.23s\n",
      "85:\tlearn: 1469.4949126\ttotal: 6.92s\tremaining: 9.17s\n",
      "86:\tlearn: 1468.2708216\ttotal: 7s\tremaining: 9.09s\n",
      "87:\tlearn: 1466.9516108\ttotal: 7.08s\tremaining: 9.01s\n",
      "88:\tlearn: 1466.0096240\ttotal: 7.17s\tremaining: 8.95s\n",
      "89:\tlearn: 1465.1073179\ttotal: 7.26s\tremaining: 8.88s\n",
      "90:\tlearn: 1463.3254445\ttotal: 7.34s\tremaining: 8.79s\n",
      "91:\tlearn: 1462.4679693\ttotal: 7.42s\tremaining: 8.71s\n",
      "92:\tlearn: 1461.5476437\ttotal: 7.5s\tremaining: 8.63s\n",
      "93:\tlearn: 1460.4490740\ttotal: 7.58s\tremaining: 8.55s\n",
      "94:\tlearn: 1459.5242791\ttotal: 7.67s\tremaining: 8.47s\n",
      "95:\tlearn: 1458.6526049\ttotal: 7.73s\tremaining: 8.37s\n",
      "96:\tlearn: 1457.8536668\ttotal: 7.79s\tremaining: 8.27s\n",
      "97:\tlearn: 1456.9822721\ttotal: 7.86s\tremaining: 8.18s\n",
      "98:\tlearn: 1456.6406000\ttotal: 7.93s\tremaining: 8.09s\n",
      "99:\tlearn: 1455.5800358\ttotal: 8.01s\tremaining: 8.01s\n",
      "100:\tlearn: 1454.7518685\ttotal: 8.09s\tremaining: 7.93s\n",
      "101:\tlearn: 1453.9252684\ttotal: 8.17s\tremaining: 7.85s\n",
      "102:\tlearn: 1453.1901711\ttotal: 8.23s\tremaining: 7.75s\n",
      "103:\tlearn: 1452.4882293\ttotal: 8.3s\tremaining: 7.66s\n",
      "104:\tlearn: 1451.9022416\ttotal: 8.37s\tremaining: 7.57s\n",
      "105:\tlearn: 1451.4764543\ttotal: 8.46s\tremaining: 7.5s\n",
      "106:\tlearn: 1450.1048965\ttotal: 8.54s\tremaining: 7.42s\n",
      "107:\tlearn: 1449.5651114\ttotal: 8.62s\tremaining: 7.35s\n",
      "108:\tlearn: 1448.6453280\ttotal: 8.69s\tremaining: 7.26s\n",
      "109:\tlearn: 1447.9023418\ttotal: 8.77s\tremaining: 7.18s\n",
      "110:\tlearn: 1447.3813640\ttotal: 8.85s\tremaining: 7.1s\n",
      "111:\tlearn: 1446.2969010\ttotal: 8.93s\tremaining: 7.02s\n",
      "112:\tlearn: 1445.6921061\ttotal: 9.01s\tremaining: 6.93s\n",
      "113:\tlearn: 1445.1100260\ttotal: 9.1s\tremaining: 6.86s\n",
      "114:\tlearn: 1444.2494329\ttotal: 9.18s\tremaining: 6.78s\n",
      "115:\tlearn: 1442.7361682\ttotal: 9.25s\tremaining: 6.7s\n",
      "116:\tlearn: 1441.5841598\ttotal: 9.33s\tremaining: 6.62s\n",
      "117:\tlearn: 1440.1090516\ttotal: 9.4s\tremaining: 6.53s\n",
      "118:\tlearn: 1438.9820822\ttotal: 9.48s\tremaining: 6.45s\n",
      "119:\tlearn: 1438.6125315\ttotal: 9.59s\tremaining: 6.39s\n",
      "120:\tlearn: 1438.1335547\ttotal: 9.66s\tremaining: 6.31s\n",
      "121:\tlearn: 1436.5992504\ttotal: 9.73s\tremaining: 6.22s\n",
      "122:\tlearn: 1434.4612345\ttotal: 9.82s\tremaining: 6.15s\n",
      "123:\tlearn: 1433.6796709\ttotal: 9.9s\tremaining: 6.07s\n",
      "124:\tlearn: 1433.1112493\ttotal: 9.98s\tremaining: 5.99s\n",
      "125:\tlearn: 1432.3567102\ttotal: 10.1s\tremaining: 5.91s\n",
      "126:\tlearn: 1431.6906170\ttotal: 10.1s\tremaining: 5.82s\n",
      "127:\tlearn: 1431.4972413\ttotal: 10.2s\tremaining: 5.75s\n",
      "128:\tlearn: 1429.9536267\ttotal: 10.3s\tremaining: 5.67s\n",
      "129:\tlearn: 1429.1055761\ttotal: 10.4s\tremaining: 5.59s\n",
      "130:\tlearn: 1428.0419314\ttotal: 10.5s\tremaining: 5.51s\n",
      "131:\tlearn: 1426.9167399\ttotal: 10.5s\tremaining: 5.43s\n",
      "132:\tlearn: 1425.7890203\ttotal: 10.6s\tremaining: 5.34s\n",
      "133:\tlearn: 1425.0152949\ttotal: 10.7s\tremaining: 5.25s\n",
      "134:\tlearn: 1424.4775712\ttotal: 10.7s\tremaining: 5.17s\n",
      "135:\tlearn: 1423.8101344\ttotal: 10.8s\tremaining: 5.09s\n",
      "136:\tlearn: 1423.1187092\ttotal: 10.9s\tremaining: 5.01s\n",
      "137:\tlearn: 1422.4856211\ttotal: 11s\tremaining: 4.92s\n",
      "138:\tlearn: 1422.1938077\ttotal: 11s\tremaining: 4.84s\n",
      "139:\tlearn: 1421.5580963\ttotal: 11.1s\tremaining: 4.77s\n",
      "140:\tlearn: 1420.6315383\ttotal: 11.2s\tremaining: 4.68s\n",
      "141:\tlearn: 1419.8753906\ttotal: 11.3s\tremaining: 4.6s\n",
      "142:\tlearn: 1419.4682450\ttotal: 11.3s\tremaining: 4.52s\n",
      "143:\tlearn: 1419.2062253\ttotal: 11.4s\tremaining: 4.44s\n",
      "144:\tlearn: 1418.2037014\ttotal: 11.5s\tremaining: 4.36s\n",
      "145:\tlearn: 1416.9925325\ttotal: 11.6s\tremaining: 4.28s\n",
      "146:\tlearn: 1416.3365599\ttotal: 11.7s\tremaining: 4.2s\n",
      "147:\tlearn: 1415.6357077\ttotal: 11.7s\tremaining: 4.12s\n",
      "148:\tlearn: 1414.2539457\ttotal: 11.8s\tremaining: 4.04s\n",
      "149:\tlearn: 1413.5648596\ttotal: 11.9s\tremaining: 3.96s\n",
      "150:\tlearn: 1413.0753240\ttotal: 12s\tremaining: 3.88s\n",
      "151:\tlearn: 1412.1732440\ttotal: 12.1s\tremaining: 3.81s\n",
      "152:\tlearn: 1412.0629708\ttotal: 12.1s\tremaining: 3.73s\n",
      "153:\tlearn: 1411.5118819\ttotal: 12.2s\tremaining: 3.65s\n",
      "154:\tlearn: 1410.9719629\ttotal: 12.3s\tremaining: 3.57s\n",
      "155:\tlearn: 1410.4758706\ttotal: 12.4s\tremaining: 3.49s\n",
      "156:\tlearn: 1409.8281164\ttotal: 12.4s\tremaining: 3.41s\n",
      "157:\tlearn: 1409.7299130\ttotal: 12.5s\tremaining: 3.33s\n",
      "158:\tlearn: 1408.7454696\ttotal: 12.6s\tremaining: 3.25s\n",
      "159:\tlearn: 1408.2641800\ttotal: 12.7s\tremaining: 3.17s\n",
      "160:\tlearn: 1407.2575955\ttotal: 12.8s\tremaining: 3.09s\n",
      "161:\tlearn: 1406.8036384\ttotal: 12.8s\tremaining: 3.01s\n",
      "162:\tlearn: 1406.1886858\ttotal: 12.9s\tremaining: 2.94s\n",
      "163:\tlearn: 1405.8766797\ttotal: 13s\tremaining: 2.85s\n",
      "164:\tlearn: 1405.1674677\ttotal: 13.1s\tremaining: 2.78s\n",
      "165:\tlearn: 1404.2628001\ttotal: 13.2s\tremaining: 2.7s\n",
      "166:\tlearn: 1403.7029443\ttotal: 13.3s\tremaining: 2.62s\n",
      "167:\tlearn: 1403.1994970\ttotal: 13.3s\tremaining: 2.54s\n",
      "168:\tlearn: 1402.3131115\ttotal: 13.4s\tremaining: 2.46s\n",
      "169:\tlearn: 1401.4393693\ttotal: 13.5s\tremaining: 2.38s\n",
      "170:\tlearn: 1401.3775512\ttotal: 13.6s\tremaining: 2.3s\n",
      "171:\tlearn: 1400.6851358\ttotal: 13.6s\tremaining: 2.22s\n",
      "172:\tlearn: 1400.1543419\ttotal: 13.7s\tremaining: 2.14s\n",
      "173:\tlearn: 1400.0985674\ttotal: 13.8s\tremaining: 2.06s\n",
      "174:\tlearn: 1399.5400554\ttotal: 13.9s\tremaining: 1.98s\n",
      "175:\tlearn: 1398.7221882\ttotal: 13.9s\tremaining: 1.9s\n",
      "176:\tlearn: 1398.0053127\ttotal: 14s\tremaining: 1.82s\n",
      "177:\tlearn: 1397.5908293\ttotal: 14.1s\tremaining: 1.74s\n",
      "178:\tlearn: 1396.9709714\ttotal: 14.2s\tremaining: 1.66s\n",
      "179:\tlearn: 1396.5415453\ttotal: 14.3s\tremaining: 1.58s\n",
      "180:\tlearn: 1396.0491214\ttotal: 14.3s\tremaining: 1.5s\n",
      "181:\tlearn: 1395.5175471\ttotal: 14.4s\tremaining: 1.43s\n",
      "182:\tlearn: 1395.2429247\ttotal: 14.5s\tremaining: 1.34s\n",
      "183:\tlearn: 1394.9390049\ttotal: 14.6s\tremaining: 1.27s\n",
      "184:\tlearn: 1394.7467625\ttotal: 14.6s\tremaining: 1.19s\n",
      "185:\tlearn: 1394.5383173\ttotal: 14.7s\tremaining: 1.11s\n",
      "186:\tlearn: 1394.1495515\ttotal: 14.8s\tremaining: 1.03s\n",
      "187:\tlearn: 1393.9259522\ttotal: 14.9s\tremaining: 948ms\n",
      "188:\tlearn: 1393.4967978\ttotal: 14.9s\tremaining: 869ms\n",
      "189:\tlearn: 1392.6875048\ttotal: 15s\tremaining: 790ms\n",
      "190:\tlearn: 1392.2656592\ttotal: 15.1s\tremaining: 711ms\n",
      "191:\tlearn: 1392.0645035\ttotal: 15.2s\tremaining: 632ms\n",
      "192:\tlearn: 1391.9049064\ttotal: 15.2s\tremaining: 552ms\n",
      "193:\tlearn: 1391.3844604\ttotal: 15.3s\tremaining: 473ms\n",
      "194:\tlearn: 1391.0560773\ttotal: 15.4s\tremaining: 395ms\n",
      "195:\tlearn: 1390.8590502\ttotal: 15.4s\tremaining: 315ms\n",
      "196:\tlearn: 1390.2575665\ttotal: 15.5s\tremaining: 237ms\n",
      "197:\tlearn: 1389.6346339\ttotal: 15.6s\tremaining: 158ms\n",
      "198:\tlearn: 1389.6084102\ttotal: 15.7s\tremaining: 79ms\n",
      "199:\tlearn: 1389.1168273\ttotal: 15.8s\tremaining: 0us\n",
      "0:\tlearn: 3385.6787615\ttotal: 95.8ms\tremaining: 19.1s\n",
      "1:\tlearn: 3183.5482611\ttotal: 176ms\tremaining: 17.4s\n",
      "2:\tlearn: 3008.5273994\ttotal: 262ms\tremaining: 17.2s\n",
      "3:\tlearn: 2855.4121152\ttotal: 346ms\tremaining: 16.9s\n",
      "4:\tlearn: 2714.7065276\ttotal: 420ms\tremaining: 16.4s\n",
      "5:\tlearn: 2595.2657646\ttotal: 504ms\tremaining: 16.3s\n",
      "6:\tlearn: 2486.8783648\ttotal: 584ms\tremaining: 16.1s\n",
      "7:\tlearn: 2390.5637831\ttotal: 643ms\tremaining: 15.4s\n",
      "8:\tlearn: 2308.2988735\ttotal: 726ms\tremaining: 15.4s\n",
      "9:\tlearn: 2237.6260971\ttotal: 806ms\tremaining: 15.3s\n",
      "10:\tlearn: 2173.3221763\ttotal: 888ms\tremaining: 15.3s\n",
      "11:\tlearn: 2110.1077063\ttotal: 969ms\tremaining: 15.2s\n",
      "12:\tlearn: 2058.0342699\ttotal: 1.07s\tremaining: 15.4s\n",
      "13:\tlearn: 2013.0214348\ttotal: 1.15s\tremaining: 15.3s\n",
      "14:\tlearn: 1965.1128701\ttotal: 1.26s\tremaining: 15.6s\n",
      "15:\tlearn: 1927.9589170\ttotal: 1.34s\tremaining: 15.5s\n",
      "16:\tlearn: 1888.4781705\ttotal: 1.43s\tremaining: 15.4s\n",
      "17:\tlearn: 1852.9703692\ttotal: 1.52s\tremaining: 15.4s\n",
      "18:\tlearn: 1826.0126689\ttotal: 1.61s\tremaining: 15.3s\n",
      "19:\tlearn: 1800.5262500\ttotal: 1.7s\tremaining: 15.3s\n",
      "20:\tlearn: 1777.0517014\ttotal: 1.79s\tremaining: 15.3s\n",
      "21:\tlearn: 1754.2466211\ttotal: 1.89s\tremaining: 15.3s\n",
      "22:\tlearn: 1734.1925424\ttotal: 1.97s\tremaining: 15.1s\n",
      "23:\tlearn: 1716.6578953\ttotal: 2.05s\tremaining: 15s\n",
      "24:\tlearn: 1699.3884168\ttotal: 2.14s\tremaining: 15s\n",
      "25:\tlearn: 1683.4410961\ttotal: 2.22s\tremaining: 14.9s\n",
      "26:\tlearn: 1671.3720791\ttotal: 2.3s\tremaining: 14.7s\n",
      "27:\tlearn: 1658.7032961\ttotal: 2.37s\tremaining: 14.6s\n",
      "28:\tlearn: 1646.8783424\ttotal: 2.45s\tremaining: 14.5s\n",
      "29:\tlearn: 1637.4989364\ttotal: 2.52s\tremaining: 14.3s\n",
      "30:\tlearn: 1628.7671096\ttotal: 2.6s\tremaining: 14.2s\n",
      "31:\tlearn: 1620.3907857\ttotal: 2.67s\tremaining: 14s\n",
      "32:\tlearn: 1614.2015593\ttotal: 2.73s\tremaining: 13.8s\n",
      "33:\tlearn: 1607.7730812\ttotal: 2.81s\tremaining: 13.7s\n",
      "34:\tlearn: 1599.8033040\ttotal: 2.87s\tremaining: 13.5s\n",
      "35:\tlearn: 1593.0725374\ttotal: 2.96s\tremaining: 13.5s\n",
      "36:\tlearn: 1587.5659546\ttotal: 3.05s\tremaining: 13.4s\n",
      "37:\tlearn: 1581.4436008\ttotal: 3.12s\tremaining: 13.3s\n",
      "38:\tlearn: 1576.2288370\ttotal: 3.21s\tremaining: 13.2s\n",
      "39:\tlearn: 1571.2486170\ttotal: 3.29s\tremaining: 13.2s\n",
      "40:\tlearn: 1567.2352735\ttotal: 3.38s\tremaining: 13.1s\n",
      "41:\tlearn: 1563.4333315\ttotal: 3.45s\tremaining: 13s\n",
      "42:\tlearn: 1559.0174594\ttotal: 3.54s\tremaining: 12.9s\n",
      "43:\tlearn: 1555.1907602\ttotal: 3.62s\tremaining: 12.8s\n",
      "44:\tlearn: 1551.8410389\ttotal: 3.7s\tremaining: 12.7s\n",
      "45:\tlearn: 1548.6590524\ttotal: 3.78s\tremaining: 12.7s\n",
      "46:\tlearn: 1544.0418966\ttotal: 3.85s\tremaining: 12.6s\n",
      "47:\tlearn: 1540.6946815\ttotal: 3.93s\tremaining: 12.4s\n",
      "48:\tlearn: 1538.1334814\ttotal: 4.02s\tremaining: 12.4s\n",
      "49:\tlearn: 1535.5328630\ttotal: 4.09s\tremaining: 12.3s\n",
      "50:\tlearn: 1532.7207181\ttotal: 4.17s\tremaining: 12.2s\n",
      "51:\tlearn: 1530.3483169\ttotal: 4.24s\tremaining: 12.1s\n",
      "52:\tlearn: 1527.9465832\ttotal: 4.31s\tremaining: 12s\n",
      "53:\tlearn: 1524.3668986\ttotal: 4.39s\tremaining: 11.9s\n",
      "54:\tlearn: 1521.3738364\ttotal: 4.47s\tremaining: 11.8s\n",
      "55:\tlearn: 1519.9455860\ttotal: 4.55s\tremaining: 11.7s\n",
      "56:\tlearn: 1517.3412446\ttotal: 4.63s\tremaining: 11.6s\n",
      "57:\tlearn: 1514.6851475\ttotal: 4.7s\tremaining: 11.5s\n",
      "58:\tlearn: 1511.4879268\ttotal: 4.78s\tremaining: 11.4s\n",
      "59:\tlearn: 1509.6907982\ttotal: 4.86s\tremaining: 11.3s\n",
      "60:\tlearn: 1507.2272071\ttotal: 4.93s\tremaining: 11.2s\n",
      "61:\tlearn: 1504.8368864\ttotal: 5.01s\tremaining: 11.1s\n",
      "62:\tlearn: 1503.1627715\ttotal: 5.09s\tremaining: 11.1s\n",
      "63:\tlearn: 1501.5624645\ttotal: 5.16s\tremaining: 11s\n",
      "64:\tlearn: 1500.4336060\ttotal: 5.24s\tremaining: 10.9s\n",
      "65:\tlearn: 1498.9547285\ttotal: 5.31s\tremaining: 10.8s\n",
      "66:\tlearn: 1496.4849724\ttotal: 5.38s\tremaining: 10.7s\n",
      "67:\tlearn: 1495.1634970\ttotal: 5.46s\tremaining: 10.6s\n",
      "68:\tlearn: 1493.1743016\ttotal: 5.54s\tremaining: 10.5s\n",
      "69:\tlearn: 1491.8265960\ttotal: 5.61s\tremaining: 10.4s\n",
      "70:\tlearn: 1489.8985303\ttotal: 5.69s\tremaining: 10.3s\n",
      "71:\tlearn: 1488.4227522\ttotal: 5.77s\tremaining: 10.3s\n",
      "72:\tlearn: 1487.3237217\ttotal: 5.85s\tremaining: 10.2s\n",
      "73:\tlearn: 1486.6566354\ttotal: 5.92s\tremaining: 10.1s\n",
      "74:\tlearn: 1484.9042895\ttotal: 6.01s\tremaining: 10s\n",
      "75:\tlearn: 1483.2435101\ttotal: 6.08s\tremaining: 9.92s\n",
      "76:\tlearn: 1482.2352869\ttotal: 6.15s\tremaining: 9.83s\n",
      "77:\tlearn: 1480.3322081\ttotal: 6.21s\tremaining: 9.72s\n",
      "78:\tlearn: 1479.0582265\ttotal: 6.28s\tremaining: 9.62s\n",
      "79:\tlearn: 1477.6376952\ttotal: 6.35s\tremaining: 9.53s\n",
      "80:\tlearn: 1475.6917566\ttotal: 6.43s\tremaining: 9.44s\n",
      "81:\tlearn: 1474.7012311\ttotal: 6.5s\tremaining: 9.35s\n",
      "82:\tlearn: 1472.9204695\ttotal: 6.57s\tremaining: 9.27s\n",
      "83:\tlearn: 1471.3288349\ttotal: 6.66s\tremaining: 9.2s\n",
      "84:\tlearn: 1470.7056412\ttotal: 6.74s\tremaining: 9.12s\n",
      "85:\tlearn: 1469.5415946\ttotal: 6.82s\tremaining: 9.04s\n",
      "86:\tlearn: 1468.6242229\ttotal: 6.9s\tremaining: 8.96s\n",
      "87:\tlearn: 1468.3008003\ttotal: 6.98s\tremaining: 8.88s\n",
      "88:\tlearn: 1466.8185750\ttotal: 7.08s\tremaining: 8.83s\n",
      "89:\tlearn: 1465.6282927\ttotal: 7.15s\tremaining: 8.74s\n",
      "90:\tlearn: 1464.4043677\ttotal: 7.24s\tremaining: 8.67s\n",
      "91:\tlearn: 1463.3107233\ttotal: 7.32s\tremaining: 8.59s\n",
      "92:\tlearn: 1461.8193954\ttotal: 7.41s\tremaining: 8.52s\n",
      "93:\tlearn: 1460.6047197\ttotal: 7.48s\tremaining: 8.43s\n",
      "94:\tlearn: 1459.7749471\ttotal: 7.55s\tremaining: 8.35s\n",
      "95:\tlearn: 1458.5096752\ttotal: 7.64s\tremaining: 8.28s\n",
      "96:\tlearn: 1457.4702086\ttotal: 7.7s\tremaining: 8.18s\n",
      "97:\tlearn: 1456.5509982\ttotal: 7.79s\tremaining: 8.1s\n",
      "98:\tlearn: 1455.5444001\ttotal: 7.88s\tremaining: 8.04s\n",
      "99:\tlearn: 1454.6615429\ttotal: 7.94s\tremaining: 7.94s\n",
      "100:\tlearn: 1453.0716585\ttotal: 8.03s\tremaining: 7.87s\n",
      "101:\tlearn: 1452.1416360\ttotal: 8.11s\tremaining: 7.8s\n",
      "102:\tlearn: 1451.1801698\ttotal: 8.19s\tremaining: 7.71s\n",
      "103:\tlearn: 1450.6955977\ttotal: 8.27s\tremaining: 7.63s\n",
      "104:\tlearn: 1450.2198781\ttotal: 8.34s\tremaining: 7.55s\n",
      "105:\tlearn: 1449.1574841\ttotal: 8.42s\tremaining: 7.46s\n",
      "106:\tlearn: 1447.4614495\ttotal: 8.49s\tremaining: 7.38s\n",
      "107:\tlearn: 1446.1056874\ttotal: 8.58s\tremaining: 7.31s\n",
      "108:\tlearn: 1445.0483188\ttotal: 8.66s\tremaining: 7.23s\n",
      "109:\tlearn: 1444.4023834\ttotal: 8.75s\tremaining: 7.16s\n",
      "110:\tlearn: 1443.2293899\ttotal: 8.81s\tremaining: 7.07s\n",
      "111:\tlearn: 1441.9024119\ttotal: 8.9s\tremaining: 7s\n",
      "112:\tlearn: 1440.9187739\ttotal: 9s\tremaining: 6.93s\n",
      "113:\tlearn: 1440.3729428\ttotal: 9.08s\tremaining: 6.85s\n",
      "114:\tlearn: 1439.1424789\ttotal: 9.15s\tremaining: 6.76s\n",
      "115:\tlearn: 1438.3339228\ttotal: 9.23s\tremaining: 6.68s\n",
      "116:\tlearn: 1437.7148258\ttotal: 9.31s\tremaining: 6.61s\n",
      "117:\tlearn: 1436.7997137\ttotal: 9.4s\tremaining: 6.54s\n",
      "118:\tlearn: 1436.2751346\ttotal: 9.48s\tremaining: 6.45s\n",
      "119:\tlearn: 1435.1482073\ttotal: 9.56s\tremaining: 6.37s\n",
      "120:\tlearn: 1434.3747737\ttotal: 9.63s\tremaining: 6.29s\n",
      "121:\tlearn: 1434.0029864\ttotal: 9.72s\tremaining: 6.21s\n",
      "122:\tlearn: 1433.4443180\ttotal: 9.81s\tremaining: 6.14s\n",
      "123:\tlearn: 1432.9542830\ttotal: 9.89s\tremaining: 6.06s\n",
      "124:\tlearn: 1432.6400118\ttotal: 9.96s\tremaining: 5.98s\n",
      "125:\tlearn: 1431.3764634\ttotal: 10s\tremaining: 5.9s\n",
      "126:\tlearn: 1431.2303413\ttotal: 10.1s\tremaining: 5.82s\n",
      "127:\tlearn: 1430.5759038\ttotal: 10.2s\tremaining: 5.74s\n",
      "128:\tlearn: 1429.3940569\ttotal: 10.3s\tremaining: 5.66s\n",
      "129:\tlearn: 1428.5900781\ttotal: 10.4s\tremaining: 5.58s\n",
      "130:\tlearn: 1427.6974687\ttotal: 10.4s\tremaining: 5.5s\n",
      "131:\tlearn: 1426.9172838\ttotal: 10.5s\tremaining: 5.42s\n",
      "132:\tlearn: 1426.4377947\ttotal: 10.6s\tremaining: 5.33s\n",
      "133:\tlearn: 1425.3642107\ttotal: 10.7s\tremaining: 5.25s\n",
      "134:\tlearn: 1424.9559029\ttotal: 10.8s\tremaining: 5.18s\n",
      "135:\tlearn: 1423.7889997\ttotal: 10.8s\tremaining: 5.1s\n",
      "136:\tlearn: 1423.0735605\ttotal: 10.9s\tremaining: 5.02s\n",
      "137:\tlearn: 1422.4494190\ttotal: 11s\tremaining: 4.94s\n",
      "138:\tlearn: 1422.0246629\ttotal: 11.1s\tremaining: 4.86s\n",
      "139:\tlearn: 1420.8296687\ttotal: 11.2s\tremaining: 4.79s\n",
      "140:\tlearn: 1420.3447355\ttotal: 11.2s\tremaining: 4.7s\n",
      "141:\tlearn: 1419.3111698\ttotal: 11.3s\tremaining: 4.63s\n",
      "142:\tlearn: 1419.0039068\ttotal: 11.4s\tremaining: 4.55s\n",
      "143:\tlearn: 1418.2003315\ttotal: 11.5s\tremaining: 4.47s\n",
      "144:\tlearn: 1417.2744412\ttotal: 11.6s\tremaining: 4.38s\n",
      "145:\tlearn: 1416.7809255\ttotal: 11.6s\tremaining: 4.3s\n",
      "146:\tlearn: 1416.3652475\ttotal: 11.7s\tremaining: 4.22s\n",
      "147:\tlearn: 1415.6163687\ttotal: 11.8s\tremaining: 4.14s\n",
      "148:\tlearn: 1415.1652512\ttotal: 11.9s\tremaining: 4.06s\n",
      "149:\tlearn: 1414.4331201\ttotal: 12s\tremaining: 3.98s\n",
      "150:\tlearn: 1413.8565335\ttotal: 12s\tremaining: 3.9s\n",
      "151:\tlearn: 1413.3944345\ttotal: 12.1s\tremaining: 3.82s\n",
      "152:\tlearn: 1412.5992389\ttotal: 12.2s\tremaining: 3.74s\n",
      "153:\tlearn: 1412.4642766\ttotal: 12.3s\tremaining: 3.66s\n",
      "154:\tlearn: 1412.1670681\ttotal: 12.3s\tremaining: 3.58s\n",
      "155:\tlearn: 1411.4983863\ttotal: 12.4s\tremaining: 3.5s\n",
      "156:\tlearn: 1410.9856937\ttotal: 12.5s\tremaining: 3.42s\n",
      "157:\tlearn: 1410.3627226\ttotal: 12.6s\tremaining: 3.34s\n",
      "158:\tlearn: 1409.8304066\ttotal: 12.7s\tremaining: 3.26s\n",
      "159:\tlearn: 1408.8706138\ttotal: 12.7s\tremaining: 3.18s\n",
      "160:\tlearn: 1408.4277329\ttotal: 12.8s\tremaining: 3.1s\n",
      "161:\tlearn: 1407.6162133\ttotal: 12.9s\tremaining: 3.02s\n",
      "162:\tlearn: 1407.2139851\ttotal: 13s\tremaining: 2.94s\n",
      "163:\tlearn: 1406.9173437\ttotal: 13s\tremaining: 2.86s\n",
      "164:\tlearn: 1406.0705350\ttotal: 13.1s\tremaining: 2.78s\n",
      "165:\tlearn: 1405.7056940\ttotal: 13.2s\tremaining: 2.7s\n",
      "166:\tlearn: 1405.1698477\ttotal: 13.3s\tremaining: 2.63s\n",
      "167:\tlearn: 1404.5123676\ttotal: 13.4s\tremaining: 2.54s\n",
      "168:\tlearn: 1404.0880568\ttotal: 13.4s\tremaining: 2.47s\n",
      "169:\tlearn: 1403.5147691\ttotal: 13.5s\tremaining: 2.39s\n",
      "170:\tlearn: 1403.1325050\ttotal: 13.6s\tremaining: 2.31s\n",
      "171:\tlearn: 1402.4112095\ttotal: 13.7s\tremaining: 2.22s\n",
      "172:\tlearn: 1402.1050500\ttotal: 13.7s\tremaining: 2.14s\n",
      "173:\tlearn: 1401.2140066\ttotal: 13.8s\tremaining: 2.07s\n",
      "174:\tlearn: 1400.6662014\ttotal: 13.9s\tremaining: 1.99s\n",
      "175:\tlearn: 1400.1493081\ttotal: 14s\tremaining: 1.91s\n",
      "176:\tlearn: 1399.6925903\ttotal: 14.1s\tremaining: 1.83s\n",
      "177:\tlearn: 1399.1054923\ttotal: 14.2s\tremaining: 1.75s\n",
      "178:\tlearn: 1398.6113345\ttotal: 14.2s\tremaining: 1.67s\n",
      "179:\tlearn: 1397.9847916\ttotal: 14.3s\tremaining: 1.59s\n",
      "180:\tlearn: 1397.5143648\ttotal: 14.4s\tremaining: 1.51s\n",
      "181:\tlearn: 1397.4139442\ttotal: 14.5s\tremaining: 1.43s\n",
      "182:\tlearn: 1396.8408825\ttotal: 14.6s\tremaining: 1.35s\n",
      "183:\tlearn: 1396.4302064\ttotal: 14.6s\tremaining: 1.27s\n",
      "184:\tlearn: 1395.8864707\ttotal: 14.7s\tremaining: 1.19s\n",
      "185:\tlearn: 1395.3915985\ttotal: 14.8s\tremaining: 1.11s\n",
      "186:\tlearn: 1395.0136443\ttotal: 14.9s\tremaining: 1.03s\n",
      "187:\tlearn: 1394.5940057\ttotal: 15s\tremaining: 954ms\n",
      "188:\tlearn: 1394.2622135\ttotal: 15s\tremaining: 875ms\n",
      "189:\tlearn: 1394.0923462\ttotal: 15.1s\tremaining: 795ms\n",
      "190:\tlearn: 1393.6237692\ttotal: 15.2s\tremaining: 716ms\n",
      "191:\tlearn: 1393.0920251\ttotal: 15.3s\tremaining: 637ms\n",
      "192:\tlearn: 1392.6642460\ttotal: 15.4s\tremaining: 557ms\n",
      "193:\tlearn: 1391.8202669\ttotal: 15.4s\tremaining: 478ms\n",
      "194:\tlearn: 1391.7339015\ttotal: 15.5s\tremaining: 398ms\n",
      "195:\tlearn: 1390.9988665\ttotal: 15.6s\tremaining: 318ms\n",
      "196:\tlearn: 1390.5320451\ttotal: 15.7s\tremaining: 239ms\n",
      "197:\tlearn: 1390.5129590\ttotal: 15.7s\tremaining: 159ms\n",
      "198:\tlearn: 1390.2538933\ttotal: 15.8s\tremaining: 79.4ms\n",
      "199:\tlearn: 1389.8310087\ttotal: 15.9s\tremaining: 0us\n",
      "0:\tlearn: 3470.8253093\ttotal: 90.1ms\tremaining: 17.9s\n",
      "1:\tlearn: 3364.2927271\ttotal: 174ms\tremaining: 17.2s\n",
      "2:\tlearn: 3264.3041829\ttotal: 259ms\tremaining: 17s\n",
      "3:\tlearn: 3170.7616648\ttotal: 344ms\tremaining: 16.8s\n",
      "4:\tlearn: 3085.5853404\ttotal: 423ms\tremaining: 16.5s\n",
      "5:\tlearn: 3002.6565480\ttotal: 503ms\tremaining: 16.3s\n",
      "6:\tlearn: 2921.9721530\ttotal: 597ms\tremaining: 16.4s\n",
      "7:\tlearn: 2850.8432381\ttotal: 690ms\tremaining: 16.6s\n",
      "8:\tlearn: 2784.2339615\ttotal: 771ms\tremaining: 16.4s\n",
      "9:\tlearn: 2718.4204146\ttotal: 862ms\tremaining: 16.4s\n",
      "10:\tlearn: 2654.7261125\ttotal: 949ms\tremaining: 16.3s\n",
      "11:\tlearn: 2595.1247282\ttotal: 1.03s\tremaining: 16.1s\n",
      "12:\tlearn: 2540.1819575\ttotal: 1.11s\tremaining: 15.9s\n",
      "13:\tlearn: 2488.5991571\ttotal: 1.18s\tremaining: 15.6s\n",
      "14:\tlearn: 2440.0531196\ttotal: 1.27s\tremaining: 15.6s\n",
      "15:\tlearn: 2393.1050776\ttotal: 1.35s\tremaining: 15.6s\n",
      "16:\tlearn: 2349.4742051\ttotal: 1.45s\tremaining: 15.6s\n",
      "17:\tlearn: 2310.6953569\ttotal: 1.53s\tremaining: 15.5s\n",
      "18:\tlearn: 2273.3392963\ttotal: 1.62s\tremaining: 15.4s\n",
      "19:\tlearn: 2237.6752930\ttotal: 1.71s\tremaining: 15.3s\n",
      "20:\tlearn: 2203.9631467\ttotal: 1.79s\tremaining: 15.2s\n",
      "21:\tlearn: 2169.2435963\ttotal: 1.87s\tremaining: 15.1s\n",
      "22:\tlearn: 2136.4970553\ttotal: 1.94s\tremaining: 14.9s\n",
      "23:\tlearn: 2108.3703349\ttotal: 2.02s\tremaining: 14.9s\n",
      "24:\tlearn: 2082.0124035\ttotal: 2.13s\tremaining: 14.9s\n",
      "25:\tlearn: 2055.7486259\ttotal: 2.2s\tremaining: 14.7s\n",
      "26:\tlearn: 2027.1832644\ttotal: 2.29s\tremaining: 14.7s\n",
      "27:\tlearn: 2004.2218000\ttotal: 2.38s\tremaining: 14.6s\n",
      "28:\tlearn: 1979.1576072\ttotal: 2.49s\tremaining: 14.7s\n",
      "29:\tlearn: 1957.1935168\ttotal: 2.58s\tremaining: 14.6s\n",
      "30:\tlearn: 1934.7072443\ttotal: 2.67s\tremaining: 14.6s\n",
      "31:\tlearn: 1915.3423201\ttotal: 2.76s\tremaining: 14.5s\n",
      "32:\tlearn: 1898.1880863\ttotal: 2.84s\tremaining: 14.4s\n",
      "33:\tlearn: 1879.9616780\ttotal: 2.93s\tremaining: 14.3s\n",
      "34:\tlearn: 1865.4437836\ttotal: 3.01s\tremaining: 14.2s\n",
      "35:\tlearn: 1850.3696706\ttotal: 3.09s\tremaining: 14.1s\n",
      "36:\tlearn: 1835.0346557\ttotal: 3.18s\tremaining: 14s\n",
      "37:\tlearn: 1819.8599177\ttotal: 3.27s\tremaining: 13.9s\n",
      "38:\tlearn: 1808.0655492\ttotal: 3.35s\tremaining: 13.8s\n",
      "39:\tlearn: 1794.0001580\ttotal: 3.44s\tremaining: 13.8s\n",
      "40:\tlearn: 1780.7708473\ttotal: 3.52s\tremaining: 13.7s\n",
      "41:\tlearn: 1769.4537309\ttotal: 3.6s\tremaining: 13.5s\n",
      "42:\tlearn: 1759.1151800\ttotal: 3.69s\tremaining: 13.5s\n",
      "43:\tlearn: 1746.6173943\ttotal: 3.77s\tremaining: 13.4s\n",
      "44:\tlearn: 1736.5519093\ttotal: 3.85s\tremaining: 13.3s\n",
      "45:\tlearn: 1727.2080598\ttotal: 3.92s\tremaining: 13.1s\n",
      "46:\tlearn: 1718.5241736\ttotal: 4s\tremaining: 13s\n",
      "47:\tlearn: 1709.5098259\ttotal: 4.08s\tremaining: 12.9s\n",
      "48:\tlearn: 1702.1725054\ttotal: 4.14s\tremaining: 12.8s\n",
      "49:\tlearn: 1693.9467436\ttotal: 4.23s\tremaining: 12.7s\n",
      "50:\tlearn: 1686.3234881\ttotal: 4.29s\tremaining: 12.6s\n",
      "51:\tlearn: 1679.6738457\ttotal: 4.38s\tremaining: 12.5s\n",
      "52:\tlearn: 1674.2068623\ttotal: 4.46s\tremaining: 12.4s\n",
      "53:\tlearn: 1667.9954173\ttotal: 4.54s\tremaining: 12.3s\n",
      "54:\tlearn: 1661.8140538\ttotal: 4.63s\tremaining: 12.2s\n",
      "55:\tlearn: 1656.3768120\ttotal: 4.71s\tremaining: 12.1s\n",
      "56:\tlearn: 1651.0203621\ttotal: 4.79s\tremaining: 12s\n",
      "57:\tlearn: 1646.2565940\ttotal: 4.87s\tremaining: 11.9s\n",
      "58:\tlearn: 1641.1834698\ttotal: 4.93s\tremaining: 11.8s\n",
      "59:\tlearn: 1636.7638845\ttotal: 5.01s\tremaining: 11.7s\n",
      "60:\tlearn: 1632.3382444\ttotal: 5.09s\tremaining: 11.6s\n",
      "61:\tlearn: 1628.3988748\ttotal: 5.16s\tremaining: 11.5s\n",
      "62:\tlearn: 1623.7385162\ttotal: 5.25s\tremaining: 11.4s\n",
      "63:\tlearn: 1619.1761768\ttotal: 5.33s\tremaining: 11.3s\n",
      "64:\tlearn: 1615.5262905\ttotal: 5.42s\tremaining: 11.2s\n",
      "65:\tlearn: 1611.1356164\ttotal: 5.5s\tremaining: 11.2s\n",
      "66:\tlearn: 1607.0934041\ttotal: 5.57s\tremaining: 11.1s\n",
      "67:\tlearn: 1604.2858163\ttotal: 5.65s\tremaining: 11s\n",
      "68:\tlearn: 1600.9872146\ttotal: 5.73s\tremaining: 10.9s\n",
      "69:\tlearn: 1596.7797554\ttotal: 5.8s\tremaining: 10.8s\n",
      "70:\tlearn: 1593.6342257\ttotal: 5.89s\tremaining: 10.7s\n",
      "71:\tlearn: 1590.6382064\ttotal: 5.96s\tremaining: 10.6s\n",
      "72:\tlearn: 1587.4394650\ttotal: 6.04s\tremaining: 10.5s\n",
      "73:\tlearn: 1584.2488050\ttotal: 6.13s\tremaining: 10.4s\n",
      "74:\tlearn: 1581.6871297\ttotal: 6.21s\tremaining: 10.3s\n",
      "75:\tlearn: 1579.5637799\ttotal: 6.27s\tremaining: 10.2s\n",
      "76:\tlearn: 1577.0457669\ttotal: 6.35s\tremaining: 10.1s\n",
      "77:\tlearn: 1574.4505755\ttotal: 6.43s\tremaining: 10.1s\n",
      "78:\tlearn: 1571.5959899\ttotal: 6.52s\tremaining: 9.98s\n",
      "79:\tlearn: 1569.6643580\ttotal: 6.6s\tremaining: 9.89s\n",
      "80:\tlearn: 1567.8696733\ttotal: 6.66s\tremaining: 9.78s\n",
      "81:\tlearn: 1565.8851055\ttotal: 6.72s\tremaining: 9.67s\n",
      "82:\tlearn: 1563.6246812\ttotal: 6.8s\tremaining: 9.58s\n",
      "83:\tlearn: 1561.9440792\ttotal: 6.88s\tremaining: 9.5s\n",
      "84:\tlearn: 1560.1358905\ttotal: 6.94s\tremaining: 9.39s\n",
      "85:\tlearn: 1558.4149642\ttotal: 7.02s\tremaining: 9.3s\n",
      "86:\tlearn: 1556.5960935\ttotal: 7.08s\tremaining: 9.2s\n",
      "87:\tlearn: 1554.8463702\ttotal: 7.16s\tremaining: 9.11s\n",
      "88:\tlearn: 1553.3590758\ttotal: 7.23s\tremaining: 9.02s\n",
      "89:\tlearn: 1551.3415439\ttotal: 7.31s\tremaining: 8.93s\n",
      "90:\tlearn: 1549.5629803\ttotal: 7.4s\tremaining: 8.87s\n",
      "91:\tlearn: 1547.2593162\ttotal: 7.46s\tremaining: 8.76s\n",
      "92:\tlearn: 1545.7952459\ttotal: 7.54s\tremaining: 8.68s\n",
      "93:\tlearn: 1543.8527699\ttotal: 7.63s\tremaining: 8.6s\n",
      "94:\tlearn: 1542.7015274\ttotal: 7.71s\tremaining: 8.52s\n",
      "95:\tlearn: 1541.4618482\ttotal: 7.79s\tremaining: 8.44s\n",
      "96:\tlearn: 1539.9835278\ttotal: 7.88s\tremaining: 8.37s\n",
      "97:\tlearn: 1538.6874763\ttotal: 7.96s\tremaining: 8.28s\n",
      "98:\tlearn: 1537.6074851\ttotal: 8.04s\tremaining: 8.2s\n",
      "99:\tlearn: 1536.0273262\ttotal: 8.13s\tremaining: 8.13s\n",
      "100:\tlearn: 1534.8409266\ttotal: 8.21s\tremaining: 8.04s\n",
      "101:\tlearn: 1533.5627593\ttotal: 8.28s\tremaining: 7.96s\n",
      "102:\tlearn: 1532.4220715\ttotal: 8.36s\tremaining: 7.88s\n",
      "103:\tlearn: 1531.1578703\ttotal: 8.44s\tremaining: 7.79s\n",
      "104:\tlearn: 1529.7140495\ttotal: 8.52s\tremaining: 7.71s\n",
      "105:\tlearn: 1528.9373156\ttotal: 8.6s\tremaining: 7.62s\n",
      "106:\tlearn: 1528.1500901\ttotal: 8.67s\tremaining: 7.54s\n",
      "107:\tlearn: 1526.6736001\ttotal: 8.76s\tremaining: 7.46s\n",
      "108:\tlearn: 1525.5743336\ttotal: 8.84s\tremaining: 7.38s\n",
      "109:\tlearn: 1523.6741617\ttotal: 8.94s\tremaining: 7.31s\n",
      "110:\tlearn: 1522.3310144\ttotal: 9.03s\tremaining: 7.24s\n",
      "111:\tlearn: 1521.2385459\ttotal: 9.11s\tremaining: 7.16s\n",
      "112:\tlearn: 1519.9759492\ttotal: 9.19s\tremaining: 7.08s\n",
      "113:\tlearn: 1519.1416267\ttotal: 9.28s\tremaining: 7s\n",
      "114:\tlearn: 1518.0188051\ttotal: 9.35s\tremaining: 6.91s\n",
      "115:\tlearn: 1517.1536038\ttotal: 9.43s\tremaining: 6.83s\n",
      "116:\tlearn: 1516.1154696\ttotal: 9.49s\tremaining: 6.73s\n",
      "117:\tlearn: 1514.9476201\ttotal: 9.58s\tremaining: 6.66s\n",
      "118:\tlearn: 1514.1310991\ttotal: 9.64s\tremaining: 6.56s\n",
      "119:\tlearn: 1512.4271429\ttotal: 9.71s\tremaining: 6.47s\n",
      "120:\tlearn: 1510.9192553\ttotal: 9.78s\tremaining: 6.39s\n",
      "121:\tlearn: 1509.6072066\ttotal: 9.86s\tremaining: 6.3s\n",
      "122:\tlearn: 1508.6264887\ttotal: 9.93s\tremaining: 6.22s\n",
      "123:\tlearn: 1507.9987336\ttotal: 10s\tremaining: 6.14s\n",
      "124:\tlearn: 1507.3337508\ttotal: 10.1s\tremaining: 6.05s\n",
      "125:\tlearn: 1506.7290230\ttotal: 10.2s\tremaining: 5.97s\n",
      "126:\tlearn: 1505.3326780\ttotal: 10.2s\tremaining: 5.88s\n",
      "127:\tlearn: 1504.3249678\ttotal: 10.3s\tremaining: 5.79s\n",
      "128:\tlearn: 1503.4732557\ttotal: 10.4s\tremaining: 5.72s\n",
      "129:\tlearn: 1502.2724190\ttotal: 10.5s\tremaining: 5.63s\n",
      "130:\tlearn: 1501.5855294\ttotal: 10.5s\tremaining: 5.55s\n",
      "131:\tlearn: 1500.9349687\ttotal: 10.6s\tremaining: 5.46s\n",
      "132:\tlearn: 1500.2144875\ttotal: 10.7s\tremaining: 5.38s\n",
      "133:\tlearn: 1499.2201873\ttotal: 10.8s\tremaining: 5.3s\n",
      "134:\tlearn: 1498.6455750\ttotal: 10.8s\tremaining: 5.22s\n",
      "135:\tlearn: 1497.7524797\ttotal: 10.9s\tremaining: 5.14s\n",
      "136:\tlearn: 1496.8834056\ttotal: 11s\tremaining: 5.05s\n",
      "137:\tlearn: 1495.3197985\ttotal: 11.1s\tremaining: 4.97s\n",
      "138:\tlearn: 1494.5617621\ttotal: 11.1s\tremaining: 4.89s\n",
      "139:\tlearn: 1493.8351804\ttotal: 11.2s\tremaining: 4.8s\n",
      "140:\tlearn: 1493.0314830\ttotal: 11.3s\tremaining: 4.72s\n",
      "141:\tlearn: 1492.3612928\ttotal: 11.4s\tremaining: 4.65s\n",
      "142:\tlearn: 1491.6554953\ttotal: 11.5s\tremaining: 4.57s\n",
      "143:\tlearn: 1490.8135331\ttotal: 11.5s\tremaining: 4.49s\n",
      "144:\tlearn: 1489.6798330\ttotal: 11.6s\tremaining: 4.41s\n",
      "145:\tlearn: 1488.9256007\ttotal: 11.7s\tremaining: 4.33s\n",
      "146:\tlearn: 1488.1898354\ttotal: 11.8s\tremaining: 4.25s\n",
      "147:\tlearn: 1487.4055522\ttotal: 11.9s\tremaining: 4.17s\n",
      "148:\tlearn: 1486.9920926\ttotal: 11.9s\tremaining: 4.08s\n",
      "149:\tlearn: 1486.5146147\ttotal: 12s\tremaining: 4.01s\n",
      "150:\tlearn: 1485.6433060\ttotal: 12.1s\tremaining: 3.93s\n",
      "151:\tlearn: 1485.0257901\ttotal: 12.2s\tremaining: 3.85s\n",
      "152:\tlearn: 1484.4967640\ttotal: 12.3s\tremaining: 3.77s\n",
      "153:\tlearn: 1483.5944118\ttotal: 12.4s\tremaining: 3.69s\n",
      "154:\tlearn: 1482.7759059\ttotal: 12.4s\tremaining: 3.61s\n",
      "155:\tlearn: 1481.9962255\ttotal: 12.5s\tremaining: 3.52s\n",
      "156:\tlearn: 1481.5448478\ttotal: 12.6s\tremaining: 3.45s\n",
      "157:\tlearn: 1480.3354418\ttotal: 12.7s\tremaining: 3.37s\n",
      "158:\tlearn: 1479.9029362\ttotal: 12.7s\tremaining: 3.29s\n",
      "159:\tlearn: 1478.6866652\ttotal: 12.8s\tremaining: 3.21s\n",
      "160:\tlearn: 1478.0462910\ttotal: 12.9s\tremaining: 3.12s\n",
      "161:\tlearn: 1477.6918459\ttotal: 13s\tremaining: 3.05s\n",
      "162:\tlearn: 1476.7936541\ttotal: 13.1s\tremaining: 2.97s\n",
      "163:\tlearn: 1476.2336192\ttotal: 13.2s\tremaining: 2.89s\n",
      "164:\tlearn: 1475.9510665\ttotal: 13.2s\tremaining: 2.81s\n",
      "165:\tlearn: 1475.4284941\ttotal: 13.3s\tremaining: 2.73s\n",
      "166:\tlearn: 1475.2149561\ttotal: 13.4s\tremaining: 2.65s\n",
      "167:\tlearn: 1473.6032843\ttotal: 13.5s\tremaining: 2.56s\n",
      "168:\tlearn: 1472.9403198\ttotal: 13.5s\tremaining: 2.48s\n",
      "169:\tlearn: 1472.2233020\ttotal: 13.6s\tremaining: 2.4s\n",
      "170:\tlearn: 1471.6554064\ttotal: 13.7s\tremaining: 2.32s\n",
      "171:\tlearn: 1471.1310694\ttotal: 13.8s\tremaining: 2.24s\n",
      "172:\tlearn: 1470.5372296\ttotal: 13.9s\tremaining: 2.16s\n",
      "173:\tlearn: 1469.6347004\ttotal: 13.9s\tremaining: 2.08s\n",
      "174:\tlearn: 1469.0915191\ttotal: 14s\tremaining: 2s\n",
      "175:\tlearn: 1468.2737667\ttotal: 14.1s\tremaining: 1.92s\n",
      "176:\tlearn: 1467.7179587\ttotal: 14.2s\tremaining: 1.84s\n",
      "177:\tlearn: 1467.1251164\ttotal: 14.2s\tremaining: 1.76s\n",
      "178:\tlearn: 1466.7454857\ttotal: 14.3s\tremaining: 1.68s\n",
      "179:\tlearn: 1465.8929932\ttotal: 14.4s\tremaining: 1.6s\n",
      "180:\tlearn: 1465.6923378\ttotal: 14.4s\tremaining: 1.52s\n",
      "181:\tlearn: 1465.0197801\ttotal: 14.5s\tremaining: 1.44s\n",
      "182:\tlearn: 1464.6958957\ttotal: 14.6s\tremaining: 1.35s\n",
      "183:\tlearn: 1464.0869327\ttotal: 14.7s\tremaining: 1.27s\n",
      "184:\tlearn: 1463.7081658\ttotal: 14.7s\tremaining: 1.2s\n",
      "185:\tlearn: 1463.1375549\ttotal: 14.8s\tremaining: 1.11s\n",
      "186:\tlearn: 1462.7266294\ttotal: 14.9s\tremaining: 1.03s\n",
      "187:\tlearn: 1462.0679278\ttotal: 15s\tremaining: 955ms\n",
      "188:\tlearn: 1461.4661107\ttotal: 15s\tremaining: 875ms\n",
      "189:\tlearn: 1460.9619123\ttotal: 15.1s\tremaining: 796ms\n",
      "190:\tlearn: 1460.1139919\ttotal: 15.2s\tremaining: 715ms\n",
      "191:\tlearn: 1459.5322974\ttotal: 15.3s\tremaining: 636ms\n",
      "192:\tlearn: 1458.9461133\ttotal: 15.3s\tremaining: 556ms\n",
      "193:\tlearn: 1458.6039705\ttotal: 15.4s\tremaining: 476ms\n",
      "194:\tlearn: 1458.1689676\ttotal: 15.4s\tremaining: 396ms\n",
      "195:\tlearn: 1457.5112624\ttotal: 15.5s\tremaining: 317ms\n",
      "196:\tlearn: 1457.2221531\ttotal: 15.6s\tremaining: 237ms\n",
      "197:\tlearn: 1456.8485120\ttotal: 15.7s\tremaining: 158ms\n",
      "198:\tlearn: 1456.1947956\ttotal: 15.7s\tremaining: 79.1ms\n",
      "199:\tlearn: 1455.5068067\ttotal: 15.8s\tremaining: 0us\n",
      "0:\tlearn: 3494.9540642\ttotal: 99.9ms\tremaining: 19.9s\n",
      "1:\tlearn: 3388.5999718\ttotal: 193ms\tremaining: 19.1s\n",
      "2:\tlearn: 3287.1606412\ttotal: 272ms\tremaining: 17.8s\n",
      "3:\tlearn: 3192.4381105\ttotal: 368ms\tremaining: 18s\n",
      "4:\tlearn: 3102.0773944\ttotal: 450ms\tremaining: 17.5s\n",
      "5:\tlearn: 3019.3566762\ttotal: 531ms\tremaining: 17.2s\n",
      "6:\tlearn: 2939.8716067\ttotal: 626ms\tremaining: 17.3s\n",
      "7:\tlearn: 2866.4531336\ttotal: 718ms\tremaining: 17.2s\n",
      "8:\tlearn: 2797.6280770\ttotal: 798ms\tremaining: 16.9s\n",
      "9:\tlearn: 2733.0890950\ttotal: 895ms\tremaining: 17s\n",
      "10:\tlearn: 2671.7844380\ttotal: 991ms\tremaining: 17s\n",
      "11:\tlearn: 2611.5901455\ttotal: 1.06s\tremaining: 16.7s\n",
      "12:\tlearn: 2557.0782888\ttotal: 1.14s\tremaining: 16.4s\n",
      "13:\tlearn: 2503.7147707\ttotal: 1.22s\tremaining: 16.3s\n",
      "14:\tlearn: 2455.4878184\ttotal: 1.3s\tremaining: 16s\n",
      "15:\tlearn: 2407.9314506\ttotal: 1.38s\tremaining: 15.8s\n",
      "16:\tlearn: 2365.2150994\ttotal: 1.47s\tremaining: 15.8s\n",
      "17:\tlearn: 2325.5914876\ttotal: 1.55s\tremaining: 15.7s\n",
      "18:\tlearn: 2287.6358632\ttotal: 1.62s\tremaining: 15.5s\n",
      "19:\tlearn: 2252.9231553\ttotal: 1.71s\tremaining: 15.4s\n",
      "20:\tlearn: 2217.8920694\ttotal: 1.79s\tremaining: 15.2s\n",
      "21:\tlearn: 2184.5562775\ttotal: 1.88s\tremaining: 15.2s\n",
      "22:\tlearn: 2154.2635924\ttotal: 1.97s\tremaining: 15.2s\n",
      "23:\tlearn: 2125.0683688\ttotal: 2.06s\tremaining: 15.1s\n",
      "24:\tlearn: 2095.4029777\ttotal: 2.15s\tremaining: 15s\n",
      "25:\tlearn: 2069.4007416\ttotal: 2.23s\tremaining: 14.9s\n",
      "26:\tlearn: 2044.8657121\ttotal: 2.32s\tremaining: 14.8s\n",
      "27:\tlearn: 2021.9685408\ttotal: 2.4s\tremaining: 14.7s\n",
      "28:\tlearn: 1998.5245972\ttotal: 2.48s\tremaining: 14.6s\n",
      "29:\tlearn: 1974.3376398\ttotal: 2.55s\tremaining: 14.5s\n",
      "30:\tlearn: 1955.3586755\ttotal: 2.63s\tremaining: 14.3s\n",
      "31:\tlearn: 1935.2316319\ttotal: 2.71s\tremaining: 14.2s\n",
      "32:\tlearn: 1915.8486310\ttotal: 2.78s\tremaining: 14.1s\n",
      "33:\tlearn: 1900.0079984\ttotal: 2.87s\tremaining: 14s\n",
      "34:\tlearn: 1881.6706902\ttotal: 2.96s\tremaining: 14s\n",
      "35:\tlearn: 1866.3893828\ttotal: 3.03s\tremaining: 13.8s\n",
      "36:\tlearn: 1851.0946075\ttotal: 3.12s\tremaining: 13.8s\n",
      "37:\tlearn: 1836.5120656\ttotal: 3.2s\tremaining: 13.7s\n",
      "38:\tlearn: 1821.6616619\ttotal: 3.29s\tremaining: 13.6s\n",
      "39:\tlearn: 1809.1888280\ttotal: 3.38s\tremaining: 13.5s\n",
      "40:\tlearn: 1797.0374436\ttotal: 3.46s\tremaining: 13.4s\n",
      "41:\tlearn: 1786.6115532\ttotal: 3.54s\tremaining: 13.3s\n",
      "42:\tlearn: 1775.2218146\ttotal: 3.63s\tremaining: 13.2s\n",
      "43:\tlearn: 1763.9390122\ttotal: 3.7s\tremaining: 13.1s\n",
      "44:\tlearn: 1752.9206674\ttotal: 3.76s\tremaining: 12.9s\n",
      "45:\tlearn: 1743.6574962\ttotal: 3.83s\tremaining: 12.8s\n",
      "46:\tlearn: 1733.6073419\ttotal: 3.91s\tremaining: 12.7s\n",
      "47:\tlearn: 1723.1133088\ttotal: 3.98s\tremaining: 12.6s\n",
      "48:\tlearn: 1714.1822235\ttotal: 4.05s\tremaining: 12.5s\n",
      "49:\tlearn: 1705.1594934\ttotal: 4.12s\tremaining: 12.4s\n",
      "50:\tlearn: 1696.8243507\ttotal: 4.2s\tremaining: 12.3s\n",
      "51:\tlearn: 1689.0914663\ttotal: 4.26s\tremaining: 12.1s\n",
      "52:\tlearn: 1682.1384647\ttotal: 4.33s\tremaining: 12s\n",
      "53:\tlearn: 1675.3448530\ttotal: 4.42s\tremaining: 12s\n",
      "54:\tlearn: 1668.3649597\ttotal: 4.5s\tremaining: 11.9s\n",
      "55:\tlearn: 1662.6125119\ttotal: 4.57s\tremaining: 11.8s\n",
      "56:\tlearn: 1656.7795853\ttotal: 4.64s\tremaining: 11.6s\n",
      "57:\tlearn: 1651.4440779\ttotal: 4.7s\tremaining: 11.5s\n",
      "58:\tlearn: 1645.8881446\ttotal: 4.79s\tremaining: 11.4s\n",
      "59:\tlearn: 1640.9815589\ttotal: 4.86s\tremaining: 11.3s\n",
      "60:\tlearn: 1636.8562987\ttotal: 4.93s\tremaining: 11.2s\n",
      "61:\tlearn: 1631.8360658\ttotal: 5s\tremaining: 11.1s\n",
      "62:\tlearn: 1627.5773904\ttotal: 5.07s\tremaining: 11s\n",
      "63:\tlearn: 1622.4439519\ttotal: 5.14s\tremaining: 10.9s\n",
      "64:\tlearn: 1619.0710945\ttotal: 5.22s\tremaining: 10.8s\n",
      "65:\tlearn: 1615.4490940\ttotal: 5.28s\tremaining: 10.7s\n",
      "66:\tlearn: 1612.4183343\ttotal: 5.33s\tremaining: 10.6s\n",
      "67:\tlearn: 1607.7848719\ttotal: 5.42s\tremaining: 10.5s\n",
      "68:\tlearn: 1603.8934732\ttotal: 5.48s\tremaining: 10.4s\n",
      "69:\tlearn: 1600.6523281\ttotal: 5.55s\tremaining: 10.3s\n",
      "70:\tlearn: 1597.7661809\ttotal: 5.61s\tremaining: 10.2s\n",
      "71:\tlearn: 1594.8742168\ttotal: 5.67s\tremaining: 10.1s\n",
      "72:\tlearn: 1591.8256986\ttotal: 5.75s\tremaining: 9.99s\n",
      "73:\tlearn: 1588.6211609\ttotal: 5.83s\tremaining: 9.93s\n",
      "74:\tlearn: 1586.0905580\ttotal: 5.9s\tremaining: 9.84s\n",
      "75:\tlearn: 1582.7721726\ttotal: 5.99s\tremaining: 9.77s\n",
      "76:\tlearn: 1580.0541991\ttotal: 6.06s\tremaining: 9.69s\n",
      "77:\tlearn: 1578.0473748\ttotal: 6.15s\tremaining: 9.62s\n",
      "78:\tlearn: 1575.6010380\ttotal: 6.22s\tremaining: 9.52s\n",
      "79:\tlearn: 1572.8172730\ttotal: 6.3s\tremaining: 9.46s\n",
      "80:\tlearn: 1570.1874275\ttotal: 6.39s\tremaining: 9.38s\n",
      "81:\tlearn: 1567.7962177\ttotal: 6.47s\tremaining: 9.32s\n",
      "82:\tlearn: 1565.4561222\ttotal: 6.55s\tremaining: 9.24s\n",
      "83:\tlearn: 1563.2390575\ttotal: 6.64s\tremaining: 9.16s\n",
      "84:\tlearn: 1561.3851212\ttotal: 6.71s\tremaining: 9.09s\n",
      "85:\tlearn: 1559.0394736\ttotal: 6.8s\tremaining: 9.01s\n",
      "86:\tlearn: 1557.5461014\ttotal: 6.88s\tremaining: 8.94s\n",
      "87:\tlearn: 1556.3762490\ttotal: 6.96s\tremaining: 8.85s\n",
      "88:\tlearn: 1554.5140245\ttotal: 7.03s\tremaining: 8.77s\n",
      "89:\tlearn: 1551.9309715\ttotal: 7.08s\tremaining: 8.66s\n",
      "90:\tlearn: 1550.2020920\ttotal: 7.16s\tremaining: 8.58s\n",
      "91:\tlearn: 1548.4366032\ttotal: 7.24s\tremaining: 8.49s\n",
      "92:\tlearn: 1546.5632797\ttotal: 7.31s\tremaining: 8.41s\n",
      "93:\tlearn: 1544.8322470\ttotal: 7.38s\tremaining: 8.33s\n",
      "94:\tlearn: 1542.8764138\ttotal: 7.46s\tremaining: 8.25s\n",
      "95:\tlearn: 1541.1284862\ttotal: 7.52s\tremaining: 8.15s\n",
      "96:\tlearn: 1539.7171033\ttotal: 7.58s\tremaining: 8.05s\n",
      "97:\tlearn: 1537.8015019\ttotal: 7.64s\tremaining: 7.96s\n",
      "98:\tlearn: 1536.4651307\ttotal: 7.73s\tremaining: 7.89s\n",
      "99:\tlearn: 1534.6654896\ttotal: 7.82s\tremaining: 7.82s\n",
      "100:\tlearn: 1533.5121445\ttotal: 7.89s\tremaining: 7.73s\n",
      "101:\tlearn: 1531.9253340\ttotal: 7.98s\tremaining: 7.66s\n",
      "102:\tlearn: 1530.8388453\ttotal: 8.06s\tremaining: 7.59s\n",
      "103:\tlearn: 1529.0122341\ttotal: 8.13s\tremaining: 7.51s\n",
      "104:\tlearn: 1527.6763514\ttotal: 8.21s\tremaining: 7.43s\n",
      "105:\tlearn: 1526.2618180\ttotal: 8.29s\tremaining: 7.35s\n",
      "106:\tlearn: 1524.8648823\ttotal: 8.37s\tremaining: 7.28s\n",
      "107:\tlearn: 1524.1009705\ttotal: 8.45s\tremaining: 7.19s\n",
      "108:\tlearn: 1522.5527939\ttotal: 8.51s\tremaining: 7.11s\n",
      "109:\tlearn: 1521.4574510\ttotal: 8.6s\tremaining: 7.03s\n",
      "110:\tlearn: 1520.3944672\ttotal: 8.68s\tremaining: 6.96s\n",
      "111:\tlearn: 1519.6326978\ttotal: 8.76s\tremaining: 6.88s\n",
      "112:\tlearn: 1518.6113252\ttotal: 8.84s\tremaining: 6.8s\n",
      "113:\tlearn: 1517.8340031\ttotal: 8.92s\tremaining: 6.73s\n",
      "114:\tlearn: 1516.6353448\ttotal: 8.98s\tremaining: 6.64s\n",
      "115:\tlearn: 1515.8750215\ttotal: 9.06s\tremaining: 6.56s\n",
      "116:\tlearn: 1514.9029681\ttotal: 9.14s\tremaining: 6.48s\n",
      "117:\tlearn: 1514.0527199\ttotal: 9.21s\tremaining: 6.4s\n",
      "118:\tlearn: 1512.5694426\ttotal: 9.28s\tremaining: 6.32s\n",
      "119:\tlearn: 1511.6029425\ttotal: 9.35s\tremaining: 6.24s\n",
      "120:\tlearn: 1510.2722866\ttotal: 9.41s\tremaining: 6.14s\n",
      "121:\tlearn: 1509.1990696\ttotal: 9.49s\tremaining: 6.07s\n",
      "122:\tlearn: 1507.2931196\ttotal: 9.56s\tremaining: 5.98s\n",
      "123:\tlearn: 1506.3186162\ttotal: 9.64s\tremaining: 5.91s\n",
      "124:\tlearn: 1505.3192889\ttotal: 9.72s\tremaining: 5.83s\n",
      "125:\tlearn: 1504.6018219\ttotal: 9.79s\tremaining: 5.75s\n",
      "126:\tlearn: 1503.7161758\ttotal: 9.87s\tremaining: 5.67s\n",
      "127:\tlearn: 1502.1500360\ttotal: 9.94s\tremaining: 5.59s\n",
      "128:\tlearn: 1501.6065243\ttotal: 10s\tremaining: 5.51s\n",
      "129:\tlearn: 1500.4213241\ttotal: 10.1s\tremaining: 5.43s\n",
      "130:\tlearn: 1499.5361943\ttotal: 10.2s\tremaining: 5.36s\n",
      "131:\tlearn: 1498.6699473\ttotal: 10.3s\tremaining: 5.28s\n",
      "132:\tlearn: 1497.6812448\ttotal: 10.3s\tremaining: 5.2s\n",
      "133:\tlearn: 1496.7170749\ttotal: 10.4s\tremaining: 5.13s\n",
      "134:\tlearn: 1496.0388606\ttotal: 10.5s\tremaining: 5.05s\n",
      "135:\tlearn: 1494.6201007\ttotal: 10.6s\tremaining: 4.97s\n",
      "136:\tlearn: 1493.9453780\ttotal: 10.6s\tremaining: 4.89s\n",
      "137:\tlearn: 1492.8483564\ttotal: 10.7s\tremaining: 4.81s\n",
      "138:\tlearn: 1491.8263887\ttotal: 10.8s\tremaining: 4.73s\n",
      "139:\tlearn: 1490.7196476\ttotal: 10.9s\tremaining: 4.66s\n",
      "140:\tlearn: 1489.9917674\ttotal: 11s\tremaining: 4.58s\n",
      "141:\tlearn: 1488.8948291\ttotal: 11s\tremaining: 4.5s\n",
      "142:\tlearn: 1488.4519987\ttotal: 11.1s\tremaining: 4.42s\n",
      "143:\tlearn: 1487.8040412\ttotal: 11.2s\tremaining: 4.34s\n",
      "144:\tlearn: 1487.0171696\ttotal: 11.3s\tremaining: 4.27s\n",
      "145:\tlearn: 1486.2726016\ttotal: 11.3s\tremaining: 4.19s\n",
      "146:\tlearn: 1485.5542925\ttotal: 11.4s\tremaining: 4.11s\n",
      "147:\tlearn: 1484.6197593\ttotal: 11.5s\tremaining: 4.03s\n",
      "148:\tlearn: 1483.7667490\ttotal: 11.5s\tremaining: 3.95s\n",
      "149:\tlearn: 1483.3721546\ttotal: 11.6s\tremaining: 3.87s\n",
      "150:\tlearn: 1482.8113546\ttotal: 11.7s\tremaining: 3.79s\n",
      "151:\tlearn: 1481.7604595\ttotal: 11.8s\tremaining: 3.71s\n",
      "152:\tlearn: 1480.7882437\ttotal: 11.8s\tremaining: 3.64s\n",
      "153:\tlearn: 1479.4194641\ttotal: 11.9s\tremaining: 3.56s\n",
      "154:\tlearn: 1478.6626570\ttotal: 12s\tremaining: 3.48s\n",
      "155:\tlearn: 1477.5649386\ttotal: 12.1s\tremaining: 3.41s\n",
      "156:\tlearn: 1476.7187192\ttotal: 12.1s\tremaining: 3.33s\n",
      "157:\tlearn: 1476.1649562\ttotal: 12.2s\tremaining: 3.25s\n",
      "158:\tlearn: 1475.3160943\ttotal: 12.3s\tremaining: 3.17s\n",
      "159:\tlearn: 1474.6883230\ttotal: 12.4s\tremaining: 3.1s\n",
      "160:\tlearn: 1474.0997229\ttotal: 12.5s\tremaining: 3.02s\n",
      "161:\tlearn: 1473.3403643\ttotal: 12.5s\tremaining: 2.94s\n",
      "162:\tlearn: 1472.7702797\ttotal: 12.6s\tremaining: 2.86s\n",
      "163:\tlearn: 1472.0134002\ttotal: 12.7s\tremaining: 2.79s\n",
      "164:\tlearn: 1471.5922985\ttotal: 12.8s\tremaining: 2.71s\n",
      "165:\tlearn: 1470.9724249\ttotal: 12.8s\tremaining: 2.63s\n",
      "166:\tlearn: 1470.4351961\ttotal: 12.9s\tremaining: 2.56s\n",
      "167:\tlearn: 1469.4767958\ttotal: 13s\tremaining: 2.48s\n",
      "168:\tlearn: 1468.8589704\ttotal: 13.1s\tremaining: 2.4s\n",
      "169:\tlearn: 1468.2139448\ttotal: 13.2s\tremaining: 2.32s\n",
      "170:\tlearn: 1467.5068151\ttotal: 13.3s\tremaining: 2.25s\n",
      "171:\tlearn: 1466.9750980\ttotal: 13.4s\tremaining: 2.18s\n",
      "172:\tlearn: 1466.1556725\ttotal: 13.5s\tremaining: 2.11s\n",
      "173:\tlearn: 1465.9031154\ttotal: 13.6s\tremaining: 2.04s\n",
      "174:\tlearn: 1465.2005575\ttotal: 13.7s\tremaining: 1.96s\n",
      "175:\tlearn: 1464.8652034\ttotal: 13.8s\tremaining: 1.88s\n",
      "176:\tlearn: 1464.0499460\ttotal: 13.9s\tremaining: 1.8s\n",
      "177:\tlearn: 1463.3918386\ttotal: 14s\tremaining: 1.73s\n",
      "178:\tlearn: 1462.7317262\ttotal: 14s\tremaining: 1.65s\n",
      "179:\tlearn: 1461.9623663\ttotal: 14.1s\tremaining: 1.57s\n",
      "180:\tlearn: 1461.2630350\ttotal: 14.2s\tremaining: 1.49s\n",
      "181:\tlearn: 1460.4029417\ttotal: 14.3s\tremaining: 1.42s\n",
      "182:\tlearn: 1459.8759764\ttotal: 14.4s\tremaining: 1.34s\n",
      "183:\tlearn: 1459.3517657\ttotal: 14.5s\tremaining: 1.26s\n",
      "184:\tlearn: 1459.0366662\ttotal: 14.6s\tremaining: 1.18s\n",
      "185:\tlearn: 1458.6571250\ttotal: 14.6s\tremaining: 1.1s\n",
      "186:\tlearn: 1457.7512733\ttotal: 14.7s\tremaining: 1.02s\n",
      "187:\tlearn: 1457.2088550\ttotal: 14.8s\tremaining: 945ms\n",
      "188:\tlearn: 1456.9348548\ttotal: 14.9s\tremaining: 867ms\n",
      "189:\tlearn: 1456.5724148\ttotal: 15s\tremaining: 788ms\n",
      "190:\tlearn: 1456.2550963\ttotal: 15.1s\tremaining: 710ms\n",
      "191:\tlearn: 1455.7833934\ttotal: 15.1s\tremaining: 631ms\n",
      "192:\tlearn: 1455.4936862\ttotal: 15.2s\tremaining: 552ms\n",
      "193:\tlearn: 1454.8438065\ttotal: 15.3s\tremaining: 473ms\n",
      "194:\tlearn: 1454.3935255\ttotal: 15.4s\tremaining: 394ms\n",
      "195:\tlearn: 1453.9213976\ttotal: 15.5s\tremaining: 316ms\n",
      "196:\tlearn: 1453.3473097\ttotal: 15.5s\tremaining: 237ms\n",
      "197:\tlearn: 1452.9845855\ttotal: 15.6s\tremaining: 158ms\n",
      "198:\tlearn: 1452.2047589\ttotal: 15.7s\tremaining: 78.8ms\n",
      "199:\tlearn: 1451.7603973\ttotal: 15.7s\tremaining: 0us\n",
      "0:\tlearn: 3360.0950941\ttotal: 98.9ms\tremaining: 29.6s\n",
      "1:\tlearn: 3164.9462253\ttotal: 196ms\tremaining: 29.3s\n",
      "2:\tlearn: 2998.7046796\ttotal: 289ms\tremaining: 28.6s\n",
      "3:\tlearn: 2850.0276638\ttotal: 393ms\tremaining: 29.1s\n",
      "4:\tlearn: 2710.7767726\ttotal: 470ms\tremaining: 27.7s\n",
      "5:\tlearn: 2585.2537741\ttotal: 549ms\tremaining: 26.9s\n",
      "6:\tlearn: 2479.6652284\ttotal: 633ms\tremaining: 26.5s\n",
      "7:\tlearn: 2381.1080069\ttotal: 726ms\tremaining: 26.5s\n",
      "8:\tlearn: 2294.2859062\ttotal: 795ms\tremaining: 25.7s\n",
      "9:\tlearn: 2222.5027353\ttotal: 878ms\tremaining: 25.5s\n",
      "10:\tlearn: 2150.5478315\ttotal: 968ms\tremaining: 25.4s\n",
      "11:\tlearn: 2093.1093950\ttotal: 1.06s\tremaining: 25.4s\n",
      "12:\tlearn: 2037.8342561\ttotal: 1.15s\tremaining: 25.4s\n",
      "13:\tlearn: 1988.9575291\ttotal: 1.23s\tremaining: 25.2s\n",
      "14:\tlearn: 1945.7146585\ttotal: 1.33s\tremaining: 25.3s\n",
      "15:\tlearn: 1901.4558473\ttotal: 1.43s\tremaining: 25.3s\n",
      "16:\tlearn: 1868.3507227\ttotal: 1.5s\tremaining: 25s\n",
      "17:\tlearn: 1835.6186390\ttotal: 1.6s\tremaining: 25s\n",
      "18:\tlearn: 1806.6506445\ttotal: 1.69s\tremaining: 24.9s\n",
      "19:\tlearn: 1778.4882968\ttotal: 1.75s\tremaining: 24.6s\n",
      "20:\tlearn: 1756.6868709\ttotal: 1.83s\tremaining: 24.3s\n",
      "21:\tlearn: 1736.9607146\ttotal: 1.89s\tremaining: 23.8s\n",
      "22:\tlearn: 1717.7056887\ttotal: 1.97s\tremaining: 23.7s\n",
      "23:\tlearn: 1700.4514835\ttotal: 2.04s\tremaining: 23.5s\n",
      "24:\tlearn: 1686.3988318\ttotal: 2.11s\tremaining: 23.2s\n",
      "25:\tlearn: 1673.2074621\ttotal: 2.19s\tremaining: 23.1s\n",
      "26:\tlearn: 1661.5608776\ttotal: 2.27s\tremaining: 22.9s\n",
      "27:\tlearn: 1650.7932728\ttotal: 2.36s\tremaining: 22.9s\n",
      "28:\tlearn: 1639.9813591\ttotal: 2.44s\tremaining: 22.8s\n",
      "29:\tlearn: 1630.1011466\ttotal: 2.52s\tremaining: 22.7s\n",
      "30:\tlearn: 1622.7498964\ttotal: 2.59s\tremaining: 22.4s\n",
      "31:\tlearn: 1614.3071031\ttotal: 2.67s\tremaining: 22.3s\n",
      "32:\tlearn: 1607.4562438\ttotal: 2.74s\tremaining: 22.2s\n",
      "33:\tlearn: 1599.5358291\ttotal: 2.83s\tremaining: 22.1s\n",
      "34:\tlearn: 1593.8725329\ttotal: 2.9s\tremaining: 22s\n",
      "35:\tlearn: 1588.6194750\ttotal: 2.97s\tremaining: 21.8s\n",
      "36:\tlearn: 1582.8617323\ttotal: 3.05s\tremaining: 21.7s\n",
      "37:\tlearn: 1576.3323425\ttotal: 3.13s\tremaining: 21.6s\n",
      "38:\tlearn: 1571.8701985\ttotal: 3.18s\tremaining: 21.3s\n",
      "39:\tlearn: 1567.9257053\ttotal: 3.26s\tremaining: 21.2s\n",
      "40:\tlearn: 1564.2262678\ttotal: 3.34s\tremaining: 21.1s\n",
      "41:\tlearn: 1558.5557291\ttotal: 3.42s\tremaining: 21s\n",
      "42:\tlearn: 1554.8371560\ttotal: 3.51s\tremaining: 21s\n",
      "43:\tlearn: 1551.7723101\ttotal: 3.58s\tremaining: 20.9s\n",
      "44:\tlearn: 1549.6206532\ttotal: 3.65s\tremaining: 20.7s\n",
      "45:\tlearn: 1545.3602370\ttotal: 3.73s\tremaining: 20.6s\n",
      "46:\tlearn: 1541.8705805\ttotal: 3.8s\tremaining: 20.5s\n",
      "47:\tlearn: 1537.4662430\ttotal: 3.86s\tremaining: 20.3s\n",
      "48:\tlearn: 1534.8452656\ttotal: 3.94s\tremaining: 20.2s\n",
      "49:\tlearn: 1532.2333576\ttotal: 4s\tremaining: 20s\n",
      "50:\tlearn: 1529.9063128\ttotal: 4.09s\tremaining: 20s\n",
      "51:\tlearn: 1526.8340653\ttotal: 4.18s\tremaining: 19.9s\n",
      "52:\tlearn: 1523.9753150\ttotal: 4.25s\tremaining: 19.8s\n",
      "53:\tlearn: 1521.1158925\ttotal: 4.34s\tremaining: 19.8s\n",
      "54:\tlearn: 1518.3591857\ttotal: 4.42s\tremaining: 19.7s\n",
      "55:\tlearn: 1514.7652887\ttotal: 4.5s\tremaining: 19.6s\n",
      "56:\tlearn: 1513.9282931\ttotal: 4.57s\tremaining: 19.5s\n",
      "57:\tlearn: 1511.8585169\ttotal: 4.64s\tremaining: 19.4s\n",
      "58:\tlearn: 1510.3101722\ttotal: 4.71s\tremaining: 19.3s\n",
      "59:\tlearn: 1508.3235167\ttotal: 4.8s\tremaining: 19.2s\n",
      "60:\tlearn: 1505.6515389\ttotal: 4.87s\tremaining: 19.1s\n",
      "61:\tlearn: 1503.9416538\ttotal: 4.95s\tremaining: 19s\n",
      "62:\tlearn: 1502.0343159\ttotal: 5.04s\tremaining: 19s\n",
      "63:\tlearn: 1500.5624284\ttotal: 5.12s\tremaining: 18.9s\n",
      "64:\tlearn: 1498.9435101\ttotal: 5.21s\tremaining: 18.8s\n",
      "65:\tlearn: 1496.7585766\ttotal: 5.28s\tremaining: 18.7s\n",
      "66:\tlearn: 1495.8464344\ttotal: 5.36s\tremaining: 18.6s\n",
      "67:\tlearn: 1494.9606555\ttotal: 5.43s\tremaining: 18.5s\n",
      "68:\tlearn: 1493.0536964\ttotal: 5.51s\tremaining: 18.5s\n",
      "69:\tlearn: 1490.7843032\ttotal: 5.59s\tremaining: 18.4s\n",
      "70:\tlearn: 1489.3429953\ttotal: 5.66s\tremaining: 18.3s\n",
      "71:\tlearn: 1487.0447849\ttotal: 5.75s\tremaining: 18.2s\n",
      "72:\tlearn: 1485.6354591\ttotal: 5.84s\tremaining: 18.2s\n",
      "73:\tlearn: 1484.4626438\ttotal: 5.92s\tremaining: 18.1s\n",
      "74:\tlearn: 1482.3405472\ttotal: 6s\tremaining: 18s\n",
      "75:\tlearn: 1481.1748833\ttotal: 6.07s\tremaining: 17.9s\n",
      "76:\tlearn: 1479.5300455\ttotal: 6.14s\tremaining: 17.8s\n",
      "77:\tlearn: 1478.8715786\ttotal: 6.22s\tremaining: 17.7s\n",
      "78:\tlearn: 1477.4129416\ttotal: 6.3s\tremaining: 17.6s\n",
      "79:\tlearn: 1475.6868583\ttotal: 6.39s\tremaining: 17.6s\n",
      "80:\tlearn: 1473.8354872\ttotal: 6.47s\tremaining: 17.5s\n",
      "81:\tlearn: 1473.3569021\ttotal: 6.54s\tremaining: 17.4s\n",
      "82:\tlearn: 1472.5369898\ttotal: 6.63s\tremaining: 17.3s\n",
      "83:\tlearn: 1471.3446783\ttotal: 6.72s\tremaining: 17.3s\n",
      "84:\tlearn: 1470.1045550\ttotal: 6.81s\tremaining: 17.2s\n",
      "85:\tlearn: 1469.4949126\ttotal: 6.9s\tremaining: 17.2s\n",
      "86:\tlearn: 1468.2708216\ttotal: 6.98s\tremaining: 17.1s\n",
      "87:\tlearn: 1466.9516108\ttotal: 7.06s\tremaining: 17s\n",
      "88:\tlearn: 1466.0096240\ttotal: 7.16s\tremaining: 17s\n",
      "89:\tlearn: 1465.1073179\ttotal: 7.25s\tremaining: 16.9s\n",
      "90:\tlearn: 1463.3254445\ttotal: 7.33s\tremaining: 16.8s\n",
      "91:\tlearn: 1462.4679693\ttotal: 7.41s\tremaining: 16.8s\n",
      "92:\tlearn: 1461.5476437\ttotal: 7.51s\tremaining: 16.7s\n",
      "93:\tlearn: 1460.4490740\ttotal: 7.59s\tremaining: 16.6s\n",
      "94:\tlearn: 1459.5242791\ttotal: 7.68s\tremaining: 16.6s\n",
      "95:\tlearn: 1458.6526049\ttotal: 7.75s\tremaining: 16.5s\n",
      "96:\tlearn: 1457.8536668\ttotal: 7.81s\tremaining: 16.3s\n",
      "97:\tlearn: 1456.9822721\ttotal: 7.89s\tremaining: 16.3s\n",
      "98:\tlearn: 1456.6406000\ttotal: 7.96s\tremaining: 16.2s\n",
      "99:\tlearn: 1455.5800358\ttotal: 8.05s\tremaining: 16.1s\n",
      "100:\tlearn: 1454.7518685\ttotal: 8.13s\tremaining: 16s\n",
      "101:\tlearn: 1453.9252684\ttotal: 8.21s\tremaining: 15.9s\n",
      "102:\tlearn: 1453.1901711\ttotal: 8.27s\tremaining: 15.8s\n",
      "103:\tlearn: 1452.4882293\ttotal: 8.34s\tremaining: 15.7s\n",
      "104:\tlearn: 1451.9022416\ttotal: 8.41s\tremaining: 15.6s\n",
      "105:\tlearn: 1451.4764543\ttotal: 8.49s\tremaining: 15.5s\n",
      "106:\tlearn: 1450.1048965\ttotal: 8.58s\tremaining: 15.5s\n",
      "107:\tlearn: 1449.5651114\ttotal: 8.66s\tremaining: 15.4s\n",
      "108:\tlearn: 1448.6453280\ttotal: 8.73s\tremaining: 15.3s\n",
      "109:\tlearn: 1447.9023418\ttotal: 8.81s\tremaining: 15.2s\n",
      "110:\tlearn: 1447.3813640\ttotal: 8.88s\tremaining: 15.1s\n",
      "111:\tlearn: 1446.2969010\ttotal: 8.97s\tremaining: 15.1s\n",
      "112:\tlearn: 1445.6921061\ttotal: 9.05s\tremaining: 15s\n",
      "113:\tlearn: 1445.1100260\ttotal: 9.12s\tremaining: 14.9s\n",
      "114:\tlearn: 1444.2494329\ttotal: 9.2s\tremaining: 14.8s\n",
      "115:\tlearn: 1442.7361682\ttotal: 9.28s\tremaining: 14.7s\n",
      "116:\tlearn: 1441.5841598\ttotal: 9.36s\tremaining: 14.6s\n",
      "117:\tlearn: 1440.1090516\ttotal: 9.44s\tremaining: 14.6s\n",
      "118:\tlearn: 1438.9820822\ttotal: 9.53s\tremaining: 14.5s\n",
      "119:\tlearn: 1438.6125315\ttotal: 9.61s\tremaining: 14.4s\n",
      "120:\tlearn: 1438.1335547\ttotal: 9.69s\tremaining: 14.3s\n",
      "121:\tlearn: 1436.5992504\ttotal: 9.76s\tremaining: 14.2s\n",
      "122:\tlearn: 1434.4612345\ttotal: 9.85s\tremaining: 14.2s\n",
      "123:\tlearn: 1433.6796709\ttotal: 9.94s\tremaining: 14.1s\n",
      "124:\tlearn: 1433.1112493\ttotal: 10s\tremaining: 14s\n",
      "125:\tlearn: 1432.3567102\ttotal: 10.1s\tremaining: 13.9s\n",
      "126:\tlearn: 1431.6906170\ttotal: 10.2s\tremaining: 13.9s\n",
      "127:\tlearn: 1431.4972413\ttotal: 10.3s\tremaining: 13.8s\n",
      "128:\tlearn: 1429.9536267\ttotal: 10.3s\tremaining: 13.7s\n",
      "129:\tlearn: 1429.1055761\ttotal: 10.4s\tremaining: 13.6s\n",
      "130:\tlearn: 1428.0419314\ttotal: 10.5s\tremaining: 13.6s\n",
      "131:\tlearn: 1426.9167399\ttotal: 10.6s\tremaining: 13.5s\n",
      "132:\tlearn: 1425.7890203\ttotal: 10.6s\tremaining: 13.4s\n",
      "133:\tlearn: 1425.0152949\ttotal: 10.7s\tremaining: 13.3s\n",
      "134:\tlearn: 1424.4775712\ttotal: 10.8s\tremaining: 13.2s\n",
      "135:\tlearn: 1423.8101344\ttotal: 10.9s\tremaining: 13.1s\n",
      "136:\tlearn: 1423.1187092\ttotal: 10.9s\tremaining: 13s\n",
      "137:\tlearn: 1422.4856211\ttotal: 11s\tremaining: 12.9s\n",
      "138:\tlearn: 1422.1938077\ttotal: 11.1s\tremaining: 12.9s\n",
      "139:\tlearn: 1421.5580963\ttotal: 11.2s\tremaining: 12.8s\n",
      "140:\tlearn: 1420.6315383\ttotal: 11.3s\tremaining: 12.7s\n",
      "141:\tlearn: 1419.8753906\ttotal: 11.3s\tremaining: 12.6s\n",
      "142:\tlearn: 1419.4682450\ttotal: 11.4s\tremaining: 12.5s\n",
      "143:\tlearn: 1419.2062253\ttotal: 11.5s\tremaining: 12.5s\n",
      "144:\tlearn: 1418.2037014\ttotal: 11.6s\tremaining: 12.4s\n",
      "145:\tlearn: 1416.9925325\ttotal: 11.7s\tremaining: 12.3s\n",
      "146:\tlearn: 1416.3365599\ttotal: 11.7s\tremaining: 12.2s\n",
      "147:\tlearn: 1415.6357077\ttotal: 11.8s\tremaining: 12.1s\n",
      "148:\tlearn: 1414.2539457\ttotal: 11.9s\tremaining: 12s\n",
      "149:\tlearn: 1413.5648596\ttotal: 12s\tremaining: 12s\n",
      "150:\tlearn: 1413.0753240\ttotal: 12.1s\tremaining: 11.9s\n",
      "151:\tlearn: 1412.1732440\ttotal: 12.1s\tremaining: 11.8s\n",
      "152:\tlearn: 1412.0629708\ttotal: 12.2s\tremaining: 11.8s\n",
      "153:\tlearn: 1411.5118819\ttotal: 12.3s\tremaining: 11.7s\n",
      "154:\tlearn: 1410.9719629\ttotal: 12.4s\tremaining: 11.6s\n",
      "155:\tlearn: 1410.4758706\ttotal: 12.5s\tremaining: 11.5s\n",
      "156:\tlearn: 1409.8281164\ttotal: 12.6s\tremaining: 11.4s\n",
      "157:\tlearn: 1409.7299130\ttotal: 12.6s\tremaining: 11.4s\n",
      "158:\tlearn: 1408.7454696\ttotal: 12.7s\tremaining: 11.3s\n",
      "159:\tlearn: 1408.2641800\ttotal: 12.8s\tremaining: 11.2s\n",
      "160:\tlearn: 1407.2575955\ttotal: 12.9s\tremaining: 11.2s\n",
      "161:\tlearn: 1406.8036384\ttotal: 13s\tremaining: 11.1s\n",
      "162:\tlearn: 1406.1886858\ttotal: 13.1s\tremaining: 11s\n",
      "163:\tlearn: 1405.8766797\ttotal: 13.2s\tremaining: 10.9s\n",
      "164:\tlearn: 1405.1674677\ttotal: 13.2s\tremaining: 10.8s\n",
      "165:\tlearn: 1404.2628001\ttotal: 13.3s\tremaining: 10.8s\n",
      "166:\tlearn: 1403.7029443\ttotal: 13.4s\tremaining: 10.7s\n",
      "167:\tlearn: 1403.1994970\ttotal: 13.5s\tremaining: 10.6s\n",
      "168:\tlearn: 1402.3131115\ttotal: 13.6s\tremaining: 10.5s\n",
      "169:\tlearn: 1401.4393693\ttotal: 13.7s\tremaining: 10.5s\n",
      "170:\tlearn: 1401.3775512\ttotal: 13.7s\tremaining: 10.4s\n",
      "171:\tlearn: 1400.6851358\ttotal: 13.8s\tremaining: 10.3s\n",
      "172:\tlearn: 1400.1543419\ttotal: 13.9s\tremaining: 10.2s\n",
      "173:\tlearn: 1400.0985674\ttotal: 14s\tremaining: 10.1s\n",
      "174:\tlearn: 1399.5400554\ttotal: 14.1s\tremaining: 10.1s\n",
      "175:\tlearn: 1398.7221882\ttotal: 14.2s\tremaining: 9.97s\n",
      "176:\tlearn: 1398.0053127\ttotal: 14.2s\tremaining: 9.89s\n",
      "177:\tlearn: 1397.5908293\ttotal: 14.3s\tremaining: 9.82s\n",
      "178:\tlearn: 1396.9709714\ttotal: 14.4s\tremaining: 9.75s\n",
      "179:\tlearn: 1396.5415453\ttotal: 14.5s\tremaining: 9.67s\n",
      "180:\tlearn: 1396.0491214\ttotal: 14.6s\tremaining: 9.59s\n",
      "181:\tlearn: 1395.5175471\ttotal: 14.7s\tremaining: 9.51s\n",
      "182:\tlearn: 1395.2429247\ttotal: 14.7s\tremaining: 9.43s\n",
      "183:\tlearn: 1394.9390049\ttotal: 14.8s\tremaining: 9.35s\n",
      "184:\tlearn: 1394.7467625\ttotal: 14.9s\tremaining: 9.26s\n",
      "185:\tlearn: 1394.5383173\ttotal: 15s\tremaining: 9.18s\n",
      "186:\tlearn: 1394.1495515\ttotal: 15.1s\tremaining: 9.1s\n",
      "187:\tlearn: 1393.9259522\ttotal: 15.1s\tremaining: 9.02s\n",
      "188:\tlearn: 1393.4967978\ttotal: 15.2s\tremaining: 8.94s\n",
      "189:\tlearn: 1392.6875048\ttotal: 15.3s\tremaining: 8.87s\n",
      "190:\tlearn: 1392.2656592\ttotal: 15.4s\tremaining: 8.78s\n",
      "191:\tlearn: 1392.0645035\ttotal: 15.5s\tremaining: 8.71s\n",
      "192:\tlearn: 1391.9049064\ttotal: 15.6s\tremaining: 8.63s\n",
      "193:\tlearn: 1391.3844604\ttotal: 15.7s\tremaining: 8.56s\n",
      "194:\tlearn: 1391.0560773\ttotal: 15.7s\tremaining: 8.48s\n",
      "195:\tlearn: 1390.8590502\ttotal: 15.8s\tremaining: 8.39s\n",
      "196:\tlearn: 1390.2575665\ttotal: 15.9s\tremaining: 8.32s\n",
      "197:\tlearn: 1389.6346339\ttotal: 16s\tremaining: 8.25s\n",
      "198:\tlearn: 1389.6084102\ttotal: 16.1s\tremaining: 8.18s\n",
      "199:\tlearn: 1389.1168273\ttotal: 16.2s\tremaining: 8.1s\n",
      "200:\tlearn: 1388.7044021\ttotal: 16.3s\tremaining: 8.02s\n",
      "201:\tlearn: 1388.3305738\ttotal: 16.4s\tremaining: 7.95s\n",
      "202:\tlearn: 1387.8777613\ttotal: 16.5s\tremaining: 7.87s\n",
      "203:\tlearn: 1387.3210164\ttotal: 16.6s\tremaining: 7.79s\n",
      "204:\tlearn: 1386.8577953\ttotal: 16.7s\tremaining: 7.72s\n",
      "205:\tlearn: 1386.3460559\ttotal: 16.7s\tremaining: 7.64s\n",
      "206:\tlearn: 1385.7807204\ttotal: 16.8s\tremaining: 7.56s\n",
      "207:\tlearn: 1385.4348355\ttotal: 16.9s\tremaining: 7.48s\n",
      "208:\tlearn: 1385.1076309\ttotal: 17s\tremaining: 7.41s\n",
      "209:\tlearn: 1384.4754851\ttotal: 17.1s\tremaining: 7.32s\n",
      "210:\tlearn: 1384.3575241\ttotal: 17.2s\tremaining: 7.24s\n",
      "211:\tlearn: 1384.3385664\ttotal: 17.2s\tremaining: 7.15s\n",
      "212:\tlearn: 1383.9541580\ttotal: 17.3s\tremaining: 7.07s\n",
      "213:\tlearn: 1383.9222319\ttotal: 17.4s\tremaining: 6.98s\n",
      "214:\tlearn: 1383.3743656\ttotal: 17.5s\tremaining: 6.91s\n",
      "215:\tlearn: 1383.1441748\ttotal: 17.6s\tremaining: 6.83s\n",
      "216:\tlearn: 1382.8172715\ttotal: 17.7s\tremaining: 6.75s\n",
      "217:\tlearn: 1382.5403706\ttotal: 17.7s\tremaining: 6.67s\n",
      "218:\tlearn: 1382.0674225\ttotal: 17.8s\tremaining: 6.59s\n",
      "219:\tlearn: 1381.5473474\ttotal: 17.9s\tremaining: 6.51s\n",
      "220:\tlearn: 1381.1755064\ttotal: 18s\tremaining: 6.43s\n",
      "221:\tlearn: 1380.8105106\ttotal: 18.1s\tremaining: 6.35s\n",
      "222:\tlearn: 1380.7932240\ttotal: 18.2s\tremaining: 6.27s\n",
      "223:\tlearn: 1380.3324994\ttotal: 18.3s\tremaining: 6.19s\n",
      "224:\tlearn: 1380.0795854\ttotal: 18.3s\tremaining: 6.11s\n",
      "225:\tlearn: 1379.8864088\ttotal: 18.5s\tremaining: 6.05s\n",
      "226:\tlearn: 1379.5250914\ttotal: 18.6s\tremaining: 5.97s\n",
      "227:\tlearn: 1379.1144139\ttotal: 18.7s\tremaining: 5.89s\n",
      "228:\tlearn: 1378.9689583\ttotal: 18.7s\tremaining: 5.81s\n",
      "229:\tlearn: 1378.5118701\ttotal: 18.8s\tremaining: 5.73s\n",
      "230:\tlearn: 1378.2573950\ttotal: 18.9s\tremaining: 5.64s\n",
      "231:\tlearn: 1378.2432735\ttotal: 19s\tremaining: 5.56s\n",
      "232:\tlearn: 1377.9050171\ttotal: 19s\tremaining: 5.48s\n",
      "233:\tlearn: 1377.6079469\ttotal: 19.1s\tremaining: 5.39s\n",
      "234:\tlearn: 1377.2156603\ttotal: 19.2s\tremaining: 5.31s\n",
      "235:\tlearn: 1377.0692275\ttotal: 19.3s\tremaining: 5.23s\n",
      "236:\tlearn: 1376.4278210\ttotal: 19.4s\tremaining: 5.14s\n",
      "237:\tlearn: 1375.9009590\ttotal: 19.4s\tremaining: 5.06s\n",
      "238:\tlearn: 1375.3074169\ttotal: 19.5s\tremaining: 4.98s\n",
      "239:\tlearn: 1375.0938445\ttotal: 19.6s\tremaining: 4.9s\n",
      "240:\tlearn: 1374.9613477\ttotal: 19.7s\tremaining: 4.82s\n",
      "241:\tlearn: 1374.6058976\ttotal: 19.8s\tremaining: 4.73s\n",
      "242:\tlearn: 1374.3039945\ttotal: 19.8s\tremaining: 4.65s\n",
      "243:\tlearn: 1374.1651078\ttotal: 19.9s\tremaining: 4.56s\n",
      "244:\tlearn: 1373.6976170\ttotal: 20s\tremaining: 4.48s\n",
      "245:\tlearn: 1373.3289703\ttotal: 20s\tremaining: 4.4s\n",
      "246:\tlearn: 1373.1327505\ttotal: 20.1s\tremaining: 4.32s\n",
      "247:\tlearn: 1372.5258653\ttotal: 20.2s\tremaining: 4.23s\n",
      "248:\tlearn: 1372.3496384\ttotal: 20.3s\tremaining: 4.15s\n",
      "249:\tlearn: 1371.9885052\ttotal: 20.3s\tremaining: 4.07s\n",
      "250:\tlearn: 1371.5115271\ttotal: 20.4s\tremaining: 3.98s\n",
      "251:\tlearn: 1371.3284662\ttotal: 20.5s\tremaining: 3.91s\n",
      "252:\tlearn: 1370.9656890\ttotal: 20.6s\tremaining: 3.83s\n",
      "253:\tlearn: 1370.5757108\ttotal: 20.7s\tremaining: 3.74s\n",
      "254:\tlearn: 1370.0779400\ttotal: 20.8s\tremaining: 3.66s\n",
      "255:\tlearn: 1370.0548404\ttotal: 20.8s\tremaining: 3.58s\n",
      "256:\tlearn: 1369.8136738\ttotal: 20.9s\tremaining: 3.5s\n",
      "257:\tlearn: 1369.5557268\ttotal: 21s\tremaining: 3.42s\n",
      "258:\tlearn: 1369.1244547\ttotal: 21.1s\tremaining: 3.33s\n",
      "259:\tlearn: 1368.9470021\ttotal: 21.1s\tremaining: 3.25s\n",
      "260:\tlearn: 1368.2878571\ttotal: 21.2s\tremaining: 3.17s\n",
      "261:\tlearn: 1368.0216029\ttotal: 21.3s\tremaining: 3.09s\n",
      "262:\tlearn: 1367.7811398\ttotal: 21.4s\tremaining: 3.01s\n",
      "263:\tlearn: 1367.4911234\ttotal: 21.5s\tremaining: 2.93s\n",
      "264:\tlearn: 1367.1931445\ttotal: 21.6s\tremaining: 2.85s\n",
      "265:\tlearn: 1366.7832225\ttotal: 21.7s\tremaining: 2.77s\n",
      "266:\tlearn: 1366.3604365\ttotal: 21.8s\tremaining: 2.69s\n",
      "267:\tlearn: 1366.3135770\ttotal: 21.8s\tremaining: 2.61s\n",
      "268:\tlearn: 1366.1793668\ttotal: 21.9s\tremaining: 2.52s\n",
      "269:\tlearn: 1366.0103806\ttotal: 22s\tremaining: 2.44s\n",
      "270:\tlearn: 1365.8907198\ttotal: 22.1s\tremaining: 2.36s\n",
      "271:\tlearn: 1365.8822186\ttotal: 22.1s\tremaining: 2.28s\n",
      "272:\tlearn: 1365.6735109\ttotal: 22.2s\tremaining: 2.2s\n",
      "273:\tlearn: 1365.5287771\ttotal: 22.3s\tremaining: 2.12s\n",
      "274:\tlearn: 1365.3962419\ttotal: 22.4s\tremaining: 2.03s\n",
      "275:\tlearn: 1365.2394610\ttotal: 22.5s\tremaining: 1.95s\n",
      "276:\tlearn: 1364.8792606\ttotal: 22.5s\tremaining: 1.87s\n",
      "277:\tlearn: 1364.7323654\ttotal: 22.6s\tremaining: 1.79s\n",
      "278:\tlearn: 1364.2679580\ttotal: 22.7s\tremaining: 1.71s\n",
      "279:\tlearn: 1363.8977821\ttotal: 22.8s\tremaining: 1.63s\n",
      "280:\tlearn: 1363.5652518\ttotal: 22.9s\tremaining: 1.55s\n",
      "281:\tlearn: 1363.2827780\ttotal: 23s\tremaining: 1.47s\n",
      "282:\tlearn: 1363.0580542\ttotal: 23.1s\tremaining: 1.38s\n",
      "283:\tlearn: 1363.0550777\ttotal: 23.1s\tremaining: 1.3s\n",
      "284:\tlearn: 1362.7749770\ttotal: 23.2s\tremaining: 1.22s\n",
      "285:\tlearn: 1362.4989046\ttotal: 23.3s\tremaining: 1.14s\n",
      "286:\tlearn: 1362.1878197\ttotal: 23.4s\tremaining: 1.06s\n",
      "287:\tlearn: 1361.7244679\ttotal: 23.4s\tremaining: 976ms\n",
      "288:\tlearn: 1361.6997072\ttotal: 23.5s\tremaining: 895ms\n",
      "289:\tlearn: 1361.6110977\ttotal: 23.6s\tremaining: 814ms\n",
      "290:\tlearn: 1361.3936810\ttotal: 23.7s\tremaining: 732ms\n",
      "291:\tlearn: 1360.8805638\ttotal: 23.8s\tremaining: 651ms\n",
      "292:\tlearn: 1360.5955123\ttotal: 23.8s\tremaining: 570ms\n",
      "293:\tlearn: 1360.2873267\ttotal: 23.9s\tremaining: 488ms\n",
      "294:\tlearn: 1360.1624951\ttotal: 24s\tremaining: 407ms\n",
      "295:\tlearn: 1359.9177701\ttotal: 24.1s\tremaining: 326ms\n",
      "296:\tlearn: 1359.3959863\ttotal: 24.2s\tremaining: 244ms\n",
      "297:\tlearn: 1359.1468770\ttotal: 24.3s\tremaining: 163ms\n",
      "298:\tlearn: 1359.0066391\ttotal: 24.4s\tremaining: 81.5ms\n",
      "299:\tlearn: 1358.9933180\ttotal: 24.4s\tremaining: 0us\n",
      "0:\tlearn: 3385.6787615\ttotal: 108ms\tremaining: 32.2s\n",
      "1:\tlearn: 3183.5482611\ttotal: 185ms\tremaining: 27.5s\n",
      "2:\tlearn: 3008.5273994\ttotal: 271ms\tremaining: 26.9s\n",
      "3:\tlearn: 2855.4121152\ttotal: 359ms\tremaining: 26.5s\n",
      "4:\tlearn: 2714.7065276\ttotal: 439ms\tremaining: 25.9s\n",
      "5:\tlearn: 2595.2657646\ttotal: 534ms\tremaining: 26.1s\n",
      "6:\tlearn: 2486.8783648\ttotal: 623ms\tremaining: 26.1s\n",
      "7:\tlearn: 2390.5637831\ttotal: 693ms\tremaining: 25.3s\n",
      "8:\tlearn: 2308.2988735\ttotal: 781ms\tremaining: 25.2s\n",
      "9:\tlearn: 2237.6260971\ttotal: 873ms\tremaining: 25.3s\n",
      "10:\tlearn: 2173.3221763\ttotal: 957ms\tremaining: 25.1s\n",
      "11:\tlearn: 2110.1077063\ttotal: 1.04s\tremaining: 25s\n",
      "12:\tlearn: 2058.0342699\ttotal: 1.14s\tremaining: 25.2s\n",
      "13:\tlearn: 2013.0214348\ttotal: 1.23s\tremaining: 25s\n",
      "14:\tlearn: 1965.1128701\ttotal: 1.32s\tremaining: 25.1s\n",
      "15:\tlearn: 1927.9589170\ttotal: 1.41s\tremaining: 25s\n",
      "16:\tlearn: 1888.4781705\ttotal: 1.49s\tremaining: 24.9s\n",
      "17:\tlearn: 1852.9703692\ttotal: 1.59s\tremaining: 24.9s\n",
      "18:\tlearn: 1826.0126689\ttotal: 1.69s\tremaining: 25s\n",
      "19:\tlearn: 1800.5262500\ttotal: 1.78s\tremaining: 24.9s\n",
      "20:\tlearn: 1777.0517014\ttotal: 1.87s\tremaining: 24.8s\n",
      "21:\tlearn: 1754.2466211\ttotal: 1.96s\tremaining: 24.8s\n",
      "22:\tlearn: 1734.1925424\ttotal: 2.05s\tremaining: 24.6s\n",
      "23:\tlearn: 1716.6578953\ttotal: 2.12s\tremaining: 24.4s\n",
      "24:\tlearn: 1699.3884168\ttotal: 2.21s\tremaining: 24.4s\n",
      "25:\tlearn: 1683.4410961\ttotal: 2.3s\tremaining: 24.3s\n",
      "26:\tlearn: 1671.3720791\ttotal: 2.38s\tremaining: 24.1s\n",
      "27:\tlearn: 1658.7032961\ttotal: 2.46s\tremaining: 23.9s\n",
      "28:\tlearn: 1646.8783424\ttotal: 2.54s\tremaining: 23.8s\n",
      "29:\tlearn: 1637.4989364\ttotal: 2.62s\tremaining: 23.6s\n",
      "30:\tlearn: 1628.7671096\ttotal: 2.71s\tremaining: 23.5s\n",
      "31:\tlearn: 1620.3907857\ttotal: 2.78s\tremaining: 23.3s\n",
      "32:\tlearn: 1614.2015593\ttotal: 2.85s\tremaining: 23.1s\n",
      "33:\tlearn: 1607.7730812\ttotal: 2.93s\tremaining: 22.9s\n",
      "34:\tlearn: 1599.8033040\ttotal: 3.01s\tremaining: 22.8s\n",
      "35:\tlearn: 1593.0725374\ttotal: 3.1s\tremaining: 22.8s\n",
      "36:\tlearn: 1587.5659546\ttotal: 3.2s\tremaining: 22.7s\n",
      "37:\tlearn: 1581.4436008\ttotal: 3.27s\tremaining: 22.6s\n",
      "38:\tlearn: 1576.2288370\ttotal: 3.36s\tremaining: 22.5s\n",
      "39:\tlearn: 1571.2486170\ttotal: 3.44s\tremaining: 22.4s\n",
      "40:\tlearn: 1567.2352735\ttotal: 3.52s\tremaining: 22.3s\n",
      "41:\tlearn: 1563.4333315\ttotal: 3.6s\tremaining: 22.2s\n",
      "42:\tlearn: 1559.0174594\ttotal: 3.7s\tremaining: 22.1s\n",
      "43:\tlearn: 1555.1907602\ttotal: 3.79s\tremaining: 22.1s\n",
      "44:\tlearn: 1551.8410389\ttotal: 3.87s\tremaining: 22s\n",
      "45:\tlearn: 1548.6590524\ttotal: 3.97s\tremaining: 21.9s\n",
      "46:\tlearn: 1544.0418966\ttotal: 4.05s\tremaining: 21.8s\n",
      "47:\tlearn: 1540.6946815\ttotal: 4.14s\tremaining: 21.7s\n",
      "48:\tlearn: 1538.1334814\ttotal: 4.24s\tremaining: 21.7s\n",
      "49:\tlearn: 1535.5328630\ttotal: 4.31s\tremaining: 21.5s\n",
      "50:\tlearn: 1532.7207181\ttotal: 4.4s\tremaining: 21.5s\n",
      "51:\tlearn: 1530.3483169\ttotal: 4.49s\tremaining: 21.4s\n",
      "52:\tlearn: 1527.9465832\ttotal: 4.58s\tremaining: 21.4s\n",
      "53:\tlearn: 1524.3668986\ttotal: 4.67s\tremaining: 21.3s\n",
      "54:\tlearn: 1521.3738364\ttotal: 4.79s\tremaining: 21.3s\n",
      "55:\tlearn: 1519.9455860\ttotal: 4.88s\tremaining: 21.3s\n",
      "56:\tlearn: 1517.3412446\ttotal: 4.99s\tremaining: 21.3s\n",
      "57:\tlearn: 1514.6851475\ttotal: 5.09s\tremaining: 21.2s\n",
      "58:\tlearn: 1511.4879268\ttotal: 5.18s\tremaining: 21.2s\n",
      "59:\tlearn: 1509.6907982\ttotal: 5.26s\tremaining: 21s\n",
      "60:\tlearn: 1507.2272071\ttotal: 5.35s\tremaining: 20.9s\n",
      "61:\tlearn: 1504.8368864\ttotal: 5.42s\tremaining: 20.8s\n",
      "62:\tlearn: 1503.1627715\ttotal: 5.5s\tremaining: 20.7s\n",
      "63:\tlearn: 1501.5624645\ttotal: 5.58s\tremaining: 20.6s\n",
      "64:\tlearn: 1500.4336060\ttotal: 5.66s\tremaining: 20.5s\n",
      "65:\tlearn: 1498.9547285\ttotal: 5.73s\tremaining: 20.3s\n",
      "66:\tlearn: 1496.4849724\ttotal: 5.8s\tremaining: 20.2s\n",
      "67:\tlearn: 1495.1634970\ttotal: 5.89s\tremaining: 20.1s\n",
      "68:\tlearn: 1493.1743016\ttotal: 5.96s\tremaining: 20s\n",
      "69:\tlearn: 1491.8265960\ttotal: 6.04s\tremaining: 19.9s\n",
      "70:\tlearn: 1489.8985303\ttotal: 6.11s\tremaining: 19.7s\n",
      "71:\tlearn: 1488.4227522\ttotal: 6.2s\tremaining: 19.6s\n",
      "72:\tlearn: 1487.3237217\ttotal: 6.3s\tremaining: 19.6s\n",
      "73:\tlearn: 1486.6566354\ttotal: 6.39s\tremaining: 19.5s\n",
      "74:\tlearn: 1484.9042895\ttotal: 6.49s\tremaining: 19.5s\n",
      "75:\tlearn: 1483.2435101\ttotal: 6.58s\tremaining: 19.4s\n",
      "76:\tlearn: 1482.2352869\ttotal: 6.67s\tremaining: 19.3s\n",
      "77:\tlearn: 1480.3322081\ttotal: 6.77s\tremaining: 19.3s\n",
      "78:\tlearn: 1479.0582265\ttotal: 6.86s\tremaining: 19.2s\n",
      "79:\tlearn: 1477.6376952\ttotal: 6.93s\tremaining: 19.1s\n",
      "80:\tlearn: 1475.6917566\ttotal: 7.03s\tremaining: 19s\n",
      "81:\tlearn: 1474.7012311\ttotal: 7.12s\tremaining: 18.9s\n",
      "82:\tlearn: 1472.9204695\ttotal: 7.21s\tremaining: 18.9s\n",
      "83:\tlearn: 1471.3288349\ttotal: 7.32s\tremaining: 18.8s\n",
      "84:\tlearn: 1470.7056412\ttotal: 7.42s\tremaining: 18.8s\n",
      "85:\tlearn: 1469.5415946\ttotal: 7.5s\tremaining: 18.7s\n",
      "86:\tlearn: 1468.6242229\ttotal: 7.59s\tremaining: 18.6s\n",
      "87:\tlearn: 1468.3008003\ttotal: 7.67s\tremaining: 18.5s\n",
      "88:\tlearn: 1466.8185750\ttotal: 7.76s\tremaining: 18.4s\n",
      "89:\tlearn: 1465.6282927\ttotal: 7.84s\tremaining: 18.3s\n",
      "90:\tlearn: 1464.4043677\ttotal: 7.93s\tremaining: 18.2s\n",
      "91:\tlearn: 1463.3107233\ttotal: 8.01s\tremaining: 18.1s\n",
      "92:\tlearn: 1461.8193954\ttotal: 8.1s\tremaining: 18s\n",
      "93:\tlearn: 1460.6047197\ttotal: 8.18s\tremaining: 17.9s\n",
      "94:\tlearn: 1459.7749471\ttotal: 8.26s\tremaining: 17.8s\n",
      "95:\tlearn: 1458.5096752\ttotal: 8.35s\tremaining: 17.7s\n",
      "96:\tlearn: 1457.4702086\ttotal: 8.42s\tremaining: 17.6s\n",
      "97:\tlearn: 1456.5509982\ttotal: 8.5s\tremaining: 17.5s\n",
      "98:\tlearn: 1455.5444001\ttotal: 8.59s\tremaining: 17.4s\n",
      "99:\tlearn: 1454.6615429\ttotal: 8.65s\tremaining: 17.3s\n",
      "100:\tlearn: 1453.0716585\ttotal: 8.74s\tremaining: 17.2s\n",
      "101:\tlearn: 1452.1416360\ttotal: 8.83s\tremaining: 17.1s\n",
      "102:\tlearn: 1451.1801698\ttotal: 8.9s\tremaining: 17s\n",
      "103:\tlearn: 1450.6955977\ttotal: 8.98s\tremaining: 16.9s\n",
      "104:\tlearn: 1450.2198781\ttotal: 9.06s\tremaining: 16.8s\n",
      "105:\tlearn: 1449.1574841\ttotal: 9.14s\tremaining: 16.7s\n",
      "106:\tlearn: 1447.4614495\ttotal: 9.21s\tremaining: 16.6s\n",
      "107:\tlearn: 1446.1056874\ttotal: 9.29s\tremaining: 16.5s\n",
      "108:\tlearn: 1445.0483188\ttotal: 9.38s\tremaining: 16.4s\n",
      "109:\tlearn: 1444.4023834\ttotal: 9.46s\tremaining: 16.3s\n",
      "110:\tlearn: 1443.2293899\ttotal: 9.53s\tremaining: 16.2s\n",
      "111:\tlearn: 1441.9024119\ttotal: 9.62s\tremaining: 16.1s\n",
      "112:\tlearn: 1440.9187739\ttotal: 9.71s\tremaining: 16.1s\n",
      "113:\tlearn: 1440.3729428\ttotal: 9.79s\tremaining: 16s\n",
      "114:\tlearn: 1439.1424789\ttotal: 9.87s\tremaining: 15.9s\n",
      "115:\tlearn: 1438.3339228\ttotal: 9.95s\tremaining: 15.8s\n",
      "116:\tlearn: 1437.7148258\ttotal: 10s\tremaining: 15.7s\n",
      "117:\tlearn: 1436.7997137\ttotal: 10.1s\tremaining: 15.6s\n",
      "118:\tlearn: 1436.2751346\ttotal: 10.2s\tremaining: 15.5s\n",
      "119:\tlearn: 1435.1482073\ttotal: 10.3s\tremaining: 15.4s\n",
      "120:\tlearn: 1434.3747737\ttotal: 10.4s\tremaining: 15.3s\n",
      "121:\tlearn: 1434.0029864\ttotal: 10.4s\tremaining: 15.2s\n",
      "122:\tlearn: 1433.4443180\ttotal: 10.5s\tremaining: 15.2s\n",
      "123:\tlearn: 1432.9542830\ttotal: 10.6s\tremaining: 15.1s\n",
      "124:\tlearn: 1432.6400118\ttotal: 10.7s\tremaining: 15s\n",
      "125:\tlearn: 1431.3764634\ttotal: 10.8s\tremaining: 14.9s\n",
      "126:\tlearn: 1431.2303413\ttotal: 10.9s\tremaining: 14.8s\n",
      "127:\tlearn: 1430.5759038\ttotal: 11s\tremaining: 14.7s\n",
      "128:\tlearn: 1429.3940569\ttotal: 11.1s\tremaining: 14.7s\n",
      "129:\tlearn: 1428.5900781\ttotal: 11.1s\tremaining: 14.6s\n",
      "130:\tlearn: 1427.6974687\ttotal: 11.2s\tremaining: 14.5s\n",
      "131:\tlearn: 1426.9172838\ttotal: 11.3s\tremaining: 14.4s\n",
      "132:\tlearn: 1426.4377947\ttotal: 11.4s\tremaining: 14.3s\n",
      "133:\tlearn: 1425.3642107\ttotal: 11.4s\tremaining: 14.2s\n",
      "134:\tlearn: 1424.9559029\ttotal: 11.5s\tremaining: 14.1s\n",
      "135:\tlearn: 1423.7889997\ttotal: 11.7s\tremaining: 14.1s\n",
      "136:\tlearn: 1423.0735605\ttotal: 11.8s\tremaining: 14s\n",
      "137:\tlearn: 1422.4494190\ttotal: 11.8s\tremaining: 13.9s\n",
      "138:\tlearn: 1422.0246629\ttotal: 11.9s\tremaining: 13.8s\n",
      "139:\tlearn: 1420.8296687\ttotal: 12s\tremaining: 13.7s\n",
      "140:\tlearn: 1420.3447355\ttotal: 12.1s\tremaining: 13.6s\n",
      "141:\tlearn: 1419.3111698\ttotal: 12.2s\tremaining: 13.6s\n",
      "142:\tlearn: 1419.0039068\ttotal: 12.3s\tremaining: 13.5s\n",
      "143:\tlearn: 1418.2003315\ttotal: 12.3s\tremaining: 13.4s\n",
      "144:\tlearn: 1417.2744412\ttotal: 12.4s\tremaining: 13.3s\n",
      "145:\tlearn: 1416.7809255\ttotal: 12.5s\tremaining: 13.2s\n",
      "146:\tlearn: 1416.3652475\ttotal: 12.6s\tremaining: 13.1s\n",
      "147:\tlearn: 1415.6163687\ttotal: 12.6s\tremaining: 13s\n",
      "148:\tlearn: 1415.1652512\ttotal: 12.7s\tremaining: 12.9s\n",
      "149:\tlearn: 1414.4331201\ttotal: 12.8s\tremaining: 12.8s\n",
      "150:\tlearn: 1413.8565335\ttotal: 12.9s\tremaining: 12.7s\n",
      "151:\tlearn: 1413.3944345\ttotal: 13s\tremaining: 12.6s\n",
      "152:\tlearn: 1412.5992389\ttotal: 13s\tremaining: 12.5s\n",
      "153:\tlearn: 1412.4642766\ttotal: 13.1s\tremaining: 12.5s\n",
      "154:\tlearn: 1412.1670681\ttotal: 13.2s\tremaining: 12.4s\n",
      "155:\tlearn: 1411.4983863\ttotal: 13.3s\tremaining: 12.3s\n",
      "156:\tlearn: 1410.9856937\ttotal: 13.4s\tremaining: 12.2s\n",
      "157:\tlearn: 1410.3627226\ttotal: 13.5s\tremaining: 12.1s\n",
      "158:\tlearn: 1409.8304066\ttotal: 13.6s\tremaining: 12s\n",
      "159:\tlearn: 1408.8706138\ttotal: 13.7s\tremaining: 12s\n",
      "160:\tlearn: 1408.4277329\ttotal: 13.8s\tremaining: 11.9s\n",
      "161:\tlearn: 1407.6162133\ttotal: 13.8s\tremaining: 11.8s\n",
      "162:\tlearn: 1407.2139851\ttotal: 13.9s\tremaining: 11.7s\n",
      "163:\tlearn: 1406.9173437\ttotal: 14s\tremaining: 11.6s\n",
      "164:\tlearn: 1406.0705350\ttotal: 14.1s\tremaining: 11.5s\n",
      "165:\tlearn: 1405.7056940\ttotal: 14.2s\tremaining: 11.5s\n",
      "166:\tlearn: 1405.1698477\ttotal: 14.3s\tremaining: 11.4s\n",
      "167:\tlearn: 1404.5123676\ttotal: 14.4s\tremaining: 11.3s\n",
      "168:\tlearn: 1404.0880568\ttotal: 14.5s\tremaining: 11.2s\n",
      "169:\tlearn: 1403.5147691\ttotal: 14.6s\tremaining: 11.2s\n",
      "170:\tlearn: 1403.1325050\ttotal: 14.7s\tremaining: 11.1s\n",
      "171:\tlearn: 1402.4112095\ttotal: 14.7s\tremaining: 11s\n",
      "172:\tlearn: 1402.1050500\ttotal: 14.8s\tremaining: 10.9s\n",
      "173:\tlearn: 1401.2140066\ttotal: 14.9s\tremaining: 10.8s\n",
      "174:\tlearn: 1400.6662014\ttotal: 15s\tremaining: 10.7s\n",
      "175:\tlearn: 1400.1493081\ttotal: 15.1s\tremaining: 10.6s\n",
      "176:\tlearn: 1399.6925903\ttotal: 15.2s\tremaining: 10.5s\n",
      "177:\tlearn: 1399.1054923\ttotal: 15.3s\tremaining: 10.5s\n",
      "178:\tlearn: 1398.6113345\ttotal: 15.3s\tremaining: 10.4s\n",
      "179:\tlearn: 1397.9847916\ttotal: 15.4s\tremaining: 10.3s\n",
      "180:\tlearn: 1397.5143648\ttotal: 15.5s\tremaining: 10.2s\n",
      "181:\tlearn: 1397.4139442\ttotal: 15.6s\tremaining: 10.1s\n",
      "182:\tlearn: 1396.8408825\ttotal: 15.7s\tremaining: 10s\n",
      "183:\tlearn: 1396.4302064\ttotal: 15.8s\tremaining: 9.95s\n",
      "184:\tlearn: 1395.8864707\ttotal: 15.9s\tremaining: 9.86s\n",
      "185:\tlearn: 1395.3915985\ttotal: 16s\tremaining: 9.79s\n",
      "186:\tlearn: 1395.0136443\ttotal: 16s\tremaining: 9.7s\n",
      "187:\tlearn: 1394.5940057\ttotal: 16.1s\tremaining: 9.61s\n",
      "188:\tlearn: 1394.2622135\ttotal: 16.2s\tremaining: 9.52s\n",
      "189:\tlearn: 1394.0923462\ttotal: 16.3s\tremaining: 9.43s\n",
      "190:\tlearn: 1393.6237692\ttotal: 16.4s\tremaining: 9.34s\n",
      "191:\tlearn: 1393.0920251\ttotal: 16.5s\tremaining: 9.26s\n",
      "192:\tlearn: 1392.6642460\ttotal: 16.5s\tremaining: 9.17s\n",
      "193:\tlearn: 1391.8202669\ttotal: 16.6s\tremaining: 9.09s\n",
      "194:\tlearn: 1391.7339015\ttotal: 16.7s\tremaining: 9s\n",
      "195:\tlearn: 1390.9988665\ttotal: 16.8s\tremaining: 8.91s\n",
      "196:\tlearn: 1390.5320451\ttotal: 16.9s\tremaining: 8.82s\n",
      "197:\tlearn: 1390.5129590\ttotal: 16.9s\tremaining: 8.73s\n",
      "198:\tlearn: 1390.2538933\ttotal: 17s\tremaining: 8.63s\n",
      "199:\tlearn: 1389.8310087\ttotal: 17.1s\tremaining: 8.55s\n",
      "200:\tlearn: 1389.4413488\ttotal: 17.2s\tremaining: 8.47s\n",
      "201:\tlearn: 1389.0836183\ttotal: 17.3s\tremaining: 8.39s\n",
      "202:\tlearn: 1388.8166139\ttotal: 17.4s\tremaining: 8.3s\n",
      "203:\tlearn: 1388.1777931\ttotal: 17.5s\tremaining: 8.22s\n",
      "204:\tlearn: 1388.0385648\ttotal: 17.6s\tremaining: 8.14s\n",
      "205:\tlearn: 1387.8978127\ttotal: 17.7s\tremaining: 8.06s\n",
      "206:\tlearn: 1387.2068453\ttotal: 17.7s\tremaining: 7.97s\n",
      "207:\tlearn: 1386.2692220\ttotal: 17.8s\tremaining: 7.89s\n",
      "208:\tlearn: 1386.0899593\ttotal: 17.9s\tremaining: 7.8s\n",
      "209:\tlearn: 1385.7452468\ttotal: 18s\tremaining: 7.71s\n",
      "210:\tlearn: 1385.3401297\ttotal: 18.1s\tremaining: 7.63s\n",
      "211:\tlearn: 1384.7856449\ttotal: 18.2s\tremaining: 7.54s\n",
      "212:\tlearn: 1384.6615921\ttotal: 18.2s\tremaining: 7.45s\n",
      "213:\tlearn: 1384.5934565\ttotal: 18.3s\tremaining: 7.37s\n",
      "214:\tlearn: 1384.0532623\ttotal: 18.4s\tremaining: 7.29s\n",
      "215:\tlearn: 1383.5060165\ttotal: 18.5s\tremaining: 7.2s\n",
      "216:\tlearn: 1383.0187839\ttotal: 18.6s\tremaining: 7.12s\n",
      "217:\tlearn: 1382.5423079\ttotal: 18.7s\tremaining: 7.04s\n",
      "218:\tlearn: 1382.4603638\ttotal: 18.8s\tremaining: 6.96s\n",
      "219:\tlearn: 1382.4192159\ttotal: 18.9s\tremaining: 6.88s\n",
      "220:\tlearn: 1382.3815995\ttotal: 19s\tremaining: 6.78s\n",
      "221:\tlearn: 1382.1799965\ttotal: 19.1s\tremaining: 6.7s\n",
      "222:\tlearn: 1381.8368758\ttotal: 19.2s\tremaining: 6.62s\n",
      "223:\tlearn: 1381.5041059\ttotal: 19.3s\tremaining: 6.54s\n",
      "224:\tlearn: 1380.9201469\ttotal: 19.4s\tremaining: 6.46s\n",
      "225:\tlearn: 1380.3701397\ttotal: 19.5s\tremaining: 6.37s\n",
      "226:\tlearn: 1380.1386443\ttotal: 19.5s\tremaining: 6.28s\n",
      "227:\tlearn: 1379.8499001\ttotal: 19.6s\tremaining: 6.2s\n",
      "228:\tlearn: 1379.0442164\ttotal: 19.7s\tremaining: 6.11s\n",
      "229:\tlearn: 1378.8044242\ttotal: 19.8s\tremaining: 6.03s\n",
      "230:\tlearn: 1378.4402096\ttotal: 19.9s\tremaining: 5.94s\n",
      "231:\tlearn: 1377.6975138\ttotal: 20s\tremaining: 5.86s\n",
      "232:\tlearn: 1377.5018853\ttotal: 20.1s\tremaining: 5.77s\n",
      "233:\tlearn: 1377.2474060\ttotal: 20.1s\tremaining: 5.68s\n",
      "234:\tlearn: 1376.9913895\ttotal: 20.2s\tremaining: 5.59s\n",
      "235:\tlearn: 1376.7206798\ttotal: 20.3s\tremaining: 5.5s\n",
      "236:\tlearn: 1376.6442776\ttotal: 20.4s\tremaining: 5.42s\n",
      "237:\tlearn: 1376.3987305\ttotal: 20.5s\tremaining: 5.33s\n",
      "238:\tlearn: 1376.1774504\ttotal: 20.5s\tremaining: 5.24s\n",
      "239:\tlearn: 1375.9627449\ttotal: 20.6s\tremaining: 5.15s\n",
      "240:\tlearn: 1375.6566322\ttotal: 20.7s\tremaining: 5.07s\n",
      "241:\tlearn: 1375.2972728\ttotal: 20.8s\tremaining: 4.98s\n",
      "242:\tlearn: 1375.0218636\ttotal: 20.9s\tremaining: 4.89s\n",
      "243:\tlearn: 1374.7792141\ttotal: 20.9s\tremaining: 4.81s\n",
      "244:\tlearn: 1374.4281882\ttotal: 21s\tremaining: 4.72s\n",
      "245:\tlearn: 1374.1604025\ttotal: 21.1s\tremaining: 4.63s\n",
      "246:\tlearn: 1373.9626910\ttotal: 21.2s\tremaining: 4.55s\n",
      "247:\tlearn: 1373.8998077\ttotal: 21.3s\tremaining: 4.46s\n",
      "248:\tlearn: 1373.6258944\ttotal: 21.4s\tremaining: 4.38s\n",
      "249:\tlearn: 1373.2115867\ttotal: 21.5s\tremaining: 4.29s\n",
      "250:\tlearn: 1372.8168674\ttotal: 21.6s\tremaining: 4.21s\n",
      "251:\tlearn: 1372.3414896\ttotal: 21.6s\tremaining: 4.12s\n",
      "252:\tlearn: 1371.9627467\ttotal: 21.7s\tremaining: 4.04s\n",
      "253:\tlearn: 1371.7645705\ttotal: 21.8s\tremaining: 3.95s\n",
      "254:\tlearn: 1371.6513210\ttotal: 21.9s\tremaining: 3.86s\n",
      "255:\tlearn: 1371.1024284\ttotal: 22s\tremaining: 3.78s\n",
      "256:\tlearn: 1370.6514932\ttotal: 22.1s\tremaining: 3.69s\n",
      "257:\tlearn: 1370.3139853\ttotal: 22.2s\tremaining: 3.61s\n",
      "258:\tlearn: 1370.0610204\ttotal: 22.3s\tremaining: 3.53s\n",
      "259:\tlearn: 1369.7003424\ttotal: 22.4s\tremaining: 3.44s\n",
      "260:\tlearn: 1369.5851650\ttotal: 22.5s\tremaining: 3.36s\n",
      "261:\tlearn: 1369.2003336\ttotal: 22.6s\tremaining: 3.27s\n",
      "262:\tlearn: 1369.1523874\ttotal: 22.7s\tremaining: 3.19s\n",
      "263:\tlearn: 1368.5624552\ttotal: 22.8s\tremaining: 3.11s\n",
      "264:\tlearn: 1368.3583156\ttotal: 22.9s\tremaining: 3.03s\n",
      "265:\tlearn: 1368.1340056\ttotal: 23s\tremaining: 2.94s\n",
      "266:\tlearn: 1367.7901717\ttotal: 23.1s\tremaining: 2.86s\n",
      "267:\tlearn: 1367.5324641\ttotal: 23.3s\tremaining: 2.78s\n",
      "268:\tlearn: 1367.3109160\ttotal: 23.4s\tremaining: 2.69s\n",
      "269:\tlearn: 1366.8883601\ttotal: 23.5s\tremaining: 2.61s\n",
      "270:\tlearn: 1366.7274720\ttotal: 23.6s\tremaining: 2.52s\n",
      "271:\tlearn: 1366.3483288\ttotal: 23.7s\tremaining: 2.44s\n",
      "272:\tlearn: 1366.2889610\ttotal: 23.7s\tremaining: 2.35s\n",
      "273:\tlearn: 1365.9856308\ttotal: 23.9s\tremaining: 2.26s\n",
      "274:\tlearn: 1365.5940084\ttotal: 23.9s\tremaining: 2.18s\n",
      "275:\tlearn: 1365.4500024\ttotal: 24.1s\tremaining: 2.09s\n",
      "276:\tlearn: 1365.1728001\ttotal: 24.2s\tremaining: 2.01s\n",
      "277:\tlearn: 1364.9043041\ttotal: 24.3s\tremaining: 1.92s\n",
      "278:\tlearn: 1364.7857587\ttotal: 24.4s\tremaining: 1.83s\n",
      "279:\tlearn: 1364.5926897\ttotal: 24.5s\tremaining: 1.75s\n",
      "280:\tlearn: 1364.1615236\ttotal: 24.6s\tremaining: 1.66s\n",
      "281:\tlearn: 1363.8412696\ttotal: 24.7s\tremaining: 1.57s\n",
      "282:\tlearn: 1363.4170525\ttotal: 24.8s\tremaining: 1.49s\n",
      "283:\tlearn: 1363.0961581\ttotal: 24.9s\tremaining: 1.4s\n",
      "284:\tlearn: 1362.9984811\ttotal: 25s\tremaining: 1.31s\n",
      "285:\tlearn: 1362.7310416\ttotal: 25s\tremaining: 1.23s\n",
      "286:\tlearn: 1362.1895890\ttotal: 25.1s\tremaining: 1.14s\n",
      "287:\tlearn: 1361.8188714\ttotal: 25.2s\tremaining: 1.05s\n",
      "288:\tlearn: 1361.7232286\ttotal: 25.3s\tremaining: 963ms\n",
      "289:\tlearn: 1361.4621829\ttotal: 25.4s\tremaining: 876ms\n",
      "290:\tlearn: 1361.2558478\ttotal: 25.5s\tremaining: 788ms\n",
      "291:\tlearn: 1360.5703957\ttotal: 25.6s\tremaining: 700ms\n",
      "292:\tlearn: 1360.4571131\ttotal: 25.7s\tremaining: 613ms\n",
      "293:\tlearn: 1360.1450570\ttotal: 25.7s\tremaining: 525ms\n",
      "294:\tlearn: 1360.0224694\ttotal: 25.8s\tremaining: 438ms\n",
      "295:\tlearn: 1359.7609661\ttotal: 25.9s\tremaining: 350ms\n",
      "296:\tlearn: 1359.5137668\ttotal: 26s\tremaining: 263ms\n",
      "297:\tlearn: 1359.4867765\ttotal: 26.1s\tremaining: 175ms\n",
      "298:\tlearn: 1359.2826795\ttotal: 26.2s\tremaining: 87.5ms\n",
      "299:\tlearn: 1359.1063270\ttotal: 26.2s\tremaining: 0us\n",
      "0:\tlearn: 3470.8253093\ttotal: 94ms\tremaining: 28.1s\n",
      "1:\tlearn: 3364.2927271\ttotal: 184ms\tremaining: 27.4s\n",
      "2:\tlearn: 3264.3041829\ttotal: 279ms\tremaining: 27.6s\n",
      "3:\tlearn: 3170.7616648\ttotal: 368ms\tremaining: 27.2s\n",
      "4:\tlearn: 3085.5853404\ttotal: 451ms\tremaining: 26.6s\n",
      "5:\tlearn: 3002.6565480\ttotal: 532ms\tremaining: 26.1s\n",
      "6:\tlearn: 2921.9721530\ttotal: 608ms\tremaining: 25.5s\n",
      "7:\tlearn: 2850.8432381\ttotal: 702ms\tremaining: 25.6s\n",
      "8:\tlearn: 2784.2339615\ttotal: 785ms\tremaining: 25.4s\n",
      "9:\tlearn: 2718.4204146\ttotal: 881ms\tremaining: 25.5s\n",
      "10:\tlearn: 2654.7261125\ttotal: 970ms\tremaining: 25.5s\n",
      "11:\tlearn: 2595.1247282\ttotal: 1.04s\tremaining: 24.9s\n",
      "12:\tlearn: 2540.1819575\ttotal: 1.11s\tremaining: 24.5s\n",
      "13:\tlearn: 2488.5991571\ttotal: 1.19s\tremaining: 24.4s\n",
      "14:\tlearn: 2440.0531196\ttotal: 1.27s\tremaining: 24.2s\n",
      "15:\tlearn: 2393.1050776\ttotal: 1.37s\tremaining: 24.3s\n",
      "16:\tlearn: 2349.4742051\ttotal: 1.45s\tremaining: 24.1s\n",
      "17:\tlearn: 2310.6953569\ttotal: 1.53s\tremaining: 24s\n",
      "18:\tlearn: 2273.3392963\ttotal: 1.6s\tremaining: 23.7s\n",
      "19:\tlearn: 2237.6752930\ttotal: 1.68s\tremaining: 23.6s\n",
      "20:\tlearn: 2203.9631467\ttotal: 1.76s\tremaining: 23.5s\n",
      "21:\tlearn: 2169.2435963\ttotal: 1.85s\tremaining: 23.4s\n",
      "22:\tlearn: 2136.4970553\ttotal: 1.92s\tremaining: 23.1s\n",
      "23:\tlearn: 2108.3703349\ttotal: 2s\tremaining: 23s\n",
      "24:\tlearn: 2082.0124035\ttotal: 2.09s\tremaining: 22.9s\n",
      "25:\tlearn: 2055.7486259\ttotal: 2.17s\tremaining: 22.9s\n",
      "26:\tlearn: 2027.1832644\ttotal: 2.26s\tremaining: 22.8s\n",
      "27:\tlearn: 2004.2218000\ttotal: 2.34s\tremaining: 22.8s\n",
      "28:\tlearn: 1979.1576072\ttotal: 2.43s\tremaining: 22.7s\n",
      "29:\tlearn: 1957.1935168\ttotal: 2.52s\tremaining: 22.7s\n",
      "30:\tlearn: 1934.7072443\ttotal: 2.61s\tremaining: 22.6s\n",
      "31:\tlearn: 1915.3423201\ttotal: 2.7s\tremaining: 22.6s\n",
      "32:\tlearn: 1898.1880863\ttotal: 2.79s\tremaining: 22.5s\n",
      "33:\tlearn: 1879.9616780\ttotal: 2.88s\tremaining: 22.5s\n",
      "34:\tlearn: 1865.4437836\ttotal: 2.96s\tremaining: 22.4s\n",
      "35:\tlearn: 1850.3696706\ttotal: 3.04s\tremaining: 22.3s\n",
      "36:\tlearn: 1835.0346557\ttotal: 3.12s\tremaining: 22.2s\n",
      "37:\tlearn: 1819.8599177\ttotal: 3.21s\tremaining: 22.1s\n",
      "38:\tlearn: 1808.0655492\ttotal: 3.3s\tremaining: 22.1s\n",
      "39:\tlearn: 1794.0001580\ttotal: 3.38s\tremaining: 22s\n",
      "40:\tlearn: 1780.7708473\ttotal: 3.46s\tremaining: 21.9s\n",
      "41:\tlearn: 1769.4537309\ttotal: 3.54s\tremaining: 21.7s\n",
      "42:\tlearn: 1759.1151800\ttotal: 3.62s\tremaining: 21.6s\n",
      "43:\tlearn: 1746.6173943\ttotal: 3.7s\tremaining: 21.5s\n",
      "44:\tlearn: 1736.5519093\ttotal: 3.78s\tremaining: 21.4s\n",
      "45:\tlearn: 1727.2080598\ttotal: 3.86s\tremaining: 21.3s\n",
      "46:\tlearn: 1718.5241736\ttotal: 3.94s\tremaining: 21.2s\n",
      "47:\tlearn: 1709.5098259\ttotal: 4.01s\tremaining: 21.1s\n",
      "48:\tlearn: 1702.1725054\ttotal: 4.08s\tremaining: 20.9s\n",
      "49:\tlearn: 1693.9467436\ttotal: 4.16s\tremaining: 20.8s\n",
      "50:\tlearn: 1686.3234881\ttotal: 4.23s\tremaining: 20.7s\n",
      "51:\tlearn: 1679.6738457\ttotal: 4.32s\tremaining: 20.6s\n",
      "52:\tlearn: 1674.2068623\ttotal: 4.4s\tremaining: 20.5s\n",
      "53:\tlearn: 1667.9954173\ttotal: 4.49s\tremaining: 20.5s\n",
      "54:\tlearn: 1661.8140538\ttotal: 4.58s\tremaining: 20.4s\n",
      "55:\tlearn: 1656.3768120\ttotal: 4.67s\tremaining: 20.3s\n",
      "56:\tlearn: 1651.0203621\ttotal: 4.76s\tremaining: 20.3s\n",
      "57:\tlearn: 1646.2565940\ttotal: 4.84s\tremaining: 20.2s\n",
      "58:\tlearn: 1641.1834698\ttotal: 4.91s\tremaining: 20s\n",
      "59:\tlearn: 1636.7638845\ttotal: 5s\tremaining: 20s\n",
      "60:\tlearn: 1632.3382444\ttotal: 5.09s\tremaining: 19.9s\n",
      "61:\tlearn: 1628.3988748\ttotal: 5.16s\tremaining: 19.8s\n",
      "62:\tlearn: 1623.7385162\ttotal: 5.26s\tremaining: 19.8s\n",
      "63:\tlearn: 1619.1761768\ttotal: 5.35s\tremaining: 19.7s\n",
      "64:\tlearn: 1615.5262905\ttotal: 5.44s\tremaining: 19.7s\n",
      "65:\tlearn: 1611.1356164\ttotal: 5.55s\tremaining: 19.7s\n",
      "66:\tlearn: 1607.0934041\ttotal: 5.64s\tremaining: 19.6s\n",
      "67:\tlearn: 1604.2858163\ttotal: 5.74s\tremaining: 19.6s\n",
      "68:\tlearn: 1600.9872146\ttotal: 5.83s\tremaining: 19.5s\n",
      "69:\tlearn: 1596.7797554\ttotal: 5.93s\tremaining: 19.5s\n",
      "70:\tlearn: 1593.6342257\ttotal: 6.08s\tremaining: 19.6s\n",
      "71:\tlearn: 1590.6382064\ttotal: 6.16s\tremaining: 19.5s\n",
      "72:\tlearn: 1587.4394650\ttotal: 6.26s\tremaining: 19.5s\n",
      "73:\tlearn: 1584.2488050\ttotal: 6.36s\tremaining: 19.4s\n",
      "74:\tlearn: 1581.6871297\ttotal: 6.44s\tremaining: 19.3s\n",
      "75:\tlearn: 1579.5637799\ttotal: 6.51s\tremaining: 19.2s\n",
      "76:\tlearn: 1577.0457669\ttotal: 6.58s\tremaining: 19.1s\n",
      "77:\tlearn: 1574.4505755\ttotal: 6.67s\tremaining: 19s\n",
      "78:\tlearn: 1571.5959899\ttotal: 6.76s\tremaining: 18.9s\n",
      "79:\tlearn: 1569.6643580\ttotal: 6.84s\tremaining: 18.8s\n",
      "80:\tlearn: 1567.8696733\ttotal: 6.91s\tremaining: 18.7s\n",
      "81:\tlearn: 1565.8851055\ttotal: 6.98s\tremaining: 18.5s\n",
      "82:\tlearn: 1563.6246812\ttotal: 7.06s\tremaining: 18.5s\n",
      "83:\tlearn: 1561.9440792\ttotal: 7.16s\tremaining: 18.4s\n",
      "84:\tlearn: 1560.1358905\ttotal: 7.23s\tremaining: 18.3s\n",
      "85:\tlearn: 1558.4149642\ttotal: 7.32s\tremaining: 18.2s\n",
      "86:\tlearn: 1556.5960935\ttotal: 7.39s\tremaining: 18.1s\n",
      "87:\tlearn: 1554.8463702\ttotal: 7.5s\tremaining: 18.1s\n",
      "88:\tlearn: 1553.3590758\ttotal: 7.63s\tremaining: 18.1s\n",
      "89:\tlearn: 1551.3415439\ttotal: 7.76s\tremaining: 18.1s\n",
      "90:\tlearn: 1549.5629803\ttotal: 7.91s\tremaining: 18.2s\n",
      "91:\tlearn: 1547.2593162\ttotal: 8.02s\tremaining: 18.1s\n",
      "92:\tlearn: 1545.7952459\ttotal: 8.19s\tremaining: 18.2s\n",
      "93:\tlearn: 1543.8527699\ttotal: 8.34s\tremaining: 18.3s\n",
      "94:\tlearn: 1542.7015274\ttotal: 8.51s\tremaining: 18.4s\n",
      "95:\tlearn: 1541.4618482\ttotal: 8.66s\tremaining: 18.4s\n",
      "96:\tlearn: 1539.9835278\ttotal: 8.81s\tremaining: 18.4s\n",
      "97:\tlearn: 1538.6874763\ttotal: 8.95s\tremaining: 18.4s\n",
      "98:\tlearn: 1537.6074851\ttotal: 9.22s\tremaining: 18.7s\n",
      "99:\tlearn: 1536.0273262\ttotal: 9.4s\tremaining: 18.8s\n",
      "100:\tlearn: 1534.8409266\ttotal: 9.53s\tremaining: 18.8s\n",
      "101:\tlearn: 1533.5627593\ttotal: 9.65s\tremaining: 18.7s\n",
      "102:\tlearn: 1532.4220715\ttotal: 9.8s\tremaining: 18.7s\n",
      "103:\tlearn: 1531.1578703\ttotal: 9.92s\tremaining: 18.7s\n",
      "104:\tlearn: 1529.7140495\ttotal: 10.1s\tremaining: 18.7s\n",
      "105:\tlearn: 1528.9373156\ttotal: 10.2s\tremaining: 18.7s\n",
      "106:\tlearn: 1528.1500901\ttotal: 10.4s\tremaining: 18.8s\n",
      "107:\tlearn: 1526.6736001\ttotal: 10.6s\tremaining: 18.8s\n",
      "108:\tlearn: 1525.5743336\ttotal: 10.7s\tremaining: 18.8s\n",
      "109:\tlearn: 1523.6741617\ttotal: 10.9s\tremaining: 18.8s\n",
      "110:\tlearn: 1522.3310144\ttotal: 11.2s\tremaining: 19s\n",
      "111:\tlearn: 1521.2385459\ttotal: 11.3s\tremaining: 19s\n",
      "112:\tlearn: 1519.9759492\ttotal: 11.5s\tremaining: 19s\n",
      "113:\tlearn: 1519.1416267\ttotal: 11.7s\tremaining: 19.1s\n",
      "114:\tlearn: 1518.0188051\ttotal: 11.9s\tremaining: 19.2s\n",
      "115:\tlearn: 1517.1536038\ttotal: 12.2s\tremaining: 19.3s\n",
      "116:\tlearn: 1516.1154696\ttotal: 12.3s\tremaining: 19.3s\n",
      "117:\tlearn: 1514.9476201\ttotal: 12.5s\tremaining: 19.3s\n",
      "118:\tlearn: 1514.1310991\ttotal: 12.7s\tremaining: 19.3s\n",
      "119:\tlearn: 1512.4271429\ttotal: 12.9s\tremaining: 19.3s\n",
      "120:\tlearn: 1510.9192553\ttotal: 13s\tremaining: 19.3s\n",
      "121:\tlearn: 1509.6072066\ttotal: 13.2s\tremaining: 19.3s\n",
      "122:\tlearn: 1508.6264887\ttotal: 13.4s\tremaining: 19.3s\n",
      "123:\tlearn: 1507.9987336\ttotal: 13.5s\tremaining: 19.2s\n",
      "124:\tlearn: 1507.3337508\ttotal: 13.7s\tremaining: 19.2s\n",
      "125:\tlearn: 1506.7290230\ttotal: 13.8s\tremaining: 19.1s\n",
      "126:\tlearn: 1505.3326780\ttotal: 14s\tremaining: 19s\n",
      "127:\tlearn: 1504.3249678\ttotal: 14.2s\tremaining: 19s\n",
      "128:\tlearn: 1503.4732557\ttotal: 14.3s\tremaining: 19s\n",
      "129:\tlearn: 1502.2724190\ttotal: 14.5s\tremaining: 19s\n",
      "130:\tlearn: 1501.5855294\ttotal: 14.7s\tremaining: 18.9s\n",
      "131:\tlearn: 1500.9349687\ttotal: 14.8s\tremaining: 18.8s\n",
      "132:\tlearn: 1500.2144875\ttotal: 14.9s\tremaining: 18.7s\n",
      "133:\tlearn: 1499.2201873\ttotal: 15.1s\tremaining: 18.7s\n",
      "134:\tlearn: 1498.6455750\ttotal: 15.3s\tremaining: 18.7s\n",
      "135:\tlearn: 1497.7524797\ttotal: 15.4s\tremaining: 18.6s\n",
      "136:\tlearn: 1496.8834056\ttotal: 15.7s\tremaining: 18.6s\n",
      "137:\tlearn: 1495.3197985\ttotal: 15.8s\tremaining: 18.6s\n",
      "138:\tlearn: 1494.5617621\ttotal: 16.1s\tremaining: 18.6s\n",
      "139:\tlearn: 1493.8351804\ttotal: 16.3s\tremaining: 18.6s\n",
      "140:\tlearn: 1493.0314830\ttotal: 16.5s\tremaining: 18.6s\n",
      "141:\tlearn: 1492.3612928\ttotal: 16.7s\tremaining: 18.5s\n",
      "142:\tlearn: 1491.6554953\ttotal: 16.9s\tremaining: 18.5s\n",
      "143:\tlearn: 1490.8135331\ttotal: 17s\tremaining: 18.4s\n",
      "144:\tlearn: 1489.6798330\ttotal: 17.3s\tremaining: 18.5s\n",
      "145:\tlearn: 1488.9256007\ttotal: 17.5s\tremaining: 18.4s\n",
      "146:\tlearn: 1488.1898354\ttotal: 17.6s\tremaining: 18.3s\n",
      "147:\tlearn: 1487.4055522\ttotal: 17.7s\tremaining: 18.2s\n",
      "148:\tlearn: 1486.9920926\ttotal: 17.8s\tremaining: 18s\n",
      "149:\tlearn: 1486.5146147\ttotal: 17.9s\tremaining: 17.9s\n",
      "150:\tlearn: 1485.6433060\ttotal: 18s\tremaining: 17.8s\n",
      "151:\tlearn: 1485.0257901\ttotal: 18.1s\tremaining: 17.6s\n",
      "152:\tlearn: 1484.4967640\ttotal: 18.2s\tremaining: 17.5s\n",
      "153:\tlearn: 1483.5944118\ttotal: 18.3s\tremaining: 17.3s\n",
      "154:\tlearn: 1482.7759059\ttotal: 18.4s\tremaining: 17.2s\n",
      "155:\tlearn: 1481.9962255\ttotal: 18.4s\tremaining: 17s\n",
      "156:\tlearn: 1481.5448478\ttotal: 18.5s\tremaining: 16.9s\n",
      "157:\tlearn: 1480.3354418\ttotal: 18.6s\tremaining: 16.7s\n",
      "158:\tlearn: 1479.9029362\ttotal: 18.7s\tremaining: 16.6s\n",
      "159:\tlearn: 1478.6866652\ttotal: 18.9s\tremaining: 16.5s\n",
      "160:\tlearn: 1478.0462910\ttotal: 19s\tremaining: 16.4s\n",
      "161:\tlearn: 1477.6918459\ttotal: 19.1s\tremaining: 16.3s\n",
      "162:\tlearn: 1476.7936541\ttotal: 19.2s\tremaining: 16.1s\n",
      "163:\tlearn: 1476.2336192\ttotal: 19.3s\tremaining: 16s\n",
      "164:\tlearn: 1475.9510665\ttotal: 19.4s\tremaining: 15.8s\n",
      "165:\tlearn: 1475.4284941\ttotal: 19.4s\tremaining: 15.7s\n",
      "166:\tlearn: 1475.2149561\ttotal: 19.5s\tremaining: 15.6s\n",
      "167:\tlearn: 1473.6032843\ttotal: 19.6s\tremaining: 15.4s\n",
      "168:\tlearn: 1472.9403198\ttotal: 19.7s\tremaining: 15.3s\n",
      "169:\tlearn: 1472.2233020\ttotal: 19.8s\tremaining: 15.1s\n",
      "170:\tlearn: 1471.6554064\ttotal: 19.9s\tremaining: 15s\n",
      "171:\tlearn: 1471.1310694\ttotal: 20s\tremaining: 14.9s\n",
      "172:\tlearn: 1470.5372296\ttotal: 20.2s\tremaining: 14.8s\n",
      "173:\tlearn: 1469.6347004\ttotal: 20.3s\tremaining: 14.7s\n",
      "174:\tlearn: 1469.0915191\ttotal: 20.4s\tremaining: 14.5s\n",
      "175:\tlearn: 1468.2737667\ttotal: 20.4s\tremaining: 14.4s\n",
      "176:\tlearn: 1467.7179587\ttotal: 20.5s\tremaining: 14.3s\n",
      "177:\tlearn: 1467.1251164\ttotal: 20.6s\tremaining: 14.1s\n",
      "178:\tlearn: 1466.7454857\ttotal: 20.7s\tremaining: 14s\n",
      "179:\tlearn: 1465.8929932\ttotal: 20.8s\tremaining: 13.9s\n",
      "180:\tlearn: 1465.6923378\ttotal: 20.9s\tremaining: 13.7s\n",
      "181:\tlearn: 1465.0197801\ttotal: 20.9s\tremaining: 13.6s\n",
      "182:\tlearn: 1464.6958957\ttotal: 21s\tremaining: 13.4s\n",
      "183:\tlearn: 1464.0869327\ttotal: 21.1s\tremaining: 13.3s\n",
      "184:\tlearn: 1463.7081658\ttotal: 21.2s\tremaining: 13.2s\n",
      "185:\tlearn: 1463.1375549\ttotal: 21.3s\tremaining: 13s\n",
      "186:\tlearn: 1462.7266294\ttotal: 21.3s\tremaining: 12.9s\n",
      "187:\tlearn: 1462.0679278\ttotal: 21.4s\tremaining: 12.8s\n",
      "188:\tlearn: 1461.4661107\ttotal: 21.5s\tremaining: 12.6s\n",
      "189:\tlearn: 1460.9619123\ttotal: 21.6s\tremaining: 12.5s\n",
      "190:\tlearn: 1460.1139919\ttotal: 21.7s\tremaining: 12.4s\n",
      "191:\tlearn: 1459.5322974\ttotal: 21.8s\tremaining: 12.2s\n",
      "192:\tlearn: 1458.9461133\ttotal: 21.9s\tremaining: 12.1s\n",
      "193:\tlearn: 1458.6039705\ttotal: 22s\tremaining: 12s\n",
      "194:\tlearn: 1458.1689676\ttotal: 22.1s\tremaining: 11.9s\n",
      "195:\tlearn: 1457.5112624\ttotal: 22.4s\tremaining: 11.9s\n",
      "196:\tlearn: 1457.2221531\ttotal: 22.6s\tremaining: 11.8s\n",
      "197:\tlearn: 1456.8485120\ttotal: 22.8s\tremaining: 11.7s\n",
      "198:\tlearn: 1456.1947956\ttotal: 22.9s\tremaining: 11.6s\n",
      "199:\tlearn: 1455.5068067\ttotal: 23s\tremaining: 11.5s\n",
      "200:\tlearn: 1455.0296185\ttotal: 23.1s\tremaining: 11.4s\n",
      "201:\tlearn: 1454.2516569\ttotal: 23.2s\tremaining: 11.2s\n",
      "202:\tlearn: 1454.0658849\ttotal: 23.3s\tremaining: 11.1s\n",
      "203:\tlearn: 1453.8154789\ttotal: 23.4s\tremaining: 11s\n",
      "204:\tlearn: 1453.1741296\ttotal: 23.5s\tremaining: 10.9s\n",
      "205:\tlearn: 1452.8139148\ttotal: 23.6s\tremaining: 10.8s\n",
      "206:\tlearn: 1452.4846677\ttotal: 23.7s\tremaining: 10.7s\n",
      "207:\tlearn: 1451.5492660\ttotal: 23.8s\tremaining: 10.5s\n",
      "208:\tlearn: 1451.1772990\ttotal: 24s\tremaining: 10.4s\n",
      "209:\tlearn: 1450.6590660\ttotal: 24.1s\tremaining: 10.3s\n",
      "210:\tlearn: 1450.2594778\ttotal: 24.3s\tremaining: 10.2s\n",
      "211:\tlearn: 1449.7470318\ttotal: 24.4s\tremaining: 10.1s\n",
      "212:\tlearn: 1449.1282382\ttotal: 24.5s\tremaining: 10s\n",
      "213:\tlearn: 1448.2680545\ttotal: 24.6s\tremaining: 9.87s\n",
      "214:\tlearn: 1447.9889866\ttotal: 24.7s\tremaining: 9.76s\n",
      "215:\tlearn: 1447.2503974\ttotal: 24.8s\tremaining: 9.64s\n",
      "216:\tlearn: 1446.9933351\ttotal: 24.9s\tremaining: 9.54s\n",
      "217:\tlearn: 1446.3515428\ttotal: 25.1s\tremaining: 9.42s\n",
      "218:\tlearn: 1445.7532651\ttotal: 25.2s\tremaining: 9.3s\n",
      "219:\tlearn: 1445.4699632\ttotal: 25.3s\tremaining: 9.2s\n",
      "220:\tlearn: 1445.0892487\ttotal: 25.4s\tremaining: 9.08s\n",
      "221:\tlearn: 1444.9373986\ttotal: 25.5s\tremaining: 8.96s\n",
      "222:\tlearn: 1444.3164570\ttotal: 25.6s\tremaining: 8.84s\n",
      "223:\tlearn: 1443.8936898\ttotal: 25.7s\tremaining: 8.71s\n",
      "224:\tlearn: 1443.3420350\ttotal: 25.8s\tremaining: 8.59s\n",
      "225:\tlearn: 1443.1485266\ttotal: 25.9s\tremaining: 8.47s\n",
      "226:\tlearn: 1442.7120220\ttotal: 26s\tremaining: 8.35s\n",
      "227:\tlearn: 1442.0650779\ttotal: 26s\tremaining: 8.22s\n",
      "228:\tlearn: 1441.8576778\ttotal: 26.1s\tremaining: 8.1s\n",
      "229:\tlearn: 1441.4305053\ttotal: 26.2s\tremaining: 7.98s\n",
      "230:\tlearn: 1440.8187304\ttotal: 26.3s\tremaining: 7.86s\n",
      "231:\tlearn: 1440.3671770\ttotal: 26.4s\tremaining: 7.74s\n",
      "232:\tlearn: 1439.7048862\ttotal: 26.5s\tremaining: 7.63s\n",
      "233:\tlearn: 1439.3960758\ttotal: 26.7s\tremaining: 7.53s\n",
      "234:\tlearn: 1439.1504029\ttotal: 26.8s\tremaining: 7.41s\n",
      "235:\tlearn: 1438.5308126\ttotal: 26.9s\tremaining: 7.29s\n",
      "236:\tlearn: 1438.2225878\ttotal: 27s\tremaining: 7.17s\n",
      "237:\tlearn: 1437.8902185\ttotal: 27.2s\tremaining: 7.08s\n",
      "238:\tlearn: 1437.3586662\ttotal: 27.3s\tremaining: 6.96s\n",
      "239:\tlearn: 1437.0901997\ttotal: 27.4s\tremaining: 6.85s\n",
      "240:\tlearn: 1436.3363383\ttotal: 27.5s\tremaining: 6.74s\n",
      "241:\tlearn: 1436.0105001\ttotal: 27.6s\tremaining: 6.62s\n",
      "242:\tlearn: 1435.5143276\ttotal: 27.7s\tremaining: 6.5s\n",
      "243:\tlearn: 1435.2473044\ttotal: 27.8s\tremaining: 6.38s\n",
      "244:\tlearn: 1435.0665670\ttotal: 27.9s\tremaining: 6.26s\n",
      "245:\tlearn: 1434.7631856\ttotal: 28s\tremaining: 6.14s\n",
      "246:\tlearn: 1434.3051065\ttotal: 28.2s\tremaining: 6.04s\n",
      "247:\tlearn: 1433.8489091\ttotal: 28.5s\tremaining: 5.97s\n",
      "248:\tlearn: 1433.3312837\ttotal: 28.7s\tremaining: 5.87s\n",
      "249:\tlearn: 1432.8055420\ttotal: 28.8s\tremaining: 5.76s\n",
      "250:\tlearn: 1432.5863244\ttotal: 28.9s\tremaining: 5.64s\n",
      "251:\tlearn: 1432.3484655\ttotal: 29s\tremaining: 5.52s\n",
      "252:\tlearn: 1431.8827275\ttotal: 29.1s\tremaining: 5.4s\n",
      "253:\tlearn: 1430.9084139\ttotal: 29.2s\tremaining: 5.29s\n",
      "254:\tlearn: 1430.5572894\ttotal: 29.3s\tremaining: 5.17s\n",
      "255:\tlearn: 1430.2807442\ttotal: 29.4s\tremaining: 5.05s\n",
      "256:\tlearn: 1430.0264176\ttotal: 29.5s\tremaining: 4.93s\n",
      "257:\tlearn: 1429.4702515\ttotal: 29.6s\tremaining: 4.82s\n",
      "258:\tlearn: 1428.9693972\ttotal: 29.7s\tremaining: 4.7s\n",
      "259:\tlearn: 1428.6749527\ttotal: 29.8s\tremaining: 4.58s\n",
      "260:\tlearn: 1428.4646031\ttotal: 29.9s\tremaining: 4.47s\n",
      "261:\tlearn: 1428.2760275\ttotal: 30s\tremaining: 4.35s\n",
      "262:\tlearn: 1427.3668715\ttotal: 30.1s\tremaining: 4.23s\n",
      "263:\tlearn: 1426.8766297\ttotal: 30.1s\tremaining: 4.11s\n",
      "264:\tlearn: 1426.4456698\ttotal: 30.2s\tremaining: 3.99s\n",
      "265:\tlearn: 1426.1756238\ttotal: 30.3s\tremaining: 3.87s\n",
      "266:\tlearn: 1425.3233648\ttotal: 30.4s\tremaining: 3.76s\n",
      "267:\tlearn: 1424.5682639\ttotal: 30.5s\tremaining: 3.64s\n",
      "268:\tlearn: 1424.4248229\ttotal: 30.6s\tremaining: 3.52s\n",
      "269:\tlearn: 1424.2365353\ttotal: 30.7s\tremaining: 3.41s\n",
      "270:\tlearn: 1423.9498269\ttotal: 30.8s\tremaining: 3.29s\n",
      "271:\tlearn: 1423.5796908\ttotal: 30.9s\tremaining: 3.18s\n",
      "272:\tlearn: 1422.9013599\ttotal: 30.9s\tremaining: 3.06s\n",
      "273:\tlearn: 1422.4603964\ttotal: 31s\tremaining: 2.94s\n",
      "274:\tlearn: 1422.2168632\ttotal: 31.1s\tremaining: 2.83s\n",
      "275:\tlearn: 1421.8737319\ttotal: 31.2s\tremaining: 2.71s\n",
      "276:\tlearn: 1421.6897452\ttotal: 31.3s\tremaining: 2.6s\n",
      "277:\tlearn: 1421.4645552\ttotal: 31.3s\tremaining: 2.48s\n",
      "278:\tlearn: 1421.2011842\ttotal: 31.4s\tremaining: 2.36s\n",
      "279:\tlearn: 1420.8750415\ttotal: 31.5s\tremaining: 2.25s\n",
      "280:\tlearn: 1420.7148439\ttotal: 31.6s\tremaining: 2.14s\n",
      "281:\tlearn: 1420.3652019\ttotal: 31.7s\tremaining: 2.02s\n",
      "282:\tlearn: 1419.7938197\ttotal: 31.8s\tremaining: 1.91s\n",
      "283:\tlearn: 1419.4750800\ttotal: 31.9s\tremaining: 1.8s\n",
      "284:\tlearn: 1419.1138063\ttotal: 32.1s\tremaining: 1.69s\n",
      "285:\tlearn: 1418.4997155\ttotal: 32.3s\tremaining: 1.58s\n",
      "286:\tlearn: 1418.1227492\ttotal: 32.4s\tremaining: 1.47s\n",
      "287:\tlearn: 1417.7806391\ttotal: 32.5s\tremaining: 1.35s\n",
      "288:\tlearn: 1417.5568507\ttotal: 32.6s\tremaining: 1.24s\n",
      "289:\tlearn: 1416.9003451\ttotal: 32.7s\tremaining: 1.13s\n",
      "290:\tlearn: 1416.3411375\ttotal: 32.9s\tremaining: 1.02s\n",
      "291:\tlearn: 1416.0297855\ttotal: 33s\tremaining: 903ms\n",
      "292:\tlearn: 1415.8725763\ttotal: 33.1s\tremaining: 790ms\n",
      "293:\tlearn: 1415.4911039\ttotal: 33.2s\tremaining: 677ms\n",
      "294:\tlearn: 1415.2430059\ttotal: 33.3s\tremaining: 564ms\n",
      "295:\tlearn: 1414.9369631\ttotal: 33.4s\tremaining: 451ms\n",
      "296:\tlearn: 1414.4673300\ttotal: 33.5s\tremaining: 338ms\n",
      "297:\tlearn: 1414.2149396\ttotal: 33.6s\tremaining: 226ms\n",
      "298:\tlearn: 1413.7937741\ttotal: 33.7s\tremaining: 113ms\n",
      "299:\tlearn: 1413.4081643\ttotal: 33.9s\tremaining: 0us\n",
      "0:\tlearn: 3494.9540642\ttotal: 116ms\tremaining: 34.8s\n",
      "1:\tlearn: 3388.5999718\ttotal: 213ms\tremaining: 31.7s\n",
      "2:\tlearn: 3287.1606412\ttotal: 313ms\tremaining: 31s\n",
      "3:\tlearn: 3192.4381105\ttotal: 427ms\tremaining: 31.6s\n",
      "4:\tlearn: 3102.0773944\ttotal: 543ms\tremaining: 32s\n",
      "5:\tlearn: 3019.3566762\ttotal: 689ms\tremaining: 33.8s\n",
      "6:\tlearn: 2939.8716067\ttotal: 816ms\tremaining: 34.2s\n",
      "7:\tlearn: 2866.4531336\ttotal: 919ms\tremaining: 33.5s\n",
      "8:\tlearn: 2797.6280770\ttotal: 1.02s\tremaining: 33s\n",
      "9:\tlearn: 2733.0890950\ttotal: 1.16s\tremaining: 33.5s\n",
      "10:\tlearn: 2671.7844380\ttotal: 1.29s\tremaining: 33.8s\n",
      "11:\tlearn: 2611.5901455\ttotal: 1.38s\tremaining: 33s\n",
      "12:\tlearn: 2557.0782888\ttotal: 1.47s\tremaining: 32.4s\n",
      "13:\tlearn: 2503.7147707\ttotal: 1.57s\tremaining: 32s\n",
      "14:\tlearn: 2455.4878184\ttotal: 1.67s\tremaining: 31.7s\n",
      "15:\tlearn: 2407.9314506\ttotal: 1.76s\tremaining: 31.3s\n",
      "16:\tlearn: 2365.2150994\ttotal: 1.85s\tremaining: 30.8s\n",
      "17:\tlearn: 2325.5914876\ttotal: 1.95s\tremaining: 30.6s\n",
      "18:\tlearn: 2287.6358632\ttotal: 2.04s\tremaining: 30.2s\n",
      "19:\tlearn: 2252.9231553\ttotal: 2.16s\tremaining: 30.2s\n",
      "20:\tlearn: 2217.8920694\ttotal: 2.25s\tremaining: 29.9s\n",
      "21:\tlearn: 2184.5562775\ttotal: 2.33s\tremaining: 29.5s\n",
      "22:\tlearn: 2154.2635924\ttotal: 2.42s\tremaining: 29.1s\n",
      "23:\tlearn: 2125.0683688\ttotal: 2.51s\tremaining: 28.8s\n",
      "24:\tlearn: 2095.4029777\ttotal: 2.6s\tremaining: 28.6s\n",
      "25:\tlearn: 2069.4007416\ttotal: 2.68s\tremaining: 28.3s\n",
      "26:\tlearn: 2044.8657121\ttotal: 2.77s\tremaining: 28s\n",
      "27:\tlearn: 2021.9685408\ttotal: 2.85s\tremaining: 27.6s\n",
      "28:\tlearn: 1998.5245972\ttotal: 2.94s\tremaining: 27.4s\n",
      "29:\tlearn: 1974.3376398\ttotal: 3.02s\tremaining: 27.2s\n",
      "30:\tlearn: 1955.3586755\ttotal: 3.1s\tremaining: 26.9s\n",
      "31:\tlearn: 1935.2316319\ttotal: 3.2s\tremaining: 26.8s\n",
      "32:\tlearn: 1915.8486310\ttotal: 3.29s\tremaining: 26.6s\n",
      "33:\tlearn: 1900.0079984\ttotal: 3.37s\tremaining: 26.4s\n",
      "34:\tlearn: 1881.6706902\ttotal: 3.47s\tremaining: 26.3s\n",
      "35:\tlearn: 1866.3893828\ttotal: 3.56s\tremaining: 26.1s\n",
      "36:\tlearn: 1851.0946075\ttotal: 3.65s\tremaining: 26s\n",
      "37:\tlearn: 1836.5120656\ttotal: 3.74s\tremaining: 25.8s\n",
      "38:\tlearn: 1821.6616619\ttotal: 3.84s\tremaining: 25.7s\n",
      "39:\tlearn: 1809.1888280\ttotal: 3.92s\tremaining: 25.5s\n",
      "40:\tlearn: 1797.0374436\ttotal: 4s\tremaining: 25.3s\n",
      "41:\tlearn: 1786.6115532\ttotal: 4.09s\tremaining: 25.1s\n",
      "42:\tlearn: 1775.2218146\ttotal: 4.17s\tremaining: 24.9s\n",
      "43:\tlearn: 1763.9390122\ttotal: 4.25s\tremaining: 24.7s\n",
      "44:\tlearn: 1752.9206674\ttotal: 4.32s\tremaining: 24.5s\n",
      "45:\tlearn: 1743.6574962\ttotal: 4.4s\tremaining: 24.3s\n",
      "46:\tlearn: 1733.6073419\ttotal: 4.48s\tremaining: 24.1s\n",
      "47:\tlearn: 1723.1133088\ttotal: 4.55s\tremaining: 23.9s\n",
      "48:\tlearn: 1714.1822235\ttotal: 4.64s\tremaining: 23.8s\n",
      "49:\tlearn: 1705.1594934\ttotal: 4.72s\tremaining: 23.6s\n",
      "50:\tlearn: 1696.8243507\ttotal: 4.8s\tremaining: 23.4s\n",
      "51:\tlearn: 1689.0914663\ttotal: 4.87s\tremaining: 23.2s\n",
      "52:\tlearn: 1682.1384647\ttotal: 4.95s\tremaining: 23.1s\n",
      "53:\tlearn: 1675.3448530\ttotal: 5.04s\tremaining: 23s\n",
      "54:\tlearn: 1668.3649597\ttotal: 5.13s\tremaining: 22.9s\n",
      "55:\tlearn: 1662.6125119\ttotal: 5.21s\tremaining: 22.7s\n",
      "56:\tlearn: 1656.7795853\ttotal: 5.28s\tremaining: 22.5s\n",
      "57:\tlearn: 1651.4440779\ttotal: 5.35s\tremaining: 22.3s\n",
      "58:\tlearn: 1645.8881446\ttotal: 5.44s\tremaining: 22.2s\n",
      "59:\tlearn: 1640.9815589\ttotal: 5.51s\tremaining: 22.1s\n",
      "60:\tlearn: 1636.8562987\ttotal: 5.59s\tremaining: 21.9s\n",
      "61:\tlearn: 1631.8360658\ttotal: 5.67s\tremaining: 21.8s\n",
      "62:\tlearn: 1627.5773904\ttotal: 5.74s\tremaining: 21.6s\n",
      "63:\tlearn: 1622.4439519\ttotal: 5.81s\tremaining: 21.4s\n",
      "64:\tlearn: 1619.0710945\ttotal: 5.89s\tremaining: 21.3s\n",
      "65:\tlearn: 1615.4490940\ttotal: 5.96s\tremaining: 21.1s\n",
      "66:\tlearn: 1612.4183343\ttotal: 6.02s\tremaining: 20.9s\n",
      "67:\tlearn: 1607.7848719\ttotal: 6.12s\tremaining: 20.9s\n",
      "68:\tlearn: 1603.8934732\ttotal: 6.19s\tremaining: 20.7s\n",
      "69:\tlearn: 1600.6523281\ttotal: 6.26s\tremaining: 20.6s\n",
      "70:\tlearn: 1597.7661809\ttotal: 6.32s\tremaining: 20.4s\n",
      "71:\tlearn: 1594.8742168\ttotal: 6.39s\tremaining: 20.2s\n",
      "72:\tlearn: 1591.8256986\ttotal: 6.47s\tremaining: 20.1s\n",
      "73:\tlearn: 1588.6211609\ttotal: 6.55s\tremaining: 20s\n",
      "74:\tlearn: 1586.0905580\ttotal: 6.63s\tremaining: 19.9s\n",
      "75:\tlearn: 1582.7721726\ttotal: 6.72s\tremaining: 19.8s\n",
      "76:\tlearn: 1580.0541991\ttotal: 6.8s\tremaining: 19.7s\n",
      "77:\tlearn: 1578.0473748\ttotal: 6.89s\tremaining: 19.6s\n",
      "78:\tlearn: 1575.6010380\ttotal: 6.97s\tremaining: 19.5s\n",
      "79:\tlearn: 1572.8172730\ttotal: 7.06s\tremaining: 19.4s\n",
      "80:\tlearn: 1570.1874275\ttotal: 7.16s\tremaining: 19.4s\n",
      "81:\tlearn: 1567.7962177\ttotal: 7.25s\tremaining: 19.3s\n",
      "82:\tlearn: 1565.4561222\ttotal: 7.34s\tremaining: 19.2s\n",
      "83:\tlearn: 1563.2390575\ttotal: 7.43s\tremaining: 19.1s\n",
      "84:\tlearn: 1561.3851212\ttotal: 7.52s\tremaining: 19s\n",
      "85:\tlearn: 1559.0394736\ttotal: 7.6s\tremaining: 18.9s\n",
      "86:\tlearn: 1557.5461014\ttotal: 7.68s\tremaining: 18.8s\n",
      "87:\tlearn: 1556.3762490\ttotal: 7.76s\tremaining: 18.7s\n",
      "88:\tlearn: 1554.5140245\ttotal: 7.85s\tremaining: 18.6s\n",
      "89:\tlearn: 1551.9309715\ttotal: 7.91s\tremaining: 18.4s\n",
      "90:\tlearn: 1550.2020920\ttotal: 7.99s\tremaining: 18.4s\n",
      "91:\tlearn: 1548.4366032\ttotal: 8.08s\tremaining: 18.3s\n",
      "92:\tlearn: 1546.5632797\ttotal: 8.17s\tremaining: 18.2s\n",
      "93:\tlearn: 1544.8322470\ttotal: 8.28s\tremaining: 18.1s\n",
      "94:\tlearn: 1542.8764138\ttotal: 8.38s\tremaining: 18.1s\n",
      "95:\tlearn: 1541.1284862\ttotal: 8.45s\tremaining: 17.9s\n",
      "96:\tlearn: 1539.7171033\ttotal: 8.54s\tremaining: 17.9s\n",
      "97:\tlearn: 1537.8015019\ttotal: 8.62s\tremaining: 17.8s\n",
      "98:\tlearn: 1536.4651307\ttotal: 8.73s\tremaining: 17.7s\n",
      "99:\tlearn: 1534.6654896\ttotal: 8.84s\tremaining: 17.7s\n",
      "100:\tlearn: 1533.5121445\ttotal: 8.93s\tremaining: 17.6s\n",
      "101:\tlearn: 1531.9253340\ttotal: 9.05s\tremaining: 17.6s\n",
      "102:\tlearn: 1530.8388453\ttotal: 9.15s\tremaining: 17.5s\n",
      "103:\tlearn: 1529.0122341\ttotal: 9.24s\tremaining: 17.4s\n",
      "104:\tlearn: 1527.6763514\ttotal: 9.33s\tremaining: 17.3s\n",
      "105:\tlearn: 1526.2618180\ttotal: 9.44s\tremaining: 17.3s\n",
      "106:\tlearn: 1524.8648823\ttotal: 9.55s\tremaining: 17.2s\n",
      "107:\tlearn: 1524.1009705\ttotal: 9.65s\tremaining: 17.2s\n",
      "108:\tlearn: 1522.5527939\ttotal: 9.73s\tremaining: 17.1s\n",
      "109:\tlearn: 1521.4574510\ttotal: 9.83s\tremaining: 17s\n",
      "110:\tlearn: 1520.3944672\ttotal: 9.92s\tremaining: 16.9s\n",
      "111:\tlearn: 1519.6326978\ttotal: 10s\tremaining: 16.8s\n",
      "112:\tlearn: 1518.6113252\ttotal: 10.1s\tremaining: 16.7s\n",
      "113:\tlearn: 1517.8340031\ttotal: 10.2s\tremaining: 16.6s\n",
      "114:\tlearn: 1516.6353448\ttotal: 10.3s\tremaining: 16.6s\n",
      "115:\tlearn: 1515.8750215\ttotal: 10.4s\tremaining: 16.5s\n",
      "116:\tlearn: 1514.9029681\ttotal: 10.5s\tremaining: 16.5s\n",
      "117:\tlearn: 1514.0527199\ttotal: 10.6s\tremaining: 16.4s\n",
      "118:\tlearn: 1512.5694426\ttotal: 10.7s\tremaining: 16.3s\n",
      "119:\tlearn: 1511.6029425\ttotal: 10.8s\tremaining: 16.2s\n",
      "120:\tlearn: 1510.2722866\ttotal: 10.9s\tremaining: 16.1s\n",
      "121:\tlearn: 1509.1990696\ttotal: 11s\tremaining: 16s\n",
      "122:\tlearn: 1507.2931196\ttotal: 11.1s\tremaining: 16s\n",
      "123:\tlearn: 1506.3186162\ttotal: 11.2s\tremaining: 15.9s\n",
      "124:\tlearn: 1505.3192889\ttotal: 11.3s\tremaining: 15.8s\n",
      "125:\tlearn: 1504.6018219\ttotal: 11.4s\tremaining: 15.7s\n",
      "126:\tlearn: 1503.7161758\ttotal: 11.5s\tremaining: 15.6s\n",
      "127:\tlearn: 1502.1500360\ttotal: 11.5s\tremaining: 15.5s\n",
      "128:\tlearn: 1501.6065243\ttotal: 11.6s\tremaining: 15.4s\n",
      "129:\tlearn: 1500.4213241\ttotal: 11.7s\tremaining: 15.3s\n",
      "130:\tlearn: 1499.5361943\ttotal: 11.9s\tremaining: 15.3s\n",
      "131:\tlearn: 1498.6699473\ttotal: 12s\tremaining: 15.3s\n",
      "132:\tlearn: 1497.6812448\ttotal: 12.1s\tremaining: 15.2s\n",
      "133:\tlearn: 1496.7170749\ttotal: 12.2s\tremaining: 15.1s\n",
      "134:\tlearn: 1496.0388606\ttotal: 12.4s\tremaining: 15.1s\n",
      "135:\tlearn: 1494.6201007\ttotal: 12.5s\tremaining: 15s\n",
      "136:\tlearn: 1493.9453780\ttotal: 12.6s\tremaining: 14.9s\n",
      "137:\tlearn: 1492.8483564\ttotal: 12.6s\tremaining: 14.8s\n",
      "138:\tlearn: 1491.8263887\ttotal: 12.7s\tremaining: 14.7s\n",
      "139:\tlearn: 1490.7196476\ttotal: 12.8s\tremaining: 14.6s\n",
      "140:\tlearn: 1489.9917674\ttotal: 12.9s\tremaining: 14.5s\n",
      "141:\tlearn: 1488.8948291\ttotal: 13s\tremaining: 14.4s\n",
      "142:\tlearn: 1488.4519987\ttotal: 13.1s\tremaining: 14.3s\n",
      "143:\tlearn: 1487.8040412\ttotal: 13.2s\tremaining: 14.3s\n",
      "144:\tlearn: 1487.0171696\ttotal: 13.3s\tremaining: 14.2s\n",
      "145:\tlearn: 1486.2726016\ttotal: 13.3s\tremaining: 14.1s\n",
      "146:\tlearn: 1485.5542925\ttotal: 13.4s\tremaining: 14s\n",
      "147:\tlearn: 1484.6197593\ttotal: 13.5s\tremaining: 13.9s\n",
      "148:\tlearn: 1483.7667490\ttotal: 13.6s\tremaining: 13.8s\n",
      "149:\tlearn: 1483.3721546\ttotal: 13.7s\tremaining: 13.7s\n",
      "150:\tlearn: 1482.8113546\ttotal: 13.7s\tremaining: 13.5s\n",
      "151:\tlearn: 1481.7604595\ttotal: 13.8s\tremaining: 13.5s\n",
      "152:\tlearn: 1480.7882437\ttotal: 13.9s\tremaining: 13.4s\n",
      "153:\tlearn: 1479.4194641\ttotal: 14s\tremaining: 13.3s\n",
      "154:\tlearn: 1478.6626570\ttotal: 14.1s\tremaining: 13.2s\n",
      "155:\tlearn: 1477.5649386\ttotal: 14.2s\tremaining: 13.1s\n",
      "156:\tlearn: 1476.7187192\ttotal: 14.2s\tremaining: 13s\n",
      "157:\tlearn: 1476.1649562\ttotal: 14.3s\tremaining: 12.9s\n",
      "158:\tlearn: 1475.3160943\ttotal: 14.4s\tremaining: 12.8s\n",
      "159:\tlearn: 1474.6883230\ttotal: 14.5s\tremaining: 12.7s\n",
      "160:\tlearn: 1474.0997229\ttotal: 14.6s\tremaining: 12.6s\n",
      "161:\tlearn: 1473.3403643\ttotal: 14.6s\tremaining: 12.5s\n",
      "162:\tlearn: 1472.7702797\ttotal: 14.7s\tremaining: 12.4s\n",
      "163:\tlearn: 1472.0134002\ttotal: 14.8s\tremaining: 12.3s\n",
      "164:\tlearn: 1471.5922985\ttotal: 14.9s\tremaining: 12.2s\n",
      "165:\tlearn: 1470.9724249\ttotal: 15s\tremaining: 12.1s\n",
      "166:\tlearn: 1470.4351961\ttotal: 15.1s\tremaining: 12s\n",
      "167:\tlearn: 1469.4767958\ttotal: 15.2s\tremaining: 11.9s\n",
      "168:\tlearn: 1468.8589704\ttotal: 15.2s\tremaining: 11.8s\n",
      "169:\tlearn: 1468.2139448\ttotal: 15.3s\tremaining: 11.7s\n",
      "170:\tlearn: 1467.5068151\ttotal: 15.4s\tremaining: 11.6s\n",
      "171:\tlearn: 1466.9750980\ttotal: 15.5s\tremaining: 11.5s\n",
      "172:\tlearn: 1466.1556725\ttotal: 15.6s\tremaining: 11.4s\n",
      "173:\tlearn: 1465.9031154\ttotal: 15.7s\tremaining: 11.3s\n",
      "174:\tlearn: 1465.2005575\ttotal: 15.7s\tremaining: 11.2s\n",
      "175:\tlearn: 1464.8652034\ttotal: 15.8s\tremaining: 11.2s\n",
      "176:\tlearn: 1464.0499460\ttotal: 15.9s\tremaining: 11.1s\n",
      "177:\tlearn: 1463.3918386\ttotal: 16s\tremaining: 11s\n",
      "178:\tlearn: 1462.7317262\ttotal: 16.1s\tremaining: 10.9s\n",
      "179:\tlearn: 1461.9623663\ttotal: 16.2s\tremaining: 10.8s\n",
      "180:\tlearn: 1461.2630350\ttotal: 16.2s\tremaining: 10.7s\n",
      "181:\tlearn: 1460.4029417\ttotal: 16.3s\tremaining: 10.6s\n",
      "182:\tlearn: 1459.8759764\ttotal: 16.4s\tremaining: 10.5s\n",
      "183:\tlearn: 1459.3517657\ttotal: 16.5s\tremaining: 10.4s\n",
      "184:\tlearn: 1459.0366662\ttotal: 16.6s\tremaining: 10.3s\n",
      "185:\tlearn: 1458.6571250\ttotal: 16.7s\tremaining: 10.2s\n",
      "186:\tlearn: 1457.7512733\ttotal: 16.7s\tremaining: 10.1s\n",
      "187:\tlearn: 1457.2088550\ttotal: 16.9s\tremaining: 10.1s\n",
      "188:\tlearn: 1456.9348548\ttotal: 17s\tremaining: 9.96s\n",
      "189:\tlearn: 1456.5724148\ttotal: 17.1s\tremaining: 9.87s\n",
      "190:\tlearn: 1456.2550963\ttotal: 17.1s\tremaining: 9.78s\n",
      "191:\tlearn: 1455.7833934\ttotal: 17.2s\tremaining: 9.68s\n",
      "192:\tlearn: 1455.4936862\ttotal: 17.3s\tremaining: 9.58s\n",
      "193:\tlearn: 1454.8438065\ttotal: 17.4s\tremaining: 9.49s\n",
      "194:\tlearn: 1454.3935255\ttotal: 17.5s\tremaining: 9.4s\n",
      "195:\tlearn: 1453.9213976\ttotal: 17.5s\tremaining: 9.31s\n",
      "196:\tlearn: 1453.3473097\ttotal: 17.6s\tremaining: 9.21s\n",
      "197:\tlearn: 1452.9845855\ttotal: 17.7s\tremaining: 9.12s\n",
      "198:\tlearn: 1452.2047589\ttotal: 17.8s\tremaining: 9.02s\n",
      "199:\tlearn: 1451.7603973\ttotal: 17.8s\tremaining: 8.91s\n",
      "200:\tlearn: 1451.0335188\ttotal: 17.9s\tremaining: 8.82s\n",
      "201:\tlearn: 1450.5444969\ttotal: 18s\tremaining: 8.73s\n",
      "202:\tlearn: 1450.1403981\ttotal: 18.1s\tremaining: 8.63s\n",
      "203:\tlearn: 1449.8489252\ttotal: 18.2s\tremaining: 8.54s\n",
      "204:\tlearn: 1449.6811111\ttotal: 18.2s\tremaining: 8.45s\n",
      "205:\tlearn: 1449.1981513\ttotal: 18.3s\tremaining: 8.35s\n",
      "206:\tlearn: 1448.5742869\ttotal: 18.4s\tremaining: 8.25s\n",
      "207:\tlearn: 1447.9987318\ttotal: 18.4s\tremaining: 8.16s\n",
      "208:\tlearn: 1447.7288309\ttotal: 18.5s\tremaining: 8.06s\n",
      "209:\tlearn: 1447.4435603\ttotal: 18.6s\tremaining: 7.97s\n",
      "210:\tlearn: 1446.9585111\ttotal: 18.7s\tremaining: 7.88s\n",
      "211:\tlearn: 1446.5245312\ttotal: 18.8s\tremaining: 7.79s\n",
      "212:\tlearn: 1446.0431304\ttotal: 18.9s\tremaining: 7.7s\n",
      "213:\tlearn: 1445.7114671\ttotal: 18.9s\tremaining: 7.61s\n",
      "214:\tlearn: 1445.3838673\ttotal: 19s\tremaining: 7.52s\n",
      "215:\tlearn: 1445.1448252\ttotal: 19.1s\tremaining: 7.42s\n",
      "216:\tlearn: 1444.7674780\ttotal: 19.2s\tremaining: 7.33s\n",
      "217:\tlearn: 1444.1912659\ttotal: 19.3s\tremaining: 7.25s\n",
      "218:\tlearn: 1443.9026779\ttotal: 19.3s\tremaining: 7.15s\n",
      "219:\tlearn: 1443.3744988\ttotal: 19.4s\tremaining: 7.06s\n",
      "220:\tlearn: 1442.7042059\ttotal: 19.5s\tremaining: 6.97s\n",
      "221:\tlearn: 1442.3707479\ttotal: 19.6s\tremaining: 6.88s\n",
      "222:\tlearn: 1441.8535634\ttotal: 19.7s\tremaining: 6.79s\n",
      "223:\tlearn: 1441.3777196\ttotal: 19.8s\tremaining: 6.71s\n",
      "224:\tlearn: 1440.8672039\ttotal: 19.9s\tremaining: 6.62s\n",
      "225:\tlearn: 1440.4245658\ttotal: 19.9s\tremaining: 6.53s\n",
      "226:\tlearn: 1439.9735143\ttotal: 20s\tremaining: 6.43s\n",
      "227:\tlearn: 1439.7151099\ttotal: 20.1s\tremaining: 6.34s\n",
      "228:\tlearn: 1439.6049501\ttotal: 20.2s\tremaining: 6.25s\n",
      "229:\tlearn: 1439.3171239\ttotal: 20.3s\tremaining: 6.17s\n",
      "230:\tlearn: 1439.1409393\ttotal: 20.3s\tremaining: 6.08s\n",
      "231:\tlearn: 1438.8884513\ttotal: 20.4s\tremaining: 5.99s\n",
      "232:\tlearn: 1438.4660220\ttotal: 20.5s\tremaining: 5.9s\n",
      "233:\tlearn: 1438.0361843\ttotal: 20.6s\tremaining: 5.81s\n",
      "234:\tlearn: 1437.6665101\ttotal: 20.7s\tremaining: 5.72s\n",
      "235:\tlearn: 1437.3968772\ttotal: 20.7s\tremaining: 5.62s\n",
      "236:\tlearn: 1437.1767715\ttotal: 20.8s\tremaining: 5.53s\n",
      "237:\tlearn: 1436.9224127\ttotal: 20.9s\tremaining: 5.45s\n",
      "238:\tlearn: 1436.7987742\ttotal: 21s\tremaining: 5.36s\n",
      "239:\tlearn: 1436.5232394\ttotal: 21.1s\tremaining: 5.27s\n",
      "240:\tlearn: 1436.0184234\ttotal: 21.2s\tremaining: 5.18s\n",
      "241:\tlearn: 1435.6997742\ttotal: 21.3s\tremaining: 5.09s\n",
      "242:\tlearn: 1435.4846878\ttotal: 21.4s\tremaining: 5.01s\n",
      "243:\tlearn: 1435.1903862\ttotal: 21.4s\tremaining: 4.92s\n",
      "244:\tlearn: 1434.8100426\ttotal: 21.5s\tremaining: 4.83s\n",
      "245:\tlearn: 1434.3966542\ttotal: 21.6s\tremaining: 4.74s\n",
      "246:\tlearn: 1434.1211199\ttotal: 21.7s\tremaining: 4.65s\n",
      "247:\tlearn: 1433.9009755\ttotal: 21.8s\tremaining: 4.57s\n",
      "248:\tlearn: 1433.2290203\ttotal: 21.9s\tremaining: 4.48s\n",
      "249:\tlearn: 1432.7085206\ttotal: 21.9s\tremaining: 4.39s\n",
      "250:\tlearn: 1432.2548138\ttotal: 22s\tremaining: 4.3s\n",
      "251:\tlearn: 1431.9429918\ttotal: 22.1s\tremaining: 4.21s\n",
      "252:\tlearn: 1431.5855421\ttotal: 22.2s\tremaining: 4.13s\n",
      "253:\tlearn: 1431.1528132\ttotal: 22.3s\tremaining: 4.04s\n",
      "254:\tlearn: 1430.9655046\ttotal: 22.4s\tremaining: 3.95s\n",
      "255:\tlearn: 1430.4651769\ttotal: 22.5s\tremaining: 3.86s\n",
      "256:\tlearn: 1430.1732300\ttotal: 22.5s\tremaining: 3.77s\n",
      "257:\tlearn: 1429.8429959\ttotal: 22.6s\tremaining: 3.68s\n",
      "258:\tlearn: 1429.6006070\ttotal: 22.7s\tremaining: 3.6s\n",
      "259:\tlearn: 1429.4662467\ttotal: 22.8s\tremaining: 3.51s\n",
      "260:\tlearn: 1429.1822571\ttotal: 22.9s\tremaining: 3.42s\n",
      "261:\tlearn: 1428.5989198\ttotal: 22.9s\tremaining: 3.33s\n",
      "262:\tlearn: 1428.1702808\ttotal: 23s\tremaining: 3.24s\n",
      "263:\tlearn: 1427.6150862\ttotal: 23.1s\tremaining: 3.15s\n",
      "264:\tlearn: 1427.1273861\ttotal: 23.2s\tremaining: 3.06s\n",
      "265:\tlearn: 1426.7821257\ttotal: 23.3s\tremaining: 2.98s\n",
      "266:\tlearn: 1426.3460353\ttotal: 23.4s\tremaining: 2.89s\n",
      "267:\tlearn: 1426.0342780\ttotal: 23.4s\tremaining: 2.8s\n",
      "268:\tlearn: 1425.7794953\ttotal: 23.5s\tremaining: 2.71s\n",
      "269:\tlearn: 1425.4817957\ttotal: 23.6s\tremaining: 2.62s\n",
      "270:\tlearn: 1425.2089722\ttotal: 23.7s\tremaining: 2.54s\n",
      "271:\tlearn: 1424.9099801\ttotal: 23.8s\tremaining: 2.45s\n",
      "272:\tlearn: 1424.3933796\ttotal: 23.9s\tremaining: 2.36s\n",
      "273:\tlearn: 1424.2273374\ttotal: 23.9s\tremaining: 2.27s\n",
      "274:\tlearn: 1423.8917742\ttotal: 24s\tremaining: 2.18s\n",
      "275:\tlearn: 1423.6437856\ttotal: 24.1s\tremaining: 2.1s\n",
      "276:\tlearn: 1423.4142294\ttotal: 24.2s\tremaining: 2.01s\n",
      "277:\tlearn: 1423.1803956\ttotal: 24.3s\tremaining: 1.92s\n",
      "278:\tlearn: 1422.7427453\ttotal: 24.4s\tremaining: 1.83s\n",
      "279:\tlearn: 1422.2081769\ttotal: 24.5s\tremaining: 1.75s\n",
      "280:\tlearn: 1422.0037366\ttotal: 24.5s\tremaining: 1.66s\n",
      "281:\tlearn: 1421.7285314\ttotal: 24.6s\tremaining: 1.57s\n",
      "282:\tlearn: 1421.5342781\ttotal: 24.7s\tremaining: 1.49s\n",
      "283:\tlearn: 1420.9793860\ttotal: 24.9s\tremaining: 1.4s\n",
      "284:\tlearn: 1420.8273513\ttotal: 25s\tremaining: 1.31s\n",
      "285:\tlearn: 1420.3086479\ttotal: 25s\tremaining: 1.23s\n",
      "286:\tlearn: 1420.0218708\ttotal: 25.1s\tremaining: 1.14s\n",
      "287:\tlearn: 1419.8176228\ttotal: 25.2s\tremaining: 1.05s\n",
      "288:\tlearn: 1419.4111276\ttotal: 25.3s\tremaining: 964ms\n",
      "289:\tlearn: 1419.1816305\ttotal: 25.5s\tremaining: 881ms\n",
      "290:\tlearn: 1418.9384328\ttotal: 25.7s\tremaining: 795ms\n",
      "291:\tlearn: 1418.4026160\ttotal: 25.8s\tremaining: 708ms\n",
      "292:\tlearn: 1418.1620154\ttotal: 26s\tremaining: 620ms\n",
      "293:\tlearn: 1417.9844649\ttotal: 26.1s\tremaining: 532ms\n",
      "294:\tlearn: 1417.5425129\ttotal: 26.2s\tremaining: 444ms\n",
      "295:\tlearn: 1417.3848955\ttotal: 26.3s\tremaining: 355ms\n",
      "296:\tlearn: 1416.8848596\ttotal: 26.4s\tremaining: 267ms\n",
      "297:\tlearn: 1416.3935668\ttotal: 26.5s\tremaining: 178ms\n",
      "298:\tlearn: 1416.0582676\ttotal: 26.6s\tremaining: 88.8ms\n",
      "299:\tlearn: 1415.8602098\ttotal: 26.6s\tremaining: 0us\n",
      "0:\tlearn: 3367.8954893\ttotal: 148ms\tremaining: 44.4s\n",
      "1:\tlearn: 3177.3257794\ttotal: 287ms\tremaining: 42.8s\n",
      "2:\tlearn: 2995.9814642\ttotal: 456ms\tremaining: 45.2s\n",
      "3:\tlearn: 2839.5641217\ttotal: 614ms\tremaining: 45.4s\n",
      "4:\tlearn: 2701.5344484\ttotal: 744ms\tremaining: 43.9s\n",
      "5:\tlearn: 2581.0450157\ttotal: 899ms\tremaining: 44s\n",
      "6:\tlearn: 2475.3773320\ttotal: 1.06s\tremaining: 44.3s\n",
      "7:\tlearn: 2375.1312042\ttotal: 1.21s\tremaining: 44.1s\n",
      "8:\tlearn: 2290.4880548\ttotal: 1.33s\tremaining: 43s\n",
      "9:\tlearn: 2216.6436606\ttotal: 1.49s\tremaining: 43.2s\n",
      "10:\tlearn: 2149.3808138\ttotal: 1.61s\tremaining: 42.4s\n",
      "11:\tlearn: 2094.5475582\ttotal: 1.74s\tremaining: 41.8s\n",
      "12:\tlearn: 2037.3529893\ttotal: 1.86s\tremaining: 41.1s\n",
      "13:\tlearn: 1990.9274602\ttotal: 2.01s\tremaining: 41s\n",
      "14:\tlearn: 1949.6639316\ttotal: 2.16s\tremaining: 41.1s\n",
      "15:\tlearn: 1908.5369643\ttotal: 2.28s\tremaining: 40.4s\n",
      "16:\tlearn: 1873.4390476\ttotal: 2.43s\tremaining: 40.5s\n",
      "17:\tlearn: 1840.1283158\ttotal: 2.57s\tremaining: 40.2s\n",
      "18:\tlearn: 1809.6242036\ttotal: 2.72s\tremaining: 40.2s\n",
      "19:\tlearn: 1783.9916637\ttotal: 2.85s\tremaining: 39.9s\n",
      "20:\tlearn: 1762.7828881\ttotal: 2.99s\tremaining: 39.8s\n",
      "21:\tlearn: 1741.7504185\ttotal: 3.13s\tremaining: 39.6s\n",
      "22:\tlearn: 1725.1396783\ttotal: 3.27s\tremaining: 39.4s\n",
      "23:\tlearn: 1704.7230345\ttotal: 3.45s\tremaining: 39.7s\n",
      "24:\tlearn: 1689.0046266\ttotal: 3.61s\tremaining: 39.8s\n",
      "25:\tlearn: 1674.9970535\ttotal: 3.73s\tremaining: 39.3s\n",
      "26:\tlearn: 1660.8302520\ttotal: 3.88s\tremaining: 39.2s\n",
      "27:\tlearn: 1648.9540830\ttotal: 4.04s\tremaining: 39.2s\n",
      "28:\tlearn: 1638.2698405\ttotal: 4.14s\tremaining: 38.7s\n",
      "29:\tlearn: 1630.1318696\ttotal: 4.28s\tremaining: 38.5s\n",
      "30:\tlearn: 1620.6130032\ttotal: 4.42s\tremaining: 38.3s\n",
      "31:\tlearn: 1612.1985817\ttotal: 4.56s\tremaining: 38.2s\n",
      "32:\tlearn: 1604.0064543\ttotal: 4.71s\tremaining: 38.1s\n",
      "33:\tlearn: 1596.8226376\ttotal: 4.85s\tremaining: 37.9s\n",
      "34:\tlearn: 1589.7300585\ttotal: 4.98s\tremaining: 37.7s\n",
      "35:\tlearn: 1583.6840056\ttotal: 5.11s\tremaining: 37.5s\n",
      "36:\tlearn: 1578.5524810\ttotal: 5.23s\tremaining: 37.2s\n",
      "37:\tlearn: 1572.2969388\ttotal: 5.37s\tremaining: 37s\n",
      "38:\tlearn: 1567.4802077\ttotal: 5.48s\tremaining: 36.7s\n",
      "39:\tlearn: 1563.2274884\ttotal: 5.64s\tremaining: 36.7s\n",
      "40:\tlearn: 1558.9907757\ttotal: 5.83s\tremaining: 36.8s\n",
      "41:\tlearn: 1554.3095807\ttotal: 5.99s\tremaining: 36.8s\n",
      "42:\tlearn: 1550.5307719\ttotal: 6.21s\tremaining: 37.1s\n",
      "43:\tlearn: 1546.9571819\ttotal: 6.46s\tremaining: 37.6s\n",
      "44:\tlearn: 1543.9963191\ttotal: 6.67s\tremaining: 37.8s\n",
      "45:\tlearn: 1541.0846864\ttotal: 6.86s\tremaining: 37.9s\n",
      "46:\tlearn: 1538.3364282\ttotal: 7.05s\tremaining: 38s\n",
      "47:\tlearn: 1535.3516319\ttotal: 7.2s\tremaining: 37.8s\n",
      "48:\tlearn: 1532.7185586\ttotal: 7.41s\tremaining: 38s\n",
      "49:\tlearn: 1529.6127846\ttotal: 7.52s\tremaining: 37.6s\n",
      "50:\tlearn: 1526.4152824\ttotal: 7.7s\tremaining: 37.6s\n",
      "51:\tlearn: 1524.2308351\ttotal: 7.87s\tremaining: 37.5s\n",
      "52:\tlearn: 1522.6063469\ttotal: 8.11s\tremaining: 37.8s\n",
      "53:\tlearn: 1520.1709609\ttotal: 8.3s\tremaining: 37.8s\n",
      "54:\tlearn: 1517.1750911\ttotal: 8.51s\tremaining: 37.9s\n",
      "55:\tlearn: 1514.8489538\ttotal: 8.7s\tremaining: 37.9s\n",
      "56:\tlearn: 1512.9636015\ttotal: 8.87s\tremaining: 37.8s\n",
      "57:\tlearn: 1510.6887431\ttotal: 8.99s\tremaining: 37.5s\n",
      "58:\tlearn: 1509.0315658\ttotal: 9.15s\tremaining: 37.4s\n",
      "59:\tlearn: 1507.7114389\ttotal: 9.28s\tremaining: 37.1s\n",
      "60:\tlearn: 1505.3650561\ttotal: 9.46s\tremaining: 37.1s\n",
      "61:\tlearn: 1503.3898572\ttotal: 9.64s\tremaining: 37s\n",
      "62:\tlearn: 1500.9535306\ttotal: 9.81s\tremaining: 36.9s\n",
      "63:\tlearn: 1499.1995968\ttotal: 9.93s\tremaining: 36.6s\n",
      "64:\tlearn: 1496.2096420\ttotal: 10.1s\tremaining: 36.4s\n",
      "65:\tlearn: 1494.4964342\ttotal: 10.2s\tremaining: 36.3s\n",
      "66:\tlearn: 1493.0322711\ttotal: 10.4s\tremaining: 36.3s\n",
      "67:\tlearn: 1491.4402432\ttotal: 10.6s\tremaining: 36.3s\n",
      "68:\tlearn: 1490.2469676\ttotal: 10.8s\tremaining: 36.2s\n",
      "69:\tlearn: 1489.3092448\ttotal: 11s\tremaining: 36s\n",
      "70:\tlearn: 1488.5093713\ttotal: 11.2s\tremaining: 36s\n",
      "71:\tlearn: 1486.6298423\ttotal: 11.3s\tremaining: 35.8s\n",
      "72:\tlearn: 1483.9875801\ttotal: 11.5s\tremaining: 35.7s\n",
      "73:\tlearn: 1481.8088201\ttotal: 11.7s\tremaining: 35.7s\n",
      "74:\tlearn: 1480.0858438\ttotal: 11.9s\tremaining: 35.7s\n",
      "75:\tlearn: 1478.1561768\ttotal: 12.1s\tremaining: 35.6s\n",
      "76:\tlearn: 1476.4052160\ttotal: 12.3s\tremaining: 35.5s\n",
      "77:\tlearn: 1474.8598117\ttotal: 12.4s\tremaining: 35.3s\n",
      "78:\tlearn: 1473.8861307\ttotal: 12.6s\tremaining: 35.3s\n",
      "79:\tlearn: 1473.0865651\ttotal: 12.8s\tremaining: 35.1s\n",
      "80:\tlearn: 1472.0626281\ttotal: 13s\tremaining: 35.2s\n",
      "81:\tlearn: 1470.7860897\ttotal: 13.2s\tremaining: 35.1s\n",
      "82:\tlearn: 1470.1072774\ttotal: 13.4s\tremaining: 34.9s\n",
      "83:\tlearn: 1469.5377890\ttotal: 13.5s\tremaining: 34.7s\n",
      "84:\tlearn: 1468.5824885\ttotal: 13.7s\tremaining: 34.7s\n",
      "85:\tlearn: 1467.3155234\ttotal: 13.9s\tremaining: 34.5s\n",
      "86:\tlearn: 1465.6288376\ttotal: 14s\tremaining: 34.4s\n",
      "87:\tlearn: 1464.7536787\ttotal: 14.2s\tremaining: 34.3s\n",
      "88:\tlearn: 1463.6757266\ttotal: 14.4s\tremaining: 34.1s\n",
      "89:\tlearn: 1462.6221181\ttotal: 14.6s\tremaining: 34s\n",
      "90:\tlearn: 1461.2604679\ttotal: 14.7s\tremaining: 33.7s\n",
      "91:\tlearn: 1460.0936571\ttotal: 14.8s\tremaining: 33.5s\n",
      "92:\tlearn: 1458.8383238\ttotal: 15s\tremaining: 33.5s\n",
      "93:\tlearn: 1457.7726381\ttotal: 15.2s\tremaining: 33.4s\n",
      "94:\tlearn: 1456.5015383\ttotal: 15.4s\tremaining: 33.3s\n",
      "95:\tlearn: 1455.2956648\ttotal: 15.6s\tremaining: 33.1s\n",
      "96:\tlearn: 1453.8421363\ttotal: 15.8s\tremaining: 33.1s\n",
      "97:\tlearn: 1452.5701054\ttotal: 16s\tremaining: 33.1s\n",
      "98:\tlearn: 1451.9058412\ttotal: 16.2s\tremaining: 32.9s\n",
      "99:\tlearn: 1451.1216290\ttotal: 16.4s\tremaining: 32.7s\n",
      "100:\tlearn: 1450.2136831\ttotal: 16.6s\tremaining: 32.6s\n",
      "101:\tlearn: 1449.5149671\ttotal: 16.7s\tremaining: 32.5s\n",
      "102:\tlearn: 1448.2665697\ttotal: 16.9s\tremaining: 32.4s\n",
      "103:\tlearn: 1447.2597972\ttotal: 17.1s\tremaining: 32.2s\n",
      "104:\tlearn: 1446.4175860\ttotal: 17.2s\tremaining: 32s\n",
      "105:\tlearn: 1445.2563392\ttotal: 17.3s\tremaining: 31.7s\n",
      "106:\tlearn: 1444.7783642\ttotal: 17.5s\tremaining: 31.6s\n",
      "107:\tlearn: 1444.1173737\ttotal: 17.6s\tremaining: 31.3s\n",
      "108:\tlearn: 1442.9496689\ttotal: 17.7s\tremaining: 31.1s\n",
      "109:\tlearn: 1442.8128672\ttotal: 17.8s\tremaining: 30.8s\n",
      "110:\tlearn: 1442.1024510\ttotal: 18s\tremaining: 30.6s\n",
      "111:\tlearn: 1440.7849967\ttotal: 18.1s\tremaining: 30.4s\n",
      "112:\tlearn: 1440.0998544\ttotal: 18.3s\tremaining: 30.2s\n",
      "113:\tlearn: 1439.3154127\ttotal: 18.4s\tremaining: 30s\n",
      "114:\tlearn: 1438.8342632\ttotal: 18.5s\tremaining: 29.8s\n",
      "115:\tlearn: 1437.9961519\ttotal: 18.7s\tremaining: 29.6s\n",
      "116:\tlearn: 1437.3248847\ttotal: 18.9s\tremaining: 29.5s\n",
      "117:\tlearn: 1437.0080984\ttotal: 19.1s\tremaining: 29.4s\n",
      "118:\tlearn: 1436.0921546\ttotal: 19.2s\tremaining: 29.2s\n",
      "119:\tlearn: 1435.1497648\ttotal: 19.3s\tremaining: 29s\n",
      "120:\tlearn: 1434.3429309\ttotal: 19.5s\tremaining: 28.8s\n",
      "121:\tlearn: 1433.5912081\ttotal: 19.6s\tremaining: 28.7s\n",
      "122:\tlearn: 1432.7021040\ttotal: 19.8s\tremaining: 28.5s\n",
      "123:\tlearn: 1431.9524903\ttotal: 19.9s\tremaining: 28.3s\n",
      "124:\tlearn: 1430.9629729\ttotal: 20.1s\tremaining: 28.1s\n",
      "125:\tlearn: 1430.3303026\ttotal: 20.2s\tremaining: 27.9s\n",
      "126:\tlearn: 1429.8627943\ttotal: 20.4s\tremaining: 27.7s\n",
      "127:\tlearn: 1429.2565534\ttotal: 20.5s\tremaining: 27.6s\n",
      "128:\tlearn: 1428.5595164\ttotal: 20.6s\tremaining: 27.4s\n",
      "129:\tlearn: 1427.8646195\ttotal: 20.8s\tremaining: 27.1s\n",
      "130:\tlearn: 1427.1180916\ttotal: 20.9s\tremaining: 27s\n",
      "131:\tlearn: 1426.5475595\ttotal: 21.1s\tremaining: 26.8s\n",
      "132:\tlearn: 1426.2718585\ttotal: 21.2s\tremaining: 26.6s\n",
      "133:\tlearn: 1425.5473636\ttotal: 21.4s\tremaining: 26.5s\n",
      "134:\tlearn: 1425.0029267\ttotal: 21.5s\tremaining: 26.3s\n",
      "135:\tlearn: 1424.3462939\ttotal: 21.7s\tremaining: 26.2s\n",
      "136:\tlearn: 1423.6566835\ttotal: 21.9s\tremaining: 26s\n",
      "137:\tlearn: 1422.9946966\ttotal: 22s\tremaining: 25.9s\n",
      "138:\tlearn: 1422.2317367\ttotal: 22.2s\tremaining: 25.7s\n",
      "139:\tlearn: 1421.6273247\ttotal: 22.3s\tremaining: 25.5s\n",
      "140:\tlearn: 1421.0652017\ttotal: 22.5s\tremaining: 25.3s\n",
      "141:\tlearn: 1420.6391420\ttotal: 22.6s\tremaining: 25.2s\n",
      "142:\tlearn: 1420.1605239\ttotal: 22.8s\tremaining: 25s\n",
      "143:\tlearn: 1419.3408087\ttotal: 22.9s\tremaining: 24.8s\n",
      "144:\tlearn: 1418.7610976\ttotal: 23s\tremaining: 24.6s\n",
      "145:\tlearn: 1418.1746479\ttotal: 23.2s\tremaining: 24.4s\n",
      "146:\tlearn: 1417.5662779\ttotal: 23.3s\tremaining: 24.2s\n",
      "147:\tlearn: 1416.4877055\ttotal: 23.4s\tremaining: 24.1s\n",
      "148:\tlearn: 1415.7145725\ttotal: 23.6s\tremaining: 23.9s\n",
      "149:\tlearn: 1415.0799123\ttotal: 23.7s\tremaining: 23.7s\n",
      "150:\tlearn: 1414.0468256\ttotal: 23.9s\tremaining: 23.5s\n",
      "151:\tlearn: 1412.7742139\ttotal: 24s\tremaining: 23.4s\n",
      "152:\tlearn: 1412.0203113\ttotal: 24.2s\tremaining: 23.2s\n",
      "153:\tlearn: 1411.4901852\ttotal: 24.3s\tremaining: 23.1s\n",
      "154:\tlearn: 1410.9180799\ttotal: 24.5s\tremaining: 22.9s\n",
      "155:\tlearn: 1410.1615380\ttotal: 24.6s\tremaining: 22.7s\n",
      "156:\tlearn: 1409.6296181\ttotal: 24.8s\tremaining: 22.6s\n",
      "157:\tlearn: 1409.0967028\ttotal: 24.9s\tremaining: 22.4s\n",
      "158:\tlearn: 1408.8730718\ttotal: 25.1s\tremaining: 22.2s\n",
      "159:\tlearn: 1408.4044615\ttotal: 25.2s\tremaining: 22.1s\n",
      "160:\tlearn: 1407.9625436\ttotal: 25.4s\tremaining: 21.9s\n",
      "161:\tlearn: 1407.4626088\ttotal: 25.5s\tremaining: 21.7s\n",
      "162:\tlearn: 1407.0098740\ttotal: 25.6s\tremaining: 21.5s\n",
      "163:\tlearn: 1406.5867581\ttotal: 25.8s\tremaining: 21.4s\n",
      "164:\tlearn: 1406.3448427\ttotal: 25.9s\tremaining: 21.2s\n",
      "165:\tlearn: 1405.8923526\ttotal: 26.1s\tremaining: 21.1s\n",
      "166:\tlearn: 1405.5128570\ttotal: 26.3s\tremaining: 21s\n",
      "167:\tlearn: 1405.0767557\ttotal: 26.5s\tremaining: 20.8s\n",
      "168:\tlearn: 1404.6535129\ttotal: 26.7s\tremaining: 20.7s\n",
      "169:\tlearn: 1404.2944541\ttotal: 26.9s\tremaining: 20.6s\n",
      "170:\tlearn: 1403.9646906\ttotal: 27.1s\tremaining: 20.4s\n",
      "171:\tlearn: 1403.1338906\ttotal: 27.2s\tremaining: 20.3s\n",
      "172:\tlearn: 1402.7246689\ttotal: 27.4s\tremaining: 20.1s\n",
      "173:\tlearn: 1402.2892980\ttotal: 27.6s\tremaining: 20s\n",
      "174:\tlearn: 1402.0226684\ttotal: 27.8s\tremaining: 19.9s\n",
      "175:\tlearn: 1401.8017421\ttotal: 27.9s\tremaining: 19.7s\n",
      "176:\tlearn: 1400.9859404\ttotal: 28.1s\tremaining: 19.5s\n",
      "177:\tlearn: 1400.4791215\ttotal: 28.3s\tremaining: 19.4s\n",
      "178:\tlearn: 1400.0194293\ttotal: 28.4s\tremaining: 19.2s\n",
      "179:\tlearn: 1399.8333656\ttotal: 28.5s\tremaining: 19s\n",
      "180:\tlearn: 1399.3816171\ttotal: 28.6s\tremaining: 18.8s\n",
      "181:\tlearn: 1399.1555144\ttotal: 28.8s\tremaining: 18.7s\n",
      "182:\tlearn: 1398.5587704\ttotal: 28.9s\tremaining: 18.5s\n",
      "183:\tlearn: 1398.0957442\ttotal: 29.1s\tremaining: 18.4s\n",
      "184:\tlearn: 1397.8042230\ttotal: 29.3s\tremaining: 18.2s\n",
      "185:\tlearn: 1397.6398030\ttotal: 29.4s\tremaining: 18s\n",
      "186:\tlearn: 1397.2331668\ttotal: 29.6s\tremaining: 17.9s\n",
      "187:\tlearn: 1396.9210815\ttotal: 29.8s\tremaining: 17.8s\n",
      "188:\tlearn: 1396.6878646\ttotal: 30s\tremaining: 17.6s\n",
      "189:\tlearn: 1396.4818139\ttotal: 30.1s\tremaining: 17.4s\n",
      "190:\tlearn: 1396.2232348\ttotal: 30.3s\tremaining: 17.3s\n",
      "191:\tlearn: 1395.7135829\ttotal: 30.5s\tremaining: 17.1s\n",
      "192:\tlearn: 1395.0822764\ttotal: 30.6s\tremaining: 17s\n",
      "193:\tlearn: 1394.9656800\ttotal: 30.8s\tremaining: 16.8s\n",
      "194:\tlearn: 1394.5772320\ttotal: 30.9s\tremaining: 16.7s\n",
      "195:\tlearn: 1394.3527093\ttotal: 31.1s\tremaining: 16.5s\n",
      "196:\tlearn: 1394.0741069\ttotal: 31.3s\tremaining: 16.3s\n",
      "197:\tlearn: 1393.7108523\ttotal: 31.4s\tremaining: 16.2s\n",
      "198:\tlearn: 1393.4832563\ttotal: 31.6s\tremaining: 16s\n",
      "199:\tlearn: 1393.3398037\ttotal: 31.8s\tremaining: 15.9s\n",
      "200:\tlearn: 1393.0168884\ttotal: 32s\tremaining: 15.8s\n",
      "201:\tlearn: 1392.8615289\ttotal: 32.2s\tremaining: 15.6s\n",
      "202:\tlearn: 1392.2026703\ttotal: 32.4s\tremaining: 15.5s\n",
      "203:\tlearn: 1391.9765489\ttotal: 32.6s\tremaining: 15.4s\n",
      "204:\tlearn: 1391.6816340\ttotal: 32.8s\tremaining: 15.2s\n",
      "205:\tlearn: 1391.3054457\ttotal: 33s\tremaining: 15.1s\n",
      "206:\tlearn: 1391.2178427\ttotal: 33.1s\tremaining: 14.9s\n",
      "207:\tlearn: 1391.1012540\ttotal: 33.3s\tremaining: 14.7s\n",
      "208:\tlearn: 1390.6811665\ttotal: 33.5s\tremaining: 14.6s\n",
      "209:\tlearn: 1390.1403224\ttotal: 33.6s\tremaining: 14.4s\n",
      "210:\tlearn: 1389.6382529\ttotal: 33.9s\tremaining: 14.3s\n",
      "211:\tlearn: 1389.1895255\ttotal: 34.1s\tremaining: 14.2s\n",
      "212:\tlearn: 1388.9424068\ttotal: 34.3s\tremaining: 14s\n",
      "213:\tlearn: 1388.6278045\ttotal: 34.5s\tremaining: 13.9s\n",
      "214:\tlearn: 1388.0877557\ttotal: 34.7s\tremaining: 13.7s\n",
      "215:\tlearn: 1387.7188767\ttotal: 34.8s\tremaining: 13.6s\n",
      "216:\tlearn: 1387.2021205\ttotal: 35.1s\tremaining: 13.4s\n",
      "217:\tlearn: 1386.8169486\ttotal: 35.2s\tremaining: 13.3s\n",
      "218:\tlearn: 1386.4872716\ttotal: 35.4s\tremaining: 13.1s\n",
      "219:\tlearn: 1385.5927210\ttotal: 35.6s\tremaining: 12.9s\n",
      "220:\tlearn: 1385.2358478\ttotal: 35.7s\tremaining: 12.8s\n",
      "221:\tlearn: 1384.9596784\ttotal: 35.9s\tremaining: 12.6s\n",
      "222:\tlearn: 1384.7076320\ttotal: 36.1s\tremaining: 12.5s\n",
      "223:\tlearn: 1384.6025394\ttotal: 36.3s\tremaining: 12.3s\n",
      "224:\tlearn: 1384.4683629\ttotal: 36.5s\tremaining: 12.2s\n",
      "225:\tlearn: 1384.3096656\ttotal: 36.7s\tremaining: 12s\n",
      "226:\tlearn: 1383.9905339\ttotal: 36.8s\tremaining: 11.8s\n",
      "227:\tlearn: 1383.7293186\ttotal: 37s\tremaining: 11.7s\n",
      "228:\tlearn: 1383.0833992\ttotal: 37.1s\tremaining: 11.5s\n",
      "229:\tlearn: 1382.6442968\ttotal: 37.2s\tremaining: 11.3s\n",
      "230:\tlearn: 1382.3963598\ttotal: 37.4s\tremaining: 11.2s\n",
      "231:\tlearn: 1381.9235897\ttotal: 37.5s\tremaining: 11s\n",
      "232:\tlearn: 1381.6566867\ttotal: 37.7s\tremaining: 10.8s\n",
      "233:\tlearn: 1381.1874249\ttotal: 37.9s\tremaining: 10.7s\n",
      "234:\tlearn: 1380.9308006\ttotal: 38s\tremaining: 10.5s\n",
      "235:\tlearn: 1380.5999823\ttotal: 38.2s\tremaining: 10.4s\n",
      "236:\tlearn: 1380.0304808\ttotal: 38.3s\tremaining: 10.2s\n",
      "237:\tlearn: 1379.5952526\ttotal: 38.4s\tremaining: 10s\n",
      "238:\tlearn: 1379.5152839\ttotal: 38.6s\tremaining: 9.84s\n",
      "239:\tlearn: 1379.3536642\ttotal: 38.7s\tremaining: 9.67s\n",
      "240:\tlearn: 1379.0905068\ttotal: 38.8s\tremaining: 9.5s\n",
      "241:\tlearn: 1378.8054620\ttotal: 39s\tremaining: 9.34s\n",
      "242:\tlearn: 1378.5164933\ttotal: 39.1s\tremaining: 9.17s\n",
      "243:\tlearn: 1378.1392006\ttotal: 39.2s\tremaining: 9.01s\n",
      "244:\tlearn: 1377.6416934\ttotal: 39.4s\tremaining: 8.84s\n",
      "245:\tlearn: 1377.2354628\ttotal: 39.5s\tremaining: 8.66s\n",
      "246:\tlearn: 1377.1058196\ttotal: 39.6s\tremaining: 8.5s\n",
      "247:\tlearn: 1376.8994323\ttotal: 39.8s\tremaining: 8.34s\n",
      "248:\tlearn: 1376.7225639\ttotal: 39.9s\tremaining: 8.17s\n",
      "249:\tlearn: 1376.3943549\ttotal: 40.1s\tremaining: 8.02s\n",
      "250:\tlearn: 1376.2239440\ttotal: 40.2s\tremaining: 7.85s\n",
      "251:\tlearn: 1376.0326015\ttotal: 40.4s\tremaining: 7.69s\n",
      "252:\tlearn: 1375.7532360\ttotal: 40.5s\tremaining: 7.53s\n",
      "253:\tlearn: 1375.4717278\ttotal: 40.7s\tremaining: 7.38s\n",
      "254:\tlearn: 1375.1185818\ttotal: 40.9s\tremaining: 7.22s\n",
      "255:\tlearn: 1374.8593371\ttotal: 41.1s\tremaining: 7.06s\n",
      "256:\tlearn: 1374.5105882\ttotal: 41.3s\tremaining: 6.9s\n",
      "257:\tlearn: 1374.3522316\ttotal: 41.4s\tremaining: 6.74s\n",
      "258:\tlearn: 1374.1243753\ttotal: 41.6s\tremaining: 6.58s\n",
      "259:\tlearn: 1373.8869714\ttotal: 41.7s\tremaining: 6.41s\n",
      "260:\tlearn: 1373.7647982\ttotal: 41.8s\tremaining: 6.25s\n",
      "261:\tlearn: 1373.4363150\ttotal: 42s\tremaining: 6.08s\n",
      "262:\tlearn: 1373.3382370\ttotal: 42.1s\tremaining: 5.92s\n",
      "263:\tlearn: 1373.2773159\ttotal: 42.3s\tremaining: 5.77s\n",
      "264:\tlearn: 1373.1276297\ttotal: 42.5s\tremaining: 5.61s\n",
      "265:\tlearn: 1372.8515768\ttotal: 42.6s\tremaining: 5.45s\n",
      "266:\tlearn: 1372.4735645\ttotal: 42.8s\tremaining: 5.29s\n",
      "267:\tlearn: 1372.3003948\ttotal: 43s\tremaining: 5.13s\n",
      "268:\tlearn: 1371.9726107\ttotal: 43.1s\tremaining: 4.97s\n",
      "269:\tlearn: 1371.8458865\ttotal: 43.2s\tremaining: 4.8s\n",
      "270:\tlearn: 1371.5688927\ttotal: 43.4s\tremaining: 4.64s\n",
      "271:\tlearn: 1371.2820823\ttotal: 43.5s\tremaining: 4.48s\n",
      "272:\tlearn: 1371.0490160\ttotal: 43.7s\tremaining: 4.32s\n",
      "273:\tlearn: 1370.7815147\ttotal: 43.9s\tremaining: 4.16s\n",
      "274:\tlearn: 1370.5706554\ttotal: 44s\tremaining: 4s\n",
      "275:\tlearn: 1370.1570354\ttotal: 44.2s\tremaining: 3.84s\n",
      "276:\tlearn: 1369.7585274\ttotal: 44.3s\tremaining: 3.68s\n",
      "277:\tlearn: 1369.5213899\ttotal: 44.4s\tremaining: 3.52s\n",
      "278:\tlearn: 1369.3973159\ttotal: 44.6s\tremaining: 3.36s\n",
      "279:\tlearn: 1369.2291220\ttotal: 44.7s\tremaining: 3.2s\n",
      "280:\tlearn: 1368.9408566\ttotal: 44.9s\tremaining: 3.04s\n",
      "281:\tlearn: 1368.7265697\ttotal: 45.1s\tremaining: 2.88s\n",
      "282:\tlearn: 1368.6071191\ttotal: 45.2s\tremaining: 2.71s\n",
      "283:\tlearn: 1368.2473062\ttotal: 45.3s\tremaining: 2.55s\n",
      "284:\tlearn: 1368.0537884\ttotal: 45.5s\tremaining: 2.39s\n",
      "285:\tlearn: 1367.5496572\ttotal: 45.7s\tremaining: 2.23s\n",
      "286:\tlearn: 1367.3106570\ttotal: 45.8s\tremaining: 2.08s\n",
      "287:\tlearn: 1367.1098395\ttotal: 46s\tremaining: 1.92s\n",
      "288:\tlearn: 1366.9969862\ttotal: 46.1s\tremaining: 1.75s\n",
      "289:\tlearn: 1366.7573432\ttotal: 46.3s\tremaining: 1.59s\n",
      "290:\tlearn: 1366.5078511\ttotal: 46.4s\tremaining: 1.43s\n",
      "291:\tlearn: 1366.2773854\ttotal: 46.5s\tremaining: 1.27s\n",
      "292:\tlearn: 1366.0678002\ttotal: 46.6s\tremaining: 1.11s\n",
      "293:\tlearn: 1365.5000716\ttotal: 46.7s\tremaining: 954ms\n",
      "294:\tlearn: 1365.2433985\ttotal: 46.9s\tremaining: 795ms\n",
      "295:\tlearn: 1364.9073384\ttotal: 47s\tremaining: 636ms\n",
      "296:\tlearn: 1364.7807282\ttotal: 47.2s\tremaining: 477ms\n",
      "297:\tlearn: 1364.5295564\ttotal: 47.4s\tremaining: 318ms\n",
      "298:\tlearn: 1364.1920905\ttotal: 47.5s\tremaining: 159ms\n",
      "299:\tlearn: 1364.0686417\ttotal: 47.7s\tremaining: 0us\n",
      "     Модель                             Лучшие параметры\n",
      "0  LightGBM  {'learning_rate': 0.1, 'n_estimators': 300}\n",
      "1     Ridge                               {'alpha': 1.0}\n",
      "2  CatBoost    {'iterations': 300, 'learning_rate': 0.1}\n",
      "Execution time:  285.1588604450226\n"
     ]
    }
   ],
   "source": [
    "# Обучение моделей и поиск лучших параметров\n",
    "start_time = time.time()\n",
    "model_lgbm = LGBMRegressor(random_state=RANDOM_STATE)\n",
    "params_lgbm = {'n_estimators': [100, 200, 300], 'learning_rate': [0.1, 0.05]}\n",
    "grid_search_lgbm = GridSearchCV(model_lgbm, params_lgbm, scoring='neg_mean_squared_error', cv=2)\n",
    "grid_search_lgbm.fit(features_train_ohe, target_train)\n",
    "\n",
    "model_ridge = Ridge(random_state=RANDOM_STATE)\n",
    "params_ridge = {'alpha': [0.1, 1.0, 10.0]}\n",
    "grid_search_ridge = GridSearchCV(model_ridge, params_ridge, scoring='neg_mean_squared_error', cv=2)\n",
    "grid_search_ridge.fit(features_train_ohe, target_train)\n",
    "\n",
    "model_catboost = CatBoostRegressor(random_state=RANDOM_STATE, cat_features=categorical_features)\n",
    "params_catboost = {'iterations': [100, 200, 300], 'learning_rate': [0.1, 0.05]}\n",
    "grid_search_catboost = GridSearchCV(model_catboost, params_catboost, scoring='neg_mean_squared_error', cv=2)\n",
    "grid_search_catboost.fit(features_train, target_train)\n",
    "\n",
    "# Получение результатов по каждой модели и лучших параметров\n",
    "results = pd.DataFrame({\n",
    "    'Модель': ['LightGBM', 'Ridge', 'CatBoost'],\n",
    "    'Лучшие параметры': [\n",
    "        grid_search_lgbm.best_params_,\n",
    "        grid_search_ridge.best_params_,\n",
    "        grid_search_catboost.best_params_\n",
    "    ]\n",
    "})\n",
    "\n",
    "# Вывод результатов\n",
    "print(results)\n",
    "\n",
    "end_time = time.time()\n",
    "execution_time = end_time - start_time\n",
    "print(\"Execution time: \", execution_time)"
   ]
  },
  {
   "cell_type": "markdown",
   "metadata": {},
   "source": [
    "## Анализ моделей"
   ]
  },
  {
   "cell_type": "code",
   "execution_count": 44,
   "metadata": {},
   "outputs": [
    {
     "name": "stdout",
     "output_type": "stream",
     "text": [
      "     Модель         RMSE\n",
      "0  LightGBM  1349.397710\n",
      "1     Ridge  2127.075241\n",
      "2  CatBoost  1389.725109\n"
     ]
    }
   ],
   "source": [
    "# Вычисление RMSE с помощью кросс-валидации на тренировочной выборке\n",
    "rmse_lgbm = (-grid_search_lgbm.best_score_) ** 0.5\n",
    "rmse_ridge = (-grid_search_ridge.best_score_) ** 0.5\n",
    "rmse_catboost = (-grid_search_catboost.best_score_) ** 0.5\n",
    "\n",
    "# Создание таблицы результатов\n",
    "results = pd.DataFrame({\n",
    "    'Модель': ['LightGBM', 'Ridge', 'CatBoost'],\n",
    "    'RMSE': [rmse_lgbm, rmse_ridge, rmse_catboost]\n",
    "})\n",
    "\n",
    "# Вывод результатов\n",
    "print(results)\n"
   ]
  },
  {
   "cell_type": "markdown",
   "metadata": {},
   "source": [
    "**Вывод**\n",
    "Лучшие показатели скорости у модели  LightGBM"
   ]
  },
  {
   "cell_type": "markdown",
   "metadata": {},
   "source": [
    "## Тестирование лучшей модели"
   ]
  },
  {
   "cell_type": "code",
   "execution_count": 46,
   "metadata": {},
   "outputs": [
    {
     "name": "stdout",
     "output_type": "stream",
     "text": [
      "Финальная метрика RMSE на тестовой выборке: 1338.3835744078613\n"
     ]
    }
   ],
   "source": [
    "best_model = grid_search_lgbm.best_estimator_\n",
    "predictions = best_model.predict(features_test_ohe)\n",
    "final_rmse = mean_squared_error(target_test, predictions, squared=False)\n",
    "\n",
    "print(\"Финальная метрика RMSE на тестовой выборке:\", final_rmse)"
   ]
  },
  {
   "cell_type": "code",
   "execution_count": 47,
   "metadata": {},
   "outputs": [
    {
     "name": "stdout",
     "output_type": "stream",
     "text": [
      "Финальная модель удовлетворяет требованиям\n"
     ]
    }
   ],
   "source": [
    "# Проверка требования к финальной метрике\n",
    "if final_rmse <= 2500:\n",
    "    print(\"Финальная модель удовлетворяет требованиям\")\n",
    "else:\n",
    "    print(\"Финальная модель не удовлетворяет требованиям\")"
   ]
  },
  {
   "cell_type": "code",
   "execution_count": 48,
   "metadata": {},
   "outputs": [
    {
     "name": "stdout",
     "output_type": "stream",
     "text": [
      "Наиболее подходящая модель для заказчика: LightGBM\n"
     ]
    }
   ],
   "source": [
    "# Рекомендация заказчику наиболее подходящей модели\n",
    "best_model_name = results.loc[results['RMSE'].idxmin(), 'Модель']\n",
    "print(\"Наиболее подходящая модель для заказчика:\", best_model_name)"
   ]
  },
  {
   "cell_type": "markdown",
   "metadata": {},
   "source": [
    "##  Вывод\n",
    "В проекте:\n",
    "\n",
    "- загрузила данные и провела их предобработку - очистку, заполнение, удаление лишних данных\n",
    "- сравнила 3 модели с разными гиперпараметрами и выборками\n",
    "- выбрала лучшую модель по 3 показателям - RMSE, время обучения и время предскзания. И проверила ее на тестовой выборке\n",
    "\n",
    "Итог - наилучшей моделью стала LGBMRegressor с OHE, которая на финальном тестировании показала RMSE 1338, несмотря на требуемое бОльшее время на обучение и предсказание. "
   ]
  },
  {
   "cell_type": "code",
   "execution_count": null,
   "metadata": {},
   "outputs": [],
   "source": []
  }
 ],
 "metadata": {
  "ExecuteTimeLog": [
   {
    "duration": 1457,
    "start_time": "2023-06-29T06:09:21.713Z"
   },
   {
    "duration": 7130,
    "start_time": "2023-06-29T06:09:23.172Z"
   },
   {
    "duration": 3,
    "start_time": "2023-06-29T06:09:30.304Z"
   },
   {
    "duration": 59,
    "start_time": "2023-06-29T06:09:30.309Z"
   },
   {
    "duration": 103,
    "start_time": "2023-06-29T06:09:30.371Z"
   },
   {
    "duration": 4,
    "start_time": "2023-06-29T06:09:47.149Z"
   },
   {
    "duration": 55,
    "start_time": "2023-06-29T06:10:02.459Z"
   },
   {
    "duration": 117,
    "start_time": "2023-06-29T06:10:08.622Z"
   },
   {
    "duration": 1059,
    "start_time": "2023-06-29T06:10:20.148Z"
   },
   {
    "duration": 14,
    "start_time": "2023-06-29T06:10:27.517Z"
   },
   {
    "duration": 1014,
    "start_time": "2023-06-29T06:10:39.706Z"
   },
   {
    "duration": 108,
    "start_time": "2023-06-29T06:10:46.532Z"
   },
   {
    "duration": 49,
    "start_time": "2023-06-29T06:10:57.222Z"
   },
   {
    "duration": 179,
    "start_time": "2023-06-29T06:11:16.962Z"
   },
   {
    "duration": 263,
    "start_time": "2023-06-29T06:11:44.276Z"
   },
   {
    "duration": 369,
    "start_time": "2023-06-29T06:12:01.209Z"
   },
   {
    "duration": 20,
    "start_time": "2023-06-29T06:12:55.894Z"
   },
   {
    "duration": 255,
    "start_time": "2023-06-29T06:17:41.216Z"
   },
   {
    "duration": 519,
    "start_time": "2023-06-29T06:25:29.320Z"
   },
   {
    "duration": 269,
    "start_time": "2023-06-29T06:25:30.505Z"
   },
   {
    "duration": 977,
    "start_time": "2023-06-29T06:25:43.687Z"
   },
   {
    "duration": 1461,
    "start_time": "2023-06-29T06:26:16.087Z"
   },
   {
    "duration": 2469,
    "start_time": "2023-06-29T06:26:17.550Z"
   },
   {
    "duration": 3,
    "start_time": "2023-06-29T06:26:20.020Z"
   },
   {
    "duration": 32,
    "start_time": "2023-06-29T06:26:20.025Z"
   },
   {
    "duration": 9,
    "start_time": "2023-06-29T06:26:20.060Z"
   },
   {
    "duration": 64,
    "start_time": "2023-06-29T06:26:20.070Z"
   },
   {
    "duration": 125,
    "start_time": "2023-06-29T06:26:20.136Z"
   },
   {
    "duration": 1042,
    "start_time": "2023-06-29T06:26:20.262Z"
   },
   {
    "duration": 116,
    "start_time": "2023-06-29T06:26:21.306Z"
   },
   {
    "duration": 0,
    "start_time": "2023-06-29T06:26:21.423Z"
   },
   {
    "duration": 0,
    "start_time": "2023-06-29T06:26:21.425Z"
   },
   {
    "duration": 0,
    "start_time": "2023-06-29T06:26:21.425Z"
   },
   {
    "duration": 0,
    "start_time": "2023-06-29T06:26:21.427Z"
   },
   {
    "duration": 0,
    "start_time": "2023-06-29T06:26:21.428Z"
   },
   {
    "duration": 0,
    "start_time": "2023-06-29T06:26:21.429Z"
   },
   {
    "duration": 0,
    "start_time": "2023-06-29T06:26:21.430Z"
   },
   {
    "duration": 0,
    "start_time": "2023-06-29T06:26:21.432Z"
   },
   {
    "duration": 503,
    "start_time": "2023-06-29T06:26:46.905Z"
   },
   {
    "duration": 1502,
    "start_time": "2023-06-29T06:27:13.882Z"
   },
   {
    "duration": 1487,
    "start_time": "2023-06-29T06:27:15.386Z"
   },
   {
    "duration": 2,
    "start_time": "2023-06-29T06:27:16.875Z"
   },
   {
    "duration": 20,
    "start_time": "2023-06-29T06:27:16.879Z"
   },
   {
    "duration": 5,
    "start_time": "2023-06-29T06:27:16.914Z"
   },
   {
    "duration": 61,
    "start_time": "2023-06-29T06:27:16.920Z"
   },
   {
    "duration": 131,
    "start_time": "2023-06-29T06:27:16.983Z"
   },
   {
    "duration": 1101,
    "start_time": "2023-06-29T06:27:17.116Z"
   },
   {
    "duration": 540,
    "start_time": "2023-06-29T06:27:18.219Z"
   },
   {
    "duration": 1032,
    "start_time": "2023-06-29T06:27:18.760Z"
   },
   {
    "duration": 104,
    "start_time": "2023-06-29T06:27:19.794Z"
   },
   {
    "duration": 53,
    "start_time": "2023-06-29T06:27:19.900Z"
   },
   {
    "duration": 193,
    "start_time": "2023-06-29T06:27:19.955Z"
   },
   {
    "duration": 271,
    "start_time": "2023-06-29T06:27:20.152Z"
   },
   {
    "duration": 337,
    "start_time": "2023-06-29T06:27:20.425Z"
   },
   {
    "duration": 19,
    "start_time": "2023-06-29T06:27:20.764Z"
   },
   {
    "duration": 405,
    "start_time": "2023-06-29T06:32:00.799Z"
   },
   {
    "duration": 451,
    "start_time": "2023-06-29T06:32:02.079Z"
   },
   {
    "duration": 783,
    "start_time": "2023-06-29T06:33:48.926Z"
   },
   {
    "duration": 824,
    "start_time": "2023-06-29T06:34:25.294Z"
   },
   {
    "duration": 952,
    "start_time": "2023-06-29T06:34:32.895Z"
   },
   {
    "duration": 23,
    "start_time": "2023-06-29T06:39:30.066Z"
   },
   {
    "duration": 40,
    "start_time": "2023-06-29T06:46:29.280Z"
   },
   {
    "duration": 12,
    "start_time": "2023-06-29T06:49:07.928Z"
   },
   {
    "duration": 24,
    "start_time": "2023-06-29T06:49:15.461Z"
   },
   {
    "duration": 1554,
    "start_time": "2023-06-29T06:49:31.269Z"
   },
   {
    "duration": 857,
    "start_time": "2023-06-29T07:01:13.065Z"
   },
   {
    "duration": 856,
    "start_time": "2023-06-29T07:02:29.629Z"
   },
   {
    "duration": 689,
    "start_time": "2023-06-29T07:03:33.704Z"
   },
   {
    "duration": 661,
    "start_time": "2023-06-29T07:03:52.475Z"
   },
   {
    "duration": 718,
    "start_time": "2023-06-29T07:04:23.120Z"
   },
   {
    "duration": 588,
    "start_time": "2023-06-29T07:04:30.041Z"
   },
   {
    "duration": 674,
    "start_time": "2023-06-29T07:04:38.722Z"
   },
   {
    "duration": 706,
    "start_time": "2023-06-29T07:04:46.763Z"
   },
   {
    "duration": 37,
    "start_time": "2023-06-29T07:06:54.300Z"
   },
   {
    "duration": 17,
    "start_time": "2023-06-29T07:07:31.636Z"
   },
   {
    "duration": 10,
    "start_time": "2023-06-29T07:13:17.263Z"
   },
   {
    "duration": 12,
    "start_time": "2023-06-29T07:13:40.737Z"
   },
   {
    "duration": 19,
    "start_time": "2023-06-29T07:14:03.535Z"
   },
   {
    "duration": 17,
    "start_time": "2023-06-29T07:14:35.204Z"
   },
   {
    "duration": 214,
    "start_time": "2023-06-29T08:04:30.634Z"
   },
   {
    "duration": 14,
    "start_time": "2023-06-29T08:04:36.596Z"
   },
   {
    "duration": 3482,
    "start_time": "2023-06-29T08:04:50.095Z"
   },
   {
    "duration": 27,
    "start_time": "2023-06-29T08:04:53.580Z"
   },
   {
    "duration": 52369,
    "start_time": "2023-06-29T08:06:03.592Z"
   },
   {
    "duration": 39,
    "start_time": "2023-06-29T08:07:49.156Z"
   },
   {
    "duration": 27,
    "start_time": "2023-06-29T08:08:45.942Z"
   },
   {
    "duration": 46,
    "start_time": "2023-06-29T08:09:49.339Z"
   },
   {
    "duration": 134,
    "start_time": "2023-06-29T08:10:12.760Z"
   },
   {
    "duration": 194,
    "start_time": "2023-06-29T08:10:35.698Z"
   },
   {
    "duration": 40,
    "start_time": "2023-06-29T08:10:50.388Z"
   },
   {
    "duration": 5,
    "start_time": "2023-06-29T08:12:22.702Z"
   },
   {
    "duration": 34,
    "start_time": "2023-06-29T08:17:17.734Z"
   },
   {
    "duration": 31,
    "start_time": "2023-06-29T08:17:47.097Z"
   },
   {
    "duration": 6,
    "start_time": "2023-06-29T08:27:13.498Z"
   },
   {
    "duration": 5,
    "start_time": "2023-06-29T08:27:48.347Z"
   },
   {
    "duration": 99,
    "start_time": "2023-06-29T08:28:24.995Z"
   },
   {
    "duration": 13,
    "start_time": "2023-06-29T08:28:52.515Z"
   },
   {
    "duration": 7,
    "start_time": "2023-06-29T08:28:58.039Z"
   },
   {
    "duration": 11,
    "start_time": "2023-06-29T08:29:05.034Z"
   },
   {
    "duration": 3075,
    "start_time": "2023-06-29T08:30:08.583Z"
   },
   {
    "duration": 2918,
    "start_time": "2023-06-29T08:30:34.279Z"
   },
   {
    "duration": 2892,
    "start_time": "2023-06-29T08:30:47.203Z"
   },
   {
    "duration": 3021,
    "start_time": "2023-06-29T08:31:00.706Z"
   },
   {
    "duration": 2816,
    "start_time": "2023-06-29T08:31:47.052Z"
   },
   {
    "duration": 3015,
    "start_time": "2023-06-29T08:31:59.047Z"
   },
   {
    "duration": 6,
    "start_time": "2023-06-29T08:32:52.643Z"
   },
   {
    "duration": 2686,
    "start_time": "2023-06-29T08:32:58.561Z"
   },
   {
    "duration": 1946,
    "start_time": "2023-06-29T08:33:28.899Z"
   },
   {
    "duration": 1703,
    "start_time": "2023-06-29T08:33:30.852Z"
   },
   {
    "duration": 2,
    "start_time": "2023-06-29T08:33:32.557Z"
   },
   {
    "duration": 25,
    "start_time": "2023-06-29T08:33:32.561Z"
   },
   {
    "duration": 69,
    "start_time": "2023-06-29T08:33:32.590Z"
   },
   {
    "duration": 97,
    "start_time": "2023-06-29T08:33:32.661Z"
   },
   {
    "duration": 210,
    "start_time": "2023-06-29T08:33:32.765Z"
   },
   {
    "duration": 1277,
    "start_time": "2023-06-29T08:33:32.977Z"
   },
   {
    "duration": 586,
    "start_time": "2023-06-29T08:33:34.256Z"
   },
   {
    "duration": 1202,
    "start_time": "2023-06-29T08:33:34.848Z"
   },
   {
    "duration": 114,
    "start_time": "2023-06-29T08:33:36.052Z"
   },
   {
    "duration": 58,
    "start_time": "2023-06-29T08:33:36.170Z"
   },
   {
    "duration": 249,
    "start_time": "2023-06-29T08:33:36.229Z"
   },
   {
    "duration": 346,
    "start_time": "2023-06-29T08:33:36.483Z"
   },
   {
    "duration": 376,
    "start_time": "2023-06-29T08:33:36.831Z"
   },
   {
    "duration": 119,
    "start_time": "2023-06-29T08:33:37.209Z"
   },
   {
    "duration": 1039,
    "start_time": "2023-06-29T08:33:37.331Z"
   },
   {
    "duration": 22,
    "start_time": "2023-06-29T08:33:38.372Z"
   },
   {
    "duration": 5,
    "start_time": "2023-06-29T08:33:38.395Z"
   },
   {
    "duration": 2792,
    "start_time": "2023-06-29T08:33:38.413Z"
   },
   {
    "duration": 19,
    "start_time": "2023-06-29T08:33:41.206Z"
   },
   {
    "duration": 35,
    "start_time": "2023-06-29T08:33:41.232Z"
   },
   {
    "duration": 2932,
    "start_time": "2023-06-29T08:33:41.269Z"
   },
   {
    "duration": 1684,
    "start_time": "2023-06-29T08:35:15.904Z"
   },
   {
    "duration": 1820,
    "start_time": "2023-06-29T08:35:17.590Z"
   },
   {
    "duration": 18,
    "start_time": "2023-06-29T08:35:19.421Z"
   },
   {
    "duration": 17,
    "start_time": "2023-06-29T08:35:19.443Z"
   },
   {
    "duration": 5,
    "start_time": "2023-06-29T08:35:19.462Z"
   },
   {
    "duration": 66,
    "start_time": "2023-06-29T08:35:19.469Z"
   },
   {
    "duration": 165,
    "start_time": "2023-06-29T08:35:19.539Z"
   },
   {
    "duration": 1292,
    "start_time": "2023-06-29T08:35:19.707Z"
   },
   {
    "duration": 594,
    "start_time": "2023-06-29T08:35:21.001Z"
   },
   {
    "duration": 1138,
    "start_time": "2023-06-29T08:35:21.597Z"
   },
   {
    "duration": 103,
    "start_time": "2023-06-29T08:35:22.736Z"
   },
   {
    "duration": 47,
    "start_time": "2023-06-29T08:35:22.841Z"
   },
   {
    "duration": 218,
    "start_time": "2023-06-29T08:35:22.889Z"
   },
   {
    "duration": 317,
    "start_time": "2023-06-29T08:35:23.113Z"
   },
   {
    "duration": 371,
    "start_time": "2023-06-29T08:35:23.433Z"
   },
   {
    "duration": 139,
    "start_time": "2023-06-29T08:35:23.806Z"
   },
   {
    "duration": 970,
    "start_time": "2023-06-29T08:35:23.948Z"
   },
   {
    "duration": 29,
    "start_time": "2023-06-29T08:35:24.924Z"
   },
   {
    "duration": 5,
    "start_time": "2023-06-29T08:35:24.955Z"
   },
   {
    "duration": 2649,
    "start_time": "2023-06-29T08:35:24.962Z"
   },
   {
    "duration": 17,
    "start_time": "2023-06-29T08:35:27.613Z"
   },
   {
    "duration": 31,
    "start_time": "2023-06-29T08:35:27.636Z"
   },
   {
    "duration": 2812,
    "start_time": "2023-06-29T08:35:27.670Z"
   },
   {
    "duration": 3,
    "start_time": "2023-06-29T08:36:01.343Z"
   },
   {
    "duration": 4,
    "start_time": "2023-06-29T08:36:59.697Z"
   },
   {
    "duration": 4,
    "start_time": "2023-06-29T08:37:31.103Z"
   },
   {
    "duration": 2820,
    "start_time": "2023-06-29T08:37:36.455Z"
   },
   {
    "duration": 1955,
    "start_time": "2023-06-29T08:37:46.743Z"
   },
   {
    "duration": 1874,
    "start_time": "2023-06-29T08:37:48.700Z"
   },
   {
    "duration": 4,
    "start_time": "2023-06-29T08:37:50.575Z"
   },
   {
    "duration": 21,
    "start_time": "2023-06-29T08:37:50.581Z"
   },
   {
    "duration": 18,
    "start_time": "2023-06-29T08:37:50.604Z"
   },
   {
    "duration": 52,
    "start_time": "2023-06-29T08:37:50.635Z"
   },
   {
    "duration": 167,
    "start_time": "2023-06-29T08:37:50.689Z"
   },
   {
    "duration": 1218,
    "start_time": "2023-06-29T08:37:50.861Z"
   },
   {
    "duration": 603,
    "start_time": "2023-06-29T08:37:52.081Z"
   },
   {
    "duration": 1255,
    "start_time": "2023-06-29T08:37:52.686Z"
   },
   {
    "duration": 125,
    "start_time": "2023-06-29T08:37:53.945Z"
   },
   {
    "duration": 63,
    "start_time": "2023-06-29T08:37:54.073Z"
   },
   {
    "duration": 248,
    "start_time": "2023-06-29T08:37:54.138Z"
   },
   {
    "duration": 354,
    "start_time": "2023-06-29T08:37:54.389Z"
   },
   {
    "duration": 392,
    "start_time": "2023-06-29T08:37:54.745Z"
   },
   {
    "duration": 107,
    "start_time": "2023-06-29T08:37:55.142Z"
   },
   {
    "duration": 1032,
    "start_time": "2023-06-29T08:37:55.251Z"
   },
   {
    "duration": 34,
    "start_time": "2023-06-29T08:37:56.285Z"
   },
   {
    "duration": 7,
    "start_time": "2023-06-29T08:37:56.329Z"
   },
   {
    "duration": 2805,
    "start_time": "2023-06-29T08:37:56.338Z"
   },
   {
    "duration": 12,
    "start_time": "2023-06-29T08:37:59.151Z"
   },
   {
    "duration": 28,
    "start_time": "2023-06-29T08:37:59.165Z"
   },
   {
    "duration": 2912,
    "start_time": "2023-06-29T08:37:59.195Z"
   },
   {
    "duration": 48,
    "start_time": "2023-06-29T08:44:30.312Z"
   },
   {
    "duration": 24,
    "start_time": "2023-06-29T08:45:51.611Z"
   },
   {
    "duration": 78,
    "start_time": "2023-06-29T08:47:25.448Z"
   },
   {
    "duration": 95,
    "start_time": "2023-06-29T08:48:46.448Z"
   },
   {
    "duration": 83,
    "start_time": "2023-06-29T08:49:31.873Z"
   },
   {
    "duration": 36,
    "start_time": "2023-06-29T08:50:54.342Z"
   },
   {
    "duration": 68,
    "start_time": "2023-06-29T08:51:32.017Z"
   },
   {
    "duration": 74,
    "start_time": "2023-06-29T08:51:47.812Z"
   },
   {
    "duration": 65,
    "start_time": "2023-06-29T08:52:05.469Z"
   },
   {
    "duration": 42,
    "start_time": "2023-06-29T08:54:31.415Z"
   },
   {
    "duration": 18,
    "start_time": "2023-06-29T08:54:57.709Z"
   },
   {
    "duration": 11,
    "start_time": "2023-06-29T08:55:06.896Z"
   },
   {
    "duration": 12,
    "start_time": "2023-06-29T08:55:16.556Z"
   },
   {
    "duration": 30,
    "start_time": "2023-06-29T08:56:01.297Z"
   },
   {
    "duration": 213,
    "start_time": "2023-06-29T08:58:16.343Z"
   },
   {
    "duration": 15,
    "start_time": "2023-06-29T08:59:30.762Z"
   },
   {
    "duration": 40,
    "start_time": "2023-06-29T09:04:20.806Z"
   },
   {
    "duration": 18,
    "start_time": "2023-06-29T09:04:30.150Z"
   },
   {
    "duration": 29,
    "start_time": "2023-06-29T09:04:41.140Z"
   },
   {
    "duration": 3,
    "start_time": "2023-06-29T09:09:37.708Z"
   },
   {
    "duration": 28,
    "start_time": "2023-06-29T09:09:39.467Z"
   },
   {
    "duration": 4,
    "start_time": "2023-06-29T09:09:44.060Z"
   },
   {
    "duration": 9,
    "start_time": "2023-06-29T09:10:50.188Z"
   },
   {
    "duration": 55,
    "start_time": "2023-06-29T09:10:51.111Z"
   },
   {
    "duration": 10,
    "start_time": "2023-06-29T09:13:39.090Z"
   },
   {
    "duration": 5,
    "start_time": "2023-06-29T09:14:43.187Z"
   },
   {
    "duration": 1704,
    "start_time": "2023-06-29T09:15:29.802Z"
   },
   {
    "duration": 1944,
    "start_time": "2023-06-29T09:15:31.508Z"
   },
   {
    "duration": 10,
    "start_time": "2023-06-29T09:15:33.461Z"
   },
   {
    "duration": 26,
    "start_time": "2023-06-29T09:15:33.473Z"
   },
   {
    "duration": 31,
    "start_time": "2023-06-29T09:15:33.502Z"
   },
   {
    "duration": 91,
    "start_time": "2023-06-29T09:15:33.540Z"
   },
   {
    "duration": 203,
    "start_time": "2023-06-29T09:15:33.633Z"
   },
   {
    "duration": 1212,
    "start_time": "2023-06-29T09:15:33.845Z"
   },
   {
    "duration": 598,
    "start_time": "2023-06-29T09:15:35.062Z"
   },
   {
    "duration": 1255,
    "start_time": "2023-06-29T09:15:35.671Z"
   },
   {
    "duration": 114,
    "start_time": "2023-06-29T09:15:36.932Z"
   },
   {
    "duration": 50,
    "start_time": "2023-06-29T09:15:37.048Z"
   },
   {
    "duration": 277,
    "start_time": "2023-06-29T09:15:37.101Z"
   },
   {
    "duration": 372,
    "start_time": "2023-06-29T09:15:37.382Z"
   },
   {
    "duration": 499,
    "start_time": "2023-06-29T09:15:37.756Z"
   },
   {
    "duration": 25,
    "start_time": "2023-06-29T09:15:38.257Z"
   },
   {
    "duration": 1083,
    "start_time": "2023-06-29T09:15:38.285Z"
   },
   {
    "duration": 22,
    "start_time": "2023-06-29T09:15:39.370Z"
   },
   {
    "duration": 4,
    "start_time": "2023-06-29T09:15:39.394Z"
   },
   {
    "duration": 2963,
    "start_time": "2023-06-29T09:15:39.428Z"
   },
   {
    "duration": 10,
    "start_time": "2023-06-29T09:15:42.392Z"
   },
   {
    "duration": 48,
    "start_time": "2023-06-29T09:15:42.413Z"
   },
   {
    "duration": 14,
    "start_time": "2023-06-29T09:15:42.470Z"
   },
   {
    "duration": 20,
    "start_time": "2023-06-29T09:15:42.486Z"
   },
   {
    "duration": 59,
    "start_time": "2023-06-29T09:15:42.508Z"
   },
   {
    "duration": 13,
    "start_time": "2023-06-29T09:15:42.571Z"
   },
   {
    "duration": 9,
    "start_time": "2023-06-29T09:15:42.588Z"
   },
   {
    "duration": 2940,
    "start_time": "2023-06-29T09:15:42.599Z"
   },
   {
    "duration": 31,
    "start_time": "2023-06-29T09:24:04.937Z"
   },
   {
    "duration": 19,
    "start_time": "2023-06-29T09:26:20.531Z"
   },
   {
    "duration": 12,
    "start_time": "2023-06-29T09:31:20.949Z"
   },
   {
    "duration": 12,
    "start_time": "2023-06-29T09:31:34.300Z"
   },
   {
    "duration": 31,
    "start_time": "2023-06-29T09:33:07.941Z"
   },
   {
    "duration": 750,
    "start_time": "2023-06-29T09:35:47.133Z"
   },
   {
    "duration": 755,
    "start_time": "2023-06-29T09:36:08.003Z"
   },
   {
    "duration": 992,
    "start_time": "2023-06-29T09:36:16.092Z"
   },
   {
    "duration": 695,
    "start_time": "2023-06-29T09:36:36.337Z"
   },
   {
    "duration": 15,
    "start_time": "2023-06-29T09:41:58.578Z"
   },
   {
    "duration": 24,
    "start_time": "2023-06-29T09:42:15.629Z"
   },
   {
    "duration": 22,
    "start_time": "2023-06-29T09:42:53.314Z"
   },
   {
    "duration": 13,
    "start_time": "2023-06-29T09:43:03.143Z"
   },
   {
    "duration": 281,
    "start_time": "2023-06-29T09:43:59.480Z"
   },
   {
    "duration": 249,
    "start_time": "2023-06-29T09:44:54.758Z"
   },
   {
    "duration": 248,
    "start_time": "2023-06-29T09:45:06.541Z"
   },
   {
    "duration": 242,
    "start_time": "2023-06-29T09:45:15.559Z"
   },
   {
    "duration": 36,
    "start_time": "2023-06-29T10:03:27.703Z"
   },
   {
    "duration": 127,
    "start_time": "2023-06-29T10:05:41.364Z"
   },
   {
    "duration": 2395,
    "start_time": "2023-06-29T10:05:46.070Z"
   },
   {
    "duration": 70,
    "start_time": "2023-06-29T10:06:20.727Z"
   },
   {
    "duration": 18,
    "start_time": "2023-06-29T10:06:27.693Z"
   },
   {
    "duration": 4,
    "start_time": "2023-06-29T10:08:33.295Z"
   },
   {
    "duration": 5,
    "start_time": "2023-06-29T10:08:58.890Z"
   },
   {
    "duration": 4,
    "start_time": "2023-06-29T10:09:02.675Z"
   },
   {
    "duration": 4,
    "start_time": "2023-06-29T10:10:24.746Z"
   },
   {
    "duration": 4,
    "start_time": "2023-06-29T10:10:37.959Z"
   },
   {
    "duration": 7,
    "start_time": "2023-06-29T10:11:08.822Z"
   },
   {
    "duration": 11,
    "start_time": "2023-06-29T10:11:21.113Z"
   },
   {
    "duration": 5,
    "start_time": "2023-06-29T10:11:26.545Z"
   },
   {
    "duration": 1497,
    "start_time": "2023-06-29T10:15:08.041Z"
   },
   {
    "duration": 2251,
    "start_time": "2023-06-29T10:15:09.540Z"
   },
   {
    "duration": 3,
    "start_time": "2023-06-29T10:15:11.792Z"
   },
   {
    "duration": 33,
    "start_time": "2023-06-29T10:15:11.798Z"
   },
   {
    "duration": 4,
    "start_time": "2023-06-29T10:15:11.835Z"
   },
   {
    "duration": 63,
    "start_time": "2023-06-29T10:15:11.841Z"
   },
   {
    "duration": 140,
    "start_time": "2023-06-29T10:15:11.916Z"
   },
   {
    "duration": 1143,
    "start_time": "2023-06-29T10:15:12.058Z"
   },
   {
    "duration": 591,
    "start_time": "2023-06-29T10:15:13.203Z"
   },
   {
    "duration": 1162,
    "start_time": "2023-06-29T10:15:13.796Z"
   },
   {
    "duration": 131,
    "start_time": "2023-06-29T10:15:14.960Z"
   },
   {
    "duration": 51,
    "start_time": "2023-06-29T10:15:15.092Z"
   },
   {
    "duration": 218,
    "start_time": "2023-06-29T10:15:15.145Z"
   },
   {
    "duration": 308,
    "start_time": "2023-06-29T10:15:15.365Z"
   },
   {
    "duration": 439,
    "start_time": "2023-06-29T10:15:15.675Z"
   },
   {
    "duration": 20,
    "start_time": "2023-06-29T10:15:16.118Z"
   },
   {
    "duration": 968,
    "start_time": "2023-06-29T10:15:16.140Z"
   },
   {
    "duration": 27,
    "start_time": "2023-06-29T10:15:17.110Z"
   },
   {
    "duration": 7,
    "start_time": "2023-06-29T10:15:17.140Z"
   },
   {
    "duration": 2680,
    "start_time": "2023-06-29T10:15:17.150Z"
   },
   {
    "duration": 14,
    "start_time": "2023-06-29T10:15:19.841Z"
   },
   {
    "duration": 32,
    "start_time": "2023-06-29T10:15:19.857Z"
   },
   {
    "duration": 25,
    "start_time": "2023-06-29T10:15:19.891Z"
   },
   {
    "duration": 25,
    "start_time": "2023-06-29T10:15:19.918Z"
   },
   {
    "duration": 33,
    "start_time": "2023-06-29T10:15:19.948Z"
   },
   {
    "duration": 34,
    "start_time": "2023-06-29T10:15:19.986Z"
   },
   {
    "duration": 10,
    "start_time": "2023-06-29T10:15:20.024Z"
   },
   {
    "duration": 36,
    "start_time": "2023-06-29T10:15:20.040Z"
   },
   {
    "duration": 13,
    "start_time": "2023-06-29T10:15:20.078Z"
   },
   {
    "duration": 267,
    "start_time": "2023-06-29T10:15:20.093Z"
   },
   {
    "duration": 21,
    "start_time": "2023-06-29T10:15:20.361Z"
   },
   {
    "duration": 5,
    "start_time": "2023-06-29T10:15:20.383Z"
   },
   {
    "duration": 1525,
    "start_time": "2023-06-29T10:16:05.409Z"
   },
   {
    "duration": 1905,
    "start_time": "2023-06-29T10:16:06.936Z"
   },
   {
    "duration": 3,
    "start_time": "2023-06-29T10:16:08.845Z"
   },
   {
    "duration": 27,
    "start_time": "2023-06-29T10:16:08.850Z"
   },
   {
    "duration": 6,
    "start_time": "2023-06-29T10:16:08.878Z"
   },
   {
    "duration": 75,
    "start_time": "2023-06-29T10:16:08.886Z"
   },
   {
    "duration": 142,
    "start_time": "2023-06-29T10:16:08.963Z"
   },
   {
    "duration": 1255,
    "start_time": "2023-06-29T10:16:09.107Z"
   },
   {
    "duration": 650,
    "start_time": "2023-06-29T10:16:10.363Z"
   },
   {
    "duration": 1157,
    "start_time": "2023-06-29T10:16:11.016Z"
   },
   {
    "duration": 122,
    "start_time": "2023-06-29T10:16:12.176Z"
   },
   {
    "duration": 56,
    "start_time": "2023-06-29T10:16:12.301Z"
   },
   {
    "duration": 210,
    "start_time": "2023-06-29T10:16:12.361Z"
   },
   {
    "duration": 301,
    "start_time": "2023-06-29T10:16:12.574Z"
   },
   {
    "duration": 457,
    "start_time": "2023-06-29T10:16:12.876Z"
   },
   {
    "duration": 20,
    "start_time": "2023-06-29T10:16:13.335Z"
   },
   {
    "duration": 1017,
    "start_time": "2023-06-29T10:16:13.357Z"
   },
   {
    "duration": 22,
    "start_time": "2023-06-29T10:16:14.376Z"
   },
   {
    "duration": 7,
    "start_time": "2023-06-29T10:16:14.414Z"
   },
   {
    "duration": 2746,
    "start_time": "2023-06-29T10:16:14.423Z"
   },
   {
    "duration": 10,
    "start_time": "2023-06-29T10:16:17.171Z"
   },
   {
    "duration": 48,
    "start_time": "2023-06-29T10:16:17.183Z"
   },
   {
    "duration": 16,
    "start_time": "2023-06-29T10:16:17.233Z"
   },
   {
    "duration": 22,
    "start_time": "2023-06-29T10:16:17.251Z"
   },
   {
    "duration": 65,
    "start_time": "2023-06-29T10:16:17.275Z"
   },
   {
    "duration": 11,
    "start_time": "2023-06-29T10:16:17.342Z"
   },
   {
    "duration": 19,
    "start_time": "2023-06-29T10:16:17.355Z"
   },
   {
    "duration": 46,
    "start_time": "2023-06-29T10:16:17.376Z"
   },
   {
    "duration": 13,
    "start_time": "2023-06-29T10:16:17.424Z"
   },
   {
    "duration": 288,
    "start_time": "2023-06-29T10:16:17.439Z"
   },
   {
    "duration": 26,
    "start_time": "2023-06-29T10:16:17.730Z"
   },
   {
    "duration": 8,
    "start_time": "2023-06-29T10:16:17.758Z"
   },
   {
    "duration": 1643,
    "start_time": "2023-06-29T10:16:42.702Z"
   },
   {
    "duration": 1794,
    "start_time": "2023-06-29T10:16:44.347Z"
   },
   {
    "duration": 3,
    "start_time": "2023-06-29T10:16:46.144Z"
   },
   {
    "duration": 78,
    "start_time": "2023-06-29T10:16:46.150Z"
   },
   {
    "duration": 31,
    "start_time": "2023-06-29T10:16:46.230Z"
   },
   {
    "duration": 146,
    "start_time": "2023-06-29T10:16:46.262Z"
   },
   {
    "duration": 147,
    "start_time": "2023-06-29T10:16:46.410Z"
   },
   {
    "duration": 1206,
    "start_time": "2023-06-29T10:16:46.559Z"
   },
   {
    "duration": 625,
    "start_time": "2023-06-29T10:16:47.767Z"
   },
   {
    "duration": 1212,
    "start_time": "2023-06-29T10:16:48.395Z"
   },
   {
    "duration": 135,
    "start_time": "2023-06-29T10:16:49.612Z"
   },
   {
    "duration": 54,
    "start_time": "2023-06-29T10:16:49.750Z"
   },
   {
    "duration": 250,
    "start_time": "2023-06-29T10:16:49.820Z"
   },
   {
    "duration": 289,
    "start_time": "2023-06-29T10:16:50.072Z"
   },
   {
    "duration": 436,
    "start_time": "2023-06-29T10:16:50.362Z"
   },
   {
    "duration": 32,
    "start_time": "2023-06-29T10:16:50.800Z"
   },
   {
    "duration": 997,
    "start_time": "2023-06-29T10:16:50.833Z"
   },
   {
    "duration": 22,
    "start_time": "2023-06-29T10:16:51.832Z"
   },
   {
    "duration": 6,
    "start_time": "2023-06-29T10:16:51.856Z"
   },
   {
    "duration": 2718,
    "start_time": "2023-06-29T10:16:51.864Z"
   },
   {
    "duration": 9,
    "start_time": "2023-06-29T10:16:54.584Z"
   },
   {
    "duration": 38,
    "start_time": "2023-06-29T10:16:54.595Z"
   },
   {
    "duration": 12,
    "start_time": "2023-06-29T10:16:54.635Z"
   },
   {
    "duration": 21,
    "start_time": "2023-06-29T10:16:54.648Z"
   },
   {
    "duration": 49,
    "start_time": "2023-06-29T10:16:54.670Z"
   },
   {
    "duration": 11,
    "start_time": "2023-06-29T10:16:54.721Z"
   },
   {
    "duration": 5,
    "start_time": "2023-06-29T10:16:54.734Z"
   },
   {
    "duration": 33,
    "start_time": "2023-06-29T10:16:54.742Z"
   },
   {
    "duration": 8,
    "start_time": "2023-06-29T10:16:54.776Z"
   },
   {
    "duration": 255,
    "start_time": "2023-06-29T10:16:54.786Z"
   },
   {
    "duration": 21,
    "start_time": "2023-06-29T10:16:55.043Z"
   },
   {
    "duration": 4,
    "start_time": "2023-06-29T10:16:55.066Z"
   },
   {
    "duration": 117,
    "start_time": "2023-06-29T10:34:54.640Z"
   },
   {
    "duration": 13,
    "start_time": "2023-06-29T10:34:57.580Z"
   },
   {
    "duration": 55,
    "start_time": "2023-06-29T10:34:58.339Z"
   },
   {
    "duration": 68,
    "start_time": "2023-06-29T10:37:55.575Z"
   },
   {
    "duration": 63,
    "start_time": "2023-06-29T10:38:30.272Z"
   },
   {
    "duration": 64,
    "start_time": "2023-06-29T10:39:12.199Z"
   },
   {
    "duration": 56,
    "start_time": "2023-06-29T10:39:24.046Z"
   },
   {
    "duration": 60,
    "start_time": "2023-06-29T10:39:30.277Z"
   },
   {
    "duration": 68,
    "start_time": "2023-06-29T10:46:21.376Z"
   },
   {
    "duration": 73,
    "start_time": "2023-06-29T10:47:26.562Z"
   },
   {
    "duration": 14,
    "start_time": "2023-06-29T10:47:30.178Z"
   },
   {
    "duration": 57,
    "start_time": "2023-06-29T10:52:02.226Z"
   },
   {
    "duration": 3,
    "start_time": "2023-06-29T11:08:17.366Z"
   },
   {
    "duration": 10,
    "start_time": "2023-06-29T11:14:07.653Z"
   },
   {
    "duration": 13,
    "start_time": "2023-06-29T11:14:11.636Z"
   },
   {
    "duration": 0,
    "start_time": "2023-06-29T11:14:11.651Z"
   },
   {
    "duration": 191,
    "start_time": "2023-06-29T11:18:16.860Z"
   },
   {
    "duration": 10,
    "start_time": "2023-06-29T11:19:02.842Z"
   },
   {
    "duration": 10,
    "start_time": "2023-06-29T11:19:36.883Z"
   },
   {
    "duration": 1820,
    "start_time": "2023-06-29T11:19:51.965Z"
   },
   {
    "duration": 1597,
    "start_time": "2023-06-29T11:19:53.787Z"
   },
   {
    "duration": 3,
    "start_time": "2023-06-29T11:19:55.386Z"
   },
   {
    "duration": 33,
    "start_time": "2023-06-29T11:19:55.391Z"
   },
   {
    "duration": 5,
    "start_time": "2023-06-29T11:19:55.428Z"
   },
   {
    "duration": 88,
    "start_time": "2023-06-29T11:19:55.435Z"
   },
   {
    "duration": 127,
    "start_time": "2023-06-29T11:19:55.528Z"
   },
   {
    "duration": 1093,
    "start_time": "2023-06-29T11:19:55.656Z"
   },
   {
    "duration": 558,
    "start_time": "2023-06-29T11:19:56.751Z"
   },
   {
    "duration": 1079,
    "start_time": "2023-06-29T11:19:57.311Z"
   },
   {
    "duration": 108,
    "start_time": "2023-06-29T11:19:58.392Z"
   },
   {
    "duration": 53,
    "start_time": "2023-06-29T11:19:58.501Z"
   },
   {
    "duration": 231,
    "start_time": "2023-06-29T11:19:58.556Z"
   },
   {
    "duration": 379,
    "start_time": "2023-06-29T11:19:58.790Z"
   },
   {
    "duration": 331,
    "start_time": "2023-06-29T11:19:59.171Z"
   },
   {
    "duration": 26,
    "start_time": "2023-06-29T11:19:59.504Z"
   },
   {
    "duration": 1068,
    "start_time": "2023-06-29T11:19:59.532Z"
   },
   {
    "duration": 25,
    "start_time": "2023-06-29T11:20:00.614Z"
   },
   {
    "duration": 30,
    "start_time": "2023-06-29T11:20:00.641Z"
   },
   {
    "duration": 2657,
    "start_time": "2023-06-29T11:20:00.673Z"
   },
   {
    "duration": 9,
    "start_time": "2023-06-29T11:20:03.332Z"
   },
   {
    "duration": 52,
    "start_time": "2023-06-29T11:20:03.343Z"
   },
   {
    "duration": 12,
    "start_time": "2023-06-29T11:20:03.397Z"
   },
   {
    "duration": 28,
    "start_time": "2023-06-29T11:20:03.411Z"
   },
   {
    "duration": 55,
    "start_time": "2023-06-29T11:20:03.440Z"
   },
   {
    "duration": 8,
    "start_time": "2023-06-29T11:20:03.496Z"
   },
   {
    "duration": 20,
    "start_time": "2023-06-29T11:20:03.506Z"
   },
   {
    "duration": 44,
    "start_time": "2023-06-29T11:20:03.531Z"
   },
   {
    "duration": 8,
    "start_time": "2023-06-29T11:20:03.577Z"
   },
   {
    "duration": 254,
    "start_time": "2023-06-29T11:20:03.587Z"
   },
   {
    "duration": 22,
    "start_time": "2023-06-29T11:20:03.842Z"
   },
   {
    "duration": 13,
    "start_time": "2023-06-29T11:20:03.866Z"
   },
   {
    "duration": 87,
    "start_time": "2023-06-29T11:20:03.882Z"
   },
   {
    "duration": 3,
    "start_time": "2023-06-29T11:20:03.971Z"
   },
   {
    "duration": 130,
    "start_time": "2023-06-29T11:20:03.976Z"
   },
   {
    "duration": 143,
    "start_time": "2023-06-29T11:20:32.702Z"
   },
   {
    "duration": 3,
    "start_time": "2023-06-29T11:20:37.656Z"
   },
   {
    "duration": 14,
    "start_time": "2023-06-29T11:20:58.158Z"
   },
   {
    "duration": 81,
    "start_time": "2023-06-29T11:24:48.207Z"
   },
   {
    "duration": 50,
    "start_time": "2023-06-29T11:24:57.452Z"
   },
   {
    "duration": 47,
    "start_time": "2023-06-29T11:25:31.561Z"
   },
   {
    "duration": 14,
    "start_time": "2023-06-29T11:32:24.417Z"
   },
   {
    "duration": 4,
    "start_time": "2023-06-29T11:32:39.952Z"
   },
   {
    "duration": 2941,
    "start_time": "2023-06-29T11:32:45.147Z"
   },
   {
    "duration": 10,
    "start_time": "2023-06-29T11:32:53.977Z"
   },
   {
    "duration": 35,
    "start_time": "2023-06-29T11:33:27.052Z"
   },
   {
    "duration": 4,
    "start_time": "2023-06-29T11:33:33.150Z"
   },
   {
    "duration": 378709,
    "start_time": "2023-06-29T11:33:54.308Z"
   },
   {
    "duration": 4577,
    "start_time": "2023-06-29T11:40:13.020Z"
   },
   {
    "duration": 762,
    "start_time": "2023-06-29T11:40:17.599Z"
   },
   {
    "duration": 61869,
    "start_time": "2023-06-29T11:40:18.364Z"
   },
   {
    "duration": 0,
    "start_time": "2023-06-29T11:41:20.235Z"
   },
   {
    "duration": 0,
    "start_time": "2023-06-29T11:41:20.237Z"
   },
   {
    "duration": 3048,
    "start_time": "2023-06-29T11:41:24.129Z"
   },
   {
    "duration": 2029,
    "start_time": "2023-06-29T11:41:27.178Z"
   },
   {
    "duration": 9,
    "start_time": "2023-06-29T11:41:29.209Z"
   },
   {
    "duration": 35,
    "start_time": "2023-06-29T11:41:29.220Z"
   },
   {
    "duration": 5,
    "start_time": "2023-06-29T11:41:29.257Z"
   },
   {
    "duration": 72,
    "start_time": "2023-06-29T11:41:29.263Z"
   },
   {
    "duration": 131,
    "start_time": "2023-06-29T11:41:29.337Z"
   },
   {
    "duration": 1202,
    "start_time": "2023-06-29T11:41:29.470Z"
   },
   {
    "duration": 575,
    "start_time": "2023-06-29T11:41:30.674Z"
   },
   {
    "duration": 1279,
    "start_time": "2023-06-29T11:41:31.252Z"
   },
   {
    "duration": 103,
    "start_time": "2023-06-29T11:41:32.533Z"
   },
   {
    "duration": 46,
    "start_time": "2023-06-29T11:41:32.639Z"
   },
   {
    "duration": 205,
    "start_time": "2023-06-29T11:41:32.687Z"
   },
   {
    "duration": 309,
    "start_time": "2023-06-29T11:41:32.894Z"
   },
   {
    "duration": 379,
    "start_time": "2023-06-29T11:41:33.205Z"
   },
   {
    "duration": 29,
    "start_time": "2023-06-29T11:41:33.586Z"
   },
   {
    "duration": 1013,
    "start_time": "2023-06-29T11:41:33.622Z"
   },
   {
    "duration": 22,
    "start_time": "2023-06-29T11:41:34.637Z"
   },
   {
    "duration": 6,
    "start_time": "2023-06-29T11:41:34.661Z"
   },
   {
    "duration": 2563,
    "start_time": "2023-06-29T11:41:34.669Z"
   },
   {
    "duration": 10,
    "start_time": "2023-06-29T11:41:37.234Z"
   },
   {
    "duration": 33,
    "start_time": "2023-06-29T11:41:37.246Z"
   },
   {
    "duration": 14,
    "start_time": "2023-06-29T11:41:37.281Z"
   },
   {
    "duration": 24,
    "start_time": "2023-06-29T11:41:37.314Z"
   },
   {
    "duration": 29,
    "start_time": "2023-06-29T11:41:37.340Z"
   },
   {
    "duration": 10,
    "start_time": "2023-06-29T11:41:37.371Z"
   },
   {
    "duration": 39,
    "start_time": "2023-06-29T11:41:37.383Z"
   },
   {
    "duration": 35,
    "start_time": "2023-06-29T11:41:37.427Z"
   },
   {
    "duration": 12,
    "start_time": "2023-06-29T11:41:37.465Z"
   },
   {
    "duration": 265,
    "start_time": "2023-06-29T11:41:37.479Z"
   },
   {
    "duration": 22,
    "start_time": "2023-06-29T11:41:37.745Z"
   },
   {
    "duration": 14,
    "start_time": "2023-06-29T11:41:37.768Z"
   },
   {
    "duration": 82,
    "start_time": "2023-06-29T11:41:37.783Z"
   },
   {
    "duration": 3,
    "start_time": "2023-06-29T11:41:37.867Z"
   },
   {
    "duration": 2589,
    "start_time": "2023-06-29T11:41:37.872Z"
   },
   {
    "duration": 81957,
    "start_time": "2023-06-29T11:41:40.463Z"
   },
   {
    "duration": 505,
    "start_time": "2023-06-29T11:43:02.422Z"
   },
   {
    "duration": 371,
    "start_time": "2023-06-29T11:43:02.928Z"
   },
   {
    "duration": 26,
    "start_time": "2023-06-29T11:44:05.104Z"
   },
   {
    "duration": 3003,
    "start_time": "2023-06-29T11:44:11.410Z"
   },
   {
    "duration": 814,
    "start_time": "2023-06-29T11:44:14.420Z"
   },
   {
    "duration": 16943,
    "start_time": "2023-06-29T11:45:11.610Z"
   },
   {
    "duration": 1705,
    "start_time": "2023-06-29T11:45:51.337Z"
   },
   {
    "duration": 2166,
    "start_time": "2023-06-29T11:45:53.044Z"
   },
   {
    "duration": 3,
    "start_time": "2023-06-29T11:45:55.216Z"
   },
   {
    "duration": 33,
    "start_time": "2023-06-29T11:45:55.221Z"
   },
   {
    "duration": 4,
    "start_time": "2023-06-29T11:45:55.256Z"
   },
   {
    "duration": 64,
    "start_time": "2023-06-29T11:45:55.261Z"
   },
   {
    "duration": 129,
    "start_time": "2023-06-29T11:45:55.327Z"
   },
   {
    "duration": 1139,
    "start_time": "2023-06-29T11:45:55.458Z"
   },
   {
    "duration": 563,
    "start_time": "2023-06-29T11:45:56.599Z"
   },
   {
    "duration": 1179,
    "start_time": "2023-06-29T11:45:57.163Z"
   },
   {
    "duration": 112,
    "start_time": "2023-06-29T11:45:58.344Z"
   },
   {
    "duration": 60,
    "start_time": "2023-06-29T11:45:58.458Z"
   },
   {
    "duration": 223,
    "start_time": "2023-06-29T11:45:58.520Z"
   },
   {
    "duration": 326,
    "start_time": "2023-06-29T11:45:58.747Z"
   },
   {
    "duration": 355,
    "start_time": "2023-06-29T11:45:59.074Z"
   },
   {
    "duration": 18,
    "start_time": "2023-06-29T11:45:59.430Z"
   },
   {
    "duration": 1001,
    "start_time": "2023-06-29T11:45:59.450Z"
   },
   {
    "duration": 23,
    "start_time": "2023-06-29T11:46:00.453Z"
   },
   {
    "duration": 496,
    "start_time": "2023-06-29T11:46:00.478Z"
   },
   {
    "duration": 2479,
    "start_time": "2023-06-29T11:46:00.976Z"
   },
   {
    "duration": 10,
    "start_time": "2023-06-29T11:46:03.457Z"
   },
   {
    "duration": 49,
    "start_time": "2023-06-29T11:46:03.469Z"
   },
   {
    "duration": 16,
    "start_time": "2023-06-29T11:46:03.520Z"
   },
   {
    "duration": 46,
    "start_time": "2023-06-29T11:46:03.538Z"
   },
   {
    "duration": 39,
    "start_time": "2023-06-29T11:46:03.586Z"
   },
   {
    "duration": 34,
    "start_time": "2023-06-29T11:46:03.627Z"
   },
   {
    "duration": 40,
    "start_time": "2023-06-29T11:46:03.663Z"
   },
   {
    "duration": 61,
    "start_time": "2023-06-29T11:46:03.705Z"
   },
   {
    "duration": 25,
    "start_time": "2023-06-29T11:46:03.768Z"
   },
   {
    "duration": 256,
    "start_time": "2023-06-29T11:46:03.794Z"
   },
   {
    "duration": 21,
    "start_time": "2023-06-29T11:46:04.051Z"
   },
   {
    "duration": 15,
    "start_time": "2023-06-29T11:46:04.074Z"
   },
   {
    "duration": 74,
    "start_time": "2023-06-29T11:46:04.091Z"
   },
   {
    "duration": 3,
    "start_time": "2023-06-29T11:46:04.167Z"
   },
   {
    "duration": 1802,
    "start_time": "2023-06-29T11:46:04.172Z"
   },
   {
    "duration": 10147,
    "start_time": "2023-06-29T11:46:05.976Z"
   },
   {
    "duration": 2800,
    "start_time": "2023-06-29T11:46:16.125Z"
   },
   {
    "duration": 526,
    "start_time": "2023-06-29T11:46:19.014Z"
   },
   {
    "duration": 2542,
    "start_time": "2023-06-29T11:47:36.770Z"
   },
   {
    "duration": 1699,
    "start_time": "2023-06-29T11:47:39.314Z"
   },
   {
    "duration": 2,
    "start_time": "2023-06-29T11:47:41.015Z"
   },
   {
    "duration": 29,
    "start_time": "2023-06-29T11:47:41.019Z"
   },
   {
    "duration": 27,
    "start_time": "2023-06-29T11:47:41.050Z"
   },
   {
    "duration": 66,
    "start_time": "2023-06-29T11:47:41.078Z"
   },
   {
    "duration": 129,
    "start_time": "2023-06-29T11:47:41.146Z"
   },
   {
    "duration": 1096,
    "start_time": "2023-06-29T11:47:41.277Z"
   },
   {
    "duration": 590,
    "start_time": "2023-06-29T11:47:42.374Z"
   },
   {
    "duration": 1175,
    "start_time": "2023-06-29T11:47:42.966Z"
   },
   {
    "duration": 110,
    "start_time": "2023-06-29T11:47:44.142Z"
   },
   {
    "duration": 46,
    "start_time": "2023-06-29T11:47:44.254Z"
   },
   {
    "duration": 192,
    "start_time": "2023-06-29T11:47:44.302Z"
   },
   {
    "duration": 286,
    "start_time": "2023-06-29T11:47:44.498Z"
   },
   {
    "duration": 355,
    "start_time": "2023-06-29T11:47:44.785Z"
   },
   {
    "duration": 17,
    "start_time": "2023-06-29T11:47:45.142Z"
   },
   {
    "duration": 916,
    "start_time": "2023-06-29T11:47:45.161Z"
   },
   {
    "duration": 22,
    "start_time": "2023-06-29T11:47:46.079Z"
   },
   {
    "duration": 4,
    "start_time": "2023-06-29T11:47:46.114Z"
   },
   {
    "duration": 2436,
    "start_time": "2023-06-29T11:47:46.120Z"
   },
   {
    "duration": 9,
    "start_time": "2023-06-29T11:47:48.558Z"
   },
   {
    "duration": 25,
    "start_time": "2023-06-29T11:47:48.568Z"
   },
   {
    "duration": 27,
    "start_time": "2023-06-29T11:47:48.595Z"
   },
   {
    "duration": 19,
    "start_time": "2023-06-29T11:47:48.624Z"
   },
   {
    "duration": 27,
    "start_time": "2023-06-29T11:47:48.645Z"
   },
   {
    "duration": 8,
    "start_time": "2023-06-29T11:47:48.674Z"
   },
   {
    "duration": 33,
    "start_time": "2023-06-29T11:47:48.684Z"
   },
   {
    "duration": 30,
    "start_time": "2023-06-29T11:47:48.718Z"
   },
   {
    "duration": 9,
    "start_time": "2023-06-29T11:47:48.750Z"
   },
   {
    "duration": 232,
    "start_time": "2023-06-29T11:47:48.760Z"
   },
   {
    "duration": 28,
    "start_time": "2023-06-29T11:47:48.994Z"
   },
   {
    "duration": 13,
    "start_time": "2023-06-29T11:47:49.024Z"
   },
   {
    "duration": 61,
    "start_time": "2023-06-29T11:47:49.038Z"
   },
   {
    "duration": 3,
    "start_time": "2023-06-29T11:47:49.112Z"
   },
   {
    "duration": 1809,
    "start_time": "2023-06-29T11:47:49.117Z"
   },
   {
    "duration": 11285,
    "start_time": "2023-06-29T11:47:50.928Z"
   },
   {
    "duration": 3004,
    "start_time": "2023-06-29T11:48:02.215Z"
   },
   {
    "duration": 11312,
    "start_time": "2023-06-29T11:48:05.221Z"
   },
   {
    "duration": 10896,
    "start_time": "2023-06-29T11:48:43.909Z"
   },
   {
    "duration": 11,
    "start_time": "2023-06-29T11:53:24.773Z"
   },
   {
    "duration": 2598,
    "start_time": "2023-06-29T11:56:12.296Z"
   },
   {
    "duration": 1668,
    "start_time": "2023-06-29T11:56:14.896Z"
   },
   {
    "duration": 3,
    "start_time": "2023-06-29T11:56:16.565Z"
   },
   {
    "duration": 23,
    "start_time": "2023-06-29T11:56:16.572Z"
   },
   {
    "duration": 16,
    "start_time": "2023-06-29T11:56:16.597Z"
   },
   {
    "duration": 69,
    "start_time": "2023-06-29T11:56:16.616Z"
   },
   {
    "duration": 156,
    "start_time": "2023-06-29T11:56:16.687Z"
   },
   {
    "duration": 1201,
    "start_time": "2023-06-29T11:56:16.845Z"
   },
   {
    "duration": 616,
    "start_time": "2023-06-29T11:56:18.047Z"
   },
   {
    "duration": 1154,
    "start_time": "2023-06-29T11:56:18.666Z"
   },
   {
    "duration": 139,
    "start_time": "2023-06-29T11:56:19.822Z"
   },
   {
    "duration": 61,
    "start_time": "2023-06-29T11:56:19.963Z"
   },
   {
    "duration": 222,
    "start_time": "2023-06-29T11:56:20.027Z"
   },
   {
    "duration": 348,
    "start_time": "2023-06-29T11:56:20.252Z"
   },
   {
    "duration": 371,
    "start_time": "2023-06-29T11:56:20.602Z"
   },
   {
    "duration": 19,
    "start_time": "2023-06-29T11:56:20.974Z"
   },
   {
    "duration": 971,
    "start_time": "2023-06-29T11:56:20.995Z"
   },
   {
    "duration": 26,
    "start_time": "2023-06-29T11:56:21.969Z"
   },
   {
    "duration": 18,
    "start_time": "2023-06-29T11:56:21.997Z"
   },
   {
    "duration": 2619,
    "start_time": "2023-06-29T11:56:22.017Z"
   },
   {
    "duration": 10,
    "start_time": "2023-06-29T11:56:24.638Z"
   },
   {
    "duration": 55,
    "start_time": "2023-06-29T11:56:24.650Z"
   },
   {
    "duration": 16,
    "start_time": "2023-06-29T11:56:24.707Z"
   },
   {
    "duration": 19,
    "start_time": "2023-06-29T11:56:24.725Z"
   },
   {
    "duration": 28,
    "start_time": "2023-06-29T11:56:24.746Z"
   },
   {
    "duration": 40,
    "start_time": "2023-06-29T11:56:24.776Z"
   },
   {
    "duration": 5,
    "start_time": "2023-06-29T11:56:24.818Z"
   },
   {
    "duration": 32,
    "start_time": "2023-06-29T11:56:24.826Z"
   },
   {
    "duration": 9,
    "start_time": "2023-06-29T11:56:24.860Z"
   },
   {
    "duration": 265,
    "start_time": "2023-06-29T11:56:24.871Z"
   },
   {
    "duration": 22,
    "start_time": "2023-06-29T11:56:25.138Z"
   },
   {
    "duration": 13,
    "start_time": "2023-06-29T11:56:25.162Z"
   },
   {
    "duration": 85,
    "start_time": "2023-06-29T11:56:25.177Z"
   },
   {
    "duration": 4,
    "start_time": "2023-06-29T11:56:25.264Z"
   },
   {
    "duration": 1890,
    "start_time": "2023-06-29T11:56:25.271Z"
   },
   {
    "duration": 152257,
    "start_time": "2023-06-29T11:56:27.163Z"
   },
   {
    "duration": 3902,
    "start_time": "2023-06-29T11:58:59.422Z"
   },
   {
    "duration": 587,
    "start_time": "2023-06-29T11:59:03.326Z"
   },
   {
    "duration": 16,
    "start_time": "2023-06-29T11:59:03.916Z"
   },
   {
    "duration": 1025,
    "start_time": "2023-06-29T11:59:37.946Z"
   },
   {
    "duration": 2033,
    "start_time": "2023-06-29T11:59:55.591Z"
   },
   {
    "duration": 2277,
    "start_time": "2023-06-29T12:00:41.955Z"
   },
   {
    "duration": 66,
    "start_time": "2023-06-29T12:01:16.854Z"
   },
   {
    "duration": 29721,
    "start_time": "2023-06-29T12:03:07.163Z"
   },
   {
    "duration": 24067,
    "start_time": "2023-06-29T12:04:44.194Z"
   },
   {
    "duration": 4295,
    "start_time": "2023-06-29T12:06:29.911Z"
   },
   {
    "duration": 1689,
    "start_time": "2023-06-29T12:06:34.208Z"
   },
   {
    "duration": 2,
    "start_time": "2023-06-29T12:06:35.899Z"
   },
   {
    "duration": 43,
    "start_time": "2023-06-29T12:06:35.915Z"
   },
   {
    "duration": 5,
    "start_time": "2023-06-29T12:06:35.960Z"
   },
   {
    "duration": 84,
    "start_time": "2023-06-29T12:06:35.966Z"
   },
   {
    "duration": 129,
    "start_time": "2023-06-29T12:06:36.052Z"
   },
   {
    "duration": 1164,
    "start_time": "2023-06-29T12:06:36.183Z"
   },
   {
    "duration": 585,
    "start_time": "2023-06-29T12:06:37.349Z"
   },
   {
    "duration": 1232,
    "start_time": "2023-06-29T12:06:37.937Z"
   },
   {
    "duration": 107,
    "start_time": "2023-06-29T12:06:39.172Z"
   },
   {
    "duration": 57,
    "start_time": "2023-06-29T12:06:39.281Z"
   },
   {
    "duration": 207,
    "start_time": "2023-06-29T12:06:39.340Z"
   },
   {
    "duration": 364,
    "start_time": "2023-06-29T12:06:39.549Z"
   },
   {
    "duration": 420,
    "start_time": "2023-06-29T12:06:39.916Z"
   },
   {
    "duration": 18,
    "start_time": "2023-06-29T12:06:40.338Z"
   },
   {
    "duration": 975,
    "start_time": "2023-06-29T12:06:40.359Z"
   },
   {
    "duration": 25,
    "start_time": "2023-06-29T12:06:41.335Z"
   },
   {
    "duration": 27,
    "start_time": "2023-06-29T12:06:41.362Z"
   },
   {
    "duration": 2630,
    "start_time": "2023-06-29T12:06:41.391Z"
   },
   {
    "duration": 11,
    "start_time": "2023-06-29T12:06:44.024Z"
   },
   {
    "duration": 24,
    "start_time": "2023-06-29T12:06:44.037Z"
   },
   {
    "duration": 13,
    "start_time": "2023-06-29T12:06:44.063Z"
   },
   {
    "duration": 43,
    "start_time": "2023-06-29T12:06:44.078Z"
   },
   {
    "duration": 28,
    "start_time": "2023-06-29T12:06:44.124Z"
   },
   {
    "duration": 8,
    "start_time": "2023-06-29T12:06:44.154Z"
   },
   {
    "duration": 4,
    "start_time": "2023-06-29T12:06:44.164Z"
   },
   {
    "duration": 54,
    "start_time": "2023-06-29T12:06:44.171Z"
   },
   {
    "duration": 8,
    "start_time": "2023-06-29T12:06:44.228Z"
   },
   {
    "duration": 237,
    "start_time": "2023-06-29T12:06:44.238Z"
   },
   {
    "duration": 23,
    "start_time": "2023-06-29T12:06:44.476Z"
   },
   {
    "duration": 23,
    "start_time": "2023-06-29T12:06:44.501Z"
   },
   {
    "duration": 84,
    "start_time": "2023-06-29T12:06:44.527Z"
   },
   {
    "duration": 3,
    "start_time": "2023-06-29T12:06:44.613Z"
   },
   {
    "duration": 1893,
    "start_time": "2023-06-29T12:06:44.618Z"
   },
   {
    "duration": 58601,
    "start_time": "2023-06-29T12:06:46.514Z"
   },
   {
    "duration": 2820,
    "start_time": "2023-06-29T12:07:45.117Z"
   },
   {
    "duration": 214,
    "start_time": "2023-06-29T12:08:02.497Z"
   },
   {
    "duration": 4079,
    "start_time": "2023-06-29T12:08:06.693Z"
   },
   {
    "duration": 1953,
    "start_time": "2023-06-29T12:08:10.774Z"
   },
   {
    "duration": 3,
    "start_time": "2023-06-29T12:08:12.729Z"
   },
   {
    "duration": 28,
    "start_time": "2023-06-29T12:08:12.735Z"
   },
   {
    "duration": 5,
    "start_time": "2023-06-29T12:08:12.765Z"
   },
   {
    "duration": 82,
    "start_time": "2023-06-29T12:08:12.772Z"
   },
   {
    "duration": 141,
    "start_time": "2023-06-29T12:08:12.856Z"
   },
   {
    "duration": 1256,
    "start_time": "2023-06-29T12:08:12.998Z"
   },
   {
    "duration": 614,
    "start_time": "2023-06-29T12:08:14.256Z"
   },
   {
    "duration": 1270,
    "start_time": "2023-06-29T12:08:14.873Z"
   },
   {
    "duration": 113,
    "start_time": "2023-06-29T12:08:16.144Z"
   },
   {
    "duration": 59,
    "start_time": "2023-06-29T12:08:16.259Z"
   },
   {
    "duration": 210,
    "start_time": "2023-06-29T12:08:16.320Z"
   },
   {
    "duration": 325,
    "start_time": "2023-06-29T12:08:16.532Z"
   },
   {
    "duration": 372,
    "start_time": "2023-06-29T12:08:16.859Z"
   },
   {
    "duration": 18,
    "start_time": "2023-06-29T12:08:17.233Z"
   },
   {
    "duration": 997,
    "start_time": "2023-06-29T12:08:17.254Z"
   },
   {
    "duration": 23,
    "start_time": "2023-06-29T12:08:18.253Z"
   },
   {
    "duration": 7,
    "start_time": "2023-06-29T12:08:18.278Z"
   },
   {
    "duration": 2670,
    "start_time": "2023-06-29T12:08:18.286Z"
   },
   {
    "duration": 12,
    "start_time": "2023-06-29T12:08:20.958Z"
   },
   {
    "duration": 47,
    "start_time": "2023-06-29T12:08:20.972Z"
   },
   {
    "duration": 14,
    "start_time": "2023-06-29T12:08:21.021Z"
   },
   {
    "duration": 18,
    "start_time": "2023-06-29T12:08:21.036Z"
   },
   {
    "duration": 39,
    "start_time": "2023-06-29T12:08:21.056Z"
   },
   {
    "duration": 23,
    "start_time": "2023-06-29T12:08:21.096Z"
   },
   {
    "duration": 21,
    "start_time": "2023-06-29T12:08:21.121Z"
   },
   {
    "duration": 33,
    "start_time": "2023-06-29T12:08:21.145Z"
   },
   {
    "duration": 8,
    "start_time": "2023-06-29T12:08:21.180Z"
   },
   {
    "duration": 229,
    "start_time": "2023-06-29T12:08:21.190Z"
   },
   {
    "duration": 22,
    "start_time": "2023-06-29T12:08:21.421Z"
   },
   {
    "duration": 13,
    "start_time": "2023-06-29T12:08:21.445Z"
   },
   {
    "duration": 93,
    "start_time": "2023-06-29T12:08:21.460Z"
   },
   {
    "duration": 3,
    "start_time": "2023-06-29T12:08:21.555Z"
   },
   {
    "duration": 1862,
    "start_time": "2023-06-29T12:08:21.559Z"
   },
   {
    "duration": 198630,
    "start_time": "2023-06-29T12:08:23.423Z"
   },
   {
    "duration": 3204,
    "start_time": "2023-06-29T12:11:42.114Z"
   },
   {
    "duration": 2066,
    "start_time": "2023-06-29T16:54:53.824Z"
   },
   {
    "duration": 1982,
    "start_time": "2023-06-29T16:54:55.893Z"
   },
   {
    "duration": 1440,
    "start_time": "2023-06-29T16:54:57.877Z"
   },
   {
    "duration": 1482,
    "start_time": "2023-06-29T16:54:59.319Z"
   },
   {
    "duration": 3,
    "start_time": "2023-06-29T16:55:00.802Z"
   },
   {
    "duration": 63,
    "start_time": "2023-06-29T16:55:00.812Z"
   },
   {
    "duration": 32,
    "start_time": "2023-06-29T16:55:00.876Z"
   },
   {
    "duration": 78,
    "start_time": "2023-06-29T16:55:00.910Z"
   },
   {
    "duration": 119,
    "start_time": "2023-06-29T16:55:00.990Z"
   },
   {
    "duration": 1061,
    "start_time": "2023-06-29T16:55:01.112Z"
   },
   {
    "duration": 541,
    "start_time": "2023-06-29T16:55:02.175Z"
   },
   {
    "duration": 1175,
    "start_time": "2023-06-29T16:55:02.718Z"
   },
   {
    "duration": 121,
    "start_time": "2023-06-29T16:55:03.895Z"
   },
   {
    "duration": 48,
    "start_time": "2023-06-29T16:55:04.018Z"
   },
   {
    "duration": 194,
    "start_time": "2023-06-29T16:55:04.068Z"
   },
   {
    "duration": 265,
    "start_time": "2023-06-29T16:55:04.263Z"
   },
   {
    "duration": 334,
    "start_time": "2023-06-29T16:55:04.530Z"
   },
   {
    "duration": 15,
    "start_time": "2023-06-29T16:55:04.866Z"
   },
   {
    "duration": 868,
    "start_time": "2023-06-29T16:55:04.883Z"
   },
   {
    "duration": 21,
    "start_time": "2023-06-29T16:55:05.752Z"
   },
   {
    "duration": 5,
    "start_time": "2023-06-29T16:55:05.774Z"
   },
   {
    "duration": 2341,
    "start_time": "2023-06-29T16:55:05.780Z"
   },
   {
    "duration": 9,
    "start_time": "2023-06-29T16:55:08.123Z"
   },
   {
    "duration": 66,
    "start_time": "2023-06-29T16:55:08.133Z"
   },
   {
    "duration": 13,
    "start_time": "2023-06-29T16:55:08.201Z"
   },
   {
    "duration": 28,
    "start_time": "2023-06-29T16:55:08.215Z"
   },
   {
    "duration": 42,
    "start_time": "2023-06-29T16:55:08.246Z"
   },
   {
    "duration": 12,
    "start_time": "2023-06-29T16:55:08.292Z"
   },
   {
    "duration": 17,
    "start_time": "2023-06-29T16:55:08.306Z"
   },
   {
    "duration": 36,
    "start_time": "2023-06-29T16:55:08.325Z"
   },
   {
    "duration": 8,
    "start_time": "2023-06-29T16:55:08.363Z"
   },
   {
    "duration": 224,
    "start_time": "2023-06-29T16:55:08.372Z"
   },
   {
    "duration": 24,
    "start_time": "2023-06-29T16:55:08.598Z"
   },
   {
    "duration": 14,
    "start_time": "2023-06-29T16:55:08.624Z"
   },
   {
    "duration": 87,
    "start_time": "2023-06-29T16:55:08.640Z"
   },
   {
    "duration": 3,
    "start_time": "2023-06-29T16:55:08.729Z"
   },
   {
    "duration": 25,
    "start_time": "2023-06-29T16:55:08.734Z"
   },
   {
    "duration": 887,
    "start_time": "2023-06-29T16:55:08.761Z"
   },
   {
    "duration": 149,
    "start_time": "2023-06-29T16:55:09.651Z"
   },
   {
    "duration": 0,
    "start_time": "2023-06-29T16:55:09.803Z"
   },
   {
    "duration": 0,
    "start_time": "2023-06-29T16:55:09.804Z"
   },
   {
    "duration": 0,
    "start_time": "2023-06-29T16:55:09.805Z"
   },
   {
    "duration": 0,
    "start_time": "2023-06-29T16:55:09.814Z"
   },
   {
    "duration": 3021,
    "start_time": "2023-06-29T17:17:06.775Z"
   },
   {
    "duration": 2178,
    "start_time": "2023-06-29T17:17:18.731Z"
   },
   {
    "duration": 2066,
    "start_time": "2023-06-29T17:17:20.911Z"
   },
   {
    "duration": 1531,
    "start_time": "2023-06-29T17:17:22.979Z"
   },
   {
    "duration": 1801,
    "start_time": "2023-06-29T17:17:24.512Z"
   },
   {
    "duration": 3,
    "start_time": "2023-06-29T17:17:26.315Z"
   },
   {
    "duration": 31,
    "start_time": "2023-06-29T17:17:26.319Z"
   },
   {
    "duration": 23,
    "start_time": "2023-06-29T17:17:26.351Z"
   },
   {
    "duration": 81,
    "start_time": "2023-06-29T17:17:26.376Z"
   },
   {
    "duration": 131,
    "start_time": "2023-06-29T17:17:26.459Z"
   },
   {
    "duration": 1082,
    "start_time": "2023-06-29T17:17:26.593Z"
   },
   {
    "duration": 564,
    "start_time": "2023-06-29T17:17:27.677Z"
   },
   {
    "duration": 1115,
    "start_time": "2023-06-29T17:17:28.243Z"
   },
   {
    "duration": 110,
    "start_time": "2023-06-29T17:17:29.360Z"
   },
   {
    "duration": 55,
    "start_time": "2023-06-29T17:17:29.471Z"
   },
   {
    "duration": 236,
    "start_time": "2023-06-29T17:17:29.527Z"
   },
   {
    "duration": 303,
    "start_time": "2023-06-29T17:17:29.765Z"
   },
   {
    "duration": 338,
    "start_time": "2023-06-29T17:17:30.070Z"
   },
   {
    "duration": 18,
    "start_time": "2023-06-29T17:17:30.413Z"
   },
   {
    "duration": 963,
    "start_time": "2023-06-29T17:17:30.433Z"
   },
   {
    "duration": 25,
    "start_time": "2023-06-29T17:17:31.398Z"
   },
   {
    "duration": 48,
    "start_time": "2023-06-29T17:17:31.424Z"
   },
   {
    "duration": 2442,
    "start_time": "2023-06-29T17:17:31.474Z"
   },
   {
    "duration": 11,
    "start_time": "2023-06-29T17:17:33.918Z"
   },
   {
    "duration": 37,
    "start_time": "2023-06-29T17:17:33.931Z"
   },
   {
    "duration": 12,
    "start_time": "2023-06-29T17:17:33.970Z"
   },
   {
    "duration": 33,
    "start_time": "2023-06-29T17:17:33.983Z"
   },
   {
    "duration": 50,
    "start_time": "2023-06-29T17:17:34.018Z"
   },
   {
    "duration": 14,
    "start_time": "2023-06-29T17:17:34.071Z"
   },
   {
    "duration": 28,
    "start_time": "2023-06-29T17:17:34.087Z"
   },
   {
    "duration": 35,
    "start_time": "2023-06-29T17:17:34.117Z"
   },
   {
    "duration": 12,
    "start_time": "2023-06-29T17:17:34.154Z"
   },
   {
    "duration": 218,
    "start_time": "2023-06-29T17:17:34.168Z"
   },
   {
    "duration": 26,
    "start_time": "2023-06-29T17:17:34.387Z"
   },
   {
    "duration": 23,
    "start_time": "2023-06-29T17:17:34.415Z"
   },
   {
    "duration": 87,
    "start_time": "2023-06-29T17:17:34.440Z"
   },
   {
    "duration": 3,
    "start_time": "2023-06-29T17:17:34.528Z"
   },
   {
    "duration": 40,
    "start_time": "2023-06-29T17:17:34.533Z"
   },
   {
    "duration": 828,
    "start_time": "2023-06-29T17:17:34.575Z"
   },
   {
    "duration": 4,
    "start_time": "2023-06-29T17:17:35.405Z"
   },
   {
    "duration": 2983,
    "start_time": "2023-06-29T17:17:35.414Z"
   },
   {
    "duration": 1,
    "start_time": "2023-06-29T17:17:38.398Z"
   },
   {
    "duration": 0,
    "start_time": "2023-06-29T17:17:38.400Z"
   },
   {
    "duration": 0,
    "start_time": "2023-06-29T17:17:38.401Z"
   },
   {
    "duration": 2479,
    "start_time": "2023-06-30T11:18:46.068Z"
   },
   {
    "duration": 2668,
    "start_time": "2023-06-30T11:18:48.550Z"
   },
   {
    "duration": 1941,
    "start_time": "2023-06-30T11:18:51.220Z"
   },
   {
    "duration": 1322,
    "start_time": "2023-06-30T11:18:53.163Z"
   },
   {
    "duration": 3,
    "start_time": "2023-06-30T11:18:54.488Z"
   },
   {
    "duration": 49,
    "start_time": "2023-06-30T11:18:54.493Z"
   },
   {
    "duration": 7,
    "start_time": "2023-06-30T11:18:54.545Z"
   },
   {
    "duration": 81,
    "start_time": "2023-06-30T11:18:54.554Z"
   },
   {
    "duration": 205,
    "start_time": "2023-06-30T11:18:54.637Z"
   },
   {
    "duration": 1195,
    "start_time": "2023-06-30T11:18:54.848Z"
   },
   {
    "duration": 590,
    "start_time": "2023-06-30T11:18:56.046Z"
   },
   {
    "duration": 1230,
    "start_time": "2023-06-30T11:18:56.640Z"
   },
   {
    "duration": 113,
    "start_time": "2023-06-30T11:18:57.872Z"
   },
   {
    "duration": 54,
    "start_time": "2023-06-30T11:18:57.988Z"
   },
   {
    "duration": 260,
    "start_time": "2023-06-30T11:18:58.044Z"
   },
   {
    "duration": 327,
    "start_time": "2023-06-30T11:18:58.306Z"
   },
   {
    "duration": 385,
    "start_time": "2023-06-30T11:18:58.641Z"
   },
   {
    "duration": 22,
    "start_time": "2023-06-30T11:18:59.037Z"
   },
   {
    "duration": 1149,
    "start_time": "2023-06-30T11:18:59.060Z"
   },
   {
    "duration": 35,
    "start_time": "2023-06-30T11:19:00.211Z"
   },
   {
    "duration": 47,
    "start_time": "2023-06-30T11:19:00.251Z"
   },
   {
    "duration": 2850,
    "start_time": "2023-06-30T11:19:00.300Z"
   },
   {
    "duration": 11,
    "start_time": "2023-06-30T11:19:03.152Z"
   },
   {
    "duration": 33,
    "start_time": "2023-06-30T11:19:03.164Z"
   },
   {
    "duration": 29,
    "start_time": "2023-06-30T11:19:03.200Z"
   },
   {
    "duration": 21,
    "start_time": "2023-06-30T11:19:03.235Z"
   },
   {
    "duration": 38,
    "start_time": "2023-06-30T11:19:03.258Z"
   },
   {
    "duration": 29,
    "start_time": "2023-06-30T11:19:03.298Z"
   },
   {
    "duration": 17,
    "start_time": "2023-06-30T11:19:03.329Z"
   },
   {
    "duration": 44,
    "start_time": "2023-06-30T11:19:03.349Z"
   },
   {
    "duration": 10,
    "start_time": "2023-06-30T11:19:03.396Z"
   },
   {
    "duration": 280,
    "start_time": "2023-06-30T11:19:03.408Z"
   },
   {
    "duration": 43,
    "start_time": "2023-06-30T11:19:03.690Z"
   },
   {
    "duration": 19,
    "start_time": "2023-06-30T11:19:03.736Z"
   },
   {
    "duration": 89,
    "start_time": "2023-06-30T11:19:03.756Z"
   },
   {
    "duration": 4,
    "start_time": "2023-06-30T11:19:03.847Z"
   },
   {
    "duration": 1043,
    "start_time": "2023-06-30T11:19:03.853Z"
   },
   {
    "duration": 3,
    "start_time": "2023-06-30T11:19:04.898Z"
   },
   {
    "duration": 27,
    "start_time": "2023-06-30T11:19:04.914Z"
   },
   {
    "duration": 8,
    "start_time": "2023-06-30T11:19:04.943Z"
   },
   {
    "duration": 25,
    "start_time": "2023-06-30T11:19:04.956Z"
   },
   {
    "duration": 18,
    "start_time": "2023-06-30T11:19:04.983Z"
   },
   {
    "duration": 168,
    "start_time": "2023-06-30T11:19:05.003Z"
   },
   {
    "duration": 0,
    "start_time": "2023-06-30T11:19:05.172Z"
   },
   {
    "duration": 0,
    "start_time": "2023-06-30T11:19:05.174Z"
   },
   {
    "duration": 0,
    "start_time": "2023-06-30T11:19:05.175Z"
   },
   {
    "duration": 0,
    "start_time": "2023-06-30T11:19:05.176Z"
   },
   {
    "duration": 0,
    "start_time": "2023-06-30T11:19:05.177Z"
   },
   {
    "duration": 0,
    "start_time": "2023-06-30T11:19:05.179Z"
   },
   {
    "duration": 0,
    "start_time": "2023-06-30T11:19:05.180Z"
   },
   {
    "duration": 2488,
    "start_time": "2023-06-30T11:20:01.444Z"
   },
   {
    "duration": 2511,
    "start_time": "2023-06-30T11:20:03.935Z"
   },
   {
    "duration": 1597,
    "start_time": "2023-06-30T11:20:06.449Z"
   },
   {
    "duration": 1744,
    "start_time": "2023-06-30T11:20:08.048Z"
   },
   {
    "duration": 3,
    "start_time": "2023-06-30T11:20:09.795Z"
   },
   {
    "duration": 51,
    "start_time": "2023-06-30T11:20:09.800Z"
   },
   {
    "duration": 6,
    "start_time": "2023-06-30T11:20:09.854Z"
   },
   {
    "duration": 66,
    "start_time": "2023-06-30T11:20:09.862Z"
   },
   {
    "duration": 156,
    "start_time": "2023-06-30T11:20:09.934Z"
   },
   {
    "duration": 1238,
    "start_time": "2023-06-30T11:20:10.094Z"
   },
   {
    "duration": 583,
    "start_time": "2023-06-30T11:20:11.336Z"
   },
   {
    "duration": 1272,
    "start_time": "2023-06-30T11:20:11.921Z"
   },
   {
    "duration": 127,
    "start_time": "2023-06-30T11:20:13.195Z"
   },
   {
    "duration": 51,
    "start_time": "2023-06-30T11:20:13.330Z"
   },
   {
    "duration": 245,
    "start_time": "2023-06-30T11:20:13.383Z"
   },
   {
    "duration": 350,
    "start_time": "2023-06-30T11:20:13.631Z"
   },
   {
    "duration": 394,
    "start_time": "2023-06-30T11:20:13.983Z"
   },
   {
    "duration": 17,
    "start_time": "2023-06-30T11:20:14.379Z"
   },
   {
    "duration": 1018,
    "start_time": "2023-06-30T11:20:14.417Z"
   },
   {
    "duration": 33,
    "start_time": "2023-06-30T11:20:15.437Z"
   },
   {
    "duration": 7,
    "start_time": "2023-06-30T11:20:15.472Z"
   },
   {
    "duration": 2783,
    "start_time": "2023-06-30T11:20:15.481Z"
   },
   {
    "duration": 9,
    "start_time": "2023-06-30T11:20:18.265Z"
   },
   {
    "duration": 24,
    "start_time": "2023-06-30T11:20:18.276Z"
   },
   {
    "duration": 31,
    "start_time": "2023-06-30T11:20:18.302Z"
   },
   {
    "duration": 20,
    "start_time": "2023-06-30T11:20:18.336Z"
   },
   {
    "duration": 27,
    "start_time": "2023-06-30T11:20:18.357Z"
   },
   {
    "duration": 7,
    "start_time": "2023-06-30T11:20:18.388Z"
   },
   {
    "duration": 38,
    "start_time": "2023-06-30T11:20:18.396Z"
   },
   {
    "duration": 29,
    "start_time": "2023-06-30T11:20:18.437Z"
   },
   {
    "duration": 10,
    "start_time": "2023-06-30T11:20:18.468Z"
   },
   {
    "duration": 273,
    "start_time": "2023-06-30T11:20:18.480Z"
   },
   {
    "duration": 28,
    "start_time": "2023-06-30T11:20:18.755Z"
   },
   {
    "duration": 33,
    "start_time": "2023-06-30T11:20:18.785Z"
   },
   {
    "duration": 68,
    "start_time": "2023-06-30T11:20:18.820Z"
   },
   {
    "duration": 4,
    "start_time": "2023-06-30T11:20:18.890Z"
   },
   {
    "duration": 935,
    "start_time": "2023-06-30T11:20:18.895Z"
   },
   {
    "duration": 13,
    "start_time": "2023-06-30T11:20:19.836Z"
   },
   {
    "duration": 5,
    "start_time": "2023-06-30T11:20:19.851Z"
   },
   {
    "duration": 9,
    "start_time": "2023-06-30T11:20:19.857Z"
   },
   {
    "duration": 4,
    "start_time": "2023-06-30T11:20:19.868Z"
   },
   {
    "duration": 7,
    "start_time": "2023-06-30T11:20:19.874Z"
   }
  ],
  "kernelspec": {
   "display_name": "Python 3 (ipykernel)",
   "language": "python",
   "name": "python3"
  },
  "language_info": {
   "codemirror_mode": {
    "name": "ipython",
    "version": 3
   },
   "file_extension": ".py",
   "mimetype": "text/x-python",
   "name": "python",
   "nbconvert_exporter": "python",
   "pygments_lexer": "ipython3",
   "version": "3.9.5"
  },
  "toc": {
   "base_numbering": 1,
   "nav_menu": {},
   "number_sections": true,
   "sideBar": true,
   "skip_h1_title": true,
   "title_cell": "Table of Contents",
   "title_sidebar": "Contents",
   "toc_cell": false,
   "toc_position": {},
   "toc_section_display": true,
   "toc_window_display": false
  }
 },
 "nbformat": 4,
 "nbformat_minor": 2
}
